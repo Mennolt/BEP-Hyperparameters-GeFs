{
 "cells": [
  {
   "cell_type": "code",
   "execution_count": 5,
   "id": "filled-gibson",
   "metadata": {},
   "outputs": [
    {
     "name": "stderr",
     "output_type": "stream",
     "text": [
      "C:\\Users\\Mennolt van alten\\Documents\\Data Science - Universiteit\\Year 3\\BEP\\GeFs_Repo\\gefs\\cluster.py:91: NumbaDeprecationWarning: \u001b[1mThe 'numba.jitclass' decorator has moved to 'numba.experimental.jitclass' to better reflect the experimental nature of the functionality. Please update your imports to accommodate this change and see https://numba.pydata.org/numba-doc/latest/reference/deprecation.html#change-of-jitclass-location for the time frame.\u001b[0m\n",
      "  ('thr', optional(float64)),\n",
      "C:\\Users\\Mennolt van alten\\Documents\\Data Science - Universiteit\\Year 3\\BEP\\GeFs_Repo\\gefs\\signed.py:11: NumbaDeprecationWarning: \u001b[1mThe 'numba.jitclass' decorator has moved to 'numba.experimental.jitclass' to better reflect the experimental nature of the functionality. Please update your imports to accommodate this change and see https://numba.pydata.org/numba-doc/latest/reference/deprecation.html#change-of-jitclass-location for the time frame.\u001b[0m\n",
      "  ('size', int64)\n",
      "C:\\Users\\Mennolt van alten\\Documents\\Data Science - Universiteit\\Year 3\\BEP\\GeFs_Repo\\gefs\\nodes.py:42: NumbaDeprecationWarning: \u001b[1mThe 'numba.jitclass' decorator has moved to 'numba.experimental.jitclass' to better reflect the experimental nature of the functionality. Please update your imports to accommodate this change and see https://numba.pydata.org/numba-doc/latest/reference/deprecation.html#change-of-jitclass-location for the time frame.\u001b[0m\n",
      "  @jitclass(spec)\n",
      "C:\\Users\\Mennolt van alten\\Documents\\Data Science - Universiteit\\Year 3\\BEP\\GeFs_Repo\\gefs\\learning.py:15: NumbaDeprecationWarning: \u001b[1mThe 'numba.jitclass' decorator has moved to 'numba.experimental.jitclass' to better reflect the experimental nature of the functionality. Please update your imports to accommodate this change and see https://numba.pydata.org/numba-doc/latest/reference/deprecation.html#change-of-jitclass-location for the time frame.\u001b[0m\n",
      "  ('classcol', optional(int64)),\n",
      "C:\\Users\\Mennolt van alten\\Documents\\Data Science - Universiteit\\Year 3\\BEP\\GeFs_Repo\\gefs\\split.py:117: NumbaDeprecationWarning: \u001b[1mThe 'numba.jitclass' decorator has moved to 'numba.experimental.jitclass' to better reflect the experimental nature of the functionality. Please update your imports to accommodate this change and see https://numba.pydata.org/numba-doc/latest/reference/deprecation.html#change-of-jitclass-location for the time frame.\u001b[0m\n",
      "  ('type', types.string)\n",
      "C:\\Users\\Mennolt van alten\\Documents\\Data Science - Universiteit\\Year 3\\BEP\\GeFs_Repo\\gefs\\trees.py:374: NumbaDeprecationWarning: \u001b[1mThe 'numba.jitclass' decorator has moved to 'numba.experimental.jitclass' to better reflect the experimental nature of the functionality. Please update your imports to accommodate this change and see https://numba.pydata.org/numba-doc/latest/reference/deprecation.html#change-of-jitclass-location for the time frame.\u001b[0m\n",
      "  ('depth', int16),\n",
      "C:\\Users\\Mennolt van alten\\Documents\\Data Science - Universiteit\\Year 3\\BEP\\GeFs_Repo\\gefs\\trees.py:411: NumbaDeprecationWarning: \u001b[1mThe 'numba.jitclass' decorator has moved to 'numba.experimental.jitclass' to better reflect the experimental nature of the functionality. Please update your imports to accommodate this change and see https://numba.pydata.org/numba-doc/latest/reference/deprecation.html#change-of-jitclass-location for the time frame.\u001b[0m\n",
      "  ('surrogate', boolean),  # Whether to learn surrogate splits at each decision node.\n"
     ]
    }
   ],
   "source": [
    "#designed to have less randomness\n",
    "from gefs.pc import PC\n",
    "import pandas as pd\n",
    "import numpy as np\n",
    "from experiments.prep import get_stats, normalize_data, standardize_data, learncats, get_dummies\n",
    "import time\n",
    "from gefs.trees import RandomForest\n",
    "import seaborn as sns\n",
    "import matplotlib.pyplot as plt\n",
    "import datetime\n",
    "from experiments.prep import get_data\n",
    "from sklearn.model_selection import KFold"
   ]
  },
  {
   "cell_type": "code",
   "execution_count": null,
   "id": "adjusted-patent",
   "metadata": {},
   "outputs": [],
   "source": []
  },
  {
   "cell_type": "code",
   "execution_count": 18,
   "id": "mechanical-restriction",
   "metadata": {},
   "outputs": [],
   "source": [
    "#first divide data into 10 folds, make 10 random seeds for np rng\n",
    "def full_test(depths, nr_trees, file_name, file_path = \"data/\", seed = 1, save_path = \"\", **kwargs):\n",
    "    \"\"\"\n",
    "    Does a full test, for combinations of depth and nr of trees, for file named 'name'\n",
    "    depths = an iterable containing all depths to be looked into\n",
    "    nr_trees = an iterable containing all numbers of trees to be looked into\n",
    "    file_name = the name of the data file\n",
    "    file_path = the path to the data file\n",
    "    seed = the seed to seed all rng with\n",
    "    save_path = the path in which to save results\n",
    "    \"\"\"\n",
    "    start = time.time()\n",
    "    #get the data & make folds\n",
    "    data, ncat = get_data(file_name, \"data/\")\n",
    "    splitter = KFold(10, random_state = seed, shuffle = True)\n",
    "    \n",
    "    for depth in depths:\n",
    "        print(depth, \"start\")\n",
    "        #loop over the number of trees\n",
    "        performance, accuracy = hyperparameter_range_test(data, ncat, nr_trees, splitter, depth, seed,  **kwargs,\n",
    "                                                          min_samples_leaf = depth) \n",
    "        \n",
    "        #create csv files about performance in both likelihood and accuracy\n",
    "        lls = [\"ll\"+str(i) for i in range(10)]\n",
    "        performance_df = pd.DataFrame(performance, index = nr_trees, columns = lls)\n",
    "        performance_df['llmean'] = [sum(i)/len(i) for i in performance]\n",
    "        performance_df['llvariance'] = performance_df.apply(lambda x : variance(lls, 'llmean', x), axis = 1)\n",
    "        performance_df['values'] = nr_trees\n",
    "        \n",
    "        acs = [\"ac\"+str(i) for i in range(10)]\n",
    "        acc_df = pd.DataFrame(accuracy, index = nr_trees, columns = acs)\n",
    "        acc_df['acmean'] = [sum(i)/len(i) for i in accuracy]\n",
    "        acc_df['acvariance'] = acc_df.apply(lambda x : variance(acs, 'acmean', x), axis = 1)\n",
    "        acc_df['values'] = nr_trees\n",
    "\n",
    "        #create scatter plot of the data\n",
    "#         tested = \"number of trees\"\n",
    "#         fig, ax = plt.subplots(ncols = 2, figsize = (15, 7))\n",
    "#         performance_df.plot(kind = 'scatter', x = \"values\", y = 0, ax = ax[0])\n",
    "#         performance_df.plot(kind = 'scatter', x = \"values\", y = 1, ax = ax[0])\n",
    "#         performance_df.plot(kind = 'scatter', x = \"values\", y = 2, ax = ax[0])\n",
    "#         performance_df.plot(kind = 'scatter', x = \"values\", y = \"llmean\", color = \"orange\", title = f\"{file_name}, one train set, depth {depth}\", xlabel = tested, ax = ax[0])\n",
    "#         ax[0].legend([\"0\", \"1\", \"2\", \"mean\"])\n",
    "#         acc_df.plot(kind = 'scatter', x = \"values\", y = 0, ax = ax[1])\n",
    "#         acc_df.plot(kind = 'scatter', x = \"values\", y = 1, ax = ax[1])\n",
    "#         acc_df.plot(kind = 'scatter', x = \"values\", y = 2, ax = ax[1])\n",
    "#         acc_df.plot(kind = 'scatter', x = \"values\", y = \"acmean\", color = \"orange\", title = f\"{file_name}, one train set, depth {depth}\", xlabel = tested, ax = ax[1])\n",
    "#         ax[1].legend([\"0\", \"1\", \"2\", \"mean\"])\n",
    "#         #ax.set_xlim(0,200)\n",
    "#         #ax.set_ylim(-60.5, -62.5)\n",
    "#         cur_moment = str(datetime.datetime.today())[0:19].replace(\":\", \"_\")\n",
    "#         name = f\"{cur_moment}_depth_{depth}_{file_name[0:-4]}\"\n",
    "#         plt.savefig(f\"../graphs/{name}.png\")\n",
    "#         plt.close()\n",
    "        cur_moment = str(datetime.datetime.today())[0:19].replace(\":\", \"_\")\n",
    "        name = f\"{cur_moment}_depth_{depth}_{file_name[0:-4]}\"\n",
    "        new_df = acc_df.join(performance_df[performance_df.columns[:-1]])\n",
    "        new_df.to_csv(f\"{save_path}{name}.csv\")\n",
    "        \n",
    "        end_string = f\"\\n\\ndepth {depth} end: {int(time.time()-start)} seconds \\n\\n\\n\"\n",
    "        print(end_string)\n",
    "    \n",
    "    #for train_index, test_index in splitter.split(data):\n",
    "\n",
    "def hyperparameter_range_test(data, n_cat, values, splitter, depth = None, seed = 1, \n",
    "                              save_train_performance = False, mode = \"depth\", min_samples_leaf = None, **kwargs):\n",
    "    \"\"\"\n",
    "    input:\n",
    "    Data: \n",
    "        some dataset to make a model from\n",
    "    n_cat: \n",
    "        number of categories for each column in the data \n",
    "        (get using learncats, for more see experiments.prep.learncats and experiments.prep.get_data)\n",
    "    Values: hyperparameter values to try (right now trying them on n_estimators)\n",
    "    depth: what the depth of the tries should be\n",
    "    splitter: a KFold object used to split the data into folds\n",
    "    save_train_performance: whether to save data on the performance on the training data rather than on the testing data\n",
    "    mode: what parameter to use to limit tree height. supported: depth, min_samples_per_leaf\n",
    "    seed: random seed to be used at the start of each test\"\"\"\n",
    "    \n",
    "    start = time.time()\n",
    "#     assert train_ratio >= 0\n",
    "#     assert train_ratio <= 1\n",
    "#     shuffle = np.random.choice(range(data.shape[0]), data.shape[0], replace=False)\n",
    "#     data_train = data[shuffle[:int(train_ratio*data.shape[0])], :]\n",
    "#     #splitting test data into dependent and independent variables\n",
    "#     X_train, y_train = data_train[:, :-1], data_train[:, -1] \n",
    "#     data_test = data[shuffle[int(train_ratio*data.shape[0]):], :]\n",
    "#     #making test data not have a class:\n",
    "#     correct_class_test = data_test[:, -1].copy()\n",
    "#     data_test[:, -1] = np.nan\n",
    "#     print(\"data split\")\n",
    "    print(kwargs, mode)\n",
    "    performance = []\n",
    "    accuracy = []\n",
    "    for i in values:\n",
    "        #make a new temporary array for saving\n",
    "        temp_performance = []\n",
    "        temp_accuracy = [] #accuracy on the original classification\n",
    "        j = 0\n",
    "        for train_index, test_index in splitter.split(data):\n",
    "            j = j + 1\n",
    "            #redistribute the data into the folds\n",
    "            data_train = data[train_index]\n",
    "            X_train, y_train = data_train[:, :-1], data_train[:, -1] \n",
    "            if save_train_performance == False:\n",
    "                data_test = data[test_index]\n",
    "                correct_class_test = data_test[:, -1].copy()\n",
    "                data_test[:, -1] = np.nan\n",
    "            else:\n",
    "                data_test = data[train_index]\n",
    "                correct_class_test = data_test[:,-1].copy()\n",
    "                data_test[:,-1]=np.nan\n",
    "                print(\"Warning, data will be saved for training set instead of test set\")\n",
    "            \n",
    "            \n",
    "\n",
    "#             shuffle = np.random.choice(range(data.shape[0]), data.shape[0], replace=False)\n",
    "#             data_train = data[shuffle[:int(train_ratio*data.shape[0])], :]\n",
    "#             #splitting test data into dependent and independent variables\n",
    "#             X_train, y_train = data_train[:, :-1], data_train[:, -1] \n",
    "#             data_test = data[shuffle[int(train_ratio*data.shape[0]):], :]\n",
    "#             #making test data not have a class:\n",
    "#             data_test[:, -1] = np.nan\n",
    "#             print(f\"model {i}, {j} data distributed\")\n",
    "            #set a seed\n",
    "            np.random.seed(seed)\n",
    "            #make a model (pick what to change based on conditions)\n",
    "            if mode == \"depth\":\n",
    "                model = RandomForest(n_estimators=i, ncat=n_cat, max_depth = depth)\n",
    "                print(\"Running in depth mode\")\n",
    "            elif mode == \"min_samples_leaf\":\n",
    "                model = RandomForest(n_estimators=i, ncat=n_cat, min_samples_leaf = min_samples_leaf)\n",
    "                print(\"Running in min_samples_per_leaf mode\")\n",
    "            else:\n",
    "                raise ValueError(\"No mode given\")\n",
    "            model.fit(X_train, y_train)\n",
    "            print(f\"model {i}, {j} fitted\")\n",
    "            print(int(time.time()-start), \"seconds\")\n",
    "            #turn it to a probability circuit\n",
    "            circuit = model.topc(learnspn=np.Inf) #note: here we can set max_height (default 1000000)\n",
    "            print(f\"model {i}, {j} circuited\")\n",
    "            print(int(time.time()-start), \"seconds\")\n",
    "            #test the model\n",
    "            #return(circuit, data_test, correct_class_test)\n",
    "            temp_performance.append(circuit.log_likelihood(data_test).mean())\n",
    "            predictions = circuit.classify(data_test[:, :-1])\n",
    "            residuals = [x == y for (x,y) in zip(predictions, correct_class_test)]#abs(predictions-correct_class_test)\n",
    "            cur_accuracy = sum(residuals)/len(residuals)#1-(sum(residuals)/len(residuals))\n",
    "            temp_accuracy.append(cur_accuracy)\n",
    "            print(f\"model {i}, {j} tested: acc {cur_accuracy}, log-lik {temp_performance[-1]}\")\n",
    "            print(int(time.time()-start), \"seconds\")\n",
    "            #delete model to try again\n",
    "            circuit.delete()\n",
    "            model.delete()\n",
    "            del(model)\n",
    "        #and save the test results into performance\n",
    "        performance.append(temp_performance)\n",
    "        accuracy.append(temp_accuracy)\n",
    "       \n",
    "        print(f\"{i} finished, {int(time.time()-start)} seconds\")\n",
    "        print(f\"Performance: {performance[-1]}\")\n",
    "        \n",
    "    return(performance, accuracy)\n",
    "\n",
    "def variance(cols, mean_col, row):\n",
    "    var = 0\n",
    "    for col in cols:\n",
    "        var = var + (row[col]-row[mean_col])**2\n",
    "    return(var)"
   ]
  },
  {
   "cell_type": "code",
   "execution_count": 21,
   "id": "specified-rabbit",
   "metadata": {},
   "outputs": [
    {
     "name": "stderr",
     "output_type": "stream",
     "text": [
      "100%|█████████████████████████████████████████████████████████████████████████████████| 10/10 [00:00<00:00, 132.74it/s]"
     ]
    },
    {
     "name": "stdout",
     "output_type": "stream",
     "text": [
      "1 start\n",
      "{} min_samples_leaf\n",
      "Warning, data will be saved for training set instead of test set\n",
      "Running in min_samples_per_leaf mode\n",
      "model 10, 1 fitted\n",
      "0 seconds\n",
      "model 10, 1 circuited\n",
      "0 seconds\n"
     ]
    },
    {
     "name": "stderr",
     "output_type": "stream",
     "text": [
      "\n",
      "100%|█████████████████████████████████████████████████████████████████████████████████| 10/10 [00:00<00:00, 140.60it/s]"
     ]
    },
    {
     "name": "stdout",
     "output_type": "stream",
     "text": [
      "model 10, 1 tested: acc 0.9942112879884226, log-lik -20.195553068459763\n",
      "0 seconds\n",
      "Warning, data will be saved for training set instead of test set\n",
      "Running in min_samples_per_leaf mode\n",
      "model 10, 2 fitted\n",
      "0 seconds\n",
      "model 10, 2 circuited\n",
      "0 seconds\n"
     ]
    },
    {
     "name": "stderr",
     "output_type": "stream",
     "text": [
      "\n",
      "  0%|                                                                                           | 0/10 [00:00<?, ?it/s]"
     ]
    },
    {
     "name": "stdout",
     "output_type": "stream",
     "text": [
      "model 10, 2 tested: acc 0.9884225759768451, log-lik -20.702468347986972\n",
      "0 seconds\n",
      "Warning, data will be saved for training set instead of test set\n",
      "Running in min_samples_per_leaf mode\n",
      "model 10, 3 fitted\n",
      "0 seconds\n"
     ]
    },
    {
     "name": "stderr",
     "output_type": "stream",
     "text": [
      "100%|█████████████████████████████████████████████████████████████████████████████████| 10/10 [00:00<00:00, 113.94it/s]\n"
     ]
    },
    {
     "name": "stdout",
     "output_type": "stream",
     "text": [
      "model 10, 3 circuited\n",
      "0 seconds\n",
      "model 10, 3 tested: acc 0.9869753979739508, log-lik -20.313551779851938\n",
      "1 seconds\n"
     ]
    },
    {
     "name": "stderr",
     "output_type": "stream",
     "text": [
      "100%|██████████████████████████████████████████████████████████████████████████████████| 10/10 [00:00<00:00, 98.30it/s]"
     ]
    },
    {
     "name": "stdout",
     "output_type": "stream",
     "text": [
      "Warning, data will be saved for training set instead of test set\n",
      "Running in min_samples_per_leaf mode\n",
      "model 10, 4 fitted\n",
      "1 seconds\n"
     ]
    },
    {
     "name": "stderr",
     "output_type": "stream",
     "text": [
      "100%|██████████████████████████████████████████████████████████████████████████████████| 10/10 [00:00<00:00, 96.41it/s]\n"
     ]
    },
    {
     "name": "stdout",
     "output_type": "stream",
     "text": [
      "model 10, 4 circuited\n",
      "1 seconds\n",
      "model 10, 4 tested: acc 0.9826338639652678, log-lik -20.79130420396369\n",
      "1 seconds\n"
     ]
    },
    {
     "name": "stderr",
     "output_type": "stream",
     "text": [
      "100%|█████████████████████████████████████████████████████████████████████████████████| 10/10 [00:00<00:00, 168.09it/s]"
     ]
    },
    {
     "name": "stdout",
     "output_type": "stream",
     "text": [
      "Warning, data will be saved for training set instead of test set\n",
      "Running in min_samples_per_leaf mode\n",
      "model 10, 5 fitted\n",
      "1 seconds\n",
      "model 10, 5 circuited\n",
      "1 seconds\n"
     ]
    },
    {
     "name": "stderr",
     "output_type": "stream",
     "text": [
      "\n"
     ]
    },
    {
     "name": "stdout",
     "output_type": "stream",
     "text": [
      "model 10, 5 tested: acc 0.9797395079594791, log-lik -20.59097987301802\n",
      "1 seconds\n"
     ]
    },
    {
     "name": "stderr",
     "output_type": "stream",
     "text": [
      "100%|█████████████████████████████████████████████████████████████████████████████████| 10/10 [00:00<00:00, 137.10it/s]"
     ]
    },
    {
     "name": "stdout",
     "output_type": "stream",
     "text": [
      "Warning, data will be saved for training set instead of test set\n",
      "Running in min_samples_per_leaf mode\n",
      "model 10, 6 fitted\n",
      "2 seconds\n",
      "model 10, 6 circuited\n",
      "2 seconds\n"
     ]
    },
    {
     "name": "stderr",
     "output_type": "stream",
     "text": [
      "\n"
     ]
    },
    {
     "name": "stdout",
     "output_type": "stream",
     "text": [
      "model 10, 6 tested: acc 0.9985528219971056, log-lik -20.75646690375158\n",
      "2 seconds\n",
      "Warning, data will be saved for training set instead of test set\n",
      "Running in min_samples_per_leaf mode\n"
     ]
    },
    {
     "name": "stderr",
     "output_type": "stream",
     "text": [
      "100%|█████████████████████████████████████████████████████████████████████████████████| 10/10 [00:00<00:00, 120.58it/s]"
     ]
    },
    {
     "name": "stdout",
     "output_type": "stream",
     "text": [
      "model 10, 7 fitted\n",
      "2 seconds\n",
      "model 10, 7 circuited\n",
      "3 seconds\n",
      "model 10, 7 tested: acc 0.9869753979739508, log-lik -20.24765816022873\n",
      "3 seconds\n"
     ]
    },
    {
     "name": "stderr",
     "output_type": "stream",
     "text": [
      "\n",
      "  0%|                                                                                           | 0/10 [00:00<?, ?it/s]"
     ]
    },
    {
     "name": "stdout",
     "output_type": "stream",
     "text": [
      "Warning, data will be saved for training set instead of test set\n",
      "Running in min_samples_per_leaf mode\n",
      "model 10, 8 fitted\n",
      "3 seconds\n"
     ]
    },
    {
     "name": "stderr",
     "output_type": "stream",
     "text": [
      "100%|██████████████████████████████████████████████████████████████████████████████████| 10/10 [00:00<00:00, 27.01it/s]\n"
     ]
    },
    {
     "name": "stdout",
     "output_type": "stream",
     "text": [
      "model 10, 8 circuited\n",
      "3 seconds\n",
      "model 10, 8 tested: acc 0.9898697539797395, log-lik -20.531579024169172\n",
      "3 seconds\n"
     ]
    },
    {
     "name": "stderr",
     "output_type": "stream",
     "text": [
      "100%|█████████████████████████████████████████████████████████████████████████████████| 10/10 [00:00<00:00, 143.15it/s]"
     ]
    },
    {
     "name": "stdout",
     "output_type": "stream",
     "text": [
      "Warning, data will be saved for training set instead of test set\n",
      "Running in min_samples_per_leaf mode\n",
      "model 10, 9 fitted\n",
      "4 seconds\n",
      "model 10, 9 circuited\n",
      "4 seconds\n"
     ]
    },
    {
     "name": "stderr",
     "output_type": "stream",
     "text": [
      "\n",
      "100%|█████████████████████████████████████████████████████████████████████████████████| 10/10 [00:00<00:00, 142.48it/s]"
     ]
    },
    {
     "name": "stdout",
     "output_type": "stream",
     "text": [
      "model 10, 9 tested: acc 0.9869942196531792, log-lik -20.61361949115715\n",
      "4 seconds\n",
      "Warning, data will be saved for training set instead of test set\n",
      "Running in min_samples_per_leaf mode\n",
      "model 10, 10 fitted\n",
      "4 seconds\n",
      "model 10, 10 circuited\n",
      "4 seconds\n"
     ]
    },
    {
     "name": "stderr",
     "output_type": "stream",
     "text": [
      "\n"
     ]
    },
    {
     "name": "stdout",
     "output_type": "stream",
     "text": [
      "model 10, 10 tested: acc 0.9927745664739884, log-lik -20.616499363927833\n",
      "4 seconds\n",
      "10 finished, 4 seconds\n",
      "Performance: [-20.195553068459763, -20.702468347986972, -20.313551779851938, -20.79130420396369, -20.59097987301802, -20.75646690375158, -20.24765816022873, -20.531579024169172, -20.61361949115715, -20.616499363927833]\n",
      "Warning, data will be saved for training set instead of test set\n",
      "Running in min_samples_per_leaf mode\n"
     ]
    },
    {
     "name": "stderr",
     "output_type": "stream",
     "text": [
      " 52%|██████████████████████████████████████████                                       | 13/25 [00:00<00:00, 120.68it/s]"
     ]
    },
    {
     "name": "stdout",
     "output_type": "stream",
     "text": [
      "model 25, 1 fitted\n",
      "5 seconds\n"
     ]
    },
    {
     "name": "stderr",
     "output_type": "stream",
     "text": [
      "100%|█████████████████████████████████████████████████████████████████████████████████| 25/25 [00:00<00:00, 112.91it/s]\n"
     ]
    },
    {
     "name": "stdout",
     "output_type": "stream",
     "text": [
      "model 25, 1 circuited\n",
      "5 seconds\n",
      "model 25, 1 tested: acc 0.9956584659913169, log-lik -18.43168775760492\n",
      "5 seconds\n"
     ]
    },
    {
     "name": "stderr",
     "output_type": "stream",
     "text": [
      "\r",
      "  0%|                                                                                           | 0/25 [00:00<?, ?it/s]"
     ]
    },
    {
     "name": "stdout",
     "output_type": "stream",
     "text": [
      "Warning, data will be saved for training set instead of test set\n",
      "Running in min_samples_per_leaf mode\n",
      "model 25, 2 fitted\n",
      "6 seconds\n"
     ]
    },
    {
     "name": "stderr",
     "output_type": "stream",
     "text": [
      "100%|█████████████████████████████████████████████████████████████████████████████████| 25/25 [00:00<00:00, 140.02it/s]\n"
     ]
    },
    {
     "name": "stdout",
     "output_type": "stream",
     "text": [
      "model 25, 2 circuited\n",
      "6 seconds\n",
      "model 25, 2 tested: acc 0.9913169319826338, log-lik -18.148106035298728\n",
      "6 seconds\n"
     ]
    },
    {
     "name": "stderr",
     "output_type": "stream",
     "text": [
      "100%|█████████████████████████████████████████████████████████████████████████████████| 25/25 [00:00<00:00, 164.09it/s]"
     ]
    },
    {
     "name": "stdout",
     "output_type": "stream",
     "text": [
      "Warning, data will be saved for training set instead of test set\n",
      "Running in min_samples_per_leaf mode\n",
      "model 25, 3 fitted\n",
      "7 seconds\n",
      "model 25, 3 circuited\n",
      "7 seconds\n"
     ]
    },
    {
     "name": "stderr",
     "output_type": "stream",
     "text": [
      "\n"
     ]
    },
    {
     "name": "stdout",
     "output_type": "stream",
     "text": [
      "model 25, 3 tested: acc 0.9985528219971056, log-lik -18.17269093957396\n",
      "7 seconds\n"
     ]
    },
    {
     "name": "stderr",
     "output_type": "stream",
     "text": [
      "100%|█████████████████████████████████████████████████████████████████████████████████| 25/25 [00:00<00:00, 167.45it/s]"
     ]
    },
    {
     "name": "stdout",
     "output_type": "stream",
     "text": [
      "Warning, data will be saved for training set instead of test set\n",
      "Running in min_samples_per_leaf mode\n",
      "model 25, 4 fitted\n",
      "7 seconds\n",
      "model 25, 4 circuited\n",
      "7 seconds\n"
     ]
    },
    {
     "name": "stderr",
     "output_type": "stream",
     "text": [
      "\n"
     ]
    },
    {
     "name": "stdout",
     "output_type": "stream",
     "text": [
      "model 25, 4 tested: acc 0.9956584659913169, log-lik -18.57125395455637\n",
      "8 seconds\n"
     ]
    },
    {
     "name": "stderr",
     "output_type": "stream",
     "text": [
      " 64%|███████████████████████████████████████████████████▊                             | 16/25 [00:00<00:00, 159.31it/s]"
     ]
    },
    {
     "name": "stdout",
     "output_type": "stream",
     "text": [
      "Warning, data will be saved for training set instead of test set\n",
      "Running in min_samples_per_leaf mode\n",
      "model 25, 5 fitted\n",
      "8 seconds\n"
     ]
    },
    {
     "name": "stderr",
     "output_type": "stream",
     "text": [
      "100%|█████████████████████████████████████████████████████████████████████████████████| 25/25 [00:00<00:00, 157.54it/s]\n"
     ]
    },
    {
     "name": "stdout",
     "output_type": "stream",
     "text": [
      "model 25, 5 circuited\n",
      "8 seconds\n",
      "model 25, 5 tested: acc 0.9985528219971056, log-lik -18.46839380292902\n",
      "8 seconds\n",
      "Warning, data will be saved for training set instead of test set\n",
      "Running in min_samples_per_leaf mode\n"
     ]
    },
    {
     "name": "stderr",
     "output_type": "stream",
     "text": [
      "100%|█████████████████████████████████████████████████████████████████████████████████| 25/25 [00:00<00:00, 174.86it/s]"
     ]
    },
    {
     "name": "stdout",
     "output_type": "stream",
     "text": [
      "model 25, 6 fitted\n",
      "9 seconds\n",
      "model 25, 6 circuited\n",
      "9 seconds\n"
     ]
    },
    {
     "name": "stderr",
     "output_type": "stream",
     "text": [
      "\n"
     ]
    },
    {
     "name": "stdout",
     "output_type": "stream",
     "text": [
      "model 25, 6 tested: acc 0.9956584659913169, log-lik -18.589636436826222\n",
      "9 seconds\n"
     ]
    },
    {
     "name": "stderr",
     "output_type": "stream",
     "text": [
      "100%|█████████████████████████████████████████████████████████████████████████████████| 25/25 [00:00<00:00, 160.59it/s]"
     ]
    },
    {
     "name": "stdout",
     "output_type": "stream",
     "text": [
      "Warning, data will be saved for training set instead of test set\n",
      "Running in min_samples_per_leaf mode\n",
      "model 25, 7 fitted\n",
      "9 seconds\n",
      "model 25, 7 circuited\n",
      "10 seconds\n"
     ]
    },
    {
     "name": "stderr",
     "output_type": "stream",
     "text": [
      "\n"
     ]
    },
    {
     "name": "stdout",
     "output_type": "stream",
     "text": [
      "model 25, 7 tested: acc 0.9942112879884226, log-lik -18.317357518976717\n",
      "10 seconds\n"
     ]
    },
    {
     "name": "stderr",
     "output_type": "stream",
     "text": [
      "100%|█████████████████████████████████████████████████████████████████████████████████| 25/25 [00:00<00:00, 158.73it/s]"
     ]
    },
    {
     "name": "stdout",
     "output_type": "stream",
     "text": [
      "Warning, data will be saved for training set instead of test set\n",
      "Running in min_samples_per_leaf mode\n",
      "model 25, 8 fitted\n",
      "10 seconds\n",
      "model 25, 8 circuited\n",
      "10 seconds\n"
     ]
    },
    {
     "name": "stderr",
     "output_type": "stream",
     "text": [
      "\n"
     ]
    },
    {
     "name": "stdout",
     "output_type": "stream",
     "text": [
      "model 25, 8 tested: acc 0.9971056439942113, log-lik -18.308730412004742\n",
      "11 seconds\n"
     ]
    },
    {
     "name": "stderr",
     "output_type": "stream",
     "text": [
      "100%|█████████████████████████████████████████████████████████████████████████████████| 25/25 [00:00<00:00, 154.53it/s]"
     ]
    },
    {
     "name": "stdout",
     "output_type": "stream",
     "text": [
      "Warning, data will be saved for training set instead of test set\n",
      "Running in min_samples_per_leaf mode\n",
      "model 25, 9 fitted\n",
      "11 seconds\n",
      "model 25, 9 circuited\n",
      "11 seconds\n"
     ]
    },
    {
     "name": "stderr",
     "output_type": "stream",
     "text": [
      "\n"
     ]
    },
    {
     "name": "stdout",
     "output_type": "stream",
     "text": [
      "model 25, 9 tested: acc 0.9985549132947977, log-lik -18.235918053644877\n",
      "11 seconds\n"
     ]
    },
    {
     "name": "stderr",
     "output_type": "stream",
     "text": [
      "\r",
      "  0%|                                                                                           | 0/25 [00:00<?, ?it/s]"
     ]
    },
    {
     "name": "stdout",
     "output_type": "stream",
     "text": [
      "Warning, data will be saved for training set instead of test set\n",
      "Running in min_samples_per_leaf mode\n",
      "model 25, 10 fitted\n",
      "12 seconds\n"
     ]
    },
    {
     "name": "stderr",
     "output_type": "stream",
     "text": [
      "100%|█████████████████████████████████████████████████████████████████████████████████| 25/25 [00:00<00:00, 172.12it/s]\n"
     ]
    },
    {
     "name": "stdout",
     "output_type": "stream",
     "text": [
      "model 25, 10 circuited\n",
      "12 seconds\n",
      "model 25, 10 tested: acc 0.9985549132947977, log-lik -18.596714185709764\n",
      "12 seconds\n",
      "25 finished, 12 seconds\n",
      "Performance: [-18.43168775760492, -18.148106035298728, -18.17269093957396, -18.57125395455637, -18.46839380292902, -18.589636436826222, -18.317357518976717, -18.308730412004742, -18.235918053644877, -18.596714185709764]\n",
      "Warning, data will be saved for training set instead of test set\n",
      "Running in min_samples_per_leaf mode\n"
     ]
    },
    {
     "name": "stderr",
     "output_type": "stream",
     "text": [
      " 34%|███████████████████████████▌                                                     | 17/50 [00:00<00:00, 165.11it/s]"
     ]
    },
    {
     "name": "stdout",
     "output_type": "stream",
     "text": [
      "model 50, 1 fitted\n",
      "13 seconds\n"
     ]
    },
    {
     "name": "stderr",
     "output_type": "stream",
     "text": [
      "100%|█████████████████████████████████████████████████████████████████████████████████| 50/50 [00:00<00:00, 141.38it/s]\n"
     ]
    },
    {
     "name": "stdout",
     "output_type": "stream",
     "text": [
      "model 50, 1 circuited\n",
      "13 seconds\n",
      "model 50, 1 tested: acc 1.0, log-lik -16.56890363138082\n",
      "13 seconds\n",
      "Warning, data will be saved for training set instead of test set\n",
      "Running in min_samples_per_leaf mode\n"
     ]
    },
    {
     "name": "stderr",
     "output_type": "stream",
     "text": [
      " 32%|█████████████████████████▉                                                       | 16/50 [00:00<00:00, 158.57it/s]"
     ]
    },
    {
     "name": "stdout",
     "output_type": "stream",
     "text": [
      "model 50, 2 fitted\n",
      "14 seconds\n"
     ]
    },
    {
     "name": "stderr",
     "output_type": "stream",
     "text": [
      "100%|█████████████████████████████████████████████████████████████████████████████████| 50/50 [00:00<00:00, 156.53it/s]\n"
     ]
    },
    {
     "name": "stdout",
     "output_type": "stream",
     "text": [
      "model 50, 2 circuited\n",
      "14 seconds\n",
      "model 50, 2 tested: acc 1.0, log-lik -17.2345188649033\n",
      "15 seconds\n",
      "Warning, data will be saved for training set instead of test set\n",
      "Running in min_samples_per_leaf mode\n"
     ]
    },
    {
     "name": "stderr",
     "output_type": "stream",
     "text": [
      " 36%|█████████████████████████████▏                                                   | 18/50 [00:00<00:00, 172.50it/s]"
     ]
    },
    {
     "name": "stdout",
     "output_type": "stream",
     "text": [
      "model 50, 3 fitted\n",
      "16 seconds\n"
     ]
    },
    {
     "name": "stderr",
     "output_type": "stream",
     "text": [
      "100%|█████████████████████████████████████████████████████████████████████████████████| 50/50 [00:00<00:00, 159.24it/s]\n"
     ]
    },
    {
     "name": "stdout",
     "output_type": "stream",
     "text": [
      "model 50, 3 circuited\n",
      "16 seconds\n",
      "model 50, 3 tested: acc 1.0, log-lik -16.875001828442027\n",
      "16 seconds\n",
      "Warning, data will be saved for training set instead of test set\n",
      "Running in min_samples_per_leaf mode\n",
      "model 50, 4 fitted\n",
      "17 seconds\n"
     ]
    },
    {
     "name": "stderr",
     "output_type": "stream",
     "text": [
      "100%|█████████████████████████████████████████████████████████████████████████████████| 50/50 [00:00<00:00, 173.91it/s]\n"
     ]
    },
    {
     "name": "stdout",
     "output_type": "stream",
     "text": [
      "model 50, 4 circuited\n",
      "17 seconds\n",
      "model 50, 4 tested: acc 1.0, log-lik -17.10213382828559\n",
      "18 seconds\n"
     ]
    },
    {
     "name": "stderr",
     "output_type": "stream",
     "text": [
      " 68%|███████████████████████████████████████████████████████                          | 34/50 [00:00<00:00, 171.41it/s]"
     ]
    },
    {
     "name": "stdout",
     "output_type": "stream",
     "text": [
      "Warning, data will be saved for training set instead of test set\n",
      "Running in min_samples_per_leaf mode\n",
      "model 50, 5 fitted\n",
      "19 seconds\n"
     ]
    },
    {
     "name": "stderr",
     "output_type": "stream",
     "text": [
      "100%|█████████████████████████████████████████████████████████████████████████████████| 50/50 [00:00<00:00, 152.92it/s]\n"
     ]
    },
    {
     "name": "stdout",
     "output_type": "stream",
     "text": [
      "model 50, 5 circuited\n",
      "19 seconds\n",
      "model 50, 5 tested: acc 0.9956584659913169, log-lik -17.00668961798695\n",
      "19 seconds\n"
     ]
    },
    {
     "name": "stderr",
     "output_type": "stream",
     "text": [
      " 34%|███████████████████████████▌                                                     | 17/50 [00:00<00:00, 165.42it/s]"
     ]
    },
    {
     "name": "stdout",
     "output_type": "stream",
     "text": [
      "Warning, data will be saved for training set instead of test set\n",
      "Running in min_samples_per_leaf mode\n",
      "model 50, 6 fitted\n",
      "20 seconds\n"
     ]
    },
    {
     "name": "stderr",
     "output_type": "stream",
     "text": [
      "100%|█████████████████████████████████████████████████████████████████████████████████| 50/50 [00:00<00:00, 166.79it/s]\n"
     ]
    },
    {
     "name": "stdout",
     "output_type": "stream",
     "text": [
      "model 50, 6 circuited\n",
      "21 seconds\n",
      "model 50, 6 tested: acc 0.9985528219971056, log-lik -17.169489760146217\n",
      "21 seconds\n",
      "Warning, data will be saved for training set instead of test set\n",
      "Running in min_samples_per_leaf mode\n"
     ]
    },
    {
     "name": "stderr",
     "output_type": "stream",
     "text": [
      " 68%|███████████████████████████████████████████████████████                          | 34/50 [00:00<00:00, 164.04it/s]"
     ]
    },
    {
     "name": "stdout",
     "output_type": "stream",
     "text": [
      "model 50, 7 fitted\n",
      "22 seconds\n"
     ]
    },
    {
     "name": "stderr",
     "output_type": "stream",
     "text": [
      "100%|█████████████████████████████████████████████████████████████████████████████████| 50/50 [00:00<00:00, 161.31it/s]\n"
     ]
    },
    {
     "name": "stdout",
     "output_type": "stream",
     "text": [
      "model 50, 7 circuited\n",
      "22 seconds\n",
      "model 50, 7 tested: acc 1.0, log-lik -16.99361491276108\n",
      "22 seconds\n"
     ]
    },
    {
     "name": "stderr",
     "output_type": "stream",
     "text": [
      " 72%|██████████████████████████████████████████████████████████▎                      | 36/50 [00:00<00:00, 176.16it/s]"
     ]
    },
    {
     "name": "stdout",
     "output_type": "stream",
     "text": [
      "Warning, data will be saved for training set instead of test set\n",
      "Running in min_samples_per_leaf mode\n",
      "model 50, 8 fitted\n",
      "23 seconds\n"
     ]
    },
    {
     "name": "stderr",
     "output_type": "stream",
     "text": [
      "100%|█████████████████████████████████████████████████████████████████████████████████| 50/50 [00:00<00:00, 174.99it/s]\n"
     ]
    },
    {
     "name": "stdout",
     "output_type": "stream",
     "text": [
      "model 50, 8 circuited\n",
      "23 seconds\n",
      "model 50, 8 tested: acc 1.0, log-lik -17.07104297034269\n",
      "24 seconds\n",
      "Warning, data will be saved for training set instead of test set\n",
      "Running in min_samples_per_leaf mode\n"
     ]
    },
    {
     "name": "stderr",
     "output_type": "stream",
     "text": [
      " 70%|████████████████████████████████████████████████████████▋                        | 35/50 [00:00<00:00, 171.17it/s]"
     ]
    },
    {
     "name": "stdout",
     "output_type": "stream",
     "text": [
      "model 50, 9 fitted\n",
      "24 seconds\n"
     ]
    },
    {
     "name": "stderr",
     "output_type": "stream",
     "text": [
      "100%|█████████████████████████████████████████████████████████████████████████████████| 50/50 [00:00<00:00, 171.06it/s]\n"
     ]
    },
    {
     "name": "stdout",
     "output_type": "stream",
     "text": [
      "model 50, 9 circuited\n",
      "25 seconds\n",
      "model 50, 9 tested: acc 0.9971098265895953, log-lik -17.259808697323766\n",
      "25 seconds\n"
     ]
    },
    {
     "name": "stderr",
     "output_type": "stream",
     "text": [
      " 34%|███████████████████████████▌                                                     | 17/50 [00:00<00:00, 161.03it/s]"
     ]
    },
    {
     "name": "stdout",
     "output_type": "stream",
     "text": [
      "Warning, data will be saved for training set instead of test set\n",
      "Running in min_samples_per_leaf mode\n",
      "model 50, 10 fitted\n",
      "26 seconds\n"
     ]
    },
    {
     "name": "stderr",
     "output_type": "stream",
     "text": [
      "100%|█████████████████████████████████████████████████████████████████████████████████| 50/50 [00:00<00:00, 150.02it/s]\n"
     ]
    },
    {
     "name": "stdout",
     "output_type": "stream",
     "text": [
      "model 50, 10 circuited\n",
      "26 seconds\n",
      "model 50, 10 tested: acc 0.9956647398843931, log-lik -17.073806849693973\n",
      "26 seconds\n",
      "50 finished, 27 seconds\n",
      "Performance: [-16.56890363138082, -17.2345188649033, -16.875001828442027, -17.10213382828559, -17.00668961798695, -17.169489760146217, -16.99361491276108, -17.07104297034269, -17.259808697323766, -17.073806849693973]\n",
      "Warning, data will be saved for training set instead of test set\n",
      "Running in min_samples_per_leaf mode\n"
     ]
    },
    {
     "name": "stderr",
     "output_type": "stream",
     "text": [
      " 47%|█████████████████████████████████████▊                                           | 35/75 [00:00<00:00, 169.30it/s]"
     ]
    },
    {
     "name": "stdout",
     "output_type": "stream",
     "text": [
      "model 75, 1 fitted\n",
      "27 seconds\n"
     ]
    },
    {
     "name": "stderr",
     "output_type": "stream",
     "text": [
      "100%|██████████████████████████████████████████████████████████████████████████████████| 75/75 [00:00<00:00, 91.19it/s]\n"
     ]
    },
    {
     "name": "stdout",
     "output_type": "stream",
     "text": [
      "model 75, 1 circuited\n",
      "28 seconds\n",
      "model 75, 1 tested: acc 0.9971056439942113, log-lik -16.16656054403025\n",
      "29 seconds\n",
      "Warning, data will be saved for training set instead of test set\n",
      "Running in min_samples_per_leaf mode\n"
     ]
    },
    {
     "name": "stderr",
     "output_type": "stream",
     "text": [
      " 23%|██████████████████▎                                                              | 17/75 [00:00<00:00, 160.28it/s]"
     ]
    },
    {
     "name": "stdout",
     "output_type": "stream",
     "text": [
      "model 75, 2 fitted\n",
      "30 seconds\n"
     ]
    },
    {
     "name": "stderr",
     "output_type": "stream",
     "text": [
      "100%|█████████████████████████████████████████████████████████████████████████████████| 75/75 [00:00<00:00, 162.00it/s]\n"
     ]
    },
    {
     "name": "stdout",
     "output_type": "stream",
     "text": [
      "model 75, 2 circuited\n",
      "30 seconds\n",
      "model 75, 2 tested: acc 1.0, log-lik -16.555196927699527\n",
      "31 seconds\n",
      "Warning, data will be saved for training set instead of test set\n",
      "Running in min_samples_per_leaf mode\n",
      "model 75, 3 fitted\n"
     ]
    },
    {
     "name": "stderr",
     "output_type": "stream",
     "text": [
      " 24%|███████████████████▍                                                             | 18/75 [00:00<00:00, 176.24it/s]"
     ]
    },
    {
     "name": "stdout",
     "output_type": "stream",
     "text": [
      "32 seconds\n"
     ]
    },
    {
     "name": "stderr",
     "output_type": "stream",
     "text": [
      "100%|█████████████████████████████████████████████████████████████████████████████████| 75/75 [00:00<00:00, 146.60it/s]\n"
     ]
    },
    {
     "name": "stdout",
     "output_type": "stream",
     "text": [
      "model 75, 3 circuited\n",
      "32 seconds\n",
      "model 75, 3 tested: acc 1.0, log-lik -16.288222192908652\n",
      "33 seconds\n"
     ]
    },
    {
     "name": "stderr",
     "output_type": "stream",
     "text": [
      " 23%|██████████████████▎                                                              | 17/75 [00:00<00:00, 162.04it/s]"
     ]
    },
    {
     "name": "stdout",
     "output_type": "stream",
     "text": [
      "Warning, data will be saved for training set instead of test set\n",
      "Running in min_samples_per_leaf mode\n",
      "model 75, 4 fitted\n",
      "34 seconds\n"
     ]
    },
    {
     "name": "stderr",
     "output_type": "stream",
     "text": [
      "100%|█████████████████████████████████████████████████████████████████████████████████| 75/75 [00:00<00:00, 169.58it/s]\n"
     ]
    },
    {
     "name": "stdout",
     "output_type": "stream",
     "text": [
      "model 75, 4 circuited\n",
      "34 seconds\n",
      "model 75, 4 tested: acc 1.0, log-lik -16.61141239885148\n",
      "35 seconds\n",
      "Warning, data will be saved for training set instead of test set\n",
      "Running in min_samples_per_leaf mode\n"
     ]
    },
    {
     "name": "stderr",
     "output_type": "stream",
     "text": [
      " 24%|███████████████████▍                                                             | 18/75 [00:00<00:00, 171.57it/s]"
     ]
    },
    {
     "name": "stdout",
     "output_type": "stream",
     "text": [
      "model 75, 5 fitted\n",
      "36 seconds\n"
     ]
    },
    {
     "name": "stderr",
     "output_type": "stream",
     "text": [
      "100%|█████████████████████████████████████████████████████████████████████████████████| 75/75 [00:00<00:00, 165.01it/s]\n"
     ]
    },
    {
     "name": "stdout",
     "output_type": "stream",
     "text": [
      "model 75, 5 circuited\n",
      "36 seconds\n",
      "model 75, 5 tested: acc 1.0, log-lik -16.274679835525472\n",
      "37 seconds\n",
      "Warning, data will be saved for training set instead of test set\n",
      "Running in min_samples_per_leaf mode\n"
     ]
    },
    {
     "name": "stderr",
     "output_type": "stream",
     "text": [
      " 24%|███████████████████▍                                                             | 18/75 [00:00<00:00, 170.73it/s]"
     ]
    },
    {
     "name": "stdout",
     "output_type": "stream",
     "text": [
      "model 75, 6 fitted\n",
      "38 seconds\n"
     ]
    },
    {
     "name": "stderr",
     "output_type": "stream",
     "text": [
      "100%|█████████████████████████████████████████████████████████████████████████████████| 75/75 [00:00<00:00, 170.00it/s]\n"
     ]
    },
    {
     "name": "stdout",
     "output_type": "stream",
     "text": [
      "model 75, 6 circuited\n",
      "38 seconds\n",
      "model 75, 6 tested: acc 1.0, log-lik -16.66587349616393\n",
      "39 seconds\n"
     ]
    },
    {
     "name": "stderr",
     "output_type": "stream",
     "text": [
      " 44%|███████████████████████████████████▋                                             | 33/75 [00:00<00:00, 165.50it/s]"
     ]
    },
    {
     "name": "stdout",
     "output_type": "stream",
     "text": [
      "Warning, data will be saved for training set instead of test set\n",
      "Running in min_samples_per_leaf mode\n",
      "model 75, 7 fitted\n",
      "40 seconds\n"
     ]
    },
    {
     "name": "stderr",
     "output_type": "stream",
     "text": [
      "100%|█████████████████████████████████████████████████████████████████████████████████| 75/75 [00:00<00:00, 164.34it/s]\n"
     ]
    },
    {
     "name": "stdout",
     "output_type": "stream",
     "text": [
      "model 75, 7 circuited\n",
      "40 seconds\n",
      "model 75, 7 tested: acc 0.9985528219971056, log-lik -16.338139346769402\n",
      "41 seconds\n",
      "Warning, data will be saved for training set instead of test set\n",
      "Running in min_samples_per_leaf mode\n"
     ]
    },
    {
     "name": "stderr",
     "output_type": "stream",
     "text": [
      " 49%|███████████████████████████████████████▉                                         | 37/75 [00:00<00:00, 177.81it/s]"
     ]
    },
    {
     "name": "stdout",
     "output_type": "stream",
     "text": [
      "model 75, 8 fitted\n",
      "42 seconds\n"
     ]
    },
    {
     "name": "stderr",
     "output_type": "stream",
     "text": [
      "100%|█████████████████████████████████████████████████████████████████████████████████| 75/75 [00:00<00:00, 169.12it/s]\n"
     ]
    },
    {
     "name": "stdout",
     "output_type": "stream",
     "text": [
      "model 75, 8 circuited\n",
      "42 seconds\n",
      "model 75, 8 tested: acc 1.0, log-lik -16.468389174094977\n",
      "43 seconds\n",
      "Warning, data will be saved for training set instead of test set\n",
      "Running in min_samples_per_leaf mode\n"
     ]
    },
    {
     "name": "stderr",
     "output_type": "stream",
     "text": [
      " 23%|██████████████████▎                                                              | 17/75 [00:00<00:00, 167.15it/s]"
     ]
    },
    {
     "name": "stdout",
     "output_type": "stream",
     "text": [
      "model 75, 9 fitted\n",
      "44 seconds\n"
     ]
    },
    {
     "name": "stderr",
     "output_type": "stream",
     "text": [
      "100%|█████████████████████████████████████████████████████████████████████████████████| 75/75 [00:00<00:00, 155.64it/s]\n"
     ]
    },
    {
     "name": "stdout",
     "output_type": "stream",
     "text": [
      "model 75, 9 circuited\n",
      "44 seconds\n",
      "model 75, 9 tested: acc 1.0, log-lik -16.406214564420825\n",
      "45 seconds\n",
      "Warning, data will be saved for training set instead of test set\n",
      "Running in min_samples_per_leaf mode\n"
     ]
    },
    {
     "name": "stderr",
     "output_type": "stream",
     "text": [
      " 23%|██████████████████▎                                                              | 17/75 [00:00<00:00, 161.31it/s]"
     ]
    },
    {
     "name": "stdout",
     "output_type": "stream",
     "text": [
      "model 75, 10 fitted\n",
      "46 seconds\n"
     ]
    },
    {
     "name": "stderr",
     "output_type": "stream",
     "text": [
      "100%|█████████████████████████████████████████████████████████████████████████████████| 75/75 [00:00<00:00, 166.59it/s]\n"
     ]
    },
    {
     "name": "stdout",
     "output_type": "stream",
     "text": [
      "model 75, 10 circuited\n",
      "46 seconds\n",
      "model 75, 10 tested: acc 1.0, log-lik -16.287543209519416\n",
      "47 seconds\n",
      "75 finished, 48 seconds\n",
      "Performance: [-16.16656054403025, -16.555196927699527, -16.288222192908652, -16.61141239885148, -16.274679835525472, -16.66587349616393, -16.338139346769402, -16.468389174094977, -16.406214564420825, -16.287543209519416]\n",
      "Warning, data will be saved for training set instead of test set\n",
      "Running in min_samples_per_leaf mode\n"
     ]
    },
    {
     "name": "stderr",
     "output_type": "stream",
     "text": [
      " 17%|█████████████▌                                                                  | 17/100 [00:00<00:00, 162.41it/s]"
     ]
    },
    {
     "name": "stdout",
     "output_type": "stream",
     "text": [
      "model 100, 1 fitted\n",
      "48 seconds\n"
     ]
    },
    {
     "name": "stderr",
     "output_type": "stream",
     "text": [
      "100%|███████████████████████████████████████████████████████████████████████████████| 100/100 [00:00<00:00, 103.15it/s]\n"
     ]
    },
    {
     "name": "stdout",
     "output_type": "stream",
     "text": [
      "model 100, 1 circuited\n",
      "49 seconds\n",
      "model 100, 1 tested: acc 1.0, log-lik -15.868296709659544\n",
      "50 seconds\n"
     ]
    },
    {
     "name": "stderr",
     "output_type": "stream",
     "text": [
      " 15%|████████████                                                                    | 15/100 [00:00<00:00, 146.02it/s]"
     ]
    },
    {
     "name": "stdout",
     "output_type": "stream",
     "text": [
      "Warning, data will be saved for training set instead of test set\n",
      "Running in min_samples_per_leaf mode\n",
      "model 100, 2 fitted\n",
      "51 seconds\n"
     ]
    },
    {
     "name": "stderr",
     "output_type": "stream",
     "text": [
      "100%|███████████████████████████████████████████████████████████████████████████████| 100/100 [00:00<00:00, 150.38it/s]\n"
     ]
    },
    {
     "name": "stdout",
     "output_type": "stream",
     "text": [
      "model 100, 2 circuited\n",
      "52 seconds\n",
      "model 100, 2 tested: acc 0.9985528219971056, log-lik -16.194750903853578\n",
      "53 seconds\n"
     ]
    },
    {
     "name": "stderr",
     "output_type": "stream",
     "text": [
      " 35%|████████████████████████████                                                    | 35/100 [00:00<00:00, 171.42it/s]"
     ]
    },
    {
     "name": "stdout",
     "output_type": "stream",
     "text": [
      "Warning, data will be saved for training set instead of test set\n",
      "Running in min_samples_per_leaf mode\n",
      "model 100, 3 fitted\n",
      "54 seconds\n"
     ]
    },
    {
     "name": "stderr",
     "output_type": "stream",
     "text": [
      "100%|███████████████████████████████████████████████████████████████████████████████| 100/100 [00:00<00:00, 154.81it/s]\n"
     ]
    },
    {
     "name": "stdout",
     "output_type": "stream",
     "text": [
      "model 100, 3 circuited\n",
      "55 seconds\n",
      "model 100, 3 tested: acc 1.0, log-lik -16.210958584233417\n",
      "56 seconds\n",
      "Warning, data will be saved for training set instead of test set\n",
      "Running in min_samples_per_leaf mode\n"
     ]
    },
    {
     "name": "stderr",
     "output_type": "stream",
     "text": [
      " 34%|███████████████████████████▏                                                    | 34/100 [00:00<00:00, 161.68it/s]"
     ]
    },
    {
     "name": "stdout",
     "output_type": "stream",
     "text": [
      "model 100, 4 fitted\n",
      "57 seconds\n"
     ]
    },
    {
     "name": "stderr",
     "output_type": "stream",
     "text": [
      "100%|███████████████████████████████████████████████████████████████████████████████| 100/100 [00:00<00:00, 158.49it/s]\n"
     ]
    },
    {
     "name": "stdout",
     "output_type": "stream",
     "text": [
      "model 100, 4 circuited\n",
      "58 seconds\n",
      "model 100, 4 tested: acc 1.0, log-lik -16.332978938377707\n",
      "59 seconds\n"
     ]
    },
    {
     "name": "stderr",
     "output_type": "stream",
     "text": [
      " 16%|████████████▊                                                                   | 16/100 [00:00<00:00, 156.67it/s]"
     ]
    },
    {
     "name": "stdout",
     "output_type": "stream",
     "text": [
      "Warning, data will be saved for training set instead of test set\n",
      "Running in min_samples_per_leaf mode\n",
      "model 100, 5 fitted\n",
      "60 seconds\n"
     ]
    },
    {
     "name": "stderr",
     "output_type": "stream",
     "text": [
      "100%|███████████████████████████████████████████████████████████████████████████████| 100/100 [00:00<00:00, 140.82it/s]\n"
     ]
    },
    {
     "name": "stdout",
     "output_type": "stream",
     "text": [
      "model 100, 5 circuited\n",
      "61 seconds\n",
      "model 100, 5 tested: acc 1.0, log-lik -16.30141339013942\n",
      "62 seconds\n"
     ]
    },
    {
     "name": "stderr",
     "output_type": "stream",
     "text": [
      " 29%|███████████████████████▏                                                        | 29/100 [00:00<00:00, 139.46it/s]"
     ]
    },
    {
     "name": "stdout",
     "output_type": "stream",
     "text": [
      "Warning, data will be saved for training set instead of test set\n",
      "Running in min_samples_per_leaf mode\n",
      "model 100, 6 fitted\n",
      "64 seconds\n"
     ]
    },
    {
     "name": "stderr",
     "output_type": "stream",
     "text": [
      "100%|███████████████████████████████████████████████████████████████████████████████| 100/100 [00:00<00:00, 150.81it/s]\n"
     ]
    },
    {
     "name": "stdout",
     "output_type": "stream",
     "text": [
      "model 100, 6 circuited\n",
      "64 seconds\n",
      "model 100, 6 tested: acc 1.0, log-lik -16.22556006500605\n",
      "65 seconds\n",
      "Warning, data will be saved for training set instead of test set\n",
      "Running in min_samples_per_leaf mode\n"
     ]
    },
    {
     "name": "stderr",
     "output_type": "stream",
     "text": [
      " 15%|████████████                                                                    | 15/100 [00:00<00:00, 143.43it/s]"
     ]
    },
    {
     "name": "stdout",
     "output_type": "stream",
     "text": [
      "model 100, 7 fitted\n",
      "67 seconds\n"
     ]
    },
    {
     "name": "stderr",
     "output_type": "stream",
     "text": [
      "100%|███████████████████████████████████████████████████████████████████████████████| 100/100 [00:00<00:00, 115.68it/s]\n"
     ]
    },
    {
     "name": "stdout",
     "output_type": "stream",
     "text": [
      "model 100, 7 circuited\n",
      "67 seconds\n",
      "model 100, 7 tested: acc 0.9971056439942113, log-lik -16.03678247624069\n",
      "68 seconds\n"
     ]
    },
    {
     "name": "stderr",
     "output_type": "stream",
     "text": [
      " 15%|████████████                                                                    | 15/100 [00:00<00:00, 148.42it/s]"
     ]
    },
    {
     "name": "stdout",
     "output_type": "stream",
     "text": [
      "Warning, data will be saved for training set instead of test set\n",
      "Running in min_samples_per_leaf mode\n",
      "model 100, 8 fitted\n",
      "70 seconds\n"
     ]
    },
    {
     "name": "stderr",
     "output_type": "stream",
     "text": [
      "100%|███████████████████████████████████████████████████████████████████████████████| 100/100 [00:00<00:00, 145.65it/s]\n"
     ]
    },
    {
     "name": "stdout",
     "output_type": "stream",
     "text": [
      "model 100, 8 circuited\n",
      "70 seconds\n",
      "model 100, 8 tested: acc 1.0, log-lik -16.116117079368255\n",
      "71 seconds\n",
      "Warning, data will be saved for training set instead of test set\n",
      "Running in min_samples_per_leaf mode\n"
     ]
    },
    {
     "name": "stderr",
     "output_type": "stream",
     "text": [
      " 16%|████████████▊                                                                   | 16/100 [00:00<00:00, 158.76it/s]"
     ]
    },
    {
     "name": "stdout",
     "output_type": "stream",
     "text": [
      "model 100, 9 fitted\n",
      "73 seconds\n"
     ]
    },
    {
     "name": "stderr",
     "output_type": "stream",
     "text": [
      "100%|███████████████████████████████████████████████████████████████████████████████| 100/100 [00:00<00:00, 155.68it/s]\n"
     ]
    },
    {
     "name": "stdout",
     "output_type": "stream",
     "text": [
      "model 100, 9 circuited\n",
      "73 seconds\n",
      "model 100, 9 tested: acc 1.0, log-lik -15.969141774315592\n",
      "74 seconds\n",
      "Warning, data will be saved for training set instead of test set\n",
      "Running in min_samples_per_leaf mode\n"
     ]
    },
    {
     "name": "stderr",
     "output_type": "stream",
     "text": [
      " 16%|████████████▊                                                                   | 16/100 [00:00<00:00, 152.69it/s]"
     ]
    },
    {
     "name": "stdout",
     "output_type": "stream",
     "text": [
      "model 100, 10 fitted\n",
      "75 seconds\n"
     ]
    },
    {
     "name": "stderr",
     "output_type": "stream",
     "text": [
      "100%|███████████████████████████████████████████████████████████████████████████████| 100/100 [00:00<00:00, 146.76it/s]\n"
     ]
    },
    {
     "name": "stdout",
     "output_type": "stream",
     "text": [
      "model 100, 10 circuited\n",
      "76 seconds\n",
      "model 100, 10 tested: acc 1.0, log-lik -16.182185454683015\n",
      "77 seconds\n"
     ]
    },
    {
     "name": "stderr",
     "output_type": "stream",
     "text": [
      "100%|█████████████████████████████████████████████████████████████████████████████████| 10/10 [00:00<00:00, 277.13it/s]"
     ]
    },
    {
     "name": "stdout",
     "output_type": "stream",
     "text": [
      "100 finished, 78 seconds\n",
      "Performance: [-15.868296709659544, -16.194750903853578, -16.210958584233417, -16.332978938377707, -16.30141339013942, -16.22556006500605, -16.03678247624069, -16.116117079368255, -15.969141774315592, -16.182185454683015]\n",
      "\n",
      "\n",
      "depth 1 end: 78 seconds \n",
      "\n",
      "\n",
      "\n",
      "5 start\n",
      "{} min_samples_leaf\n",
      "Warning, data will be saved for training set instead of test set\n",
      "Running in min_samples_per_leaf mode\n",
      "model 10, 1 fitted\n",
      "0 seconds\n",
      "model 10, 1 circuited\n",
      "0 seconds\n",
      "model 10, 1 tested: acc 0.8972503617945007, log-lik -25.169670644946184\n",
      "0 seconds\n"
     ]
    },
    {
     "name": "stderr",
     "output_type": "stream",
     "text": [
      "\n",
      "100%|█████████████████████████████████████████████████████████████████████████████████| 10/10 [00:00<00:00, 230.56it/s]"
     ]
    },
    {
     "name": "stdout",
     "output_type": "stream",
     "text": [
      "Warning, data will be saved for training set instead of test set\n",
      "Running in min_samples_per_leaf mode\n",
      "model 10, 2 fitted\n",
      "0 seconds\n",
      "model 10, 2 circuited\n",
      "0 seconds\n",
      "model 10, 2 tested: acc 0.8885672937771346, log-lik -25.10816312292712\n",
      "0 seconds\n"
     ]
    },
    {
     "name": "stderr",
     "output_type": "stream",
     "text": [
      "\n",
      "100%|█████████████████████████████████████████████████████████████████████████████████| 10/10 [00:00<00:00, 252.24it/s]"
     ]
    },
    {
     "name": "stdout",
     "output_type": "stream",
     "text": [
      "Warning, data will be saved for training set instead of test set\n",
      "Running in min_samples_per_leaf mode\n",
      "model 10, 3 fitted\n",
      "0 seconds\n",
      "model 10, 3 circuited\n",
      "0 seconds\n",
      "model 10, 3 tested: acc 0.8885672937771346, log-lik -25.55829166703703\n",
      "0 seconds\n"
     ]
    },
    {
     "name": "stderr",
     "output_type": "stream",
     "text": [
      "\n",
      "100%|█████████████████████████████████████████████████████████████████████████████████| 10/10 [00:00<00:00, 262.34it/s]"
     ]
    },
    {
     "name": "stdout",
     "output_type": "stream",
     "text": [
      "Warning, data will be saved for training set instead of test set\n",
      "Running in min_samples_per_leaf mode\n",
      "model 10, 4 fitted\n",
      "0 seconds\n",
      "model 10, 4 circuited\n",
      "0 seconds\n",
      "model 10, 4 tested: acc 0.9117221418234442, log-lik -25.457311582376796\n",
      "0 seconds\n"
     ]
    },
    {
     "name": "stderr",
     "output_type": "stream",
     "text": [
      "\n",
      "100%|█████████████████████████████████████████████████████████████████████████████████| 10/10 [00:00<00:00, 253.93it/s]"
     ]
    },
    {
     "name": "stdout",
     "output_type": "stream",
     "text": [
      "Warning, data will be saved for training set instead of test set\n",
      "Running in min_samples_per_leaf mode\n",
      "model 10, 5 fitted\n",
      "1 seconds\n",
      "model 10, 5 circuited\n",
      "1 seconds\n",
      "model 10, 5 tested: acc 0.8986975397973951, log-lik -25.217805503603962\n",
      "1 seconds\n"
     ]
    },
    {
     "name": "stderr",
     "output_type": "stream",
     "text": [
      "\n",
      "100%|█████████████████████████████████████████████████████████████████████████████████| 10/10 [00:00<00:00, 248.84it/s]"
     ]
    },
    {
     "name": "stdout",
     "output_type": "stream",
     "text": [
      "Warning, data will be saved for training set instead of test set\n",
      "Running in min_samples_per_leaf mode\n",
      "model 10, 6 fitted\n",
      "1 seconds\n",
      "model 10, 6 circuited\n",
      "1 seconds\n",
      "model 10, 6 tested: acc 0.91027496382055, log-lik -25.276382309759818\n",
      "1 seconds\n"
     ]
    },
    {
     "name": "stderr",
     "output_type": "stream",
     "text": [
      "\n",
      "100%|█████████████████████████████████████████████████████████████████████████████████| 10/10 [00:00<00:00, 164.43it/s]"
     ]
    },
    {
     "name": "stdout",
     "output_type": "stream",
     "text": [
      "Warning, data will be saved for training set instead of test set\n",
      "Running in min_samples_per_leaf mode\n",
      "model 10, 7 fitted\n",
      "1 seconds\n",
      "model 10, 7 circuited\n",
      "1 seconds\n",
      "model 10, 7 tested: acc 0.874095513748191, log-lik -25.1167080796202\n",
      "1 seconds"
     ]
    },
    {
     "name": "stderr",
     "output_type": "stream",
     "text": [
      "\n",
      "100%|█████████████████████████████████████████████████████████████████████████████████| 10/10 [00:00<00:00, 231.52it/s]"
     ]
    },
    {
     "name": "stdout",
     "output_type": "stream",
     "text": [
      "\n",
      "Warning, data will be saved for training set instead of test set\n",
      "Running in min_samples_per_leaf mode\n",
      "model 10, 8 fitted\n",
      "1 seconds\n",
      "model 10, 8 circuited\n",
      "1 seconds\n"
     ]
    },
    {
     "name": "stderr",
     "output_type": "stream",
     "text": [
      "\n",
      "  0%|                                                                                           | 0/10 [00:00<?, ?it/s]"
     ]
    },
    {
     "name": "stdout",
     "output_type": "stream",
     "text": [
      "model 10, 8 tested: acc 0.8798842257597684, log-lik -25.16871053780091\n",
      "2 seconds\n",
      "Warning, data will be saved for training set instead of test set\n",
      "Running in min_samples_per_leaf mode\n",
      "model 10, 9 fitted\n",
      "2 seconds\n"
     ]
    },
    {
     "name": "stderr",
     "output_type": "stream",
     "text": [
      "100%|█████████████████████████████████████████████████████████████████████████████████| 10/10 [00:00<00:00, 181.65it/s]\n"
     ]
    },
    {
     "name": "stdout",
     "output_type": "stream",
     "text": [
      "model 10, 9 circuited\n",
      "2 seconds\n",
      "model 10, 9 tested: acc 0.8916184971098265, log-lik -25.277307403498046\n",
      "2 seconds\n",
      "Warning, data will be saved for training set instead of test set"
     ]
    },
    {
     "name": "stderr",
     "output_type": "stream",
     "text": [
      "100%|█████████████████████████████████████████████████████████████████████████████████| 10/10 [00:00<00:00, 215.83it/s]"
     ]
    },
    {
     "name": "stdout",
     "output_type": "stream",
     "text": [
      "\n",
      "Running in min_samples_per_leaf mode\n",
      "model 10, 10 fitted\n",
      "2 seconds\n",
      "model 10, 10 circuited\n",
      "2 seconds\n",
      "model 10, 10 tested: acc 0.884393063583815, log-lik -24.919613161552157\n",
      "2 seconds\n"
     ]
    },
    {
     "name": "stderr",
     "output_type": "stream",
     "text": [
      "\n",
      "  0%|                                                                                           | 0/25 [00:00<?, ?it/s]"
     ]
    },
    {
     "name": "stdout",
     "output_type": "stream",
     "text": [
      "10 finished, 2 seconds\n",
      "Performance: [-25.169670644946184, -25.10816312292712, -25.55829166703703, -25.457311582376796, -25.217805503603962, -25.276382309759818, -25.1167080796202, -25.16871053780091, -25.277307403498046, -24.919613161552157]\n",
      "Warning, data will be saved for training set instead of test set\n",
      "Running in min_samples_per_leaf mode\n",
      "model 25, 1 fitted\n",
      "2 seconds\n"
     ]
    },
    {
     "name": "stderr",
     "output_type": "stream",
     "text": [
      "100%|█████████████████████████████████████████████████████████████████████████████████| 25/25 [00:00<00:00, 251.47it/s]\n"
     ]
    },
    {
     "name": "stdout",
     "output_type": "stream",
     "text": [
      "model 25, 1 circuited\n",
      "2 seconds\n",
      "model 25, 1 tested: acc 0.9363241678726484, log-lik -24.471354900053424\n",
      "3 seconds\n"
     ]
    },
    {
     "name": "stderr",
     "output_type": "stream",
     "text": [
      "100%|█████████████████████████████████████████████████████████████████████████████████| 25/25 [00:00<00:00, 248.33it/s]"
     ]
    },
    {
     "name": "stdout",
     "output_type": "stream",
     "text": [
      "Warning, data will be saved for training set instead of test set\n",
      "Running in min_samples_per_leaf mode\n",
      "model 25, 2 fitted\n",
      "3 seconds\n"
     ]
    },
    {
     "name": "stderr",
     "output_type": "stream",
     "text": [
      "100%|█████████████████████████████████████████████████████████████████████████████████| 25/25 [00:00<00:00, 245.96it/s]\n"
     ]
    },
    {
     "name": "stdout",
     "output_type": "stream",
     "text": [
      "model 25, 2 circuited\n",
      "3 seconds\n",
      "model 25, 2 tested: acc 0.934876989869754, log-lik -24.527469001619938\n",
      "3 seconds\n"
     ]
    },
    {
     "name": "stderr",
     "output_type": "stream",
     "text": [
      "\r",
      "  0%|                                                                                           | 0/25 [00:00<?, ?it/s]"
     ]
    },
    {
     "name": "stdout",
     "output_type": "stream",
     "text": [
      "Warning, data will be saved for training set instead of test set\n",
      "Running in min_samples_per_leaf mode\n",
      "model 25, 3 fitted\n",
      "4 seconds\n"
     ]
    },
    {
     "name": "stderr",
     "output_type": "stream",
     "text": [
      "100%|█████████████████████████████████████████████████████████████████████████████████| 25/25 [00:00<00:00, 238.58it/s]\n"
     ]
    },
    {
     "name": "stdout",
     "output_type": "stream",
     "text": [
      "model 25, 3 circuited\n",
      "4 seconds\n",
      "model 25, 3 tested: acc 0.9160636758321273, log-lik -24.420956258669804\n",
      "4 seconds\n"
     ]
    },
    {
     "name": "stderr",
     "output_type": "stream",
     "text": [
      " 92%|██████████████████████████████████████████████████████████████████████████▌      | 23/25 [00:00<00:00, 222.34it/s]"
     ]
    },
    {
     "name": "stdout",
     "output_type": "stream",
     "text": [
      "Warning, data will be saved for training set instead of test set\n",
      "Running in min_samples_per_leaf mode\n",
      "model 25, 4 fitted\n",
      "4 seconds\n"
     ]
    },
    {
     "name": "stderr",
     "output_type": "stream",
     "text": [
      "100%|█████████████████████████████████████████████████████████████████████████████████| 25/25 [00:00<00:00, 214.27it/s]\n"
     ]
    },
    {
     "name": "stdout",
     "output_type": "stream",
     "text": [
      "model 25, 4 circuited\n",
      "4 seconds\n",
      "model 25, 4 tested: acc 0.9363241678726484, log-lik -24.63959780290179\n",
      "5 seconds\n"
     ]
    },
    {
     "name": "stderr",
     "output_type": "stream",
     "text": [
      "\r",
      "  0%|                                                                                           | 0/25 [00:00<?, ?it/s]"
     ]
    },
    {
     "name": "stdout",
     "output_type": "stream",
     "text": [
      "Warning, data will be saved for training set instead of test set\n",
      "Running in min_samples_per_leaf mode\n",
      "model 25, 5 fitted\n",
      "5 seconds\n"
     ]
    },
    {
     "name": "stderr",
     "output_type": "stream",
     "text": [
      "100%|█████████████████████████████████████████████████████████████████████████████████| 25/25 [00:00<00:00, 145.84it/s]\n"
     ]
    },
    {
     "name": "stdout",
     "output_type": "stream",
     "text": [
      "model 25, 5 circuited\n",
      "5 seconds\n",
      "model 25, 5 tested: acc 0.918958031837916, log-lik -24.621564599704673\n",
      "5 seconds\n",
      "Warning, data will be saved for training set instead of test set\n",
      "Running in min_samples_per_leaf mode\n"
     ]
    },
    {
     "name": "stderr",
     "output_type": "stream",
     "text": [
      "100%|█████████████████████████████████████████████████████████████████████████████████| 25/25 [00:00<00:00, 229.35it/s]"
     ]
    },
    {
     "name": "stdout",
     "output_type": "stream",
     "text": [
      "model 25, 6 fitted\n",
      "5 seconds\n",
      "model 25, 6 circuited\n",
      "6 seconds\n"
     ]
    },
    {
     "name": "stderr",
     "output_type": "stream",
     "text": [
      "\n"
     ]
    },
    {
     "name": "stdout",
     "output_type": "stream",
     "text": [
      "model 25, 6 tested: acc 0.9218523878437048, log-lik -24.623978433887167\n",
      "6 seconds\n",
      "Warning, data will be saved for training set instead of test set\n",
      "Running in min_samples_per_leaf mode\n"
     ]
    },
    {
     "name": "stderr",
     "output_type": "stream",
     "text": [
      "100%|█████████████████████████████████████████████████████████████████████████████████| 25/25 [00:00<00:00, 202.22it/s]"
     ]
    },
    {
     "name": "stdout",
     "output_type": "stream",
     "text": [
      "model 25, 7 fitted\n",
      "6 seconds\n",
      "model 25, 7 circuited\n",
      "6 seconds\n"
     ]
    },
    {
     "name": "stderr",
     "output_type": "stream",
     "text": [
      "\n"
     ]
    },
    {
     "name": "stdout",
     "output_type": "stream",
     "text": [
      "model 25, 7 tested: acc 0.9247467438494935, log-lik -24.309592861121118\n",
      "6 seconds\n",
      "Warning, data will be saved for training set instead of test set\n",
      "Running in min_samples_per_leaf mode\n"
     ]
    },
    {
     "name": "stderr",
     "output_type": "stream",
     "text": [
      "100%|█████████████████████████████████████████████████████████████████████████████████| 25/25 [00:00<00:00, 217.70it/s]"
     ]
    },
    {
     "name": "stdout",
     "output_type": "stream",
     "text": [
      "model 25, 8 fitted\n",
      "7 seconds\n",
      "model 25, 8 circuited\n",
      "7 seconds\n"
     ]
    },
    {
     "name": "stderr",
     "output_type": "stream",
     "text": [
      "\n"
     ]
    },
    {
     "name": "stdout",
     "output_type": "stream",
     "text": [
      "model 25, 8 tested: acc 0.9204052098408104, log-lik -24.673955638486536\n",
      "7 seconds\n",
      "Warning, data will be saved for training set instead of test set\n",
      "Running in min_samples_per_leaf mode\n"
     ]
    },
    {
     "name": "stderr",
     "output_type": "stream",
     "text": [
      "100%|█████████████████████████████████████████████████████████████████████████████████| 25/25 [00:00<00:00, 243.86it/s]"
     ]
    },
    {
     "name": "stdout",
     "output_type": "stream",
     "text": [
      "model 25, 9 fitted\n",
      "7 seconds\n",
      "model 25, 9 circuited\n",
      "7 seconds\n"
     ]
    },
    {
     "name": "stderr",
     "output_type": "stream",
     "text": [
      "\n"
     ]
    },
    {
     "name": "stdout",
     "output_type": "stream",
     "text": [
      "model 25, 9 tested: acc 0.9190751445086706, log-lik -24.643506522678685\n",
      "8 seconds\n",
      "Warning, data will be saved for training set instead of test set\n",
      "Running in min_samples_per_leaf mode\n"
     ]
    },
    {
     "name": "stderr",
     "output_type": "stream",
     "text": [
      "100%|█████████████████████████████████████████████████████████████████████████████████| 25/25 [00:00<00:00, 248.96it/s]"
     ]
    },
    {
     "name": "stdout",
     "output_type": "stream",
     "text": [
      "model 25, 10 fitted\n",
      "8 seconds\n",
      "model 25, 10 circuited\n",
      "8 seconds\n"
     ]
    },
    {
     "name": "stderr",
     "output_type": "stream",
     "text": [
      "\n"
     ]
    },
    {
     "name": "stdout",
     "output_type": "stream",
     "text": [
      "model 25, 10 tested: acc 0.9277456647398844, log-lik -24.524009583114513\n",
      "8 seconds\n",
      "25 finished, 8 seconds\n",
      "Performance: [-24.471354900053424, -24.527469001619938, -24.420956258669804, -24.63959780290179, -24.621564599704673, -24.623978433887167, -24.309592861121118, -24.673955638486536, -24.643506522678685, -24.524009583114513]\n",
      "Warning, data will be saved for training set instead of test set\n",
      "Running in min_samples_per_leaf mode\n"
     ]
    },
    {
     "name": "stderr",
     "output_type": "stream",
     "text": [
      " 46%|█████████████████████████████████████▎                                           | 23/50 [00:00<00:00, 223.98it/s]"
     ]
    },
    {
     "name": "stdout",
     "output_type": "stream",
     "text": [
      "model 50, 1 fitted\n",
      "9 seconds\n"
     ]
    },
    {
     "name": "stderr",
     "output_type": "stream",
     "text": [
      "100%|█████████████████████████████████████████████████████████████████████████████████| 50/50 [00:00<00:00, 213.87it/s]\n"
     ]
    },
    {
     "name": "stdout",
     "output_type": "stream",
     "text": [
      "model 50, 1 circuited\n",
      "9 seconds\n",
      "model 50, 1 tested: acc 0.9450072358900145, log-lik -24.152177877461078\n",
      "9 seconds\n",
      "Warning, data will be saved for training set instead of test set\n",
      "Running in min_samples_per_leaf mode\n"
     ]
    },
    {
     "name": "stderr",
     "output_type": "stream",
     "text": [
      "100%|█████████████████████████████████████████████████████████████████████████████████| 50/50 [00:00<00:00, 258.11it/s]"
     ]
    },
    {
     "name": "stdout",
     "output_type": "stream",
     "text": [
      "model 50, 2 fitted\n",
      "10 seconds\n"
     ]
    },
    {
     "name": "stderr",
     "output_type": "stream",
     "text": [
      "\n"
     ]
    },
    {
     "name": "stdout",
     "output_type": "stream",
     "text": [
      "model 50, 2 circuited\n",
      "10 seconds\n",
      "model 50, 2 tested: acc 0.9551374819102749, log-lik -24.127638934430408\n",
      "10 seconds\n",
      "Warning, data will be saved for training set instead of test set\n",
      "Running in min_samples_per_leaf mode\n"
     ]
    },
    {
     "name": "stderr",
     "output_type": "stream",
     "text": [
      " 88%|███████████████████████████████████████████████████████████████████████▎         | 44/50 [00:00<00:00, 202.89it/s]"
     ]
    },
    {
     "name": "stdout",
     "output_type": "stream",
     "text": [
      "model 50, 3 fitted\n",
      "11 seconds\n"
     ]
    },
    {
     "name": "stderr",
     "output_type": "stream",
     "text": [
      "100%|█████████████████████████████████████████████████████████████████████████████████| 50/50 [00:00<00:00, 203.92it/s]\n"
     ]
    },
    {
     "name": "stdout",
     "output_type": "stream",
     "text": [
      "model 50, 3 circuited\n",
      "11 seconds\n",
      "model 50, 3 tested: acc 0.9464544138929089, log-lik -24.143683929076285\n",
      "11 seconds\n"
     ]
    },
    {
     "name": "stderr",
     "output_type": "stream",
     "text": [
      "\r",
      "  0%|                                                                                           | 0/50 [00:00<?, ?it/s]"
     ]
    },
    {
     "name": "stdout",
     "output_type": "stream",
     "text": [
      "Warning, data will be saved for training set instead of test set\n",
      "Running in min_samples_per_leaf mode\n",
      "model 50, 4 fitted\n",
      "12 seconds\n"
     ]
    },
    {
     "name": "stderr",
     "output_type": "stream",
     "text": [
      "100%|█████████████████████████████████████████████████████████████████████████████████| 50/50 [00:00<00:00, 243.84it/s]\n"
     ]
    },
    {
     "name": "stdout",
     "output_type": "stream",
     "text": [
      "model 50, 4 circuited\n",
      "12 seconds\n",
      "model 50, 4 tested: acc 0.9638205499276411, log-lik -24.32120226846628\n",
      "12 seconds\n"
     ]
    },
    {
     "name": "stderr",
     "output_type": "stream",
     "text": [
      " 86%|█████████████████████████████████████████████████████████████████████▋           | 43/50 [00:00<00:00, 215.34it/s]"
     ]
    },
    {
     "name": "stdout",
     "output_type": "stream",
     "text": [
      "Warning, data will be saved for training set instead of test set\n",
      "Running in min_samples_per_leaf mode\n",
      "model 50, 5 fitted\n",
      "13 seconds\n"
     ]
    },
    {
     "name": "stderr",
     "output_type": "stream",
     "text": [
      "100%|█████████████████████████████████████████████████████████████████████████████████| 50/50 [00:00<00:00, 210.17it/s]\n"
     ]
    },
    {
     "name": "stdout",
     "output_type": "stream",
     "text": [
      "model 50, 5 circuited\n",
      "13 seconds\n",
      "model 50, 5 tested: acc 0.9377713458755427, log-lik -24.234216611376343\n",
      "13 seconds\n"
     ]
    },
    {
     "name": "stderr",
     "output_type": "stream",
     "text": [
      " 96%|█████████████████████████████████████████████████████████████████████████████▊   | 48/50 [00:00<00:00, 238.61it/s]"
     ]
    },
    {
     "name": "stdout",
     "output_type": "stream",
     "text": [
      "Warning, data will be saved for training set instead of test set\n",
      "Running in min_samples_per_leaf mode\n",
      "model 50, 6 fitted\n",
      "14 seconds\n"
     ]
    },
    {
     "name": "stderr",
     "output_type": "stream",
     "text": [
      "100%|█████████████████████████████████████████████████████████████████████████████████| 50/50 [00:00<00:00, 235.83it/s]\n"
     ]
    },
    {
     "name": "stdout",
     "output_type": "stream",
     "text": [
      "model 50, 6 circuited\n",
      "14 seconds\n",
      "model 50, 6 tested: acc 0.9435600578871202, log-lik -24.23233385351801\n",
      "14 seconds\n",
      "Warning, data will be saved for training set instead of test set\n",
      "Running in min_samples_per_leaf mode\n"
     ]
    },
    {
     "name": "stderr",
     "output_type": "stream",
     "text": [
      " 76%|█████████████████████████████████████████████████████████████▌                   | 38/50 [00:00<00:00, 185.26it/s]"
     ]
    },
    {
     "name": "stdout",
     "output_type": "stream",
     "text": [
      "model 50, 7 fitted\n",
      "15 seconds\n"
     ]
    },
    {
     "name": "stderr",
     "output_type": "stream",
     "text": [
      "100%|█████████████████████████████████████████████████████████████████████████████████| 50/50 [00:00<00:00, 184.39it/s]\n"
     ]
    },
    {
     "name": "stdout",
     "output_type": "stream",
     "text": [
      "model 50, 7 circuited\n",
      "15 seconds\n",
      "model 50, 7 tested: acc 0.9493487698986975, log-lik -23.978718571205977\n",
      "16 seconds\n"
     ]
    },
    {
     "name": "stderr",
     "output_type": "stream",
     "text": [
      "\r",
      "  0%|                                                                                           | 0/50 [00:00<?, ?it/s]"
     ]
    },
    {
     "name": "stdout",
     "output_type": "stream",
     "text": [
      "Warning, data will be saved for training set instead of test set\n",
      "Running in min_samples_per_leaf mode\n",
      "model 50, 8 fitted\n",
      "16 seconds\n"
     ]
    },
    {
     "name": "stderr",
     "output_type": "stream",
     "text": [
      "100%|█████████████████████████████████████████████████████████████████████████████████| 50/50 [00:00<00:00, 252.10it/s]\n"
     ]
    },
    {
     "name": "stdout",
     "output_type": "stream",
     "text": [
      "model 50, 8 circuited\n",
      "16 seconds\n",
      "model 50, 8 tested: acc 0.9493487698986975, log-lik -24.24799882346124\n",
      "17 seconds\n"
     ]
    },
    {
     "name": "stderr",
     "output_type": "stream",
     "text": [
      "\r",
      "  0%|                                                                                           | 0/50 [00:00<?, ?it/s]"
     ]
    },
    {
     "name": "stdout",
     "output_type": "stream",
     "text": [
      "Warning, data will be saved for training set instead of test set\n",
      "Running in min_samples_per_leaf mode\n",
      "model 50, 9 fitted\n",
      "17 seconds\n"
     ]
    },
    {
     "name": "stderr",
     "output_type": "stream",
     "text": [
      "100%|█████████████████████████████████████████████████████████████████████████████████| 50/50 [00:00<00:00, 263.80it/s]\n"
     ]
    },
    {
     "name": "stdout",
     "output_type": "stream",
     "text": [
      "model 50, 9 circuited\n",
      "17 seconds\n",
      "model 50, 9 tested: acc 0.9465317919075145, log-lik -24.247833457460665\n",
      "17 seconds\n"
     ]
    },
    {
     "name": "stderr",
     "output_type": "stream",
     "text": [
      "\r",
      "  0%|                                                                                           | 0/50 [00:00<?, ?it/s]"
     ]
    },
    {
     "name": "stdout",
     "output_type": "stream",
     "text": [
      "Warning, data will be saved for training set instead of test set\n",
      "Running in min_samples_per_leaf mode\n",
      "model 50, 10 fitted\n",
      "18 seconds\n"
     ]
    },
    {
     "name": "stderr",
     "output_type": "stream",
     "text": [
      "100%|█████████████████████████████████████████████████████████████████████████████████| 50/50 [00:00<00:00, 261.44it/s]\n"
     ]
    },
    {
     "name": "stdout",
     "output_type": "stream",
     "text": [
      "model 50, 10 circuited\n",
      "18 seconds\n",
      "model 50, 10 tested: acc 0.9364161849710982, log-lik -24.371000736672862\n",
      "18 seconds\n",
      "50 finished, 19 seconds\n",
      "Performance: [-24.152177877461078, -24.127638934430408, -24.143683929076285, -24.32120226846628, -24.234216611376343, -24.23233385351801, -23.978718571205977, -24.24799882346124, -24.247833457460665, -24.371000736672862]\n",
      "Warning, data will be saved for training set instead of test set\n",
      "Running in min_samples_per_leaf mode\n"
     ]
    },
    {
     "name": "stderr",
     "output_type": "stream",
     "text": [
      " 75%|████████████████████████████████████████████████████████████▍                    | 56/75 [00:00<00:00, 275.88it/s]"
     ]
    },
    {
     "name": "stdout",
     "output_type": "stream",
     "text": [
      "model 75, 1 fitted\n",
      "19 seconds\n"
     ]
    },
    {
     "name": "stderr",
     "output_type": "stream",
     "text": [
      "100%|█████████████████████████████████████████████████████████████████████████████████| 75/75 [00:00<00:00, 247.69it/s]\n"
     ]
    },
    {
     "name": "stdout",
     "output_type": "stream",
     "text": [
      "model 75, 1 circuited\n",
      "19 seconds\n",
      "model 75, 1 tested: acc 0.9565846599131693, log-lik -23.95329422090031\n",
      "20 seconds\n"
     ]
    },
    {
     "name": "stderr",
     "output_type": "stream",
     "text": [
      " 65%|████████████████████████████████████████████████████▉                            | 49/75 [00:00<00:00, 246.51it/s]"
     ]
    },
    {
     "name": "stdout",
     "output_type": "stream",
     "text": [
      "Warning, data will be saved for training set instead of test set\n",
      "Running in min_samples_per_leaf mode\n",
      "model 75, 2 fitted\n",
      "21 seconds\n"
     ]
    },
    {
     "name": "stderr",
     "output_type": "stream",
     "text": [
      "100%|█████████████████████████████████████████████████████████████████████████████████| 75/75 [00:00<00:00, 227.73it/s]\n"
     ]
    },
    {
     "name": "stdout",
     "output_type": "stream",
     "text": [
      "model 75, 2 circuited\n",
      "21 seconds\n",
      "model 75, 2 tested: acc 0.9551374819102749, log-lik -23.89875705349976\n",
      "21 seconds\n",
      "Warning, data will be saved for training set instead of test set\n",
      "Running in min_samples_per_leaf mode\n"
     ]
    },
    {
     "name": "stderr",
     "output_type": "stream",
     "text": [
      " 72%|██████████████████████████████████████████████████████████▎                      | 54/75 [00:00<00:00, 265.21it/s]"
     ]
    },
    {
     "name": "stdout",
     "output_type": "stream",
     "text": [
      "model 75, 3 fitted\n",
      "22 seconds\n"
     ]
    },
    {
     "name": "stderr",
     "output_type": "stream",
     "text": [
      "100%|█████████████████████████████████████████████████████████████████████████████████| 75/75 [00:00<00:00, 240.63it/s]\n"
     ]
    },
    {
     "name": "stdout",
     "output_type": "stream",
     "text": [
      "model 75, 3 circuited\n",
      "22 seconds\n",
      "model 75, 3 tested: acc 0.9710564399421129, log-lik -23.99275579871389\n",
      "23 seconds\n"
     ]
    },
    {
     "name": "stderr",
     "output_type": "stream",
     "text": [
      " 37%|██████████████████████████████▏                                                  | 28/75 [00:00<00:00, 279.99it/s]"
     ]
    },
    {
     "name": "stdout",
     "output_type": "stream",
     "text": [
      "Warning, data will be saved for training set instead of test set\n",
      "Running in min_samples_per_leaf mode\n",
      "model 75, 4 fitted\n",
      "23 seconds\n"
     ]
    },
    {
     "name": "stderr",
     "output_type": "stream",
     "text": [
      "100%|█████████████████████████████████████████████████████████████████████████████████| 75/75 [00:00<00:00, 234.21it/s]\n"
     ]
    },
    {
     "name": "stdout",
     "output_type": "stream",
     "text": [
      "model 75, 4 circuited\n",
      "24 seconds\n",
      "model 75, 4 tested: acc 0.9580318379160637, log-lik -24.069123017886653\n",
      "24 seconds\n",
      "Warning, data will be saved for training set instead of test set\n",
      "Running in min_samples_per_leaf mode\n"
     ]
    },
    {
     "name": "stderr",
     "output_type": "stream",
     "text": [
      " 27%|█████████████████████▌                                                           | 20/75 [00:00<00:00, 199.86it/s]"
     ]
    },
    {
     "name": "stdout",
     "output_type": "stream",
     "text": [
      "model 75, 5 fitted\n",
      "25 seconds\n"
     ]
    },
    {
     "name": "stderr",
     "output_type": "stream",
     "text": [
      "100%|█████████████████████████████████████████████████████████████████████████████████| 75/75 [00:00<00:00, 215.79it/s]\n"
     ]
    },
    {
     "name": "stdout",
     "output_type": "stream",
     "text": [
      "model 75, 5 circuited\n",
      "25 seconds\n",
      "model 75, 5 tested: acc 0.9580318379160637, log-lik -24.1340557229479\n",
      "26 seconds\n",
      "Warning, data will be saved for training set instead of test set\n",
      "Running in min_samples_per_leaf mode\n"
     ]
    },
    {
     "name": "stderr",
     "output_type": "stream",
     "text": [
      " 31%|████████████████████████▊                                                        | 23/75 [00:00<00:00, 225.50it/s]"
     ]
    },
    {
     "name": "stdout",
     "output_type": "stream",
     "text": [
      "model 75, 6 fitted\n",
      "27 seconds\n"
     ]
    },
    {
     "name": "stderr",
     "output_type": "stream",
     "text": [
      "100%|█████████████████████████████████████████████████████████████████████████████████| 75/75 [00:00<00:00, 215.42it/s]\n"
     ]
    },
    {
     "name": "stdout",
     "output_type": "stream",
     "text": [
      "model 75, 6 circuited\n",
      "27 seconds\n",
      "model 75, 6 tested: acc 0.9652677279305355, log-lik -24.07760122765196\n",
      "28 seconds\n"
     ]
    },
    {
     "name": "stderr",
     "output_type": "stream",
     "text": [
      " 31%|████████████████████████▊                                                        | 23/75 [00:00<00:00, 224.41it/s]"
     ]
    },
    {
     "name": "stdout",
     "output_type": "stream",
     "text": [
      "Warning, data will be saved for training set instead of test set\n",
      "Running in min_samples_per_leaf mode\n",
      "model 75, 7 fitted\n",
      "28 seconds\n"
     ]
    },
    {
     "name": "stderr",
     "output_type": "stream",
     "text": [
      "100%|█████████████████████████████████████████████████████████████████████████████████| 75/75 [00:00<00:00, 223.58it/s]\n"
     ]
    },
    {
     "name": "stdout",
     "output_type": "stream",
     "text": [
      "model 75, 7 circuited\n",
      "29 seconds\n",
      "model 75, 7 tested: acc 0.959479015918958, log-lik -23.979193175523402\n",
      "29 seconds\n",
      "Warning, data will be saved for training set instead of test set\n",
      "Running in min_samples_per_leaf mode\n"
     ]
    },
    {
     "name": "stderr",
     "output_type": "stream",
     "text": [
      " 71%|█████████████████████████████████████████████████████████▏                       | 53/75 [00:00<00:00, 256.60it/s]"
     ]
    },
    {
     "name": "stdout",
     "output_type": "stream",
     "text": [
      "model 75, 8 fitted\n",
      "30 seconds\n"
     ]
    },
    {
     "name": "stderr",
     "output_type": "stream",
     "text": [
      "100%|█████████████████████████████████████████████████████████████████████████████████| 75/75 [00:00<00:00, 257.84it/s]\n"
     ]
    },
    {
     "name": "stdout",
     "output_type": "stream",
     "text": [
      "model 75, 8 circuited\n",
      "30 seconds\n",
      "model 75, 8 tested: acc 0.9667149059334298, log-lik -24.226595044215546\n",
      "31 seconds\n",
      "Warning, data will be saved for training set instead of test set\n",
      "Running in min_samples_per_leaf mode\n"
     ]
    },
    {
     "name": "stderr",
     "output_type": "stream",
     "text": [
      " 36%|█████████████████████████████▏                                                   | 27/75 [00:00<00:00, 265.32it/s]"
     ]
    },
    {
     "name": "stdout",
     "output_type": "stream",
     "text": [
      "model 75, 9 fitted\n",
      "32 seconds\n"
     ]
    },
    {
     "name": "stderr",
     "output_type": "stream",
     "text": [
      "100%|█████████████████████████████████████████████████████████████████████████████████| 75/75 [00:00<00:00, 266.02it/s]\n"
     ]
    },
    {
     "name": "stdout",
     "output_type": "stream",
     "text": [
      "model 75, 9 circuited\n",
      "32 seconds\n",
      "model 75, 9 tested: acc 0.9508670520231214, log-lik -24.108138185597838\n",
      "32 seconds\n",
      "Warning, data will be saved for training set instead of test set\n",
      "Running in min_samples_per_leaf mode\n"
     ]
    },
    {
     "name": "stderr",
     "output_type": "stream",
     "text": [
      " 69%|████████████████████████████████████████████████████████▏                        | 52/75 [00:00<00:00, 254.06it/s]"
     ]
    },
    {
     "name": "stdout",
     "output_type": "stream",
     "text": [
      "model 75, 10 fitted\n",
      "33 seconds\n"
     ]
    },
    {
     "name": "stderr",
     "output_type": "stream",
     "text": [
      "100%|█████████████████████████████████████████████████████████████████████████████████| 75/75 [00:00<00:00, 255.15it/s]\n"
     ]
    },
    {
     "name": "stdout",
     "output_type": "stream",
     "text": [
      "model 75, 10 circuited\n",
      "33 seconds\n",
      "model 75, 10 tested: acc 0.9595375722543352, log-lik -24.051074050212417\n",
      "34 seconds\n",
      "75 finished, 34 seconds\n",
      "Performance: [-23.95329422090031, -23.89875705349976, -23.99275579871389, -24.069123017886653, -24.1340557229479, -24.07760122765196, -23.979193175523402, -24.226595044215546, -24.108138185597838, -24.051074050212417]\n",
      "Warning, data will be saved for training set instead of test set\n",
      "Running in min_samples_per_leaf mode\n"
     ]
    },
    {
     "name": "stderr",
     "output_type": "stream",
     "text": [
      " 28%|██████████████████████▍                                                         | 28/100 [00:00<00:00, 275.68it/s]"
     ]
    },
    {
     "name": "stdout",
     "output_type": "stream",
     "text": [
      "model 100, 1 fitted\n",
      "35 seconds\n"
     ]
    },
    {
     "name": "stderr",
     "output_type": "stream",
     "text": [
      "100%|███████████████████████████████████████████████████████████████████████████████| 100/100 [00:00<00:00, 245.48it/s]\n"
     ]
    },
    {
     "name": "stdout",
     "output_type": "stream",
     "text": [
      "model 100, 1 circuited\n",
      "35 seconds\n",
      "model 100, 1 tested: acc 0.9638205499276411, log-lik -23.889104939612896\n",
      "36 seconds\n",
      "Warning, data will be saved for training set instead of test set\n",
      "Running in min_samples_per_leaf mode\n"
     ]
    },
    {
     "name": "stderr",
     "output_type": "stream",
     "text": [
      " 27%|█████████████████████▌                                                          | 27/100 [00:00<00:00, 266.23it/s]"
     ]
    },
    {
     "name": "stdout",
     "output_type": "stream",
     "text": [
      "model 100, 2 fitted\n",
      "37 seconds\n"
     ]
    },
    {
     "name": "stderr",
     "output_type": "stream",
     "text": [
      "100%|███████████████████████████████████████████████████████████████████████████████| 100/100 [00:00<00:00, 215.48it/s]\n"
     ]
    },
    {
     "name": "stdout",
     "output_type": "stream",
     "text": [
      "model 100, 2 circuited\n",
      "37 seconds\n",
      "model 100, 2 tested: acc 0.9551374819102749, log-lik -24.007462803099287\n",
      "38 seconds\n",
      "Warning, data will be saved for training set instead of test set\n",
      "Running in min_samples_per_leaf mode\n"
     ]
    },
    {
     "name": "stderr",
     "output_type": "stream",
     "text": [
      " 18%|██████████████▍                                                                 | 18/100 [00:00<00:00, 128.88it/s]"
     ]
    },
    {
     "name": "stdout",
     "output_type": "stream",
     "text": [
      "model 100, 3 fitted\n",
      "39 seconds\n"
     ]
    },
    {
     "name": "stderr",
     "output_type": "stream",
     "text": [
      "100%|███████████████████████████████████████████████████████████████████████████████| 100/100 [00:00<00:00, 179.30it/s]\n"
     ]
    },
    {
     "name": "stdout",
     "output_type": "stream",
     "text": [
      "model 100, 3 circuited\n",
      "40 seconds\n",
      "model 100, 3 tested: acc 0.9710564399421129, log-lik -23.892721700881605\n",
      "40 seconds\n",
      "Warning, data will be saved for training set instead of test set\n",
      "Running in min_samples_per_leaf mode\n"
     ]
    },
    {
     "name": "stderr",
     "output_type": "stream",
     "text": [
      " 26%|████████████████████▊                                                           | 26/100 [00:00<00:00, 259.04it/s]"
     ]
    },
    {
     "name": "stdout",
     "output_type": "stream",
     "text": [
      "model 100, 4 fitted\n",
      "41 seconds\n"
     ]
    },
    {
     "name": "stderr",
     "output_type": "stream",
     "text": [
      "100%|███████████████████████████████████████████████████████████████████████████████| 100/100 [00:00<00:00, 224.72it/s]\n"
     ]
    },
    {
     "name": "stdout",
     "output_type": "stream",
     "text": [
      "model 100, 4 circuited\n",
      "42 seconds\n",
      "model 100, 4 tested: acc 0.9638205499276411, log-lik -23.891469094783535\n",
      "43 seconds\n"
     ]
    },
    {
     "name": "stderr",
     "output_type": "stream",
     "text": [
      " 18%|██████████████▍                                                                 | 18/100 [00:00<00:00, 179.50it/s]"
     ]
    },
    {
     "name": "stdout",
     "output_type": "stream",
     "text": [
      "Warning, data will be saved for training set instead of test set\n",
      "Running in min_samples_per_leaf mode\n",
      "model 100, 5 fitted\n",
      "44 seconds\n"
     ]
    },
    {
     "name": "stderr",
     "output_type": "stream",
     "text": [
      "100%|███████████████████████████████████████████████████████████████████████████████| 100/100 [00:00<00:00, 168.14it/s]\n"
     ]
    },
    {
     "name": "stdout",
     "output_type": "stream",
     "text": [
      "model 100, 5 circuited\n",
      "44 seconds\n",
      "model 100, 5 tested: acc 0.9623733719247467, log-lik -23.83623615843614\n",
      "45 seconds\n",
      "Warning, data will be saved for training set instead of test set\n",
      "Running in min_samples_per_leaf mode\n"
     ]
    },
    {
     "name": "stderr",
     "output_type": "stream",
     "text": [
      " 23%|██████████████████▍                                                             | 23/100 [00:00<00:00, 221.75it/s]"
     ]
    },
    {
     "name": "stdout",
     "output_type": "stream",
     "text": [
      "model 100, 6 fitted\n",
      "46 seconds\n"
     ]
    },
    {
     "name": "stderr",
     "output_type": "stream",
     "text": [
      "100%|███████████████████████████████████████████████████████████████████████████████| 100/100 [00:00<00:00, 208.67it/s]\n"
     ]
    },
    {
     "name": "stdout",
     "output_type": "stream",
     "text": [
      "model 100, 6 circuited\n",
      "46 seconds\n",
      "model 100, 6 tested: acc 0.9725036179450073, log-lik -24.031237281177166\n",
      "47 seconds\n",
      "Warning, data will be saved for training set instead of test set\n",
      "Running in min_samples_per_leaf mode\n"
     ]
    },
    {
     "name": "stderr",
     "output_type": "stream",
     "text": [
      " 29%|███████████████████████▏                                                        | 29/100 [00:00<00:00, 287.97it/s]"
     ]
    },
    {
     "name": "stdout",
     "output_type": "stream",
     "text": [
      "model 100, 7 fitted\n",
      "48 seconds\n"
     ]
    },
    {
     "name": "stderr",
     "output_type": "stream",
     "text": [
      "100%|███████████████████████████████████████████████████████████████████████████████| 100/100 [00:00<00:00, 269.17it/s]\n"
     ]
    },
    {
     "name": "stdout",
     "output_type": "stream",
     "text": [
      "model 100, 7 circuited\n",
      "48 seconds\n",
      "model 100, 7 tested: acc 0.9725036179450073, log-lik -23.802164285769052\n",
      "49 seconds\n",
      "Warning, data will be saved for training set instead of test set\n",
      "Running in min_samples_per_leaf mode\n"
     ]
    },
    {
     "name": "stderr",
     "output_type": "stream",
     "text": [
      " 28%|██████████████████████▍                                                         | 28/100 [00:00<00:00, 275.55it/s]"
     ]
    },
    {
     "name": "stdout",
     "output_type": "stream",
     "text": [
      "model 100, 8 fitted\n",
      "50 seconds\n"
     ]
    },
    {
     "name": "stderr",
     "output_type": "stream",
     "text": [
      "100%|███████████████████████████████████████████████████████████████████████████████| 100/100 [00:00<00:00, 252.50it/s]\n"
     ]
    },
    {
     "name": "stdout",
     "output_type": "stream",
     "text": [
      "model 100, 8 circuited\n",
      "50 seconds\n",
      "model 100, 8 tested: acc 0.9725036179450073, log-lik -23.762979122377793\n",
      "51 seconds\n",
      "Warning, data will be saved for training set instead of test set\n",
      "Running in min_samples_per_leaf mode\n"
     ]
    },
    {
     "name": "stderr",
     "output_type": "stream",
     "text": [
      " 27%|█████████████████████▌                                                          | 27/100 [00:00<00:00, 269.20it/s]"
     ]
    },
    {
     "name": "stdout",
     "output_type": "stream",
     "text": [
      "model 100, 9 fitted\n",
      "52 seconds\n"
     ]
    },
    {
     "name": "stderr",
     "output_type": "stream",
     "text": [
      "100%|███████████████████████████████████████████████████████████████████████████████| 100/100 [00:00<00:00, 269.19it/s]\n"
     ]
    },
    {
     "name": "stdout",
     "output_type": "stream",
     "text": [
      "model 100, 9 circuited\n",
      "52 seconds\n",
      "model 100, 9 tested: acc 0.9783236994219653, log-lik -24.01988709151133\n",
      "53 seconds\n"
     ]
    },
    {
     "name": "stderr",
     "output_type": "stream",
     "text": [
      " 58%|██████████████████████████████████████████████▍                                 | 58/100 [00:00<00:00, 270.24it/s]"
     ]
    },
    {
     "name": "stdout",
     "output_type": "stream",
     "text": [
      "Warning, data will be saved for training set instead of test set\n",
      "Running in min_samples_per_leaf mode\n",
      "model 100, 10 fitted\n",
      "53 seconds\n"
     ]
    },
    {
     "name": "stderr",
     "output_type": "stream",
     "text": [
      "100%|███████████████████████████████████████████████████████████████████████████████| 100/100 [00:00<00:00, 257.31it/s]\n"
     ]
    },
    {
     "name": "stdout",
     "output_type": "stream",
     "text": [
      "model 100, 10 circuited\n",
      "54 seconds\n",
      "model 100, 10 tested: acc 0.9624277456647399, log-lik -23.87869453861065\n",
      "54 seconds\n"
     ]
    },
    {
     "name": "stderr",
     "output_type": "stream",
     "text": [
      "100%|█████████████████████████████████████████████████████████████████████████████████| 10/10 [00:00<00:00, 377.36it/s]"
     ]
    },
    {
     "name": "stdout",
     "output_type": "stream",
     "text": [
      "100 finished, 55 seconds\n",
      "Performance: [-23.889104939612896, -24.007462803099287, -23.892721700881605, -23.891469094783535, -23.83623615843614, -24.031237281177166, -23.802164285769052, -23.762979122377793, -24.01988709151133, -23.87869453861065]\n",
      "\n",
      "\n",
      "depth 5 end: 134 seconds \n",
      "\n",
      "\n",
      "\n",
      "10 start\n",
      "{} min_samples_leaf\n",
      "Warning, data will be saved for training set instead of test set\n",
      "Running in min_samples_per_leaf mode\n",
      "model 10, 1 fitted\n",
      "0 seconds\n",
      "model 10, 1 circuited\n",
      "0 seconds\n",
      "model 10, 1 tested: acc 0.829232995658466, log-lik -26.14622179141623\n",
      "0 seconds\n"
     ]
    },
    {
     "name": "stderr",
     "output_type": "stream",
     "text": [
      "\n",
      "100%|█████████████████████████████████████████████████████████████████████████████████| 10/10 [00:00<00:00, 380.55it/s]"
     ]
    },
    {
     "name": "stdout",
     "output_type": "stream",
     "text": [
      "Warning, data will be saved for training set instead of test set\n",
      "Running in min_samples_per_leaf mode\n",
      "model 10, 2 fitted\n",
      "0 seconds\n",
      "model 10, 2 circuited\n",
      "0 seconds\n",
      "model 10, 2 tested: acc 0.8335745296671491, log-lik -26.15013866913254\n",
      "0 seconds\n"
     ]
    },
    {
     "name": "stderr",
     "output_type": "stream",
     "text": [
      "\n",
      "100%|█████████████████████████████████████████████████████████████████████████████████| 10/10 [00:00<00:00, 323.43it/s]"
     ]
    },
    {
     "name": "stdout",
     "output_type": "stream",
     "text": [
      "Warning, data will be saved for training set instead of test set\n",
      "Running in min_samples_per_leaf mode\n",
      "model 10, 3 fitted\n",
      "0 seconds\n",
      "model 10, 3 circuited\n",
      "0 seconds\n",
      "model 10, 3 tested: acc 0.8248914616497829, log-lik -26.020190012997535\n",
      "0 seconds\n"
     ]
    },
    {
     "name": "stderr",
     "output_type": "stream",
     "text": [
      "\n",
      "100%|█████████████████████████████████████████████████████████████████████████████████| 10/10 [00:00<00:00, 336.49it/s]"
     ]
    },
    {
     "name": "stdout",
     "output_type": "stream",
     "text": [
      "Warning, data will be saved for training set instead of test set\n",
      "Running in min_samples_per_leaf mode\n",
      "model 10, 4 fitted\n",
      "0 seconds\n",
      "model 10, 4 circuited\n",
      "0 seconds\n",
      "model 10, 4 tested: acc 0.8422575976845152, log-lik -26.175201474168095\n",
      "0 seconds\n"
     ]
    },
    {
     "name": "stderr",
     "output_type": "stream",
     "text": [
      "\n",
      "100%|█████████████████████████████████████████████████████████████████████████████████| 10/10 [00:00<00:00, 334.24it/s]"
     ]
    },
    {
     "name": "stdout",
     "output_type": "stream",
     "text": [
      "Warning, data will be saved for training set instead of test set\n",
      "Running in min_samples_per_leaf mode\n",
      "model 10, 5 fitted\n",
      "0 seconds\n",
      "model 10, 5 circuited\n",
      "0 seconds\n",
      "model 10, 5 tested: acc 0.849493487698987, log-lik -26.24227162547297\n",
      "0 seconds\n"
     ]
    },
    {
     "name": "stderr",
     "output_type": "stream",
     "text": [
      "\n",
      "100%|█████████████████████████████████████████████████████████████████████████████████| 10/10 [00:00<00:00, 278.47it/s]"
     ]
    },
    {
     "name": "stdout",
     "output_type": "stream",
     "text": [
      "Warning, data will be saved for training set instead of test set\n",
      "Running in min_samples_per_leaf mode\n",
      "model 10, 6 fitted\n",
      "1 seconds\n",
      "model 10, 6 circuited\n",
      "1 seconds\n",
      "model 10, 6 tested: acc 0.8567293777134588, log-lik -26.52520953324905\n",
      "1 seconds\n"
     ]
    },
    {
     "name": "stderr",
     "output_type": "stream",
     "text": [
      "\n",
      "100%|█████████████████████████████████████████████████████████████████████████████████| 10/10 [00:00<00:00, 212.90it/s]"
     ]
    },
    {
     "name": "stdout",
     "output_type": "stream",
     "text": [
      "Warning, data will be saved for training set instead of test set\n",
      "Running in min_samples_per_leaf mode\n",
      "model 10, 7 fitted\n",
      "1 seconds\n",
      "model 10, 7 circuited\n",
      "1 seconds\n",
      "model 10, 7 tested: acc 0.849493487698987, log-lik -26.852435318163348\n",
      "1 seconds\n"
     ]
    },
    {
     "name": "stderr",
     "output_type": "stream",
     "text": [
      "\n",
      "100%|█████████████████████████████████████████████████████████████████████████████████| 10/10 [00:00<00:00, 260.70it/s]"
     ]
    },
    {
     "name": "stdout",
     "output_type": "stream",
     "text": [
      "Warning, data will be saved for training set instead of test set\n",
      "Running in min_samples_per_leaf mode\n",
      "model 10, 8 fitted\n",
      "1 seconds\n",
      "model 10, 8 circuited\n",
      "1 seconds\n",
      "model 10, 8 tested: acc 0.8552821997105644, log-lik -26.1814235815658\n",
      "1 seconds\n"
     ]
    },
    {
     "name": "stderr",
     "output_type": "stream",
     "text": [
      "\n",
      "100%|█████████████████████████████████████████████████████████████████████████████████| 10/10 [00:00<00:00, 352.34it/s]"
     ]
    },
    {
     "name": "stdout",
     "output_type": "stream",
     "text": [
      "Warning, data will be saved for training set instead of test set\n",
      "Running in min_samples_per_leaf mode\n",
      "model 10, 9 fitted\n",
      "1 seconds\n",
      "model 10, 9 circuited\n",
      "1 seconds\n",
      "model 10, 9 tested: acc 0.8251445086705202, log-lik -26.669957576002314\n",
      "1 seconds\n"
     ]
    },
    {
     "name": "stderr",
     "output_type": "stream",
     "text": [
      "\n",
      "100%|█████████████████████████████████████████████████████████████████████████████████| 10/10 [00:00<00:00, 340.75it/s]"
     ]
    },
    {
     "name": "stdout",
     "output_type": "stream",
     "text": [
      "Warning, data will be saved for training set instead of test set\n",
      "Running in min_samples_per_leaf mode\n",
      "model 10, 10 fitted\n",
      "1 seconds\n",
      "model 10, 10 circuited\n",
      "1 seconds\n",
      "model 10, 10 tested: acc 0.8395953757225434, log-lik -26.30445486407551\n",
      "2 seconds\n"
     ]
    },
    {
     "name": "stderr",
     "output_type": "stream",
     "text": [
      "\n",
      "100%|█████████████████████████████████████████████████████████████████████████████████| 25/25 [00:00<00:00, 262.16it/s]"
     ]
    },
    {
     "name": "stdout",
     "output_type": "stream",
     "text": [
      "10 finished, 2 seconds\n",
      "Performance: [-26.14622179141623, -26.15013866913254, -26.020190012997535, -26.175201474168095, -26.24227162547297, -26.52520953324905, -26.852435318163348, -26.1814235815658, -26.669957576002314, -26.30445486407551]\n",
      "Warning, data will be saved for training set instead of test set\n",
      "Running in min_samples_per_leaf mode\n",
      "model 25, 1 fitted\n",
      "2 seconds\n",
      "model 25, 1 circuited\n",
      "2 seconds\n"
     ]
    },
    {
     "name": "stderr",
     "output_type": "stream",
     "text": [
      "\n"
     ]
    },
    {
     "name": "stdout",
     "output_type": "stream",
     "text": [
      "model 25, 1 tested: acc 0.8422575976845152, log-lik -25.71472843336477\n",
      "2 seconds\n",
      "Warning, data will be saved for training set instead of test set\n",
      "Running in min_samples_per_leaf mode\n"
     ]
    },
    {
     "name": "stderr",
     "output_type": "stream",
     "text": [
      "100%|█████████████████████████████████████████████████████████████████████████████████| 25/25 [00:00<00:00, 392.23it/s]"
     ]
    },
    {
     "name": "stdout",
     "output_type": "stream",
     "text": [
      "model 25, 2 fitted\n",
      "2 seconds\n",
      "model 25, 2 circuited\n",
      "2 seconds\n",
      "model 25, 2 tested: acc 0.8567293777134588, log-lik -25.732730256595495\n",
      "2 seconds\n"
     ]
    },
    {
     "name": "stderr",
     "output_type": "stream",
     "text": [
      "\n",
      "100%|█████████████████████████████████████████████████████████████████████████████████| 25/25 [00:00<00:00, 409.80it/s]"
     ]
    },
    {
     "name": "stdout",
     "output_type": "stream",
     "text": [
      "Warning, data will be saved for training set instead of test set\n",
      "Running in min_samples_per_leaf mode\n",
      "model 25, 3 fitted\n",
      "3 seconds\n",
      "model 25, 3 circuited\n",
      "3 seconds\n",
      "model 25, 3 tested: acc 0.8596237337192475, log-lik -26.097374960793758\n",
      "3 seconds\n"
     ]
    },
    {
     "name": "stderr",
     "output_type": "stream",
     "text": [
      "\n",
      "100%|█████████████████████████████████████████████████████████████████████████████████| 25/25 [00:00<00:00, 417.94it/s]"
     ]
    },
    {
     "name": "stdout",
     "output_type": "stream",
     "text": [
      "Warning, data will be saved for training set instead of test set\n",
      "Running in min_samples_per_leaf mode\n",
      "model 25, 4 fitted\n",
      "3 seconds\n",
      "model 25, 4 circuited\n",
      "3 seconds\n"
     ]
    },
    {
     "name": "stderr",
     "output_type": "stream",
     "text": [
      "\n"
     ]
    },
    {
     "name": "stdout",
     "output_type": "stream",
     "text": [
      "model 25, 4 tested: acc 0.8683068017366136, log-lik -25.8059677787744\n",
      "3 seconds\n",
      "Warning, data will be saved for training set instead of test set\n",
      "Running in min_samples_per_leaf mode\n"
     ]
    },
    {
     "name": "stderr",
     "output_type": "stream",
     "text": [
      "100%|█████████████████████████████████████████████████████████████████████████████████| 25/25 [00:00<00:00, 374.73it/s]"
     ]
    },
    {
     "name": "stdout",
     "output_type": "stream",
     "text": [
      "model 25, 5 fitted\n",
      "3 seconds\n",
      "model 25, 5 circuited\n",
      "3 seconds\n",
      "model 25, 5 tested: acc 0.8596237337192475, log-lik -25.861444831904105\n",
      "3 seconds\n"
     ]
    },
    {
     "name": "stderr",
     "output_type": "stream",
     "text": [
      "\n",
      "100%|█████████████████████████████████████████████████████████████████████████████████| 25/25 [00:00<00:00, 420.78it/s]"
     ]
    },
    {
     "name": "stdout",
     "output_type": "stream",
     "text": [
      "Warning, data will be saved for training set instead of test set\n",
      "Running in min_samples_per_leaf mode\n",
      "model 25, 6 fitted\n",
      "4 seconds\n",
      "model 25, 6 circuited\n",
      "4 seconds\n"
     ]
    },
    {
     "name": "stderr",
     "output_type": "stream",
     "text": [
      "\n"
     ]
    },
    {
     "name": "stdout",
     "output_type": "stream",
     "text": [
      "model 25, 6 tested: acc 0.8596237337192475, log-lik -26.13509137381744\n",
      "4 seconds\n",
      "Warning, data will be saved for training set instead of test set\n",
      "Running in min_samples_per_leaf mode\n"
     ]
    },
    {
     "name": "stderr",
     "output_type": "stream",
     "text": [
      "100%|█████████████████████████████████████████████████████████████████████████████████| 25/25 [00:00<00:00, 272.48it/s]"
     ]
    },
    {
     "name": "stdout",
     "output_type": "stream",
     "text": [
      "model 25, 7 fitted\n",
      "4 seconds\n",
      "model 25, 7 circuited\n",
      "4 seconds\n",
      "model 25, 7 tested: acc 0.8523878437047757, log-lik -25.730888462164053\n",
      "4 seconds\n"
     ]
    },
    {
     "name": "stderr",
     "output_type": "stream",
     "text": [
      "\n",
      "100%|█████████████████████████████████████████████████████████████████████████████████| 25/25 [00:00<00:00, 399.70it/s]"
     ]
    },
    {
     "name": "stdout",
     "output_type": "stream",
     "text": [
      "Warning, data will be saved for training set instead of test set\n",
      "Running in min_samples_per_leaf mode\n",
      "model 25, 8 fitted\n",
      "4 seconds\n",
      "model 25, 8 circuited\n",
      "4 seconds\n",
      "model 25, 8 tested: acc 0.8408104196816208, log-lik -25.88181837706907\n",
      "5 seconds\n"
     ]
    },
    {
     "name": "stderr",
     "output_type": "stream",
     "text": [
      "\n",
      "100%|█████████████████████████████████████████████████████████████████████████████████| 25/25 [00:00<00:00, 382.78it/s]"
     ]
    },
    {
     "name": "stdout",
     "output_type": "stream",
     "text": [
      "Warning, data will be saved for training set instead of test set\n",
      "Running in min_samples_per_leaf mode\n",
      "model 25, 9 fitted\n",
      "5 seconds\n",
      "model 25, 9 circuited\n",
      "5 seconds\n"
     ]
    },
    {
     "name": "stderr",
     "output_type": "stream",
     "text": [
      "\n"
     ]
    },
    {
     "name": "stdout",
     "output_type": "stream",
     "text": [
      "model 25, 9 tested: acc 0.8583815028901735, log-lik -25.981232591256447\n",
      "5 seconds\n",
      "Warning, data will be saved for training set instead of test set\n",
      "Running in min_samples_per_leaf mode\n"
     ]
    },
    {
     "name": "stderr",
     "output_type": "stream",
     "text": [
      "100%|█████████████████████████████████████████████████████████████████████████████████| 25/25 [00:00<00:00, 404.94it/s]"
     ]
    },
    {
     "name": "stdout",
     "output_type": "stream",
     "text": [
      "model 25, 10 fitted\n",
      "5 seconds\n",
      "model 25, 10 circuited\n",
      "5 seconds\n",
      "model 25, 10 tested: acc 0.8627167630057804, log-lik -25.89585902942826\n",
      "5 seconds\n"
     ]
    },
    {
     "name": "stderr",
     "output_type": "stream",
     "text": [
      "\n",
      "100%|█████████████████████████████████████████████████████████████████████████████████| 50/50 [00:00<00:00, 375.29it/s]"
     ]
    },
    {
     "name": "stdout",
     "output_type": "stream",
     "text": [
      "25 finished, 5 seconds\n",
      "Performance: [-25.71472843336477, -25.732730256595495, -26.097374960793758, -25.8059677787744, -25.861444831904105, -26.13509137381744, -25.730888462164053, -25.88181837706907, -25.981232591256447, -25.89585902942826]\n",
      "Warning, data will be saved for training set instead of test set\n",
      "Running in min_samples_per_leaf mode\n",
      "model 50, 1 fitted\n",
      "6 seconds\n",
      "model 50, 1 circuited\n",
      "6 seconds\n"
     ]
    },
    {
     "name": "stderr",
     "output_type": "stream",
     "text": [
      "\n"
     ]
    },
    {
     "name": "stdout",
     "output_type": "stream",
     "text": [
      "model 50, 1 tested: acc 0.8712011577424024, log-lik -25.75173919039104\n",
      "6 seconds\n",
      "Warning, data will be saved for training set instead of test set\n",
      "Running in min_samples_per_leaf mode\n"
     ]
    },
    {
     "name": "stderr",
     "output_type": "stream",
     "text": [
      "100%|█████████████████████████████████████████████████████████████████████████████████| 50/50 [00:00<00:00, 385.57it/s]"
     ]
    },
    {
     "name": "stdout",
     "output_type": "stream",
     "text": [
      "model 50, 2 fitted\n",
      "6 seconds\n",
      "model 50, 2 circuited\n",
      "6 seconds\n"
     ]
    },
    {
     "name": "stderr",
     "output_type": "stream",
     "text": [
      "\n"
     ]
    },
    {
     "name": "stdout",
     "output_type": "stream",
     "text": [
      "model 50, 2 tested: acc 0.8755426917510853, log-lik -25.704128614270534\n",
      "7 seconds\n",
      "Warning, data will be saved for training set instead of test set\n",
      "Running in min_samples_per_leaf mode\n"
     ]
    },
    {
     "name": "stderr",
     "output_type": "stream",
     "text": [
      "100%|█████████████████████████████████████████████████████████████████████████████████| 50/50 [00:00<00:00, 372.55it/s]"
     ]
    },
    {
     "name": "stdout",
     "output_type": "stream",
     "text": [
      "model 50, 3 fitted\n",
      "7 seconds\n",
      "model 50, 3 circuited\n",
      "7 seconds\n"
     ]
    },
    {
     "name": "stderr",
     "output_type": "stream",
     "text": [
      "\n"
     ]
    },
    {
     "name": "stdout",
     "output_type": "stream",
     "text": [
      "model 50, 3 tested: acc 0.8755426917510853, log-lik -25.600353739078646\n",
      "7 seconds\n",
      "Warning, data will be saved for training set instead of test set\n",
      "Running in min_samples_per_leaf mode\n"
     ]
    },
    {
     "name": "stderr",
     "output_type": "stream",
     "text": [
      "100%|█████████████████████████████████████████████████████████████████████████████████| 50/50 [00:00<00:00, 391.64it/s]"
     ]
    },
    {
     "name": "stdout",
     "output_type": "stream",
     "text": [
      "model 50, 4 fitted\n",
      "8 seconds\n",
      "model 50, 4 circuited\n",
      "8 seconds\n"
     ]
    },
    {
     "name": "stderr",
     "output_type": "stream",
     "text": [
      "\n"
     ]
    },
    {
     "name": "stdout",
     "output_type": "stream",
     "text": [
      "model 50, 4 tested: acc 0.8885672937771346, log-lik -25.71134143904711\n",
      "8 seconds\n",
      "Warning, data will be saved for training set instead of test set\n",
      "Running in min_samples_per_leaf mode\n"
     ]
    },
    {
     "name": "stderr",
     "output_type": "stream",
     "text": [
      "100%|█████████████████████████████████████████████████████████████████████████████████| 50/50 [00:00<00:00, 397.18it/s]"
     ]
    },
    {
     "name": "stdout",
     "output_type": "stream",
     "text": [
      "model 50, 5 fitted\n",
      "8 seconds\n",
      "model 50, 5 circuited\n",
      "8 seconds\n"
     ]
    },
    {
     "name": "stderr",
     "output_type": "stream",
     "text": [
      "\n"
     ]
    },
    {
     "name": "stdout",
     "output_type": "stream",
     "text": [
      "model 50, 5 tested: acc 0.8610709117221418, log-lik -25.782485390521053\n",
      "9 seconds\n",
      "Warning, data will be saved for training set instead of test set\n",
      "Running in min_samples_per_leaf mode\n"
     ]
    },
    {
     "name": "stderr",
     "output_type": "stream",
     "text": [
      "100%|█████████████████████████████████████████████████████████████████████████████████| 50/50 [00:00<00:00, 422.53it/s]"
     ]
    },
    {
     "name": "stdout",
     "output_type": "stream",
     "text": [
      "model 50, 6 fitted\n",
      "9 seconds\n",
      "model 50, 6 circuited\n",
      "9 seconds\n"
     ]
    },
    {
     "name": "stderr",
     "output_type": "stream",
     "text": [
      "\n"
     ]
    },
    {
     "name": "stdout",
     "output_type": "stream",
     "text": [
      "model 50, 6 tested: acc 0.8900144717800289, log-lik -25.888353204855715\n",
      "9 seconds\n",
      "Warning, data will be saved for training set instead of test set\n",
      "Running in min_samples_per_leaf mode\n"
     ]
    },
    {
     "name": "stderr",
     "output_type": "stream",
     "text": [
      "100%|█████████████████████████████████████████████████████████████████████████████████| 50/50 [00:00<00:00, 387.12it/s]"
     ]
    },
    {
     "name": "stdout",
     "output_type": "stream",
     "text": [
      "model 50, 7 fitted\n",
      "10 seconds\n",
      "model 50, 7 circuited\n",
      "10 seconds\n"
     ]
    },
    {
     "name": "stderr",
     "output_type": "stream",
     "text": [
      "\n"
     ]
    },
    {
     "name": "stdout",
     "output_type": "stream",
     "text": [
      "model 50, 7 tested: acc 0.8842257597684515, log-lik -25.807126675131837\n",
      "10 seconds\n",
      "Warning, data will be saved for training set instead of test set\n",
      "Running in min_samples_per_leaf mode\n"
     ]
    },
    {
     "name": "stderr",
     "output_type": "stream",
     "text": [
      "100%|█████████████████████████████████████████████████████████████████████████████████| 50/50 [00:00<00:00, 385.17it/s]"
     ]
    },
    {
     "name": "stdout",
     "output_type": "stream",
     "text": [
      "model 50, 8 fitted\n",
      "10 seconds\n",
      "model 50, 8 circuited\n",
      "10 seconds\n"
     ]
    },
    {
     "name": "stderr",
     "output_type": "stream",
     "text": [
      "\n"
     ]
    },
    {
     "name": "stdout",
     "output_type": "stream",
     "text": [
      "model 50, 8 tested: acc 0.8769898697539797, log-lik -25.731964446886565\n",
      "11 seconds\n"
     ]
    },
    {
     "name": "stderr",
     "output_type": "stream",
     "text": [
      "\r",
      "  0%|                                                                                           | 0/50 [00:00<?, ?it/s]"
     ]
    },
    {
     "name": "stdout",
     "output_type": "stream",
     "text": [
      "Warning, data will be saved for training set instead of test set\n",
      "Running in min_samples_per_leaf mode\n",
      "model 50, 9 fitted\n",
      "11 seconds\n"
     ]
    },
    {
     "name": "stderr",
     "output_type": "stream",
     "text": [
      "100%|█████████████████████████████████████████████████████████████████████████████████| 50/50 [00:00<00:00, 329.29it/s]\n"
     ]
    },
    {
     "name": "stdout",
     "output_type": "stream",
     "text": [
      "model 50, 9 circuited\n",
      "11 seconds\n",
      "model 50, 9 tested: acc 0.888728323699422, log-lik -25.806410239330997\n",
      "11 seconds\n",
      "Warning, data will be saved for training set instead of test set\n",
      "Running in min_samples_per_leaf mode\n"
     ]
    },
    {
     "name": "stderr",
     "output_type": "stream",
     "text": [
      "100%|█████████████████████████████████████████████████████████████████████████████████| 50/50 [00:00<00:00, 330.86it/s]"
     ]
    },
    {
     "name": "stdout",
     "output_type": "stream",
     "text": [
      "model 50, 10 fitted\n",
      "12 seconds\n",
      "model 50, 10 circuited\n",
      "12 seconds\n"
     ]
    },
    {
     "name": "stderr",
     "output_type": "stream",
     "text": [
      "\n"
     ]
    },
    {
     "name": "stdout",
     "output_type": "stream",
     "text": [
      "model 50, 10 tested: acc 0.8713872832369942, log-lik -25.708978492640604\n",
      "12 seconds\n",
      "50 finished, 12 seconds\n",
      "Performance: [-25.75173919039104, -25.704128614270534, -25.600353739078646, -25.71134143904711, -25.782485390521053, -25.888353204855715, -25.807126675131837, -25.731964446886565, -25.806410239330997, -25.708978492640604]\n",
      "Warning, data will be saved for training set instead of test set\n",
      "Running in min_samples_per_leaf mode\n"
     ]
    },
    {
     "name": "stderr",
     "output_type": "stream",
     "text": [
      " 47%|█████████████████████████████████████▊                                           | 35/75 [00:00<00:00, 342.95it/s]"
     ]
    },
    {
     "name": "stdout",
     "output_type": "stream",
     "text": [
      "model 75, 1 fitted\n",
      "13 seconds\n"
     ]
    },
    {
     "name": "stderr",
     "output_type": "stream",
     "text": [
      "100%|█████████████████████████████████████████████████████████████████████████████████| 75/75 [00:00<00:00, 336.33it/s]\n"
     ]
    },
    {
     "name": "stdout",
     "output_type": "stream",
     "text": [
      "model 75, 1 circuited\n",
      "13 seconds\n",
      "model 75, 1 tested: acc 0.8798842257597684, log-lik -25.842948552240546\n",
      "13 seconds\n"
     ]
    },
    {
     "name": "stderr",
     "output_type": "stream",
     "text": [
      " 47%|█████████████████████████████████████▊                                           | 35/75 [00:00<00:00, 348.67it/s]"
     ]
    },
    {
     "name": "stdout",
     "output_type": "stream",
     "text": [
      "Warning, data will be saved for training set instead of test set\n",
      "Running in min_samples_per_leaf mode\n",
      "model 75, 2 fitted\n",
      "14 seconds\n"
     ]
    },
    {
     "name": "stderr",
     "output_type": "stream",
     "text": [
      "100%|█████████████████████████████████████████████████████████████████████████████████| 75/75 [00:00<00:00, 319.76it/s]\n"
     ]
    },
    {
     "name": "stdout",
     "output_type": "stream",
     "text": [
      "model 75, 2 circuited\n",
      "14 seconds\n",
      "model 75, 2 tested: acc 0.8798842257597684, log-lik -25.52894887686868\n",
      "14 seconds\n",
      "Warning, data will be saved for training set instead of test set\n",
      "Running in min_samples_per_leaf mode\n"
     ]
    },
    {
     "name": "stderr",
     "output_type": "stream",
     "text": [
      "100%|█████████████████████████████████████████████████████████████████████████████████| 75/75 [00:00<00:00, 381.20it/s]"
     ]
    },
    {
     "name": "stdout",
     "output_type": "stream",
     "text": [
      "model 75, 3 fitted\n",
      "15 seconds\n"
     ]
    },
    {
     "name": "stderr",
     "output_type": "stream",
     "text": [
      "\n"
     ]
    },
    {
     "name": "stdout",
     "output_type": "stream",
     "text": [
      "model 75, 3 circuited\n",
      "15 seconds\n",
      "model 75, 3 tested: acc 0.8813314037626628, log-lik -25.645816746786643\n",
      "15 seconds\n",
      "Warning, data will be saved for training set instead of test set\n",
      "Running in min_samples_per_leaf mode\n"
     ]
    },
    {
     "name": "stderr",
     "output_type": "stream",
     "text": [
      "100%|█████████████████████████████████████████████████████████████████████████████████| 75/75 [00:00<00:00, 372.11it/s]"
     ]
    },
    {
     "name": "stdout",
     "output_type": "stream",
     "text": [
      "model 75, 4 fitted\n",
      "16 seconds\n"
     ]
    },
    {
     "name": "stderr",
     "output_type": "stream",
     "text": [
      "\n"
     ]
    },
    {
     "name": "stdout",
     "output_type": "stream",
     "text": [
      "model 75, 4 circuited\n",
      "16 seconds\n",
      "model 75, 4 tested: acc 0.8798842257597684, log-lik -25.61369799380339\n",
      "16 seconds\n"
     ]
    },
    {
     "name": "stderr",
     "output_type": "stream",
     "text": [
      " 44%|███████████████████████████████████▋                                             | 33/75 [00:00<00:00, 319.00it/s]"
     ]
    },
    {
     "name": "stdout",
     "output_type": "stream",
     "text": [
      "Warning, data will be saved for training set instead of test set\n",
      "Running in min_samples_per_leaf mode\n",
      "model 75, 5 fitted\n",
      "17 seconds\n"
     ]
    },
    {
     "name": "stderr",
     "output_type": "stream",
     "text": [
      "100%|█████████████████████████████████████████████████████████████████████████████████| 75/75 [00:00<00:00, 287.04it/s]\n"
     ]
    },
    {
     "name": "stdout",
     "output_type": "stream",
     "text": [
      "model 75, 5 circuited\n",
      "17 seconds\n",
      "model 75, 5 tested: acc 0.8683068017366136, log-lik -25.70396512527593\n",
      "17 seconds\n",
      "Warning, data will be saved for training set instead of test set\n",
      "Running in min_samples_per_leaf mode\n"
     ]
    },
    {
     "name": "stderr",
     "output_type": "stream",
     "text": [
      "100%|█████████████████████████████████████████████████████████████████████████████████| 75/75 [00:00<00:00, 381.03it/s]"
     ]
    },
    {
     "name": "stdout",
     "output_type": "stream",
     "text": [
      "model 75, 6 fitted\n",
      "18 seconds\n"
     ]
    },
    {
     "name": "stderr",
     "output_type": "stream",
     "text": [
      "\n"
     ]
    },
    {
     "name": "stdout",
     "output_type": "stream",
     "text": [
      "model 75, 6 circuited\n",
      "18 seconds\n",
      "model 75, 6 tested: acc 0.9073806078147613, log-lik -25.78522270349483\n",
      "18 seconds\n",
      "Warning, data will be saved for training set instead of test set\n",
      "Running in min_samples_per_leaf mode\n"
     ]
    },
    {
     "name": "stderr",
     "output_type": "stream",
     "text": [
      "100%|█████████████████████████████████████████████████████████████████████████████████| 75/75 [00:00<00:00, 370.20it/s]"
     ]
    },
    {
     "name": "stdout",
     "output_type": "stream",
     "text": [
      "model 75, 7 fitted\n",
      "19 seconds\n"
     ]
    },
    {
     "name": "stderr",
     "output_type": "stream",
     "text": [
      "100%|█████████████████████████████████████████████████████████████████████████████████| 75/75 [00:00<00:00, 366.91it/s]\n"
     ]
    },
    {
     "name": "stdout",
     "output_type": "stream",
     "text": [
      "model 75, 7 circuited\n",
      "19 seconds\n",
      "model 75, 7 tested: acc 0.8683068017366136, log-lik -25.67232378767176\n",
      "19 seconds\n"
     ]
    },
    {
     "name": "stderr",
     "output_type": "stream",
     "text": [
      " 51%|█████████████████████████████████████████                                        | 38/75 [00:00<00:00, 372.00it/s]"
     ]
    },
    {
     "name": "stdout",
     "output_type": "stream",
     "text": [
      "Warning, data will be saved for training set instead of test set\n",
      "Running in min_samples_per_leaf mode\n",
      "model 75, 8 fitted\n",
      "20 seconds\n"
     ]
    },
    {
     "name": "stderr",
     "output_type": "stream",
     "text": [
      "100%|█████████████████████████████████████████████████████████████████████████████████| 75/75 [00:00<00:00, 371.26it/s]\n"
     ]
    },
    {
     "name": "stdout",
     "output_type": "stream",
     "text": [
      "model 75, 8 circuited\n",
      "20 seconds\n",
      "model 75, 8 tested: acc 0.8856729377713459, log-lik -25.73728373159994\n",
      "20 seconds\n",
      "Warning, data will be saved for training set instead of test set\n",
      "Running in min_samples_per_leaf mode\n"
     ]
    },
    {
     "name": "stderr",
     "output_type": "stream",
     "text": [
      " 53%|███████████████████████████████████████████▏                                     | 40/75 [00:00<00:00, 394.54it/s]"
     ]
    },
    {
     "name": "stdout",
     "output_type": "stream",
     "text": [
      "model 75, 9 fitted\n",
      "21 seconds\n"
     ]
    },
    {
     "name": "stderr",
     "output_type": "stream",
     "text": [
      "100%|█████████████████████████████████████████████████████████████████████████████████| 75/75 [00:00<00:00, 363.98it/s]\n"
     ]
    },
    {
     "name": "stdout",
     "output_type": "stream",
     "text": [
      "model 75, 9 circuited\n",
      "21 seconds\n",
      "model 75, 9 tested: acc 0.8945086705202312, log-lik -25.83249837436155\n",
      "21 seconds\n",
      "Warning, data will be saved for training set instead of test set\n",
      "Running in min_samples_per_leaf mode\n"
     ]
    },
    {
     "name": "stderr",
     "output_type": "stream",
     "text": [
      " 41%|█████████████████████████████████▍                                               | 31/75 [00:00<00:00, 307.58it/s]"
     ]
    },
    {
     "name": "stdout",
     "output_type": "stream",
     "text": [
      "model 75, 10 fitted\n",
      "22 seconds\n"
     ]
    },
    {
     "name": "stderr",
     "output_type": "stream",
     "text": [
      "100%|█████████████████████████████████████████████████████████████████████████████████| 75/75 [00:00<00:00, 293.15it/s]\n"
     ]
    },
    {
     "name": "stdout",
     "output_type": "stream",
     "text": [
      "model 75, 10 circuited\n",
      "22 seconds\n",
      "model 75, 10 tested: acc 0.888728323699422, log-lik -25.66333353668683\n",
      "23 seconds\n",
      "75 finished, 23 seconds\n",
      "Performance: [-25.842948552240546, -25.52894887686868, -25.645816746786643, -25.61369799380339, -25.70396512527593, -25.78522270349483, -25.67232378767176, -25.73728373159994, -25.83249837436155, -25.66333353668683]\n",
      "Warning, data will be saved for training set instead of test set\n",
      "Running in min_samples_per_leaf mode\n"
     ]
    },
    {
     "name": "stderr",
     "output_type": "stream",
     "text": [
      " 16%|████████████▊                                                                   | 16/100 [00:00<00:00, 153.61it/s]"
     ]
    },
    {
     "name": "stdout",
     "output_type": "stream",
     "text": [
      "model 100, 1 fitted\n",
      "23 seconds\n"
     ]
    },
    {
     "name": "stderr",
     "output_type": "stream",
     "text": [
      "100%|███████████████████████████████████████████████████████████████████████████████| 100/100 [00:00<00:00, 181.91it/s]\n"
     ]
    },
    {
     "name": "stdout",
     "output_type": "stream",
     "text": [
      "model 100, 1 circuited\n",
      "24 seconds\n",
      "model 100, 1 tested: acc 0.8856729377713459, log-lik -25.57706553269074\n",
      "24 seconds\n"
     ]
    },
    {
     "name": "stderr",
     "output_type": "stream",
     "text": [
      " 33%|██████████████████████████▍                                                     | 33/100 [00:00<00:00, 323.10it/s]"
     ]
    },
    {
     "name": "stdout",
     "output_type": "stream",
     "text": [
      "Warning, data will be saved for training set instead of test set\n",
      "Running in min_samples_per_leaf mode\n",
      "model 100, 2 fitted\n",
      "25 seconds\n"
     ]
    },
    {
     "name": "stderr",
     "output_type": "stream",
     "text": [
      "100%|███████████████████████████████████████████████████████████████████████████████| 100/100 [00:00<00:00, 291.05it/s]\n"
     ]
    },
    {
     "name": "stdout",
     "output_type": "stream",
     "text": [
      "model 100, 2 circuited\n",
      "26 seconds\n",
      "model 100, 2 tested: acc 0.894356005788712, log-lik -25.61761335079378\n",
      "26 seconds\n"
     ]
    },
    {
     "name": "stderr",
     "output_type": "stream",
     "text": [
      " 35%|████████████████████████████                                                    | 35/100 [00:00<00:00, 345.64it/s]"
     ]
    },
    {
     "name": "stdout",
     "output_type": "stream",
     "text": [
      "Warning, data will be saved for training set instead of test set\n",
      "Running in min_samples_per_leaf mode\n",
      "model 100, 3 fitted\n",
      "27 seconds\n"
     ]
    },
    {
     "name": "stderr",
     "output_type": "stream",
     "text": [
      "100%|███████████████████████████████████████████████████████████████████████████████| 100/100 [00:00<00:00, 330.90it/s]\n"
     ]
    },
    {
     "name": "stdout",
     "output_type": "stream",
     "text": [
      "model 100, 3 circuited\n",
      "27 seconds\n",
      "model 100, 3 tested: acc 0.8929088277858177, log-lik -25.68196647511772\n",
      "28 seconds\n",
      "Warning, data will be saved for training set instead of test set\n",
      "Running in min_samples_per_leaf mode\n"
     ]
    },
    {
     "name": "stderr",
     "output_type": "stream",
     "text": [
      " 84%|███████████████████████████████████████████████████████████████████▏            | 84/100 [00:00<00:00, 401.21it/s]"
     ]
    },
    {
     "name": "stdout",
     "output_type": "stream",
     "text": [
      "model 100, 4 fitted\n",
      "28 seconds\n"
     ]
    },
    {
     "name": "stderr",
     "output_type": "stream",
     "text": [
      "100%|███████████████████████████████████████████████████████████████████████████████| 100/100 [00:00<00:00, 400.45it/s]\n"
     ]
    },
    {
     "name": "stdout",
     "output_type": "stream",
     "text": [
      "model 100, 4 circuited\n",
      "28 seconds\n",
      "model 100, 4 tested: acc 0.8929088277858177, log-lik -25.60727053514774\n",
      "29 seconds\n",
      "Warning, data will be saved for training set instead of test set\n",
      "Running in min_samples_per_leaf mode\n"
     ]
    },
    {
     "name": "stderr",
     "output_type": "stream",
     "text": [
      " 37%|█████████████████████████████▌                                                  | 37/100 [00:00<00:00, 360.07it/s]"
     ]
    },
    {
     "name": "stdout",
     "output_type": "stream",
     "text": [
      "model 100, 5 fitted\n",
      "30 seconds\n"
     ]
    },
    {
     "name": "stderr",
     "output_type": "stream",
     "text": [
      "100%|███████████████████████████████████████████████████████████████████████████████| 100/100 [00:00<00:00, 349.36it/s]\n"
     ]
    },
    {
     "name": "stdout",
     "output_type": "stream",
     "text": [
      "model 100, 5 circuited\n",
      "30 seconds\n",
      "model 100, 5 tested: acc 0.8842257597684515, log-lik -25.632915550553424\n",
      "30 seconds\n",
      "Warning, data will be saved for training set instead of test set\n",
      "Running in min_samples_per_leaf mode\n"
     ]
    },
    {
     "name": "stderr",
     "output_type": "stream",
     "text": [
      " 37%|█████████████████████████████▌                                                  | 37/100 [00:00<00:00, 363.28it/s]"
     ]
    },
    {
     "name": "stdout",
     "output_type": "stream",
     "text": [
      "model 100, 6 fitted\n",
      "31 seconds\n"
     ]
    },
    {
     "name": "stderr",
     "output_type": "stream",
     "text": [
      "100%|███████████████████████████████████████████████████████████████████████████████| 100/100 [00:00<00:00, 289.16it/s]\n"
     ]
    },
    {
     "name": "stdout",
     "output_type": "stream",
     "text": [
      "model 100, 6 circuited\n",
      "31 seconds\n",
      "model 100, 6 tested: acc 0.9015918958031838, log-lik -25.711382075921534\n",
      "32 seconds\n"
     ]
    },
    {
     "name": "stderr",
     "output_type": "stream",
     "text": [
      " 74%|███████████████████████████████████████████████████████████▏                    | 74/100 [00:00<00:00, 365.41it/s]"
     ]
    },
    {
     "name": "stdout",
     "output_type": "stream",
     "text": [
      "Warning, data will be saved for training set instead of test set\n",
      "Running in min_samples_per_leaf mode\n",
      "model 100, 7 fitted\n",
      "33 seconds\n"
     ]
    },
    {
     "name": "stderr",
     "output_type": "stream",
     "text": [
      "100%|███████████████████████████████████████████████████████████████████████████████| 100/100 [00:00<00:00, 370.51it/s]\n"
     ]
    },
    {
     "name": "stdout",
     "output_type": "stream",
     "text": [
      "model 100, 7 circuited\n",
      "33 seconds\n",
      "model 100, 7 tested: acc 0.8885672937771346, log-lik -25.501689703969546\n",
      "33 seconds\n",
      "Warning, data will be saved for training set instead of test set\n",
      "Running in min_samples_per_leaf mode\n"
     ]
    },
    {
     "name": "stderr",
     "output_type": "stream",
     "text": [
      " 42%|█████████████████████████████████▌                                              | 42/100 [00:00<00:00, 414.89it/s]"
     ]
    },
    {
     "name": "stdout",
     "output_type": "stream",
     "text": [
      "model 100, 8 fitted\n",
      "34 seconds\n"
     ]
    },
    {
     "name": "stderr",
     "output_type": "stream",
     "text": [
      "100%|███████████████████████████████████████████████████████████████████████████████| 100/100 [00:00<00:00, 395.84it/s]\n"
     ]
    },
    {
     "name": "stdout",
     "output_type": "stream",
     "text": [
      "model 100, 8 circuited\n",
      "34 seconds\n",
      "model 100, 8 tested: acc 0.8842257597684515, log-lik -25.772768189758896\n",
      "35 seconds\n"
     ]
    },
    {
     "name": "stderr",
     "output_type": "stream",
     "text": [
      " 41%|████████████████████████████████▊                                               | 41/100 [00:00<00:00, 400.48it/s]"
     ]
    },
    {
     "name": "stdout",
     "output_type": "stream",
     "text": [
      "Warning, data will be saved for training set instead of test set\n",
      "Running in min_samples_per_leaf mode\n",
      "model 100, 9 fitted\n",
      "35 seconds\n"
     ]
    },
    {
     "name": "stderr",
     "output_type": "stream",
     "text": [
      "100%|███████████████████████████████████████████████████████████████████████████████| 100/100 [00:00<00:00, 397.41it/s]\n"
     ]
    },
    {
     "name": "stdout",
     "output_type": "stream",
     "text": [
      "model 100, 9 circuited\n",
      "35 seconds\n",
      "model 100, 9 tested: acc 0.8872832369942196, log-lik -25.78575530029773\n",
      "36 seconds\n",
      "Warning, data will be saved for training set instead of test set\n",
      "Running in min_samples_per_leaf mode\n"
     ]
    },
    {
     "name": "stderr",
     "output_type": "stream",
     "text": [
      " 82%|█████████████████████████████████████████████████████████████████▌              | 82/100 [00:00<00:00, 397.38it/s]"
     ]
    },
    {
     "name": "stdout",
     "output_type": "stream",
     "text": [
      "model 100, 10 fitted\n",
      "36 seconds\n"
     ]
    },
    {
     "name": "stderr",
     "output_type": "stream",
     "text": [
      "100%|███████████████████████████████████████████████████████████████████████████████| 100/100 [00:00<00:00, 391.16it/s]\n"
     ]
    },
    {
     "name": "stdout",
     "output_type": "stream",
     "text": [
      "model 100, 10 circuited\n",
      "37 seconds\n",
      "model 100, 10 tested: acc 0.8973988439306358, log-lik -25.609520415724774\n",
      "37 seconds\n"
     ]
    },
    {
     "name": "stderr",
     "output_type": "stream",
     "text": [
      "100%|█████████████████████████████████████████████████████████████████████████████████| 10/10 [00:00<00:00, 758.81it/s]\n",
      "  0%|                                                                                           | 0/10 [00:00<?, ?it/s]"
     ]
    },
    {
     "name": "stdout",
     "output_type": "stream",
     "text": [
      "100 finished, 37 seconds\n",
      "Performance: [-25.57706553269074, -25.61761335079378, -25.68196647511772, -25.60727053514774, -25.632915550553424, -25.711382075921534, -25.501689703969546, -25.772768189758896, -25.78575530029773, -25.609520415724774]\n",
      "\n",
      "\n",
      "depth 10 end: 172 seconds \n",
      "\n",
      "\n",
      "\n",
      "30 start\n",
      "{} min_samples_leaf\n",
      "Warning, data will be saved for training set instead of test set\n",
      "Running in min_samples_per_leaf mode\n",
      "model 10, 1 fitted\n",
      "0 seconds\n",
      "model 10, 1 circuited\n",
      "0 seconds\n",
      "model 10, 1 tested: acc 0.7554269175108539, log-lik -27.19264819664351\n",
      "0 seconds\n",
      "Warning, data will be saved for training set instead of test set\n",
      "Running in min_samples_per_leaf mode\n",
      "model 10, 2 fitted\n",
      "0 seconds\n"
     ]
    },
    {
     "name": "stderr",
     "output_type": "stream",
     "text": [
      "100%|█████████████████████████████████████████████████████████████████████████████████| 10/10 [00:00<00:00, 528.02it/s]\n",
      "100%|█████████████████████████████████████████████████████████████████████████████████| 10/10 [00:00<00:00, 383.33it/s]\n"
     ]
    },
    {
     "name": "stdout",
     "output_type": "stream",
     "text": [
      "model 10, 2 circuited\n",
      "0 seconds\n",
      "model 10, 2 tested: acc 0.7945007235890015, log-lik -27.56650435891954\n",
      "0 seconds\n",
      "Warning, data will be saved for training set instead of test set\n",
      "Running in min_samples_per_leaf mode\n",
      "model 10, 3 fitted\n",
      "0 seconds\n",
      "model 10, 3 circuited\n",
      "0 seconds\n",
      "model 10, 3 tested: acc 0.788712011577424, log-lik -27.429722104513367"
     ]
    },
    {
     "name": "stderr",
     "output_type": "stream",
     "text": [
      "100%|█████████████████████████████████████████████████████████████████████████████████| 10/10 [00:00<00:00, 401.01it/s]\n"
     ]
    },
    {
     "name": "stdout",
     "output_type": "stream",
     "text": [
      "\n",
      "0 seconds\n",
      "Warning, data will be saved for training set instead of test set\n",
      "Running in min_samples_per_leaf mode\n",
      "model 10, 4 fitted\n",
      "0 seconds\n",
      "model 10, 4 circuited\n",
      "0 seconds\n",
      "model 10, 4 tested: acc 0.8031837916063675, log-lik -28.324411434112726\n",
      "0 seconds\n",
      "Warning, data will be saved for training set instead of test set\n",
      "Running in min_samples_per_leaf mode\n",
      "model 10, 5 fitted"
     ]
    },
    {
     "name": "stderr",
     "output_type": "stream",
     "text": [
      "100%|█████████████████████████████████████████████████████████████████████████████████| 10/10 [00:00<00:00, 373.16it/s]\n",
      "100%|█████████████████████████████████████████████████████████████████████████████████| 10/10 [00:00<00:00, 477.47it/s]\n"
     ]
    },
    {
     "name": "stdout",
     "output_type": "stream",
     "text": [
      "\n",
      "0 seconds\n",
      "model 10, 5 circuited\n",
      "0 seconds\n",
      "model 10, 5 tested: acc 0.7930535455861071, log-lik -28.651118906804914\n",
      "0 seconds\n",
      "Warning, data will be saved for training set instead of test set\n",
      "Running in min_samples_per_leaf mode\n",
      "model 10, 6 fitted\n",
      "0 seconds\n",
      "model 10, 6 circuited\n",
      "0 seconds\n"
     ]
    },
    {
     "name": "stderr",
     "output_type": "stream",
     "text": [
      "100%|█████████████████████████████████████████████████████████████████████████████████| 10/10 [00:00<00:00, 417.74it/s]\n",
      "  0%|                                                                                           | 0/10 [00:00<?, ?it/s]"
     ]
    },
    {
     "name": "stdout",
     "output_type": "stream",
     "text": [
      "model 10, 6 tested: acc 0.7727930535455861, log-lik -27.332816629750322\n",
      "0 seconds\n",
      "Warning, data will be saved for training set instead of test set\n",
      "Running in min_samples_per_leaf mode\n",
      "model 10, 7 fitted\n",
      "0 seconds\n",
      "model 10, 7 circuited\n",
      "0 seconds\n",
      "model 10, 7 tested: acc 0.7698986975397974, log-lik -27.32467984296035\n",
      "0 seconds\n",
      "Warning, data will be saved for training set instead of test set\n",
      "Running in min_samples_per_leaf mode\n",
      "model 10, 8 fitted\n",
      "1 seconds\n"
     ]
    },
    {
     "name": "stderr",
     "output_type": "stream",
     "text": [
      "100%|█████████████████████████████████████████████████████████████████████████████████| 10/10 [00:00<00:00, 369.21it/s]\n",
      "100%|█████████████████████████████████████████████████████████████████████████████████| 10/10 [00:00<00:00, 371.37it/s]\n"
     ]
    },
    {
     "name": "stdout",
     "output_type": "stream",
     "text": [
      "model 10, 8 circuited\n",
      "1 seconds\n",
      "model 10, 8 tested: acc 0.7872648335745297, log-lik -27.304599927836236\n",
      "1 seconds\n",
      "Warning, data will be saved for training set instead of test set\n",
      "Running in min_samples_per_leaf mode\n",
      "model 10, 9 fitted\n",
      "1 seconds\n",
      "model 10, 9 circuited\n",
      "1 seconds\n",
      "model 10, 9 tested: acc 0.7789017341040463, log-lik -27.331321701411145\n",
      "1"
     ]
    },
    {
     "name": "stderr",
     "output_type": "stream",
     "text": [
      "100%|█████████████████████████████████████████████████████████████████████████████████| 10/10 [00:00<00:00, 474.44it/s]\n"
     ]
    },
    {
     "name": "stdout",
     "output_type": "stream",
     "text": [
      " seconds\n",
      "Warning, data will be saved for training set instead of test set\n",
      "Running in min_samples_per_leaf mode\n",
      "model 10, 10 fitted\n",
      "1 seconds\n",
      "model 10, 10 circuited\n",
      "1 seconds\n",
      "model 10, 10 tested: acc 0.791907514450867, log-lik -27.284435106077623\n",
      "1 seconds\n",
      "10 finished, 1 seconds\n",
      "Performance: [-27.19264819664351, -27.56650435891954, -27.429722104513367, -28.324411434112726, -28.651118906804914, -27.332816629750322, -27.32467984296035, -27.304599927836236, -27.331321701411145, -27.284435106077623]\n",
      "Warning, data will be saved for training set instead of test set\n",
      "Running in min_samples_per_leaf mode\n"
     ]
    },
    {
     "name": "stderr",
     "output_type": "stream",
     "text": [
      "100%|█████████████████████████████████████████████████████████████████████████████████| 25/25 [00:00<00:00, 566.21it/s]"
     ]
    },
    {
     "name": "stdout",
     "output_type": "stream",
     "text": [
      "model 25, 1 fitted\n",
      "1 seconds\n",
      "model 25, 1 circuited\n",
      "1 seconds\n",
      "model 25, 1 tested: acc 0.7742402315484804, log-lik -27.03380936021326\n",
      "1 seconds\n"
     ]
    },
    {
     "name": "stderr",
     "output_type": "stream",
     "text": [
      "\n",
      "100%|█████████████████████████████████████████████████████████████████████████████████| 25/25 [00:00<00:00, 511.58it/s]"
     ]
    },
    {
     "name": "stdout",
     "output_type": "stream",
     "text": [
      "Warning, data will be saved for training set instead of test set\n",
      "Running in min_samples_per_leaf mode\n",
      "model 25, 2 fitted\n",
      "1 seconds\n",
      "model 25, 2 circuited\n",
      "1 seconds\n",
      "model 25, 2 tested: acc 0.7742402315484804, log-lik -27.033128404505856\n",
      "1 seconds\n"
     ]
    },
    {
     "name": "stderr",
     "output_type": "stream",
     "text": [
      "\n",
      "100%|█████████████████████████████████████████████████████████████████████████████████| 25/25 [00:00<00:00, 726.74it/s]"
     ]
    },
    {
     "name": "stdout",
     "output_type": "stream",
     "text": [
      "Warning, data will be saved for training set instead of test set\n",
      "Running in min_samples_per_leaf mode\n",
      "model 25, 3 fitted\n",
      "2 seconds\n",
      "model 25, 3 circuited\n",
      "2 seconds\n",
      "model 25, 3 tested: acc 0.784370477568741, log-lik -27.378437191511466\n",
      "2 seconds\n",
      "Warning, data will be saved for training set instead of test set\n",
      "Running in min_samples_per_leaf mode\n"
     ]
    },
    {
     "name": "stderr",
     "output_type": "stream",
     "text": [
      "\n",
      "100%|█████████████████████████████████████████████████████████████████████████████████| 25/25 [00:00<00:00, 424.61it/s]"
     ]
    },
    {
     "name": "stdout",
     "output_type": "stream",
     "text": [
      "model 25, 4 fitted\n",
      "2 seconds\n",
      "model 25, 4 circuited\n",
      "2 seconds\n",
      "model 25, 4 tested: acc 0.7901591895803184, log-lik -27.171086507323835\n",
      "2 seconds\n"
     ]
    },
    {
     "name": "stderr",
     "output_type": "stream",
     "text": [
      "\n",
      "100%|█████████████████████████████████████████████████████████████████████████████████| 25/25 [00:00<00:00, 596.90it/s]"
     ]
    },
    {
     "name": "stdout",
     "output_type": "stream",
     "text": [
      "Warning, data will be saved for training set instead of test set\n",
      "Running in min_samples_per_leaf mode\n",
      "model 25, 5 fitted\n",
      "2 seconds\n",
      "model 25, 5 circuited\n",
      "2 seconds\n",
      "model 25, 5 tested: acc 0.7727930535455861, log-lik -27.16087670650197\n",
      "2 seconds\n"
     ]
    },
    {
     "name": "stderr",
     "output_type": "stream",
     "text": [
      "\n",
      "100%|█████████████████████████████████████████████████████████████████████████████████| 25/25 [00:00<00:00, 705.98it/s]"
     ]
    },
    {
     "name": "stdout",
     "output_type": "stream",
     "text": [
      "Warning, data will be saved for training set instead of test set\n",
      "Running in min_samples_per_leaf mode\n",
      "model 25, 6 fitted\n",
      "2 seconds\n",
      "model 25, 6 circuited\n",
      "2 seconds\n",
      "model 25, 6 tested: acc 0.804630969609262, log-lik -27.274024789399476\n",
      "2 seconds\n"
     ]
    },
    {
     "name": "stderr",
     "output_type": "stream",
     "text": [
      "\n",
      "100%|█████████████████████████████████████████████████████████████████████████████████| 25/25 [00:00<00:00, 759.60it/s]"
     ]
    },
    {
     "name": "stdout",
     "output_type": "stream",
     "text": [
      "Warning, data will be saved for training set instead of test set\n",
      "Running in min_samples_per_leaf mode\n",
      "model 25, 7 fitted\n",
      "3 seconds\n",
      "model 25, 7 circuited\n",
      "3 seconds\n",
      "model 25, 7 tested: acc 0.7785817655571635, log-lik -27.074924325975875\n",
      "3 seconds\n"
     ]
    },
    {
     "name": "stderr",
     "output_type": "stream",
     "text": [
      "\n",
      "100%|█████████████████████████████████████████████████████████████████████████████████| 25/25 [00:00<00:00, 708.50it/s]"
     ]
    },
    {
     "name": "stdout",
     "output_type": "stream",
     "text": [
      "Warning, data will be saved for training set instead of test set\n",
      "Running in min_samples_per_leaf mode\n",
      "model 25, 8 fitted\n",
      "3 seconds\n",
      "model 25, 8 circuited\n",
      "3 seconds\n",
      "model 25, 8 tested: acc 0.7930535455861071, log-lik -27.065399432467814\n",
      "3 seconds\n"
     ]
    },
    {
     "name": "stderr",
     "output_type": "stream",
     "text": [
      "\n",
      "100%|█████████████████████████████████████████████████████████████████████████████████| 25/25 [00:00<00:00, 707.40it/s]"
     ]
    },
    {
     "name": "stdout",
     "output_type": "stream",
     "text": [
      "Warning, data will be saved for training set instead of test set\n",
      "Running in min_samples_per_leaf mode\n",
      "model 25, 9 fitted\n",
      "3 seconds\n",
      "model 25, 9 circuited\n",
      "3 seconds\n",
      "model 25, 9 tested: acc 0.8020231213872833, log-lik -27.230894643231622\n",
      "3 seconds\n"
     ]
    },
    {
     "name": "stderr",
     "output_type": "stream",
     "text": [
      "\n",
      "100%|█████████████████████████████████████████████████████████████████████████████████| 25/25 [00:00<00:00, 730.80it/s]"
     ]
    },
    {
     "name": "stdout",
     "output_type": "stream",
     "text": [
      "Warning, data will be saved for training set instead of test set\n",
      "Running in min_samples_per_leaf mode\n",
      "model 25, 10 fitted\n",
      "3 seconds\n",
      "model 25, 10 circuited\n",
      "3 seconds\n",
      "model 25, 10 tested: acc 0.7745664739884393, log-lik -27.312638122147433\n",
      "3 seconds\n"
     ]
    },
    {
     "name": "stderr",
     "output_type": "stream",
     "text": [
      "\n",
      "100%|█████████████████████████████████████████████████████████████████████████████████| 50/50 [00:00<00:00, 756.75it/s]"
     ]
    },
    {
     "name": "stdout",
     "output_type": "stream",
     "text": [
      "25 finished, 3 seconds\n",
      "Performance: [-27.03380936021326, -27.033128404505856, -27.378437191511466, -27.171086507323835, -27.16087670650197, -27.274024789399476, -27.074924325975875, -27.065399432467814, -27.230894643231622, -27.312638122147433]\n",
      "Warning, data will be saved for training set instead of test set\n",
      "Running in min_samples_per_leaf mode\n",
      "model 50, 1 fitted\n",
      "4 seconds\n",
      "model 50, 1 circuited\n",
      "4 seconds\n"
     ]
    },
    {
     "name": "stderr",
     "output_type": "stream",
     "text": [
      "\n"
     ]
    },
    {
     "name": "stdout",
     "output_type": "stream",
     "text": [
      "model 50, 1 tested: acc 0.7916063675832128, log-lik -26.747348791569223\n",
      "4 seconds\n",
      "Warning, data will be saved for training set instead of test set\n",
      "Running in min_samples_per_leaf mode\n"
     ]
    },
    {
     "name": "stderr",
     "output_type": "stream",
     "text": [
      "100%|█████████████████████████████████████████████████████████████████████████████████| 50/50 [00:00<00:00, 705.40it/s]"
     ]
    },
    {
     "name": "stdout",
     "output_type": "stream",
     "text": [
      "model 50, 2 fitted\n",
      "4 seconds\n",
      "model 50, 2 circuited\n",
      "4 seconds\n",
      "model 50, 2 tested: acc 0.788712011577424, log-lik -26.97801881691928\n",
      "4 seconds\n"
     ]
    },
    {
     "name": "stderr",
     "output_type": "stream",
     "text": [
      "\n",
      "100%|█████████████████████████████████████████████████████████████████████████████████| 50/50 [00:00<00:00, 758.37it/s]"
     ]
    },
    {
     "name": "stdout",
     "output_type": "stream",
     "text": [
      "Warning, data will be saved for training set instead of test set\n",
      "Running in min_samples_per_leaf mode\n",
      "model 50, 3 fitted\n",
      "4 seconds\n",
      "model 50, 3 circuited\n",
      "4 seconds\n"
     ]
    },
    {
     "name": "stderr",
     "output_type": "stream",
     "text": [
      "\n"
     ]
    },
    {
     "name": "stdout",
     "output_type": "stream",
     "text": [
      "model 50, 3 tested: acc 0.788712011577424, log-lik -26.90033270527754\n",
      "5 seconds\n",
      "Warning, data will be saved for training set instead of test set\n",
      "Running in min_samples_per_leaf mode\n"
     ]
    },
    {
     "name": "stderr",
     "output_type": "stream",
     "text": [
      "100%|█████████████████████████████████████████████████████████████████████████████████| 50/50 [00:00<00:00, 758.62it/s]"
     ]
    },
    {
     "name": "stdout",
     "output_type": "stream",
     "text": [
      "model 50, 4 fitted\n",
      "5 seconds\n",
      "model 50, 4 circuited\n",
      "5 seconds\n",
      "model 50, 4 tested: acc 0.7916063675832128, log-lik -26.630271914105197\n",
      "5 seconds\n"
     ]
    },
    {
     "name": "stderr",
     "output_type": "stream",
     "text": [
      "\n",
      "100%|█████████████████████████████████████████████████████████████████████████████████| 50/50 [00:00<00:00, 808.16it/s]"
     ]
    },
    {
     "name": "stdout",
     "output_type": "stream",
     "text": [
      "Warning, data will be saved for training set instead of test set\n",
      "Running in min_samples_per_leaf mode\n",
      "model 50, 5 fitted\n",
      "5 seconds\n",
      "model 50, 5 circuited\n",
      "5 seconds\n"
     ]
    },
    {
     "name": "stderr",
     "output_type": "stream",
     "text": [
      "\n",
      "100%|█████████████████████████████████████████████████████████████████████████████████| 50/50 [00:00<00:00, 771.45it/s]"
     ]
    },
    {
     "name": "stdout",
     "output_type": "stream",
     "text": [
      "model 50, 5 tested: acc 0.7916063675832128, log-lik -27.00912758140166\n",
      "5 seconds\n",
      "Warning, data will be saved for training set instead of test set\n",
      "Running in min_samples_per_leaf mode\n",
      "model 50, 6 fitted\n",
      "6 seconds\n",
      "model 50, 6 circuited\n",
      "6 seconds\n"
     ]
    },
    {
     "name": "stderr",
     "output_type": "stream",
     "text": [
      "\n"
     ]
    },
    {
     "name": "stdout",
     "output_type": "stream",
     "text": [
      "model 50, 6 tested: acc 0.8002894356005789, log-lik -27.10609337134576\n",
      "6 seconds\n",
      "Warning, data will be saved for training set instead of test set\n",
      "Running in min_samples_per_leaf mode\n"
     ]
    },
    {
     "name": "stderr",
     "output_type": "stream",
     "text": [
      "100%|█████████████████████████████████████████████████████████████████████████████████| 50/50 [00:00<00:00, 769.68it/s]"
     ]
    },
    {
     "name": "stdout",
     "output_type": "stream",
     "text": [
      "model 50, 7 fitted\n",
      "6 seconds\n",
      "model 50, 7 circuited\n",
      "6 seconds\n",
      "model 50, 7 tested: acc 0.7655571635311144, log-lik -27.039762660325497\n",
      "6 seconds\n"
     ]
    },
    {
     "name": "stderr",
     "output_type": "stream",
     "text": [
      "\n",
      "100%|█████████████████████████████████████████████████████████████████████████████████| 50/50 [00:00<00:00, 692.20it/s]"
     ]
    },
    {
     "name": "stdout",
     "output_type": "stream",
     "text": [
      "Warning, data will be saved for training set instead of test set\n",
      "Running in min_samples_per_leaf mode\n",
      "model 50, 8 fitted\n",
      "6 seconds\n",
      "model 50, 8 circuited\n",
      "6 seconds\n"
     ]
    },
    {
     "name": "stderr",
     "output_type": "stream",
     "text": [
      "\n",
      "100%|█████████████████████████████████████████████████████████████████████████████████| 50/50 [00:00<00:00, 714.33it/s]"
     ]
    },
    {
     "name": "stdout",
     "output_type": "stream",
     "text": [
      "model 50, 8 tested: acc 0.7945007235890015, log-lik -26.794016808249633\n",
      "7 seconds\n",
      "Warning, data will be saved for training set instead of test set\n",
      "Running in min_samples_per_leaf mode\n",
      "model 50, 9 fitted\n",
      "7 seconds\n",
      "model 50, 9 circuited\n",
      "7 seconds\n"
     ]
    },
    {
     "name": "stderr",
     "output_type": "stream",
     "text": [
      "\n"
     ]
    },
    {
     "name": "stdout",
     "output_type": "stream",
     "text": [
      "model 50, 9 tested: acc 0.7846820809248555, log-lik -26.94196570899297\n",
      "7 seconds\n",
      "Warning, data will be saved for training set instead of test set\n",
      "Running in min_samples_per_leaf mode\n"
     ]
    },
    {
     "name": "stderr",
     "output_type": "stream",
     "text": [
      "100%|█████████████████████████████████████████████████████████████████████████████████| 50/50 [00:00<00:00, 767.28it/s]"
     ]
    },
    {
     "name": "stdout",
     "output_type": "stream",
     "text": [
      "model 50, 10 fitted\n",
      "7 seconds\n",
      "model 50, 10 circuited\n",
      "7 seconds\n",
      "model 50, 10 tested: acc 0.8005780346820809, log-lik -26.90457156074072\n",
      "7 seconds\n"
     ]
    },
    {
     "name": "stderr",
     "output_type": "stream",
     "text": [
      "\n",
      "  0%|                                                                                           | 0/75 [00:00<?, ?it/s]"
     ]
    },
    {
     "name": "stdout",
     "output_type": "stream",
     "text": [
      "50 finished, 7 seconds\n",
      "Performance: [-26.747348791569223, -26.97801881691928, -26.90033270527754, -26.630271914105197, -27.00912758140166, -27.10609337134576, -27.039762660325497, -26.794016808249633, -26.94196570899297, -26.90457156074072]\n",
      "Warning, data will be saved for training set instead of test set\n",
      "Running in min_samples_per_leaf mode\n",
      "model 75, 1 fitted\n",
      "8 seconds\n"
     ]
    },
    {
     "name": "stderr",
     "output_type": "stream",
     "text": [
      "100%|█████████████████████████████████████████████████████████████████████████████████| 75/75 [00:00<00:00, 815.55it/s]\n"
     ]
    },
    {
     "name": "stdout",
     "output_type": "stream",
     "text": [
      "model 75, 1 circuited\n",
      "8 seconds\n",
      "model 75, 1 tested: acc 0.7713458755426917, log-lik -26.746109591346144\n",
      "8 seconds\n"
     ]
    },
    {
     "name": "stderr",
     "output_type": "stream",
     "text": [
      "100%|█████████████████████████████████████████████████████████████████████████████████| 75/75 [00:00<00:00, 757.30it/s]"
     ]
    },
    {
     "name": "stdout",
     "output_type": "stream",
     "text": [
      "Warning, data will be saved for training set instead of test set\n",
      "Running in min_samples_per_leaf mode\n",
      "model 75, 2 fitted\n",
      "8 seconds\n",
      "model 75, 2 circuited\n",
      "8 seconds\n"
     ]
    },
    {
     "name": "stderr",
     "output_type": "stream",
     "text": [
      "\n"
     ]
    },
    {
     "name": "stdout",
     "output_type": "stream",
     "text": [
      "model 75, 2 tested: acc 0.7959479015918958, log-lik -26.796831896487852\n",
      "8 seconds\n",
      "Warning, data will be saved for training set instead of test set\n",
      "Running in min_samples_per_leaf mode\n"
     ]
    },
    {
     "name": "stderr",
     "output_type": "stream",
     "text": [
      "100%|█████████████████████████████████████████████████████████████████████████████████| 75/75 [00:00<00:00, 760.00it/s]"
     ]
    },
    {
     "name": "stdout",
     "output_type": "stream",
     "text": [
      "model 75, 3 fitted\n",
      "9 seconds\n",
      "model 75, 3 circuited\n",
      "9 seconds\n"
     ]
    },
    {
     "name": "stderr",
     "output_type": "stream",
     "text": [
      "\n"
     ]
    },
    {
     "name": "stdout",
     "output_type": "stream",
     "text": [
      "model 75, 3 tested: acc 0.7901591895803184, log-lik -27.146012825033246\n",
      "9 seconds\n",
      "Warning, data will be saved for training set instead of test set\n",
      "Running in min_samples_per_leaf mode\n"
     ]
    },
    {
     "name": "stderr",
     "output_type": "stream",
     "text": [
      "100%|█████████████████████████████████████████████████████████████████████████████████| 75/75 [00:00<00:00, 647.46it/s]"
     ]
    },
    {
     "name": "stdout",
     "output_type": "stream",
     "text": [
      "model 75, 4 fitted\n",
      "9 seconds\n",
      "model 75, 4 circuited\n",
      "9 seconds\n"
     ]
    },
    {
     "name": "stderr",
     "output_type": "stream",
     "text": [
      "\n"
     ]
    },
    {
     "name": "stdout",
     "output_type": "stream",
     "text": [
      "model 75, 4 tested: acc 0.8017366136034733, log-lik -26.771469116359775\n",
      "9 seconds\n",
      "Warning, data will be saved for training set instead of test set\n",
      "Running in min_samples_per_leaf mode\n"
     ]
    },
    {
     "name": "stderr",
     "output_type": "stream",
     "text": [
      "100%|█████████████████████████████████████████████████████████████████████████████████| 75/75 [00:00<00:00, 731.67it/s]"
     ]
    },
    {
     "name": "stdout",
     "output_type": "stream",
     "text": [
      "model 75, 5 fitted\n",
      "10 seconds\n",
      "model 75, 5 circuited\n",
      "10 seconds\n"
     ]
    },
    {
     "name": "stderr",
     "output_type": "stream",
     "text": [
      "\n"
     ]
    },
    {
     "name": "stdout",
     "output_type": "stream",
     "text": [
      "model 75, 5 tested: acc 0.7872648335745297, log-lik -26.969358234546625\n",
      "10 seconds\n",
      "Warning, data will be saved for training set instead of test set\n",
      "Running in min_samples_per_leaf mode\n"
     ]
    },
    {
     "name": "stderr",
     "output_type": "stream",
     "text": [
      "100%|█████████████████████████████████████████████████████████████████████████████████| 75/75 [00:00<00:00, 739.72it/s]"
     ]
    },
    {
     "name": "stdout",
     "output_type": "stream",
     "text": [
      "model 75, 6 fitted\n",
      "10 seconds\n",
      "model 75, 6 circuited\n",
      "10 seconds\n"
     ]
    },
    {
     "name": "stderr",
     "output_type": "stream",
     "text": [
      "\n"
     ]
    },
    {
     "name": "stdout",
     "output_type": "stream",
     "text": [
      "model 75, 6 tested: acc 0.7945007235890015, log-lik -27.04968960736568\n",
      "11 seconds\n",
      "Warning, data will be saved for training set instead of test set\n",
      "Running in min_samples_per_leaf mode\n"
     ]
    },
    {
     "name": "stderr",
     "output_type": "stream",
     "text": [
      "100%|█████████████████████████████████████████████████████████████████████████████████| 75/75 [00:00<00:00, 719.85it/s]"
     ]
    },
    {
     "name": "stdout",
     "output_type": "stream",
     "text": [
      "model 75, 7 fitted\n",
      "11 seconds\n",
      "model 75, 7 circuited\n",
      "11 seconds\n"
     ]
    },
    {
     "name": "stderr",
     "output_type": "stream",
     "text": [
      "\n"
     ]
    },
    {
     "name": "stdout",
     "output_type": "stream",
     "text": [
      "model 75, 7 tested: acc 0.7539797395079595, log-lik -26.803334452005256\n",
      "11 seconds\n",
      "Warning, data will be saved for training set instead of test set\n",
      "Running in min_samples_per_leaf mode\n"
     ]
    },
    {
     "name": "stderr",
     "output_type": "stream",
     "text": [
      "100%|█████████████████████████████████████████████████████████████████████████████████| 75/75 [00:00<00:00, 764.47it/s]"
     ]
    },
    {
     "name": "stdout",
     "output_type": "stream",
     "text": [
      "model 75, 8 fitted\n",
      "11 seconds\n",
      "model 75, 8 circuited\n",
      "12 seconds\n"
     ]
    },
    {
     "name": "stderr",
     "output_type": "stream",
     "text": [
      "\n"
     ]
    },
    {
     "name": "stdout",
     "output_type": "stream",
     "text": [
      "model 75, 8 tested: acc 0.7872648335745297, log-lik -27.148717877538292\n",
      "12 seconds\n",
      "Warning, data will be saved for training set instead of test set\n",
      "Running in min_samples_per_leaf mode\n"
     ]
    },
    {
     "name": "stderr",
     "output_type": "stream",
     "text": [
      "100%|█████████████████████████████████████████████████████████████████████████████████| 75/75 [00:00<00:00, 692.79it/s]"
     ]
    },
    {
     "name": "stdout",
     "output_type": "stream",
     "text": [
      "model 75, 9 fitted\n",
      "12 seconds\n",
      "model 75, 9 circuited\n",
      "12 seconds\n"
     ]
    },
    {
     "name": "stderr",
     "output_type": "stream",
     "text": [
      "\n"
     ]
    },
    {
     "name": "stdout",
     "output_type": "stream",
     "text": [
      "model 75, 9 tested: acc 0.7789017341040463, log-lik -26.824515659537372\n",
      "12 seconds\n",
      "Warning, data will be saved for training set instead of test set\n",
      "Running in min_samples_per_leaf mode\n"
     ]
    },
    {
     "name": "stderr",
     "output_type": "stream",
     "text": [
      "100%|█████████████████████████████████████████████████████████████████████████████████| 75/75 [00:00<00:00, 580.50it/s]"
     ]
    },
    {
     "name": "stdout",
     "output_type": "stream",
     "text": [
      "model 75, 10 fitted\n",
      "13 seconds\n",
      "model 75, 10 circuited\n",
      "13 seconds\n"
     ]
    },
    {
     "name": "stderr",
     "output_type": "stream",
     "text": [
      "\n"
     ]
    },
    {
     "name": "stdout",
     "output_type": "stream",
     "text": [
      "model 75, 10 tested: acc 0.791907514450867, log-lik -27.16601338214139\n",
      "13 seconds\n",
      "75 finished, 13 seconds\n",
      "Performance: [-26.746109591346144, -26.796831896487852, -27.146012825033246, -26.771469116359775, -26.969358234546625, -27.04968960736568, -26.803334452005256, -27.148717877538292, -26.824515659537372, -27.16601338214139]\n",
      "Warning, data will be saved for training set instead of test set\n",
      "Running in min_samples_per_leaf mode\n"
     ]
    },
    {
     "name": "stderr",
     "output_type": "stream",
     "text": [
      "100%|███████████████████████████████████████████████████████████████████████████████| 100/100 [00:00<00:00, 700.33it/s]"
     ]
    },
    {
     "name": "stdout",
     "output_type": "stream",
     "text": [
      "model 100, 1 fitted\n",
      "13 seconds\n",
      "model 100, 1 circuited\n",
      "14 seconds\n"
     ]
    },
    {
     "name": "stderr",
     "output_type": "stream",
     "text": [
      "\n"
     ]
    },
    {
     "name": "stdout",
     "output_type": "stream",
     "text": [
      "model 100, 1 tested: acc 0.7800289435600579, log-lik -26.789339306837075\n",
      "14 seconds\n",
      "Warning, data will be saved for training set instead of test set\n",
      "Running in min_samples_per_leaf mode\n"
     ]
    },
    {
     "name": "stderr",
     "output_type": "stream",
     "text": [
      "100%|███████████████████████████████████████████████████████████████████████████████| 100/100 [00:00<00:00, 730.46it/s]"
     ]
    },
    {
     "name": "stdout",
     "output_type": "stream",
     "text": [
      "model 100, 2 fitted\n",
      "14 seconds\n",
      "model 100, 2 circuited\n",
      "14 seconds\n"
     ]
    },
    {
     "name": "stderr",
     "output_type": "stream",
     "text": [
      "\n"
     ]
    },
    {
     "name": "stdout",
     "output_type": "stream",
     "text": [
      "model 100, 2 tested: acc 0.7988422575976846, log-lik -26.89124460163738\n",
      "15 seconds\n",
      "Warning, data will be saved for training set instead of test set\n",
      "Running in min_samples_per_leaf mode\n"
     ]
    },
    {
     "name": "stderr",
     "output_type": "stream",
     "text": [
      "100%|███████████████████████████████████████████████████████████████████████████████| 100/100 [00:00<00:00, 660.00it/s]"
     ]
    },
    {
     "name": "stdout",
     "output_type": "stream",
     "text": [
      "model 100, 3 fitted\n",
      "15 seconds\n",
      "model 100, 3 circuited\n",
      "15 seconds\n"
     ]
    },
    {
     "name": "stderr",
     "output_type": "stream",
     "text": [
      "\n"
     ]
    },
    {
     "name": "stdout",
     "output_type": "stream",
     "text": [
      "model 100, 3 tested: acc 0.7829232995658466, log-lik -26.952988234241037\n",
      "15 seconds\n",
      "Warning, data will be saved for training set instead of test set\n",
      "Running in min_samples_per_leaf mode\n"
     ]
    },
    {
     "name": "stderr",
     "output_type": "stream",
     "text": [
      "100%|███████████████████████████████████████████████████████████████████████████████| 100/100 [00:00<00:00, 740.71it/s]"
     ]
    },
    {
     "name": "stdout",
     "output_type": "stream",
     "text": [
      "model 100, 4 fitted\n",
      "16 seconds\n",
      "model 100, 4 circuited\n",
      "16 seconds\n"
     ]
    },
    {
     "name": "stderr",
     "output_type": "stream",
     "text": [
      "\n"
     ]
    },
    {
     "name": "stdout",
     "output_type": "stream",
     "text": [
      "model 100, 4 tested: acc 0.8060781476121563, log-lik -27.003979027187743\n",
      "16 seconds\n",
      "Warning, data will be saved for training set instead of test set\n",
      "Running in min_samples_per_leaf mode\n"
     ]
    },
    {
     "name": "stderr",
     "output_type": "stream",
     "text": [
      " 41%|████████████████████████████████▊                                               | 41/100 [00:00<00:00, 399.00it/s]"
     ]
    },
    {
     "name": "stdout",
     "output_type": "stream",
     "text": [
      "model 100, 5 fitted\n",
      "16 seconds\n"
     ]
    },
    {
     "name": "stderr",
     "output_type": "stream",
     "text": [
      "100%|███████████████████████████████████████████████████████████████████████████████| 100/100 [00:00<00:00, 462.07it/s]\n"
     ]
    },
    {
     "name": "stdout",
     "output_type": "stream",
     "text": [
      "model 100, 5 circuited\n",
      "17 seconds\n",
      "model 100, 5 tested: acc 0.7916063675832128, log-lik -26.7872601048747\n",
      "17 seconds\n",
      "Warning, data will be saved for training set instead of test set\n",
      "Running in min_samples_per_leaf mode\n"
     ]
    },
    {
     "name": "stderr",
     "output_type": "stream",
     "text": [
      "100%|███████████████████████████████████████████████████████████████████████████████| 100/100 [00:00<00:00, 723.13it/s]"
     ]
    },
    {
     "name": "stdout",
     "output_type": "stream",
     "text": [
      "model 100, 6 fitted\n",
      "17 seconds\n",
      "model 100, 6 circuited\n",
      "17 seconds\n"
     ]
    },
    {
     "name": "stderr",
     "output_type": "stream",
     "text": [
      "\n"
     ]
    },
    {
     "name": "stdout",
     "output_type": "stream",
     "text": [
      "model 100, 6 tested: acc 0.8060781476121563, log-lik -26.861983390640372\n",
      "18 seconds\n",
      "Warning, data will be saved for training set instead of test set\n",
      "Running in min_samples_per_leaf mode\n"
     ]
    },
    {
     "name": "stderr",
     "output_type": "stream",
     "text": [
      "100%|███████████████████████████████████████████████████████████████████████████████| 100/100 [00:00<00:00, 758.58it/s]"
     ]
    },
    {
     "name": "stdout",
     "output_type": "stream",
     "text": [
      "model 100, 7 fitted\n",
      "18 seconds\n",
      "model 100, 7 circuited\n",
      "18 seconds\n"
     ]
    },
    {
     "name": "stderr",
     "output_type": "stream",
     "text": [
      "\n"
     ]
    },
    {
     "name": "stdout",
     "output_type": "stream",
     "text": [
      "model 100, 7 tested: acc 0.7872648335745297, log-lik -26.811387973380864\n",
      "18 seconds\n",
      "Warning, data will be saved for training set instead of test set\n",
      "Running in min_samples_per_leaf mode\n"
     ]
    },
    {
     "name": "stderr",
     "output_type": "stream",
     "text": [
      "100%|███████████████████████████████████████████████████████████████████████████████| 100/100 [00:00<00:00, 755.94it/s]"
     ]
    },
    {
     "name": "stdout",
     "output_type": "stream",
     "text": [
      "model 100, 8 fitted\n",
      "19 seconds\n",
      "model 100, 8 circuited\n",
      "19 seconds\n"
     ]
    },
    {
     "name": "stderr",
     "output_type": "stream",
     "text": [
      "\n"
     ]
    },
    {
     "name": "stdout",
     "output_type": "stream",
     "text": [
      "model 100, 8 tested: acc 0.788712011577424, log-lik -26.962492790254664\n",
      "19 seconds\n",
      "Warning, data will be saved for training set instead of test set\n",
      "Running in min_samples_per_leaf mode\n"
     ]
    },
    {
     "name": "stderr",
     "output_type": "stream",
     "text": [
      "100%|███████████████████████████████████████████████████████████████████████████████| 100/100 [00:00<00:00, 770.67it/s]"
     ]
    },
    {
     "name": "stdout",
     "output_type": "stream",
     "text": [
      "model 100, 9 fitted\n",
      "19 seconds\n",
      "model 100, 9 circuited\n",
      "19 seconds\n"
     ]
    },
    {
     "name": "stderr",
     "output_type": "stream",
     "text": [
      "\n"
     ]
    },
    {
     "name": "stdout",
     "output_type": "stream",
     "text": [
      "model 100, 9 tested: acc 0.7991329479768786, log-lik -26.991343808171905\n",
      "20 seconds\n",
      "Warning, data will be saved for training set instead of test set\n",
      "Running in min_samples_per_leaf mode\n"
     ]
    },
    {
     "name": "stderr",
     "output_type": "stream",
     "text": [
      "100%|███████████████████████████████████████████████████████████████████████████████| 100/100 [00:00<00:00, 734.51it/s]"
     ]
    },
    {
     "name": "stdout",
     "output_type": "stream",
     "text": [
      "model 100, 10 fitted\n",
      "20 seconds\n",
      "model 100, 10 circuited\n",
      "20 seconds\n"
     ]
    },
    {
     "name": "stderr",
     "output_type": "stream",
     "text": [
      "\n"
     ]
    },
    {
     "name": "stdout",
     "output_type": "stream",
     "text": [
      "model 100, 10 tested: acc 0.796242774566474, log-lik -26.766824661121362\n",
      "20 seconds\n",
      "100 finished, 21 seconds\n",
      "Performance: [-26.789339306837075, -26.89124460163738, -26.952988234241037, -27.003979027187743, -26.7872601048747, -26.861983390640372, -26.811387973380864, -26.962492790254664, -26.991343808171905, -26.766824661121362]\n",
      "\n",
      "\n",
      "depth 30 end: 193 seconds \n",
      "\n",
      "\n",
      "\n"
     ]
    }
   ],
   "source": [
    "depths = [1,5,10,30]#[i for i in range(1,11)]\n",
    "nr_trees = [10, 25, 50, 75, 100]#[10,50,100]\n",
    "name = \"diabetes.csv\"\n",
    "full_test(depths, nr_trees, name, save_path = f\"Experiment2_min_samples/{name[:-4]}_training/\", mode = \"min_samples_leaf\", save_train_performance = True)"
   ]
  },
  {
   "cell_type": "code",
   "execution_count": null,
   "id": "driving-determination",
   "metadata": {},
   "outputs": [],
   "source": []
  }
 ],
 "metadata": {
  "kernelspec": {
   "display_name": "Python 3",
   "language": "python",
   "name": "python3"
  },
  "language_info": {
   "codemirror_mode": {
    "name": "ipython",
    "version": 3
   },
   "file_extension": ".py",
   "mimetype": "text/x-python",
   "name": "python",
   "nbconvert_exporter": "python",
   "pygments_lexer": "ipython3",
   "version": "3.7.4"
  }
 },
 "nbformat": 4,
 "nbformat_minor": 5
}
