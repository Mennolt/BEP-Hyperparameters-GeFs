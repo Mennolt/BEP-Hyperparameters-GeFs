{
 "cells": [
  {
   "cell_type": "code",
   "execution_count": 1,
   "id": "molecular-creek",
   "metadata": {},
   "outputs": [
    {
     "name": "stderr",
     "output_type": "stream",
     "text": [
      "C:\\Users\\Mennolt van alten\\Documents\\Data Science - Universiteit\\Year 3\\BEP\\GeFs_Repo\\gefs\\cluster.py:91: NumbaDeprecationWarning: \u001b[1mThe 'numba.jitclass' decorator has moved to 'numba.experimental.jitclass' to better reflect the experimental nature of the functionality. Please update your imports to accommodate this change and see https://numba.pydata.org/numba-doc/latest/reference/deprecation.html#change-of-jitclass-location for the time frame.\u001b[0m\n",
      "  ('thr', optional(float64)),\n",
      "C:\\Users\\Mennolt van alten\\Documents\\Data Science - Universiteit\\Year 3\\BEP\\GeFs_Repo\\gefs\\signed.py:11: NumbaDeprecationWarning: \u001b[1mThe 'numba.jitclass' decorator has moved to 'numba.experimental.jitclass' to better reflect the experimental nature of the functionality. Please update your imports to accommodate this change and see https://numba.pydata.org/numba-doc/latest/reference/deprecation.html#change-of-jitclass-location for the time frame.\u001b[0m\n",
      "  ('size', int64)\n",
      "C:\\Users\\Mennolt van alten\\Documents\\Data Science - Universiteit\\Year 3\\BEP\\GeFs_Repo\\gefs\\nodes.py:42: NumbaDeprecationWarning: \u001b[1mThe 'numba.jitclass' decorator has moved to 'numba.experimental.jitclass' to better reflect the experimental nature of the functionality. Please update your imports to accommodate this change and see https://numba.pydata.org/numba-doc/latest/reference/deprecation.html#change-of-jitclass-location for the time frame.\u001b[0m\n",
      "  @jitclass(spec)\n",
      "C:\\Users\\Mennolt van alten\\Documents\\Data Science - Universiteit\\Year 3\\BEP\\GeFs_Repo\\gefs\\learning.py:15: NumbaDeprecationWarning: \u001b[1mThe 'numba.jitclass' decorator has moved to 'numba.experimental.jitclass' to better reflect the experimental nature of the functionality. Please update your imports to accommodate this change and see https://numba.pydata.org/numba-doc/latest/reference/deprecation.html#change-of-jitclass-location for the time frame.\u001b[0m\n",
      "  ('classcol', optional(int64)),\n",
      "C:\\Users\\Mennolt van alten\\Documents\\Data Science - Universiteit\\Year 3\\BEP\\GeFs_Repo\\gefs\\split.py:117: NumbaDeprecationWarning: \u001b[1mThe 'numba.jitclass' decorator has moved to 'numba.experimental.jitclass' to better reflect the experimental nature of the functionality. Please update your imports to accommodate this change and see https://numba.pydata.org/numba-doc/latest/reference/deprecation.html#change-of-jitclass-location for the time frame.\u001b[0m\n",
      "  ('type', types.string)\n",
      "C:\\Users\\Mennolt van alten\\Documents\\Data Science - Universiteit\\Year 3\\BEP\\GeFs_Repo\\gefs\\trees.py:374: NumbaDeprecationWarning: \u001b[1mThe 'numba.jitclass' decorator has moved to 'numba.experimental.jitclass' to better reflect the experimental nature of the functionality. Please update your imports to accommodate this change and see https://numba.pydata.org/numba-doc/latest/reference/deprecation.html#change-of-jitclass-location for the time frame.\u001b[0m\n",
      "  ('depth', int16),\n",
      "C:\\Users\\Mennolt van alten\\Documents\\Data Science - Universiteit\\Year 3\\BEP\\GeFs_Repo\\gefs\\trees.py:411: NumbaDeprecationWarning: \u001b[1mThe 'numba.jitclass' decorator has moved to 'numba.experimental.jitclass' to better reflect the experimental nature of the functionality. Please update your imports to accommodate this change and see https://numba.pydata.org/numba-doc/latest/reference/deprecation.html#change-of-jitclass-location for the time frame.\u001b[0m\n",
      "  ('surrogate', boolean),  # Whether to learn surrogate splits at each decision node.\n"
     ]
    }
   ],
   "source": [
    "from gefs.pc import PC\n",
    "import pandas as pd\n",
    "import numpy as np\n",
    "from experiments.prep import get_stats, normalize_data, standardize_data, learncats, get_dummies\n",
    "import time\n",
    "from gefs.trees import RandomForest\n",
    "import seaborn as sns\n",
    "import matplotlib.pyplot as plt\n",
    "import datetime\n",
    "from experiments.prep import get_data"
   ]
  },
  {
   "cell_type": "code",
   "execution_count": null,
   "id": "gross-benchmark",
   "metadata": {},
   "outputs": [],
   "source": []
  },
  {
   "cell_type": "code",
   "execution_count": 2,
   "id": "included-explorer",
   "metadata": {},
   "outputs": [],
   "source": [
    "#general shape of hyperparameter tuner:\n",
    "#set some default values\n",
    "#divide data into test and validation/train (resample each time?)\n",
    "#go into loop:\n",
    "##fit the system using the hyperparameters\n",
    "##score it on the validation set using the log_likelyhood\n",
    "##use the score to determine next choice of hyperparameters (the hard part probably)\n",
    "##check some kind stopping criterion so it actually stops at some point\n",
    "#pick the best model you made\n",
    "\n",
    "#then run it on the test set to see how well we did"
   ]
  },
  {
   "cell_type": "code",
   "execution_count": 2,
   "id": "black-trinity",
   "metadata": {},
   "outputs": [],
   "source": [
    "#general shape of hyperparameter graph generator:\n",
    "##get the data\n",
    "##loop through possible hyperparameter values\n",
    "##each iteration, split into train and test, make a model then test the model\n",
    "##save test results into array\n",
    "##plot array\n",
    "\n",
    "def hyperparameter_range_test(data, n_cat, values, depth = 5, train_ratio=0.7):\n",
    "    \"\"\"\n",
    "    input:\n",
    "    Data: \n",
    "        some dataset to make a model from\n",
    "    n_cat: \n",
    "        number of categories for each column in the data \n",
    "        (get using learncats, for more see experiments.prep.learncats and experiments.prep.get_data)\n",
    "    Values: hyperparameter values to try (right now trying them on n_estimators)\n",
    "    depth: what the depth of the tries should be\n",
    "    train_ratio: ratio of how much data is used for training\"\"\"\n",
    "    \n",
    "    start = time.time()\n",
    "    assert train_ratio >= 0\n",
    "    assert train_ratio <= 1\n",
    "    shuffle = np.random.choice(range(data.shape[0]), data.shape[0], replace=False)\n",
    "    data_train = data[shuffle[:int(train_ratio*data.shape[0])], :]\n",
    "    #splitting test data into dependent and independent variables\n",
    "    X_train, y_train = data_train[:, :-1], data_train[:, -1] \n",
    "    data_test = data[shuffle[int(train_ratio*data.shape[0]):], :]\n",
    "    #making test data not have a class:\n",
    "    correct_class_test = data_test[:, -1].copy()\n",
    "    data_test[:, -1] = np.nan\n",
    "    print(\"data split\")\n",
    "    \n",
    "    performance = []\n",
    "    accuracy = []\n",
    "    for i in values:\n",
    "        #make a new temporary array for saving\n",
    "        temp_performance = []\n",
    "        temp_accuracy = [] #accuracy on the original classification\n",
    "        for j in range(3):\n",
    "            #redistribute the data\n",
    "#             shuffle = np.random.choice(range(data.shape[0]), data.shape[0], replace=False)\n",
    "#             data_train = data[shuffle[:int(train_ratio*data.shape[0])], :]\n",
    "#             #splitting test data into dependent and independent variables\n",
    "#             X_train, y_train = data_train[:, :-1], data_train[:, -1] \n",
    "#             data_test = data[shuffle[int(train_ratio*data.shape[0]):], :]\n",
    "#             #making test data not have a class:\n",
    "#             data_test[:, -1] = np.nan\n",
    "#             print(f\"model {i}, {j} data distributed\")\n",
    "            #make a model\n",
    "            model = RandomForest(n_estimators=i, ncat=n_cat, max_depth = depth)\n",
    "            model.fit(X_train, y_train)\n",
    "            print(f\"model {i}, {j} fitted\")\n",
    "            print(int(time.time()-start), \"seconds\")\n",
    "            #turn it to a probability circuit\n",
    "            circuit = model.topc(learnspn=np.Inf) #note: here we can set max_height (default 1000000)\n",
    "            print(f\"model {i}, {j} circuited\")\n",
    "            print(int(time.time()-start), \"seconds\")\n",
    "            #test the model\n",
    "            #return(circuit, data_test, correct_class_test)\n",
    "            temp_performance.append(circuit.log_likelihood(data_test).mean())\n",
    "            predictions = circuit.classify(data_test[:, :-1])\n",
    "            residuals = abs(predictions-correct_class_test)\n",
    "            cur_accuracy = 1-(sum(residuals)/len(residuals))\n",
    "            temp_accuracy.append(cur_accuracy)\n",
    "            print(f\"model {i}, {j} tested: acc {cur_accuracy}, log-lik {temp_performance[-1]}\")\n",
    "            print(int(time.time()-start), \"seconds\")\n",
    "            #delete model to try again\n",
    "            circuit.delete()\n",
    "            model.delete()\n",
    "            del(model)\n",
    "        #and save the test results into performance\n",
    "        performance.append(temp_performance)\n",
    "        accuracy.append(temp_accuracy)\n",
    "       \n",
    "        print(f\"{i} finished, {int(time.time()-start)} seconds\")\n",
    "        print(f\"Performance: {performance[-1]}\")\n",
    "        \n",
    "    return(performance, accuracy)\n",
    "    \n",
    "    "
   ]
  },
  {
   "cell_type": "code",
   "execution_count": 4,
   "id": "sonic-webster",
   "metadata": {},
   "outputs": [],
   "source": [
    "#circuit, test_data, correct_class_test = hyperparameter_range_test(data, ncat, values)"
   ]
  },
  {
   "cell_type": "code",
   "execution_count": 5,
   "id": "boring-nation",
   "metadata": {},
   "outputs": [],
   "source": [
    "# predictions = circuit.classify(test_data[:, :-1])\n",
    "# residuals = predictions-correct_class_test\n",
    "# cur_accuracy = 1-(sum(residuals)/len(residuals))"
   ]
  },
  {
   "cell_type": "code",
   "execution_count": 6,
   "id": "involved-report",
   "metadata": {},
   "outputs": [],
   "source": [
    "#predictions, residuals, cur_accuracy, correct_class_test"
   ]
  },
  {
   "cell_type": "code",
   "execution_count": 3,
   "id": "robust-passing",
   "metadata": {},
   "outputs": [],
   "source": []
  },
  {
   "cell_type": "code",
   "execution_count": 10,
   "id": "graduate-mistress",
   "metadata": {},
   "outputs": [],
   "source": [
    "#getting the data (taken from getdata function)\n",
    "# data = \"data/dresses.csv\"\n",
    "# data = pd.read_csv(data)\n",
    "# data = data.replace('?', np.nan)\n",
    "# data = get_dummies(data)\n",
    "# data = data.values.astype(float)\n",
    "# data[data < 0] = np.nan\n",
    "# ncat = learncats(data)\n",
    "file_name = \"dna.csv\"\n",
    "data, ncat = get_data(file_name, \"data/\")\n",
    "depth = 1\n",
    "#possible hyperparameter values\n",
    "values = [5*i for i in range(1,141)]"
   ]
  },
  {
   "cell_type": "code",
   "execution_count": 40,
   "id": "inner-bangkok",
   "metadata": {},
   "outputs": [
    {
     "name": "stderr",
     "output_type": "stream",
     "text": [
      "100%|███████████████████████████████████████████████████████████████████████████████████| 5/5 [00:00<00:00, 501.36it/s]\n",
      "100%|███████████████████████████████████████████████████████████████████████████████████| 5/5 [00:00<00:00, 455.83it/s]\n",
      "100%|███████████████████████████████████████████████████████████████████████████████████| 5/5 [00:00<00:00, 555.08it/s]"
     ]
    },
    {
     "name": "stdout",
     "output_type": "stream",
     "text": [
      "data split\n",
      "model 5, 0 fitted\n",
      "0 seconds\n",
      "model 5, 0 circuited\n",
      "0 seconds\n",
      "model 5, 0 tested: acc 0.7619047619047619, log-lik -29.969908616918172\n",
      "0 seconds\n",
      "model 5, 1 fitted\n",
      "0 seconds\n",
      "model 5, 1 circuited\n",
      "0 seconds\n",
      "model 5, 1 tested: acc 0.7186147186147186, log-lik -29.818696536664167\n",
      "0 seconds\n",
      "model 5, 2 fitted\n",
      "0 seconds\n",
      "model 5, 2 circuited\n",
      "0 seconds\n",
      "model 5, 2 tested: acc 0.7056277056277056, log-lik -29.881112599393784\n",
      "0 seconds\n",
      "5 finished, 0 seconds\n",
      "Performance: [-29.969908616918172, -29.818696536664167, -29.881112599393784]\n",
      "model 10, 0 fitted"
     ]
    },
    {
     "name": "stderr",
     "output_type": "stream",
     "text": [
      "\n",
      "100%|█████████████████████████████████████████████████████████████████████████████████| 10/10 [00:00<00:00, 527.67it/s]\n",
      "100%|█████████████████████████████████████████████████████████████████████████████████| 10/10 [00:00<00:00, 477.38it/s]"
     ]
    },
    {
     "name": "stdout",
     "output_type": "stream",
     "text": [
      "\n",
      "0 seconds\n",
      "model 10, 0 circuited\n",
      "0 seconds\n",
      "model 10, 0 tested: acc 0.7316017316017316, log-lik -29.97040893464387\n",
      "0 seconds\n",
      "model 10, 1 fitted\n",
      "0 seconds\n",
      "model 10, 1 circuited\n",
      "0 seconds\n"
     ]
    },
    {
     "name": "stderr",
     "output_type": "stream",
     "text": [
      "\n",
      "100%|█████████████████████████████████████████████████████████████████████████████████| 10/10 [00:00<00:00, 417.81it/s]\n",
      "100%|█████████████████████████████████████████████████████████████████████████████████| 15/15 [00:00<00:00, 417.40it/s]"
     ]
    },
    {
     "name": "stdout",
     "output_type": "stream",
     "text": [
      "model 10, 1 tested: acc 0.748917748917749, log-lik -29.775167050369237\n",
      "0 seconds\n",
      "model 10, 2 fitted\n",
      "0 seconds\n",
      "model 10, 2 circuited\n",
      "0 seconds\n",
      "model 10, 2 tested: acc 0.7272727272727273, log-lik -29.749739996679402\n",
      "0 seconds\n",
      "10 finished, 0 seconds\n",
      "Performance: [-29.97040893464387, -29.775167050369237, -29.749739996679402]\n",
      "model 15, 0 fitted\n",
      "0 seconds\n",
      "model 15, 0 circuited\n",
      "0 seconds\n",
      "model 15, 0 tested: acc 0.7402597402597403, log-lik -29.81112337456724"
     ]
    },
    {
     "name": "stderr",
     "output_type": "stream",
     "text": [
      "\n",
      "100%|█████████████████████████████████████████████████████████████████████████████████| 15/15 [00:00<00:00, 601.55it/s]\n",
      "  0%|                                                                                           | 0/15 [00:00<?, ?it/s]"
     ]
    },
    {
     "name": "stdout",
     "output_type": "stream",
     "text": [
      "\n",
      "0 seconds\n",
      "model 15, 1 fitted\n",
      "0 seconds\n",
      "model 15, 1 circuited\n",
      "0 seconds\n",
      "model 15, 1 tested: acc 0.722943722943723, log-lik -29.85381711237126\n",
      "0 seconds\n",
      "model 15, 2 fitted\n",
      "0 seconds\n"
     ]
    },
    {
     "name": "stderr",
     "output_type": "stream",
     "text": [
      "100%|█████████████████████████████████████████████████████████████████████████████████| 15/15 [00:00<00:00, 624.93it/s]\n",
      "  0%|                                                                                           | 0/20 [00:00<?, ?it/s]"
     ]
    },
    {
     "name": "stdout",
     "output_type": "stream",
     "text": [
      "model 15, 2 circuited\n",
      "0 seconds\n",
      "model 15, 2 tested: acc 0.7402597402597403, log-lik -29.907100601833424\n",
      "0 seconds\n",
      "15 finished, 0 seconds\n",
      "Performance: [-29.81112337456724, -29.85381711237126, -29.907100601833424]\n",
      "model 20, 0 fitted\n",
      "0 seconds\n"
     ]
    },
    {
     "name": "stderr",
     "output_type": "stream",
     "text": [
      "100%|█████████████████████████████████████████████████████████████████████████████████| 20/20 [00:00<00:00, 246.56it/s]\n",
      "100%|█████████████████████████████████████████████████████████████████████████████████| 20/20 [00:00<00:00, 401.11it/s]\n"
     ]
    },
    {
     "name": "stdout",
     "output_type": "stream",
     "text": [
      "model 20, 0 circuited\n",
      "1 seconds\n",
      "model 20, 0 tested: acc 0.7359307359307359, log-lik -29.749130976463725\n",
      "1 seconds\n",
      "model 20, 1 fitted\n",
      "1 seconds\n",
      "model 20, 1 circuited\n",
      "1 seconds\n"
     ]
    },
    {
     "name": "stderr",
     "output_type": "stream",
     "text": [
      "100%|█████████████████████████████████████████████████████████████████████████████████| 20/20 [00:00<00:00, 317.50it/s]"
     ]
    },
    {
     "name": "stdout",
     "output_type": "stream",
     "text": [
      "model 20, 1 tested: acc 0.7359307359307359, log-lik -29.82445046716607\n",
      "1 seconds\n",
      "model 20, 2 fitted\n",
      "1 seconds\n",
      "model 20, 2 circuited\n",
      "1 seconds\n",
      "model 20, 2 tested: acc 0.7272727272727273, log-lik -29.766640136834415\n",
      "1 "
     ]
    },
    {
     "name": "stderr",
     "output_type": "stream",
     "text": [
      "\n",
      "100%|█████████████████████████████████████████████████████████████████████████████████| 25/25 [00:00<00:00, 329.84it/s]"
     ]
    },
    {
     "name": "stdout",
     "output_type": "stream",
     "text": [
      "seconds\n",
      "20 finished, 1 seconds\n",
      "Performance: [-29.749130976463725, -29.82445046716607, -29.766640136834415]\n",
      "model 25, 0 fitted\n",
      "1 seconds\n",
      "model 25, 0 circuited\n",
      "1 seconds\n",
      "model 25, 0 tested: acc 0.7272727272727273, log-lik -29.7383973819023\n",
      "1 seconds\n"
     ]
    },
    {
     "name": "stderr",
     "output_type": "stream",
     "text": [
      "\n",
      "100%|█████████████████████████████████████████████████████████████████████████████████| 25/25 [00:00<00:00, 626.31it/s]\n",
      "  0%|                                                                                           | 0/25 [00:00<?, ?it/s]"
     ]
    },
    {
     "name": "stdout",
     "output_type": "stream",
     "text": [
      "model 25, 1 fitted\n",
      "1 seconds\n",
      "model 25, 1 circuited\n",
      "1 seconds\n",
      "model 25, 1 tested: acc 0.7532467532467533, log-lik -29.690109949991122\n",
      "1 seconds\n",
      "model 25, 2 fitted\n",
      "1 seconds\n"
     ]
    },
    {
     "name": "stderr",
     "output_type": "stream",
     "text": [
      "100%|█████████████████████████████████████████████████████████████████████████████████| 25/25 [00:00<00:00, 303.00it/s]\n",
      "100%|█████████████████████████████████████████████████████████████████████████████████| 30/30 [00:00<00:00, 357.82it/s]"
     ]
    },
    {
     "name": "stdout",
     "output_type": "stream",
     "text": [
      "model 25, 2 circuited\n",
      "2 seconds\n",
      "model 25, 2 tested: acc 0.7186147186147186, log-lik -29.692141485055686\n",
      "2 seconds\n",
      "25 finished, 2 seconds\n",
      "Performance: [-29.7383973819023, -29.690109949991122, -29.692141485055686]\n",
      "model 30, 0 fitted\n",
      "2 seconds\n",
      "model 30, 0 circuited\n",
      "2 seconds\n"
     ]
    },
    {
     "name": "stderr",
     "output_type": "stream",
     "text": [
      "\n",
      "100%|█████████████████████████████████████████████████████████████████████████████████| 30/30 [00:00<00:00, 493.11it/s]\n"
     ]
    },
    {
     "name": "stdout",
     "output_type": "stream",
     "text": [
      "model 30, 0 tested: acc 0.722943722943723, log-lik -29.80775250704225\n",
      "2 seconds\n",
      "model 30, 1 fitted\n",
      "2 seconds\n",
      "model 30, 1 circuited\n",
      "2 seconds\n",
      "model 30, 1 tested: acc 0.7272727272727273, log-lik -29.80355626418232\n",
      "2 seconds\n"
     ]
    },
    {
     "name": "stderr",
     "output_type": "stream",
     "text": [
      "100%|█████████████████████████████████████████████████████████████████████████████████| 30/30 [00:00<00:00, 406.50it/s]\n",
      "  0%|                                                                                           | 0/35 [00:00<?, ?it/s]"
     ]
    },
    {
     "name": "stdout",
     "output_type": "stream",
     "text": [
      "model 30, 2 fitted\n",
      "2 seconds\n",
      "model 30, 2 circuited\n",
      "2 seconds\n",
      "model 30, 2 tested: acc 0.7316017316017316, log-lik -29.71039397172888\n",
      "2 seconds\n",
      "30 finished, 2 seconds\n",
      "Performance: [-29.80775250704225, -29.80355626418232, -29.71039397172888]\n",
      "model 35, 0 fitted\n",
      "2 seconds\n"
     ]
    },
    {
     "name": "stderr",
     "output_type": "stream",
     "text": [
      "100%|█████████████████████████████████████████████████████████████████████████████████| 35/35 [00:00<00:00, 556.34it/s]\n",
      "  0%|                                                                                           | 0/35 [00:00<?, ?it/s]"
     ]
    },
    {
     "name": "stdout",
     "output_type": "stream",
     "text": [
      "model 35, 0 circuited\n",
      "2 seconds\n",
      "model 35, 0 tested: acc 0.722943722943723, log-lik -29.796673413253924\n",
      "2 seconds\n",
      "model 35, 1 fitted\n",
      "2 seconds\n"
     ]
    },
    {
     "name": "stderr",
     "output_type": "stream",
     "text": [
      "100%|█████████████████████████████████████████████████████████████████████████████████| 35/35 [00:00<00:00, 514.55it/s]\n",
      "100%|█████████████████████████████████████████████████████████████████████████████████| 35/35 [00:00<00:00, 565.57it/s]"
     ]
    },
    {
     "name": "stdout",
     "output_type": "stream",
     "text": [
      "model 35, 1 circuited\n",
      "2 seconds\n",
      "model 35, 1 tested: acc 0.7445887445887446, log-lik -29.878354598760904\n",
      "2 seconds\n",
      "model 35, 2 fitted\n",
      "2 seconds\n"
     ]
    },
    {
     "name": "stderr",
     "output_type": "stream",
     "text": [
      "\n",
      "100%|█████████████████████████████████████████████████████████████████████████████████| 40/40 [00:00<00:00, 626.64it/s]"
     ]
    },
    {
     "name": "stdout",
     "output_type": "stream",
     "text": [
      "model 35, 2 circuited\n",
      "3 seconds\n",
      "model 35, 2 tested: acc 0.7272727272727273, log-lik -29.55696732871817\n",
      "3 seconds\n",
      "35 finished, 3 seconds\n",
      "Performance: [-29.796673413253924, -29.878354598760904, -29.55696732871817]\n",
      "model 40, 0 fitted\n",
      "3 seconds\n"
     ]
    },
    {
     "name": "stderr",
     "output_type": "stream",
     "text": [
      "\n",
      "  0%|                                                                                           | 0/40 [00:00<?, ?it/s]"
     ]
    },
    {
     "name": "stdout",
     "output_type": "stream",
     "text": [
      "model 40, 0 circuited\n",
      "3 seconds\n",
      "model 40, 0 tested: acc 0.7272727272727273, log-lik -29.83408191720501\n",
      "3 seconds\n",
      "model 40, 1 fitted\n",
      "3 seconds\n"
     ]
    },
    {
     "name": "stderr",
     "output_type": "stream",
     "text": [
      "100%|█████████████████████████████████████████████████████████████████████████████████| 40/40 [00:00<00:00, 405.12it/s]\n",
      "  0%|                                                                                           | 0/40 [00:00<?, ?it/s]"
     ]
    },
    {
     "name": "stdout",
     "output_type": "stream",
     "text": [
      "model 40, 1 circuited\n",
      "3 seconds\n",
      "model 40, 1 tested: acc 0.7316017316017316, log-lik -29.775907801057873\n",
      "3 seconds\n",
      "model 40, 2 fitted\n",
      "3 seconds\n"
     ]
    },
    {
     "name": "stderr",
     "output_type": "stream",
     "text": [
      "100%|█████████████████████████████████████████████████████████████████████████████████| 40/40 [00:00<00:00, 646.71it/s]\n",
      "100%|█████████████████████████████████████████████████████████████████████████████████| 45/45 [00:00<00:00, 585.73it/s]"
     ]
    },
    {
     "name": "stdout",
     "output_type": "stream",
     "text": [
      "model 40, 2 circuited\n",
      "3 seconds\n",
      "model 40, 2 tested: acc 0.7272727272727273, log-lik -29.476613414644067\n",
      "3 seconds\n",
      "40 finished, 3 seconds\n",
      "Performance: [-29.83408191720501, -29.775907801057873, -29.476613414644067]\n",
      "model 45, 0 fitted\n",
      "3 seconds\n"
     ]
    },
    {
     "name": "stderr",
     "output_type": "stream",
     "text": [
      "\n",
      "\r",
      "  0%|                                                                                           | 0/45 [00:00<?, ?it/s]"
     ]
    },
    {
     "name": "stdout",
     "output_type": "stream",
     "text": [
      "model 45, 0 circuited\n",
      "3 seconds\n",
      "model 45, 0 tested: acc 0.7316017316017316, log-lik -29.738490115450766\n",
      "3 seconds\n",
      "model 45, 1 fitted\n",
      "4 seconds\n"
     ]
    },
    {
     "name": "stderr",
     "output_type": "stream",
     "text": [
      "100%|█████████████████████████████████████████████████████████████████████████████████| 45/45 [00:00<00:00, 433.92it/s]\n",
      "100%|█████████████████████████████████████████████████████████████████████████████████| 45/45 [00:00<00:00, 520.93it/s]"
     ]
    },
    {
     "name": "stdout",
     "output_type": "stream",
     "text": [
      "model 45, 1 circuited\n",
      "4 seconds\n",
      "model 45, 1 tested: acc 0.7532467532467533, log-lik -29.922641053505817\n",
      "4 seconds\n",
      "model 45, 2 fitted\n",
      "4 seconds\n"
     ]
    },
    {
     "name": "stderr",
     "output_type": "stream",
     "text": [
      "\n",
      "\r",
      "  0%|                                                                                           | 0/50 [00:00<?, ?it/s]"
     ]
    },
    {
     "name": "stdout",
     "output_type": "stream",
     "text": [
      "model 45, 2 circuited\n",
      "4 seconds\n",
      "model 45, 2 tested: acc 0.7402597402597403, log-lik -29.790488747064884\n",
      "4 seconds\n",
      "45 finished, 4 seconds\n",
      "Performance: [-29.738490115450766, -29.922641053505817, -29.790488747064884]\n",
      "model 50, 0 fitted\n",
      "4 seconds\n"
     ]
    },
    {
     "name": "stderr",
     "output_type": "stream",
     "text": [
      "100%|█████████████████████████████████████████████████████████████████████████████████| 50/50 [00:00<00:00, 599.22it/s]\n",
      "  0%|                                                                                           | 0/50 [00:00<?, ?it/s]"
     ]
    },
    {
     "name": "stdout",
     "output_type": "stream",
     "text": [
      "model 50, 0 circuited\n",
      "4 seconds\n",
      "model 50, 0 tested: acc 0.7402597402597403, log-lik -29.74419005030145\n",
      "4 seconds\n",
      "model 50, 1 fitted\n",
      "4 seconds\n"
     ]
    },
    {
     "name": "stderr",
     "output_type": "stream",
     "text": [
      "100%|█████████████████████████████████████████████████████████████████████████████████| 50/50 [00:00<00:00, 540.08it/s]\n",
      "100%|█████████████████████████████████████████████████████████████████████████████████| 50/50 [00:00<00:00, 611.37it/s]"
     ]
    },
    {
     "name": "stdout",
     "output_type": "stream",
     "text": [
      "model 50, 1 circuited\n",
      "4 seconds\n",
      "model 50, 1 tested: acc 0.7445887445887446, log-lik -29.826228040950692\n",
      "4 seconds\n",
      "model 50, 2 fitted\n",
      "4 seconds\n"
     ]
    },
    {
     "name": "stderr",
     "output_type": "stream",
     "text": [
      "\n",
      "\r",
      "  0%|                                                                                           | 0/55 [00:00<?, ?it/s]"
     ]
    },
    {
     "name": "stdout",
     "output_type": "stream",
     "text": [
      "model 50, 2 circuited\n",
      "5 seconds\n",
      "model 50, 2 tested: acc 0.7402597402597403, log-lik -29.67778557676735\n",
      "5 seconds\n",
      "50 finished, 5 seconds\n",
      "Performance: [-29.74419005030145, -29.826228040950692, -29.67778557676735]\n",
      "model 55, 0 fitted\n",
      "5 seconds\n"
     ]
    },
    {
     "name": "stderr",
     "output_type": "stream",
     "text": [
      "100%|█████████████████████████████████████████████████████████████████████████████████| 55/55 [00:00<00:00, 437.67it/s]\n",
      "  0%|                                                                                           | 0/55 [00:00<?, ?it/s]"
     ]
    },
    {
     "name": "stdout",
     "output_type": "stream",
     "text": [
      "model 55, 0 circuited\n",
      "5 seconds\n",
      "model 55, 0 tested: acc 0.7359307359307359, log-lik -29.771755725426097\n",
      "5 seconds\n",
      "model 55, 1 fitted\n",
      "5 seconds\n"
     ]
    },
    {
     "name": "stderr",
     "output_type": "stream",
     "text": [
      "100%|█████████████████████████████████████████████████████████████████████████████████| 55/55 [00:00<00:00, 475.35it/s]\n",
      "  0%|                                                                                           | 0/55 [00:00<?, ?it/s]"
     ]
    },
    {
     "name": "stdout",
     "output_type": "stream",
     "text": [
      "model 55, 1 circuited\n",
      "5 seconds\n",
      "model 55, 1 tested: acc 0.7272727272727273, log-lik -29.695910408183344\n",
      "5 seconds\n",
      "model 55, 2 fitted\n",
      "5 seconds\n"
     ]
    },
    {
     "name": "stderr",
     "output_type": "stream",
     "text": [
      "100%|█████████████████████████████████████████████████████████████████████████████████| 55/55 [00:00<00:00, 549.04it/s]\n"
     ]
    },
    {
     "name": "stdout",
     "output_type": "stream",
     "text": [
      "model 55, 2 circuited\n",
      "5 seconds\n",
      "model 55, 2 tested: acc 0.7359307359307359, log-lik -29.738991585765262\n",
      "5 seconds\n",
      "55 finished, 5 seconds\n",
      "Performance: [-29.771755725426097, -29.695910408183344, -29.738991585765262]\n"
     ]
    },
    {
     "name": "stderr",
     "output_type": "stream",
     "text": [
      "100%|█████████████████████████████████████████████████████████████████████████████████| 60/60 [00:00<00:00, 375.21it/s]"
     ]
    },
    {
     "name": "stdout",
     "output_type": "stream",
     "text": [
      "model 60, 0 fitted\n",
      "6 seconds\n"
     ]
    },
    {
     "name": "stderr",
     "output_type": "stream",
     "text": [
      "\n"
     ]
    },
    {
     "name": "stdout",
     "output_type": "stream",
     "text": [
      "model 60, 0 circuited\n",
      "6 seconds\n",
      "model 60, 0 tested: acc 0.7359307359307359, log-lik -29.714376373000487\n",
      "6 seconds\n",
      "model 60, 1 fitted\n",
      "6 seconds\n"
     ]
    },
    {
     "name": "stderr",
     "output_type": "stream",
     "text": [
      "100%|█████████████████████████████████████████████████████████████████████████████████| 60/60 [00:00<00:00, 400.41it/s]\n"
     ]
    },
    {
     "name": "stdout",
     "output_type": "stream",
     "text": [
      "model 60, 1 circuited\n",
      "6 seconds\n",
      "model 60, 1 tested: acc 0.7402597402597403, log-lik -29.788705440476956\n",
      "6 seconds\n"
     ]
    },
    {
     "name": "stderr",
     "output_type": "stream",
     "text": [
      "100%|█████████████████████████████████████████████████████████████████████████████████| 60/60 [00:00<00:00, 439.71it/s]"
     ]
    },
    {
     "name": "stdout",
     "output_type": "stream",
     "text": [
      "model 60, 2 fitted\n",
      "6 seconds\n",
      "model 60, 2 circuited\n",
      "7 seconds\n"
     ]
    },
    {
     "name": "stderr",
     "output_type": "stream",
     "text": [
      "\n",
      "  0%|                                                                                           | 0/65 [00:00<?, ?it/s]"
     ]
    },
    {
     "name": "stdout",
     "output_type": "stream",
     "text": [
      "model 60, 2 tested: acc 0.7359307359307359, log-lik -29.766407042924524\n",
      "7 seconds\n",
      "60 finished, 7 seconds\n",
      "Performance: [-29.714376373000487, -29.788705440476956, -29.766407042924524]\n",
      "model 65, 0 fitted\n",
      "7 seconds\n"
     ]
    },
    {
     "name": "stderr",
     "output_type": "stream",
     "text": [
      "100%|█████████████████████████████████████████████████████████████████████████████████| 65/65 [00:00<00:00, 321.00it/s]\n"
     ]
    },
    {
     "name": "stdout",
     "output_type": "stream",
     "text": [
      "model 65, 0 circuited\n",
      "7 seconds\n",
      "model 65, 0 tested: acc 0.7402597402597403, log-lik -29.79834141846578\n",
      "7 seconds\n"
     ]
    },
    {
     "name": "stderr",
     "output_type": "stream",
     "text": [
      "100%|█████████████████████████████████████████████████████████████████████████████████| 65/65 [00:00<00:00, 584.35it/s]"
     ]
    },
    {
     "name": "stdout",
     "output_type": "stream",
     "text": [
      "model 65, 1 fitted\n",
      "7 seconds\n",
      "model 65, 1 circuited\n",
      "7 seconds\n",
      "model 65, 1 tested: acc 0.748917748917749, log-lik -28.64693674805931"
     ]
    },
    {
     "name": "stderr",
     "output_type": "stream",
     "text": [
      "\n",
      "100%|█████████████████████████████████████████████████████████████████████████████████| 65/65 [00:00<00:00, 576.73it/s]"
     ]
    },
    {
     "name": "stdout",
     "output_type": "stream",
     "text": [
      "\n",
      "8 seconds\n",
      "model 65, 2 fitted\n",
      "8 seconds\n"
     ]
    },
    {
     "name": "stderr",
     "output_type": "stream",
     "text": [
      "\n",
      "  0%|                                                                                           | 0/70 [00:00<?, ?it/s]"
     ]
    },
    {
     "name": "stdout",
     "output_type": "stream",
     "text": [
      "model 65, 2 circuited\n",
      "8 seconds\n",
      "model 65, 2 tested: acc 0.7316017316017316, log-lik -29.73519373674529\n",
      "8 seconds\n",
      "65 finished, 8 seconds\n",
      "Performance: [-29.79834141846578, -28.64693674805931, -29.73519373674529]\n",
      "model 70, 0 fitted\n",
      "8 seconds\n"
     ]
    },
    {
     "name": "stderr",
     "output_type": "stream",
     "text": [
      "100%|█████████████████████████████████████████████████████████████████████████████████| 70/70 [00:00<00:00, 519.91it/s]\n"
     ]
    },
    {
     "name": "stdout",
     "output_type": "stream",
     "text": [
      "model 70, 0 circuited\n",
      "8 seconds\n",
      "model 70, 0 tested: acc 0.7316017316017316, log-lik -29.76748806411444\n",
      "8 seconds\n",
      "model 70, 1 fitted\n",
      "8 seconds\n"
     ]
    },
    {
     "name": "stderr",
     "output_type": "stream",
     "text": [
      "100%|█████████████████████████████████████████████████████████████████████████████████| 70/70 [00:00<00:00, 546.21it/s]\n",
      "  0%|                                                                                           | 0/70 [00:00<?, ?it/s]"
     ]
    },
    {
     "name": "stdout",
     "output_type": "stream",
     "text": [
      "model 70, 1 circuited\n",
      "8 seconds\n",
      "model 70, 1 tested: acc 0.7186147186147186, log-lik -29.734753425504312\n",
      "8 seconds\n",
      "model 70, 2 fitted\n",
      "9 seconds\n"
     ]
    },
    {
     "name": "stderr",
     "output_type": "stream",
     "text": [
      "100%|█████████████████████████████████████████████████████████████████████████████████| 70/70 [00:00<00:00, 466.24it/s]\n"
     ]
    },
    {
     "name": "stdout",
     "output_type": "stream",
     "text": [
      "model 70, 2 circuited\n",
      "9 seconds\n",
      "model 70, 2 tested: acc 0.7359307359307359, log-lik -29.800967924950417\n",
      "9 seconds\n",
      "70 finished, 9 seconds\n",
      "Performance: [-29.76748806411444, -29.734753425504312, -29.800967924950417]\n"
     ]
    },
    {
     "name": "stderr",
     "output_type": "stream",
     "text": [
      "100%|█████████████████████████████████████████████████████████████████████████████████| 75/75 [00:00<00:00, 484.99it/s]"
     ]
    },
    {
     "name": "stdout",
     "output_type": "stream",
     "text": [
      "model 75, 0 fitted\n",
      "9 seconds\n",
      "model 75, 0 circuited\n",
      "9 seconds\n"
     ]
    },
    {
     "name": "stderr",
     "output_type": "stream",
     "text": [
      "\n",
      "  0%|                                                                                           | 0/75 [00:00<?, ?it/s]"
     ]
    },
    {
     "name": "stdout",
     "output_type": "stream",
     "text": [
      "model 75, 0 tested: acc 0.7402597402597403, log-lik -29.691971703228987\n",
      "9 seconds\n",
      "model 75, 1 fitted\n",
      "9 seconds\n"
     ]
    },
    {
     "name": "stderr",
     "output_type": "stream",
     "text": [
      "100%|█████████████████████████████████████████████████████████████████████████████████| 75/75 [00:00<00:00, 494.74it/s]\n"
     ]
    },
    {
     "name": "stdout",
     "output_type": "stream",
     "text": [
      "model 75, 1 circuited\n",
      "9 seconds\n",
      "model 75, 1 tested: acc 0.7316017316017316, log-lik -29.786811233972685\n",
      "10 seconds\n"
     ]
    },
    {
     "name": "stderr",
     "output_type": "stream",
     "text": [
      "100%|█████████████████████████████████████████████████████████████████████████████████| 75/75 [00:00<00:00, 520.20it/s]"
     ]
    },
    {
     "name": "stdout",
     "output_type": "stream",
     "text": [
      "model 75, 2 fitted\n",
      "10 seconds\n",
      "model 75, 2 circuited\n",
      "10 seconds\n"
     ]
    },
    {
     "name": "stderr",
     "output_type": "stream",
     "text": [
      "\n",
      "  0%|                                                                                           | 0/80 [00:00<?, ?it/s]"
     ]
    },
    {
     "name": "stdout",
     "output_type": "stream",
     "text": [
      "model 75, 2 tested: acc 0.7445887445887446, log-lik -29.73992941637772\n",
      "10 seconds\n",
      "75 finished, 10 seconds\n",
      "Performance: [-29.691971703228987, -29.786811233972685, -29.73992941637772]\n",
      "model 80, 0 fitted\n",
      "10 seconds\n"
     ]
    },
    {
     "name": "stderr",
     "output_type": "stream",
     "text": [
      "100%|█████████████████████████████████████████████████████████████████████████████████| 80/80 [00:00<00:00, 507.65it/s]\n"
     ]
    },
    {
     "name": "stdout",
     "output_type": "stream",
     "text": [
      "model 80, 0 circuited\n",
      "10 seconds\n",
      "model 80, 0 tested: acc 0.7402597402597403, log-lik -29.80560822105798\n",
      "10 seconds\n"
     ]
    },
    {
     "name": "stderr",
     "output_type": "stream",
     "text": [
      " 59%|███████████████████████████████████████████████▌                                 | 47/80 [00:00<00:00, 465.77it/s]"
     ]
    },
    {
     "name": "stdout",
     "output_type": "stream",
     "text": [
      "model 80, 1 fitted\n",
      "10 seconds\n"
     ]
    },
    {
     "name": "stderr",
     "output_type": "stream",
     "text": [
      "100%|█████████████████████████████████████████████████████████████████████████████████| 80/80 [00:00<00:00, 420.57it/s]\n"
     ]
    },
    {
     "name": "stdout",
     "output_type": "stream",
     "text": [
      "model 80, 1 circuited\n",
      "11 seconds\n",
      "model 80, 1 tested: acc 0.722943722943723, log-lik -29.81318867186474\n",
      "11 seconds\n"
     ]
    },
    {
     "name": "stderr",
     "output_type": "stream",
     "text": [
      "100%|█████████████████████████████████████████████████████████████████████████████████| 80/80 [00:00<00:00, 445.35it/s]"
     ]
    },
    {
     "name": "stdout",
     "output_type": "stream",
     "text": [
      "model 80, 2 fitted\n",
      "11 seconds\n"
     ]
    },
    {
     "name": "stderr",
     "output_type": "stream",
     "text": [
      "\n"
     ]
    },
    {
     "name": "stdout",
     "output_type": "stream",
     "text": [
      "model 80, 2 circuited\n",
      "11 seconds\n",
      "model 80, 2 tested: acc 0.7359307359307359, log-lik -29.79672876093374\n",
      "11 seconds\n",
      "80 finished, 11 seconds\n",
      "Performance: [-29.80560822105798, -29.81318867186474, -29.79672876093374]\n"
     ]
    },
    {
     "name": "stderr",
     "output_type": "stream",
     "text": [
      " 60%|████████████████████████████████████████████████▌                                | 51/85 [00:00<00:00, 477.92it/s]"
     ]
    },
    {
     "name": "stdout",
     "output_type": "stream",
     "text": [
      "model 85, 0 fitted\n",
      "11 seconds\n"
     ]
    },
    {
     "name": "stderr",
     "output_type": "stream",
     "text": [
      "100%|█████████████████████████████████████████████████████████████████████████████████| 85/85 [00:00<00:00, 421.92it/s]\n"
     ]
    },
    {
     "name": "stdout",
     "output_type": "stream",
     "text": [
      "model 85, 0 circuited\n",
      "11 seconds\n",
      "model 85, 0 tested: acc 0.7445887445887446, log-lik -29.782431423904065\n",
      "12 seconds\n"
     ]
    },
    {
     "name": "stderr",
     "output_type": "stream",
     "text": [
      "100%|█████████████████████████████████████████████████████████████████████████████████| 85/85 [00:00<00:00, 458.91it/s]"
     ]
    },
    {
     "name": "stdout",
     "output_type": "stream",
     "text": [
      "model 85, 1 fitted\n",
      "12 seconds\n"
     ]
    },
    {
     "name": "stderr",
     "output_type": "stream",
     "text": [
      "\n"
     ]
    },
    {
     "name": "stdout",
     "output_type": "stream",
     "text": [
      "model 85, 1 circuited\n",
      "12 seconds\n",
      "model 85, 1 tested: acc 0.7359307359307359, log-lik -29.608292691251407\n",
      "12 seconds\n"
     ]
    },
    {
     "name": "stderr",
     "output_type": "stream",
     "text": [
      "100%|█████████████████████████████████████████████████████████████████████████████████| 85/85 [00:00<00:00, 453.34it/s]"
     ]
    },
    {
     "name": "stdout",
     "output_type": "stream",
     "text": [
      "model 85, 2 fitted\n",
      "12 seconds\n"
     ]
    },
    {
     "name": "stderr",
     "output_type": "stream",
     "text": [
      "\n"
     ]
    },
    {
     "name": "stdout",
     "output_type": "stream",
     "text": [
      "model 85, 2 circuited\n",
      "12 seconds\n",
      "model 85, 2 tested: acc 0.7402597402597403, log-lik -29.785152287033767\n",
      "12 seconds\n",
      "85 finished, 12 seconds\n",
      "Performance: [-29.782431423904065, -29.608292691251407, -29.785152287033767]\n"
     ]
    },
    {
     "name": "stderr",
     "output_type": "stream",
     "text": [
      " 56%|█████████████████████████████████████████████                                    | 50/90 [00:00<00:00, 498.76it/s]"
     ]
    },
    {
     "name": "stdout",
     "output_type": "stream",
     "text": [
      "model 90, 0 fitted\n",
      "13 seconds\n"
     ]
    },
    {
     "name": "stderr",
     "output_type": "stream",
     "text": [
      "100%|█████████████████████████████████████████████████████████████████████████████████| 90/90 [00:00<00:00, 538.70it/s]\n"
     ]
    },
    {
     "name": "stdout",
     "output_type": "stream",
     "text": [
      "model 90, 0 circuited\n",
      "13 seconds\n",
      "model 90, 0 tested: acc 0.7445887445887446, log-lik -29.747737298337753\n",
      "13 seconds\n"
     ]
    },
    {
     "name": "stderr",
     "output_type": "stream",
     "text": [
      " 48%|██████████████████████████████████████▋                                          | 43/90 [00:00<00:00, 426.87it/s]"
     ]
    },
    {
     "name": "stdout",
     "output_type": "stream",
     "text": [
      "model 90, 1 fitted\n",
      "13 seconds\n"
     ]
    },
    {
     "name": "stderr",
     "output_type": "stream",
     "text": [
      "100%|█████████████████████████████████████████████████████████████████████████████████| 90/90 [00:00<00:00, 450.04it/s]\n"
     ]
    },
    {
     "name": "stdout",
     "output_type": "stream",
     "text": [
      "model 90, 1 circuited\n",
      "13 seconds\n",
      "model 90, 1 tested: acc 0.7402597402597403, log-lik -29.77354746264891\n",
      "13 seconds\n"
     ]
    },
    {
     "name": "stderr",
     "output_type": "stream",
     "text": [
      "100%|█████████████████████████████████████████████████████████████████████████████████| 90/90 [00:00<00:00, 505.42it/s]"
     ]
    },
    {
     "name": "stdout",
     "output_type": "stream",
     "text": [
      "model 90, 2 fitted\n",
      "14 seconds\n"
     ]
    },
    {
     "name": "stderr",
     "output_type": "stream",
     "text": [
      "\n"
     ]
    },
    {
     "name": "stdout",
     "output_type": "stream",
     "text": [
      "model 90, 2 circuited\n",
      "14 seconds\n",
      "model 90, 2 tested: acc 0.7445887445887446, log-lik -29.740797658456067\n",
      "14 seconds\n"
     ]
    },
    {
     "name": "stderr",
     "output_type": "stream",
     "text": [
      "100%|█████████████████████████████████████████████████████████████████████████████████| 95/95 [00:00<00:00, 482.76it/s]"
     ]
    },
    {
     "name": "stdout",
     "output_type": "stream",
     "text": [
      "90 finished, 14 seconds\n",
      "Performance: [-29.747737298337753, -29.77354746264891, -29.740797658456067]\n",
      "model 95, 0 fitted\n",
      "14 seconds\n"
     ]
    },
    {
     "name": "stderr",
     "output_type": "stream",
     "text": [
      "\n"
     ]
    },
    {
     "name": "stdout",
     "output_type": "stream",
     "text": [
      "model 95, 0 circuited\n",
      "14 seconds\n",
      "model 95, 0 tested: acc 0.7316017316017316, log-lik -29.733216960958387\n",
      "14 seconds\n"
     ]
    },
    {
     "name": "stderr",
     "output_type": "stream",
     "text": [
      "100%|█████████████████████████████████████████████████████████████████████████████████| 95/95 [00:00<00:00, 507.91it/s]"
     ]
    },
    {
     "name": "stdout",
     "output_type": "stream",
     "text": [
      "model 95, 1 fitted\n",
      "14 seconds\n"
     ]
    },
    {
     "name": "stderr",
     "output_type": "stream",
     "text": [
      "\n"
     ]
    },
    {
     "name": "stdout",
     "output_type": "stream",
     "text": [
      "model 95, 1 circuited\n",
      "15 seconds\n",
      "model 95, 1 tested: acc 0.7402597402597403, log-lik -29.771804064704906\n",
      "15 seconds\n"
     ]
    },
    {
     "name": "stderr",
     "output_type": "stream",
     "text": [
      "100%|█████████████████████████████████████████████████████████████████████████████████| 95/95 [00:00<00:00, 487.09it/s]"
     ]
    },
    {
     "name": "stdout",
     "output_type": "stream",
     "text": [
      "model 95, 2 fitted\n",
      "15 seconds\n"
     ]
    },
    {
     "name": "stderr",
     "output_type": "stream",
     "text": [
      "\n"
     ]
    },
    {
     "name": "stdout",
     "output_type": "stream",
     "text": [
      "model 95, 2 circuited\n",
      "15 seconds\n",
      "model 95, 2 tested: acc 0.7402597402597403, log-lik -29.771168596417134\n",
      "15 seconds\n",
      "95 finished, 15 seconds\n",
      "Performance: [-29.733216960958387, -29.771804064704906, -29.771168596417134]\n"
     ]
    },
    {
     "name": "stderr",
     "output_type": "stream",
     "text": [
      " 94%|███████████████████████████████████████████████████████████████████████████▏    | 94/100 [00:00<00:00, 482.17it/s]"
     ]
    },
    {
     "name": "stdout",
     "output_type": "stream",
     "text": [
      "model 100, 0 fitted\n",
      "15 seconds\n"
     ]
    },
    {
     "name": "stderr",
     "output_type": "stream",
     "text": [
      "100%|███████████████████████████████████████████████████████████████████████████████| 100/100 [00:00<00:00, 452.56it/s]\n"
     ]
    },
    {
     "name": "stdout",
     "output_type": "stream",
     "text": [
      "model 100, 0 circuited\n",
      "16 seconds\n"
     ]
    },
    {
     "name": "stderr",
     "output_type": "stream",
     "text": [
      "\r",
      "  0%|                                                                                          | 0/100 [00:00<?, ?it/s]"
     ]
    },
    {
     "name": "stdout",
     "output_type": "stream",
     "text": [
      "model 100, 0 tested: acc 0.7532467532467533, log-lik -29.778951703424124\n",
      "16 seconds\n",
      "model 100, 1 fitted\n",
      "16 seconds\n"
     ]
    },
    {
     "name": "stderr",
     "output_type": "stream",
     "text": [
      "100%|███████████████████████████████████████████████████████████████████████████████| 100/100 [00:00<00:00, 492.61it/s]\n"
     ]
    },
    {
     "name": "stdout",
     "output_type": "stream",
     "text": [
      "model 100, 1 circuited\n",
      "16 seconds\n",
      "model 100, 1 tested: acc 0.7316017316017316, log-lik -29.762091911608906\n",
      "16 seconds\n"
     ]
    },
    {
     "name": "stderr",
     "output_type": "stream",
     "text": [
      "100%|███████████████████████████████████████████████████████████████████████████████| 100/100 [00:00<00:00, 566.48it/s]"
     ]
    },
    {
     "name": "stdout",
     "output_type": "stream",
     "text": [
      "model 100, 2 fitted\n",
      "16 seconds\n",
      "model 100, 2 circuited\n",
      "17 seconds\n"
     ]
    },
    {
     "name": "stderr",
     "output_type": "stream",
     "text": [
      "\n",
      "  0%|                                                                                          | 0/105 [00:00<?, ?it/s]"
     ]
    },
    {
     "name": "stdout",
     "output_type": "stream",
     "text": [
      "model 100, 2 tested: acc 0.7359307359307359, log-lik -29.769984500799428\n",
      "17 seconds\n",
      "100 finished, 17 seconds\n",
      "Performance: [-29.778951703424124, -29.762091911608906, -29.769984500799428]\n",
      "model 105, 0 fitted\n",
      "17 seconds\n"
     ]
    },
    {
     "name": "stderr",
     "output_type": "stream",
     "text": [
      "100%|███████████████████████████████████████████████████████████████████████████████| 105/105 [00:00<00:00, 368.08it/s]\n"
     ]
    },
    {
     "name": "stdout",
     "output_type": "stream",
     "text": [
      "model 105, 0 circuited\n",
      "17 seconds\n",
      "model 105, 0 tested: acc 0.7402597402597403, log-lik -29.644467861707003\n",
      "17 seconds\n"
     ]
    },
    {
     "name": "stderr",
     "output_type": "stream",
     "text": [
      "  7%|█████▍                                                                            | 7/105 [00:00<00:01, 65.88it/s]"
     ]
    },
    {
     "name": "stdout",
     "output_type": "stream",
     "text": [
      "model 105, 1 fitted\n",
      "18 seconds\n"
     ]
    },
    {
     "name": "stderr",
     "output_type": "stream",
     "text": [
      "100%|███████████████████████████████████████████████████████████████████████████████| 105/105 [00:00<00:00, 157.82it/s]\n"
     ]
    },
    {
     "name": "stdout",
     "output_type": "stream",
     "text": [
      "model 105, 1 circuited\n",
      "18 seconds\n",
      "model 105, 1 tested: acc 0.7359307359307359, log-lik -29.77455166417904\n",
      "19 seconds\n"
     ]
    },
    {
     "name": "stderr",
     "output_type": "stream",
     "text": [
      " 96%|███████████████████████████████████████████████████████████████████████████▉   | 101/105 [00:00<00:00, 515.41it/s]"
     ]
    },
    {
     "name": "stdout",
     "output_type": "stream",
     "text": [
      "model 105, 2 fitted\n",
      "19 seconds\n"
     ]
    },
    {
     "name": "stderr",
     "output_type": "stream",
     "text": [
      "100%|███████████████████████████████████████████████████████████████████████████████| 105/105 [00:00<00:00, 487.88it/s]\n"
     ]
    },
    {
     "name": "stdout",
     "output_type": "stream",
     "text": [
      "model 105, 2 circuited\n",
      "20 seconds\n",
      "model 105, 2 tested: acc 0.7316017316017316, log-lik -29.73910014882444\n",
      "20 seconds\n",
      "105 finished, 20 seconds\n",
      "Performance: [-29.644467861707003, -29.77455166417904, -29.73910014882444]\n"
     ]
    },
    {
     "name": "stderr",
     "output_type": "stream",
     "text": [
      "100%|███████████████████████████████████████████████████████████████████████████████| 110/110 [00:00<00:00, 702.51it/s]"
     ]
    },
    {
     "name": "stdout",
     "output_type": "stream",
     "text": [
      "model 110, 0 fitted\n",
      "20 seconds\n",
      "model 110, 0 circuited\n",
      "20 seconds\n"
     ]
    },
    {
     "name": "stderr",
     "output_type": "stream",
     "text": [
      "\n"
     ]
    },
    {
     "name": "stdout",
     "output_type": "stream",
     "text": [
      "model 110, 0 tested: acc 0.7272727272727273, log-lik -29.761171802898602\n",
      "20 seconds\n"
     ]
    },
    {
     "name": "stderr",
     "output_type": "stream",
     "text": [
      " 30%|████████████████████████                                                        | 33/110 [00:00<00:00, 299.27it/s]"
     ]
    },
    {
     "name": "stdout",
     "output_type": "stream",
     "text": [
      "model 110, 1 fitted\n",
      "21 seconds\n"
     ]
    },
    {
     "name": "stderr",
     "output_type": "stream",
     "text": [
      "100%|███████████████████████████████████████████████████████████████████████████████| 110/110 [00:00<00:00, 349.51it/s]\n"
     ]
    },
    {
     "name": "stdout",
     "output_type": "stream",
     "text": [
      "model 110, 1 circuited\n",
      "21 seconds\n"
     ]
    },
    {
     "name": "stderr",
     "output_type": "stream",
     "text": [
      "\r",
      "  0%|                                                                                          | 0/110 [00:00<?, ?it/s]"
     ]
    },
    {
     "name": "stdout",
     "output_type": "stream",
     "text": [
      "model 110, 1 tested: acc 0.7359307359307359, log-lik -29.788106796711748\n",
      "21 seconds\n",
      "model 110, 2 fitted\n",
      "21 seconds\n"
     ]
    },
    {
     "name": "stderr",
     "output_type": "stream",
     "text": [
      "100%|███████████████████████████████████████████████████████████████████████████████| 110/110 [00:00<00:00, 515.39it/s]\n"
     ]
    },
    {
     "name": "stdout",
     "output_type": "stream",
     "text": [
      "model 110, 2 circuited\n",
      "22 seconds\n",
      "model 110, 2 tested: acc 0.7359307359307359, log-lik -29.738232564575668\n",
      "22 seconds\n"
     ]
    },
    {
     "name": "stderr",
     "output_type": "stream",
     "text": [
      " 50%|████████████████████████████████████████▎                                       | 58/115 [00:00<00:00, 575.90it/s]"
     ]
    },
    {
     "name": "stdout",
     "output_type": "stream",
     "text": [
      "110 finished, 22 seconds\n",
      "Performance: [-29.761171802898602, -29.788106796711748, -29.738232564575668]\n",
      "model 115, 0 fitted\n",
      "22 seconds\n"
     ]
    },
    {
     "name": "stderr",
     "output_type": "stream",
     "text": [
      "100%|███████████████████████████████████████████████████████████████████████████████| 115/115 [00:00<00:00, 586.77it/s]\n"
     ]
    },
    {
     "name": "stdout",
     "output_type": "stream",
     "text": [
      "model 115, 0 circuited\n",
      "22 seconds\n",
      "model 115, 0 tested: acc 0.7402597402597403, log-lik -29.758808055367897\n",
      "22 seconds\n"
     ]
    },
    {
     "name": "stderr",
     "output_type": "stream",
     "text": [
      " 59%|███████████████████████████████████████████████▎                                | 68/115 [00:00<00:00, 668.45it/s]"
     ]
    },
    {
     "name": "stdout",
     "output_type": "stream",
     "text": [
      "model 115, 1 fitted\n",
      "22 seconds\n"
     ]
    },
    {
     "name": "stderr",
     "output_type": "stream",
     "text": [
      "100%|███████████████████████████████████████████████████████████████████████████████| 115/115 [00:00<00:00, 626.67it/s]\n"
     ]
    },
    {
     "name": "stdout",
     "output_type": "stream",
     "text": [
      "model 115, 1 circuited\n",
      "23 seconds\n",
      "model 115, 1 tested: acc 0.7272727272727273, log-lik -29.727184313569932\n",
      "23 seconds\n"
     ]
    },
    {
     "name": "stderr",
     "output_type": "stream",
     "text": [
      " 51%|█████████████████████████████████████████                                       | 59/115 [00:00<00:00, 579.97it/s]"
     ]
    },
    {
     "name": "stdout",
     "output_type": "stream",
     "text": [
      "model 115, 2 fitted\n",
      "23 seconds\n"
     ]
    },
    {
     "name": "stderr",
     "output_type": "stream",
     "text": [
      "100%|███████████████████████████████████████████████████████████████████████████████| 115/115 [00:00<00:00, 585.31it/s]\n"
     ]
    },
    {
     "name": "stdout",
     "output_type": "stream",
     "text": [
      "model 115, 2 circuited\n",
      "23 seconds\n",
      "model 115, 2 tested: acc 0.7445887445887446, log-lik -29.7143607851597\n",
      "23 seconds\n",
      "115 finished, 23 seconds\n",
      "Performance: [-29.758808055367897, -29.727184313569932, -29.7143607851597]\n"
     ]
    },
    {
     "name": "stderr",
     "output_type": "stream",
     "text": [
      "100%|███████████████████████████████████████████████████████████████████████████████| 120/120 [00:00<00:00, 600.84it/s]"
     ]
    },
    {
     "name": "stdout",
     "output_type": "stream",
     "text": [
      "model 120, 0 fitted\n",
      "23 seconds\n"
     ]
    },
    {
     "name": "stderr",
     "output_type": "stream",
     "text": [
      "\n"
     ]
    },
    {
     "name": "stdout",
     "output_type": "stream",
     "text": [
      "model 120, 0 circuited\n",
      "23 seconds\n",
      "model 120, 0 tested: acc 0.7359307359307359, log-lik -29.7269341635699\n",
      "24 seconds\n"
     ]
    },
    {
     "name": "stderr",
     "output_type": "stream",
     "text": [
      " 92%|████████████████████████████████████████████████████████████████████████▍      | 110/120 [00:00<00:00, 542.85it/s]"
     ]
    },
    {
     "name": "stdout",
     "output_type": "stream",
     "text": [
      "model 120, 1 fitted\n",
      "24 seconds\n"
     ]
    },
    {
     "name": "stderr",
     "output_type": "stream",
     "text": [
      "100%|███████████████████████████████████████████████████████████████████████████████| 120/120 [00:00<00:00, 532.39it/s]\n"
     ]
    },
    {
     "name": "stdout",
     "output_type": "stream",
     "text": [
      "model 120, 1 circuited\n",
      "24 seconds\n",
      "model 120, 1 tested: acc 0.7445887445887446, log-lik -29.79192982533695\n",
      "24 seconds\n"
     ]
    },
    {
     "name": "stderr",
     "output_type": "stream",
     "text": [
      " 38%|██████████████████████████████▋                                                 | 46/120 [00:00<00:00, 439.26it/s]"
     ]
    },
    {
     "name": "stdout",
     "output_type": "stream",
     "text": [
      "model 120, 2 fitted\n",
      "24 seconds\n"
     ]
    },
    {
     "name": "stderr",
     "output_type": "stream",
     "text": [
      "100%|███████████████████████████████████████████████████████████████████████████████| 120/120 [00:00<00:00, 437.51it/s]\n"
     ]
    },
    {
     "name": "stdout",
     "output_type": "stream",
     "text": [
      "model 120, 2 circuited\n",
      "25 seconds\n",
      "model 120, 2 tested: acc 0.7316017316017316, log-lik -29.714650252777307\n",
      "25 seconds\n"
     ]
    },
    {
     "name": "stderr",
     "output_type": "stream",
     "text": [
      " 48%|██████████████████████████████████████▍                                         | 60/125 [00:00<00:00, 598.45it/s]"
     ]
    },
    {
     "name": "stdout",
     "output_type": "stream",
     "text": [
      "120 finished, 25 seconds\n",
      "Performance: [-29.7269341635699, -29.79192982533695, -29.714650252777307]\n",
      "model 125, 0 fitted\n",
      "25 seconds\n"
     ]
    },
    {
     "name": "stderr",
     "output_type": "stream",
     "text": [
      "100%|███████████████████████████████████████████████████████████████████████████████| 125/125 [00:00<00:00, 554.41it/s]\n"
     ]
    },
    {
     "name": "stdout",
     "output_type": "stream",
     "text": [
      "model 125, 0 circuited\n",
      "25 seconds\n",
      "model 125, 0 tested: acc 0.7272727272727273, log-lik -29.73465729829804\n",
      "25 seconds\n"
     ]
    },
    {
     "name": "stderr",
     "output_type": "stream",
     "text": [
      "\r",
      "  0%|                                                                                          | 0/125 [00:00<?, ?it/s]"
     ]
    },
    {
     "name": "stdout",
     "output_type": "stream",
     "text": [
      "model 125, 1 fitted\n",
      "26 seconds\n"
     ]
    },
    {
     "name": "stderr",
     "output_type": "stream",
     "text": [
      "100%|███████████████████████████████████████████████████████████████████████████████| 125/125 [00:00<00:00, 349.96it/s]\n"
     ]
    },
    {
     "name": "stdout",
     "output_type": "stream",
     "text": [
      "model 125, 1 circuited\n",
      "26 seconds\n",
      "model 125, 1 tested: acc 0.7532467532467533, log-lik -29.653731749818107\n",
      "26 seconds\n"
     ]
    },
    {
     "name": "stderr",
     "output_type": "stream",
     "text": [
      " 41%|████████████████████████████████▋                                               | 51/125 [00:00<00:00, 491.35it/s]"
     ]
    },
    {
     "name": "stdout",
     "output_type": "stream",
     "text": [
      "model 125, 2 fitted\n",
      "26 seconds\n"
     ]
    },
    {
     "name": "stderr",
     "output_type": "stream",
     "text": [
      "100%|███████████████████████████████████████████████████████████████████████████████| 125/125 [00:00<00:00, 212.51it/s]\n"
     ]
    },
    {
     "name": "stdout",
     "output_type": "stream",
     "text": [
      "model 125, 2 circuited\n",
      "27 seconds\n",
      "model 125, 2 tested: acc 0.7359307359307359, log-lik -29.762611111737467\n",
      "27 seconds\n",
      "125 finished, 27 seconds\n",
      "Performance: [-29.73465729829804, -29.653731749818107, -29.762611111737467]\n"
     ]
    },
    {
     "name": "stderr",
     "output_type": "stream",
     "text": [
      " 62%|█████████████████████████████████████████████████▊                              | 81/130 [00:00<00:00, 804.12it/s]"
     ]
    },
    {
     "name": "stdout",
     "output_type": "stream",
     "text": [
      "model 130, 0 fitted\n",
      "28 seconds\n"
     ]
    },
    {
     "name": "stderr",
     "output_type": "stream",
     "text": [
      "100%|███████████████████████████████████████████████████████████████████████████████| 130/130 [00:00<00:00, 514.13it/s]\n"
     ]
    },
    {
     "name": "stdout",
     "output_type": "stream",
     "text": [
      "model 130, 0 circuited\n",
      "28 seconds\n",
      "model 130, 0 tested: acc 0.7445887445887446, log-lik -29.753225544199434\n"
     ]
    },
    {
     "name": "stderr",
     "output_type": "stream",
     "text": [
      "\r",
      "  0%|                                                                                          | 0/130 [00:00<?, ?it/s]"
     ]
    },
    {
     "name": "stdout",
     "output_type": "stream",
     "text": [
      "28 seconds\n",
      "model 130, 1 fitted\n",
      "28 seconds\n"
     ]
    },
    {
     "name": "stderr",
     "output_type": "stream",
     "text": [
      "100%|███████████████████████████████████████████████████████████████████████████████| 130/130 [00:00<00:00, 489.80it/s]\n"
     ]
    },
    {
     "name": "stdout",
     "output_type": "stream",
     "text": [
      "model 130, 1 circuited\n",
      "29 seconds\n",
      "model 130, 1 tested: acc 0.7359307359307359, log-lik -29.750398927562973\n",
      "29 seconds\n"
     ]
    },
    {
     "name": "stderr",
     "output_type": "stream",
     "text": [
      " 32%|█████████████████████████▏                                                      | 41/130 [00:00<00:00, 406.70it/s]"
     ]
    },
    {
     "name": "stdout",
     "output_type": "stream",
     "text": [
      "model 130, 2 fitted\n",
      "29 seconds\n"
     ]
    },
    {
     "name": "stderr",
     "output_type": "stream",
     "text": [
      "100%|███████████████████████████████████████████████████████████████████████████████| 130/130 [00:00<00:00, 395.45it/s]\n"
     ]
    },
    {
     "name": "stdout",
     "output_type": "stream",
     "text": [
      "model 130, 2 circuited\n",
      "30 seconds\n",
      "model 130, 2 tested: acc 0.7272727272727273, log-lik -29.74279491250478\n",
      "30 seconds\n",
      "130 finished, 30 seconds\n",
      "Performance: [-29.753225544199434, -29.750398927562973, -29.74279491250478]\n"
     ]
    },
    {
     "name": "stderr",
     "output_type": "stream",
     "text": [
      " 24%|██████████████████▉                                                             | 32/135 [00:00<00:00, 281.15it/s]"
     ]
    },
    {
     "name": "stdout",
     "output_type": "stream",
     "text": [
      "model 135, 0 fitted\n",
      "30 seconds\n"
     ]
    },
    {
     "name": "stderr",
     "output_type": "stream",
     "text": [
      "100%|███████████████████████████████████████████████████████████████████████████████| 135/135 [00:00<00:00, 276.12it/s]\n"
     ]
    },
    {
     "name": "stdout",
     "output_type": "stream",
     "text": [
      "model 135, 0 circuited\n",
      "31 seconds\n",
      "model 135, 0 tested: acc 0.7445887445887446, log-lik -29.82420682488891\n",
      "31 seconds\n"
     ]
    },
    {
     "name": "stderr",
     "output_type": "stream",
     "text": [
      " 25%|████████████████████▏                                                           | 34/135 [00:00<00:00, 337.54it/s]"
     ]
    },
    {
     "name": "stdout",
     "output_type": "stream",
     "text": [
      "model 135, 1 fitted\n",
      "31 seconds\n"
     ]
    },
    {
     "name": "stderr",
     "output_type": "stream",
     "text": [
      "100%|███████████████████████████████████████████████████████████████████████████████| 135/135 [00:00<00:00, 351.98it/s]\n"
     ]
    },
    {
     "name": "stdout",
     "output_type": "stream",
     "text": [
      "model 135, 1 circuited\n",
      "32 seconds\n",
      "model 135, 1 tested: acc 0.7272727272727273, log-lik -29.747144533535256\n",
      "32 seconds\n"
     ]
    },
    {
     "name": "stderr",
     "output_type": "stream",
     "text": [
      " 19%|███████████████▍                                                                | 26/135 [00:00<00:00, 257.44it/s]"
     ]
    },
    {
     "name": "stdout",
     "output_type": "stream",
     "text": [
      "model 135, 2 fitted\n",
      "32 seconds\n"
     ]
    },
    {
     "name": "stderr",
     "output_type": "stream",
     "text": [
      "100%|███████████████████████████████████████████████████████████████████████████████| 135/135 [00:00<00:00, 214.27it/s]\n"
     ]
    },
    {
     "name": "stdout",
     "output_type": "stream",
     "text": [
      "model 135, 2 circuited\n",
      "33 seconds\n",
      "model 135, 2 tested: acc 0.7402597402597403, log-lik -29.46913956027451\n",
      "33 seconds\n",
      "135 finished, 33 seconds\n",
      "Performance: [-29.82420682488891, -29.747144533535256, -29.46913956027451]\n"
     ]
    },
    {
     "name": "stderr",
     "output_type": "stream",
     "text": [
      " 14%|██████████▊                                                                     | 19/140 [00:00<00:00, 134.74it/s]"
     ]
    },
    {
     "name": "stdout",
     "output_type": "stream",
     "text": [
      "model 140, 0 fitted\n",
      "33 seconds\n"
     ]
    },
    {
     "name": "stderr",
     "output_type": "stream",
     "text": [
      "100%|███████████████████████████████████████████████████████████████████████████████| 140/140 [00:00<00:00, 177.84it/s]\n"
     ]
    },
    {
     "name": "stdout",
     "output_type": "stream",
     "text": [
      "model 140, 0 circuited\n",
      "34 seconds\n",
      "model 140, 0 tested: acc 0.7402597402597403, log-lik -29.662273255532938\n",
      "35 seconds\n"
     ]
    },
    {
     "name": "stderr",
     "output_type": "stream",
     "text": [
      " 20%|████████████████                                                                | 28/140 [00:00<00:00, 276.52it/s]"
     ]
    },
    {
     "name": "stdout",
     "output_type": "stream",
     "text": [
      "model 140, 1 fitted\n",
      "35 seconds\n"
     ]
    },
    {
     "name": "stderr",
     "output_type": "stream",
     "text": [
      "100%|███████████████████████████████████████████████████████████████████████████████| 140/140 [00:00<00:00, 197.92it/s]\n"
     ]
    },
    {
     "name": "stdout",
     "output_type": "stream",
     "text": [
      "model 140, 1 circuited\n",
      "36 seconds\n",
      "model 140, 1 tested: acc 0.7316017316017316, log-lik -29.74541674699142\n",
      "36 seconds\n"
     ]
    },
    {
     "name": "stderr",
     "output_type": "stream",
     "text": [
      " 31%|████████████████████████▌                                                       | 43/140 [00:00<00:00, 425.71it/s]"
     ]
    },
    {
     "name": "stdout",
     "output_type": "stream",
     "text": [
      "model 140, 2 fitted\n",
      "37 seconds\n"
     ]
    },
    {
     "name": "stderr",
     "output_type": "stream",
     "text": [
      "100%|███████████████████████████████████████████████████████████████████████████████| 140/140 [00:00<00:00, 353.00it/s]\n"
     ]
    },
    {
     "name": "stdout",
     "output_type": "stream",
     "text": [
      "model 140, 2 circuited\n",
      "37 seconds\n",
      "model 140, 2 tested: acc 0.7359307359307359, log-lik -29.755659058584854\n",
      "37 seconds\n",
      "140 finished, 37 seconds\n",
      "Performance: [-29.662273255532938, -29.74541674699142, -29.755659058584854]\n"
     ]
    },
    {
     "name": "stderr",
     "output_type": "stream",
     "text": [
      " 28%|██████████████████████▌                                                         | 41/145 [00:00<00:00, 405.59it/s]"
     ]
    },
    {
     "name": "stdout",
     "output_type": "stream",
     "text": [
      "model 145, 0 fitted\n",
      "37 seconds\n"
     ]
    },
    {
     "name": "stderr",
     "output_type": "stream",
     "text": [
      "100%|███████████████████████████████████████████████████████████████████████████████| 145/145 [00:00<00:00, 363.23it/s]\n"
     ]
    },
    {
     "name": "stdout",
     "output_type": "stream",
     "text": [
      "model 145, 0 circuited\n",
      "38 seconds\n",
      "model 145, 0 tested: acc 0.7272727272727273, log-lik -29.33354537772507\n",
      "38 seconds\n"
     ]
    },
    {
     "name": "stderr",
     "output_type": "stream",
     "text": [
      " 14%|███████████▌                                                                    | 21/145 [00:00<00:00, 138.85it/s]"
     ]
    },
    {
     "name": "stdout",
     "output_type": "stream",
     "text": [
      "model 145, 1 fitted\n",
      "39 seconds\n"
     ]
    },
    {
     "name": "stderr",
     "output_type": "stream",
     "text": [
      "100%|███████████████████████████████████████████████████████████████████████████████| 145/145 [00:00<00:00, 253.66it/s]\n"
     ]
    },
    {
     "name": "stdout",
     "output_type": "stream",
     "text": [
      "model 145, 1 circuited\n",
      "39 seconds\n",
      "model 145, 1 tested: acc 0.7359307359307359, log-lik -29.740932920929566\n",
      "39 seconds\n"
     ]
    },
    {
     "name": "stderr",
     "output_type": "stream",
     "text": [
      " 13%|██████████▍                                                                     | 19/145 [00:00<00:00, 186.31it/s]"
     ]
    },
    {
     "name": "stdout",
     "output_type": "stream",
     "text": [
      "model 145, 2 fitted\n",
      "40 seconds\n"
     ]
    },
    {
     "name": "stderr",
     "output_type": "stream",
     "text": [
      "100%|███████████████████████████████████████████████████████████████████████████████| 145/145 [00:00<00:00, 233.54it/s]\n"
     ]
    },
    {
     "name": "stdout",
     "output_type": "stream",
     "text": [
      "model 145, 2 circuited\n",
      "41 seconds\n",
      "model 145, 2 tested: acc 0.7402597402597403, log-lik -29.742835799130724\n",
      "41 seconds\n",
      "145 finished, 41 seconds\n",
      "Performance: [-29.33354537772507, -29.740932920929566, -29.742835799130724]\n"
     ]
    },
    {
     "name": "stderr",
     "output_type": "stream",
     "text": [
      " 14%|███████████▏                                                                    | 21/150 [00:00<00:00, 209.25it/s]"
     ]
    },
    {
     "name": "stdout",
     "output_type": "stream",
     "text": [
      "model 150, 0 fitted\n",
      "41 seconds\n"
     ]
    },
    {
     "name": "stderr",
     "output_type": "stream",
     "text": [
      "100%|███████████████████████████████████████████████████████████████████████████████| 150/150 [00:00<00:00, 211.67it/s]\n"
     ]
    },
    {
     "name": "stdout",
     "output_type": "stream",
     "text": [
      "model 150, 0 circuited\n",
      "42 seconds\n",
      "model 150, 0 tested: acc 0.7402597402597403, log-lik -29.619772407404525\n",
      "42 seconds\n"
     ]
    },
    {
     "name": "stderr",
     "output_type": "stream",
     "text": [
      " 28%|██████████████████████▍                                                         | 42/150 [00:00<00:00, 418.69it/s]"
     ]
    },
    {
     "name": "stdout",
     "output_type": "stream",
     "text": [
      "model 150, 1 fitted\n",
      "43 seconds\n"
     ]
    },
    {
     "name": "stderr",
     "output_type": "stream",
     "text": [
      "100%|███████████████████████████████████████████████████████████████████████████████| 150/150 [00:00<00:00, 348.89it/s]\n"
     ]
    },
    {
     "name": "stdout",
     "output_type": "stream",
     "text": [
      "model 150, 1 circuited\n",
      "43 seconds\n",
      "model 150, 1 tested: acc 0.7316017316017316, log-lik -29.666529375511413\n",
      "43 seconds\n",
      "model 150, 2 fitted\n",
      "44 seconds\n"
     ]
    },
    {
     "name": "stderr",
     "output_type": "stream",
     "text": [
      "100%|███████████████████████████████████████████████████████████████████████████████| 150/150 [00:01<00:00, 133.27it/s]\n"
     ]
    },
    {
     "name": "stdout",
     "output_type": "stream",
     "text": [
      "model 150, 2 circuited\n",
      "46 seconds\n",
      "model 150, 2 tested: acc 0.748917748917749, log-lik -29.77954423193117\n",
      "47 seconds\n",
      "150 finished, 48 seconds\n",
      "Performance: [-29.619772407404525, -29.666529375511413, -29.77954423193117]\n"
     ]
    },
    {
     "name": "stderr",
     "output_type": "stream",
     "text": [
      "\r",
      "  0%|                                                                                          | 0/155 [00:00<?, ?it/s]"
     ]
    },
    {
     "name": "stdout",
     "output_type": "stream",
     "text": [
      "model 155, 0 fitted\n",
      "48 seconds\n"
     ]
    },
    {
     "name": "stderr",
     "output_type": "stream",
     "text": [
      "100%|███████████████████████████████████████████████████████████████████████████████| 155/155 [00:00<00:00, 160.73it/s]\n"
     ]
    },
    {
     "name": "stdout",
     "output_type": "stream",
     "text": [
      "model 155, 0 circuited\n",
      "49 seconds\n",
      "model 155, 0 tested: acc 0.7272727272727273, log-lik -29.801581768290827\n",
      "50 seconds\n"
     ]
    },
    {
     "name": "stderr",
     "output_type": "stream",
     "text": [
      " 19%|███████████████▍                                                                | 30/155 [00:00<00:00, 235.88it/s]"
     ]
    },
    {
     "name": "stdout",
     "output_type": "stream",
     "text": [
      "model 155, 1 fitted\n",
      "51 seconds\n"
     ]
    },
    {
     "name": "stderr",
     "output_type": "stream",
     "text": [
      "100%|███████████████████████████████████████████████████████████████████████████████| 155/155 [00:00<00:00, 195.21it/s]\n"
     ]
    },
    {
     "name": "stdout",
     "output_type": "stream",
     "text": [
      "model 155, 1 circuited\n",
      "51 seconds\n",
      "model 155, 1 tested: acc 0.7445887445887446, log-lik -29.73100484552454\n",
      "52 seconds\n"
     ]
    },
    {
     "name": "stderr",
     "output_type": "stream",
     "text": [
      "\r",
      "  0%|                                                                                          | 0/155 [00:00<?, ?it/s]"
     ]
    },
    {
     "name": "stdout",
     "output_type": "stream",
     "text": [
      "model 155, 2 fitted\n",
      "52 seconds\n"
     ]
    },
    {
     "name": "stderr",
     "output_type": "stream",
     "text": [
      "100%|███████████████████████████████████████████████████████████████████████████████| 155/155 [00:00<00:00, 178.38it/s]\n"
     ]
    },
    {
     "name": "stdout",
     "output_type": "stream",
     "text": [
      "model 155, 2 circuited\n",
      "53 seconds\n",
      "model 155, 2 tested: acc 0.7402597402597403, log-lik -28.900849470867957\n",
      "54 seconds\n",
      "155 finished, 54 seconds\n",
      "Performance: [-29.801581768290827, -29.73100484552454, -28.900849470867957]\n"
     ]
    },
    {
     "name": "stderr",
     "output_type": "stream",
     "text": [
      " 10%|████████                                                                        | 16/160 [00:00<00:01, 131.35it/s]"
     ]
    },
    {
     "name": "stdout",
     "output_type": "stream",
     "text": [
      "model 160, 0 fitted\n",
      "54 seconds\n"
     ]
    },
    {
     "name": "stderr",
     "output_type": "stream",
     "text": [
      "100%|███████████████████████████████████████████████████████████████████████████████| 160/160 [00:00<00:00, 203.56it/s]\n"
     ]
    },
    {
     "name": "stdout",
     "output_type": "stream",
     "text": [
      "model 160, 0 circuited\n",
      "55 seconds\n",
      "model 160, 0 tested: acc 0.7316017316017316, log-lik -29.797536653134262\n",
      "55 seconds\n"
     ]
    },
    {
     "name": "stderr",
     "output_type": "stream",
     "text": [
      " 13%|██████████▌                                                                     | 21/160 [00:00<00:00, 194.97it/s]"
     ]
    },
    {
     "name": "stdout",
     "output_type": "stream",
     "text": [
      "model 160, 1 fitted\n",
      "56 seconds\n"
     ]
    },
    {
     "name": "stderr",
     "output_type": "stream",
     "text": [
      "100%|███████████████████████████████████████████████████████████████████████████████| 160/160 [00:00<00:00, 275.21it/s]\n"
     ]
    },
    {
     "name": "stdout",
     "output_type": "stream",
     "text": [
      "model 160, 1 circuited\n",
      "56 seconds\n",
      "model 160, 1 tested: acc 0.7359307359307359, log-lik -29.776638582567386\n",
      "57 seconds\n"
     ]
    },
    {
     "name": "stderr",
     "output_type": "stream",
     "text": [
      " 12%|█████████▌                                                                      | 19/160 [00:00<00:00, 188.41it/s]"
     ]
    },
    {
     "name": "stdout",
     "output_type": "stream",
     "text": [
      "model 160, 2 fitted\n",
      "57 seconds\n"
     ]
    },
    {
     "name": "stderr",
     "output_type": "stream",
     "text": [
      "100%|███████████████████████████████████████████████████████████████████████████████| 160/160 [00:00<00:00, 223.48it/s]\n"
     ]
    },
    {
     "name": "stdout",
     "output_type": "stream",
     "text": [
      "model 160, 2 circuited\n",
      "58 seconds\n",
      "model 160, 2 tested: acc 0.7359307359307359, log-lik -29.74456976461271\n",
      "58 seconds\n",
      "160 finished, 59 seconds\n",
      "Performance: [-29.797536653134262, -29.776638582567386, -29.74456976461271]\n"
     ]
    },
    {
     "name": "stderr",
     "output_type": "stream",
     "text": [
      " 10%|███████▊                                                                        | 16/165 [00:00<00:00, 159.59it/s]"
     ]
    },
    {
     "name": "stdout",
     "output_type": "stream",
     "text": [
      "model 165, 0 fitted\n",
      "59 seconds\n"
     ]
    },
    {
     "name": "stderr",
     "output_type": "stream",
     "text": [
      "100%|███████████████████████████████████████████████████████████████████████████████| 165/165 [00:01<00:00, 153.66it/s]\n"
     ]
    },
    {
     "name": "stdout",
     "output_type": "stream",
     "text": [
      "model 165, 0 circuited\n",
      "60 seconds\n",
      "model 165, 0 tested: acc 0.7445887445887446, log-lik -29.72834053416001\n",
      "60 seconds\n"
     ]
    },
    {
     "name": "stderr",
     "output_type": "stream",
     "text": [
      " 19%|███████████████▌                                                                | 32/165 [00:00<00:00, 319.90it/s]"
     ]
    },
    {
     "name": "stdout",
     "output_type": "stream",
     "text": [
      "model 165, 1 fitted\n",
      "61 seconds\n"
     ]
    },
    {
     "name": "stderr",
     "output_type": "stream",
     "text": [
      "100%|███████████████████████████████████████████████████████████████████████████████| 165/165 [00:00<00:00, 240.46it/s]\n"
     ]
    },
    {
     "name": "stdout",
     "output_type": "stream",
     "text": [
      "model 165, 1 circuited\n",
      "62 seconds\n",
      "model 165, 1 tested: acc 0.7402597402597403, log-lik -29.78555163387861\n",
      "62 seconds\n"
     ]
    },
    {
     "name": "stderr",
     "output_type": "stream",
     "text": [
      "  5%|███▉                                                                              | 8/165 [00:00<00:02, 78.37it/s]"
     ]
    },
    {
     "name": "stdout",
     "output_type": "stream",
     "text": [
      "model 165, 2 fitted\n",
      "64 seconds\n"
     ]
    },
    {
     "name": "stderr",
     "output_type": "stream",
     "text": [
      "100%|███████████████████████████████████████████████████████████████████████████████| 165/165 [00:00<00:00, 171.09it/s]\n"
     ]
    },
    {
     "name": "stdout",
     "output_type": "stream",
     "text": [
      "model 165, 2 circuited\n",
      "65 seconds\n",
      "model 165, 2 tested: acc 0.7359307359307359, log-lik -29.76671994046192\n",
      "66 seconds\n",
      "165 finished, 66 seconds\n",
      "Performance: [-29.72834053416001, -29.78555163387861, -29.76671994046192]\n"
     ]
    },
    {
     "name": "stderr",
     "output_type": "stream",
     "text": [
      "\r",
      "  0%|                                                                                          | 0/170 [00:00<?, ?it/s]"
     ]
    },
    {
     "name": "stdout",
     "output_type": "stream",
     "text": [
      "model 170, 0 fitted\n",
      "66 seconds\n"
     ]
    },
    {
     "name": "stderr",
     "output_type": "stream",
     "text": [
      "100%|███████████████████████████████████████████████████████████████████████████████| 170/170 [00:00<00:00, 175.51it/s]\n"
     ]
    },
    {
     "name": "stdout",
     "output_type": "stream",
     "text": [
      "model 170, 0 circuited\n",
      "68 seconds\n",
      "model 170, 0 tested: acc 0.7316017316017316, log-lik -29.750854880797892\n",
      "68 seconds\n"
     ]
    },
    {
     "name": "stderr",
     "output_type": "stream",
     "text": [
      " 12%|█████████▍                                                                      | 20/170 [00:00<00:00, 169.95it/s]"
     ]
    },
    {
     "name": "stdout",
     "output_type": "stream",
     "text": [
      "model 170, 1 fitted\n",
      "69 seconds\n"
     ]
    },
    {
     "name": "stderr",
     "output_type": "stream",
     "text": [
      "100%|███████████████████████████████████████████████████████████████████████████████| 170/170 [00:00<00:00, 269.24it/s]\n"
     ]
    },
    {
     "name": "stdout",
     "output_type": "stream",
     "text": [
      "model 170, 1 circuited\n",
      "69 seconds\n",
      "model 170, 1 tested: acc 0.748917748917749, log-lik -29.745808962596847\n",
      "70 seconds\n"
     ]
    },
    {
     "name": "stderr",
     "output_type": "stream",
     "text": [
      " 24%|███████████████████▎                                                            | 41/170 [00:00<00:00, 369.80it/s]"
     ]
    },
    {
     "name": "stdout",
     "output_type": "stream",
     "text": [
      "model 170, 2 fitted\n",
      "70 seconds\n"
     ]
    },
    {
     "name": "stderr",
     "output_type": "stream",
     "text": [
      "100%|███████████████████████████████████████████████████████████████████████████████| 170/170 [00:00<00:00, 256.30it/s]\n"
     ]
    },
    {
     "name": "stdout",
     "output_type": "stream",
     "text": [
      "model 170, 2 circuited\n",
      "71 seconds\n",
      "model 170, 2 tested: acc 0.7402597402597403, log-lik -29.752108519676952\n",
      "71 seconds\n",
      "170 finished, 71 seconds\n",
      "Performance: [-29.750854880797892, -29.745808962596847, -29.752108519676952]\n"
     ]
    },
    {
     "name": "stderr",
     "output_type": "stream",
     "text": [
      " 18%|██████████████▋                                                                 | 32/175 [00:00<00:00, 316.98it/s]"
     ]
    },
    {
     "name": "stdout",
     "output_type": "stream",
     "text": [
      "model 175, 0 fitted\n",
      "71 seconds\n"
     ]
    },
    {
     "name": "stderr",
     "output_type": "stream",
     "text": [
      "100%|███████████████████████████████████████████████████████████████████████████████| 175/175 [00:00<00:00, 202.06it/s]\n"
     ]
    },
    {
     "name": "stdout",
     "output_type": "stream",
     "text": [
      "model 175, 0 circuited\n",
      "72 seconds\n",
      "model 175, 0 tested: acc 0.7619047619047619, log-lik -29.7735695660727\n",
      "73 seconds\n"
     ]
    },
    {
     "name": "stderr",
     "output_type": "stream",
     "text": [
      " 16%|████████████▊                                                                   | 28/175 [00:00<00:00, 277.98it/s]"
     ]
    },
    {
     "name": "stdout",
     "output_type": "stream",
     "text": [
      "model 175, 1 fitted\n",
      "73 seconds\n"
     ]
    },
    {
     "name": "stderr",
     "output_type": "stream",
     "text": [
      "100%|███████████████████████████████████████████████████████████████████████████████| 175/175 [00:00<00:00, 178.51it/s]\n"
     ]
    },
    {
     "name": "stdout",
     "output_type": "stream",
     "text": [
      "model 175, 1 circuited\n",
      "74 seconds\n",
      "model 175, 1 tested: acc 0.7445887445887446, log-lik -29.739791815440032\n",
      "75 seconds\n"
     ]
    },
    {
     "name": "stderr",
     "output_type": "stream",
     "text": [
      "\r",
      "  0%|                                                                                          | 0/175 [00:00<?, ?it/s]"
     ]
    },
    {
     "name": "stdout",
     "output_type": "stream",
     "text": [
      "model 175, 2 fitted\n",
      "75 seconds\n"
     ]
    },
    {
     "name": "stderr",
     "output_type": "stream",
     "text": [
      "100%|███████████████████████████████████████████████████████████████████████████████| 175/175 [00:00<00:00, 188.28it/s]\n"
     ]
    },
    {
     "name": "stdout",
     "output_type": "stream",
     "text": [
      "model 175, 2 circuited\n",
      "77 seconds\n",
      "model 175, 2 tested: acc 0.7402597402597403, log-lik -29.717068727977008\n",
      "77 seconds\n",
      "175 finished, 77 seconds\n",
      "Performance: [-29.7735695660727, -29.739791815440032, -29.717068727977008]\n"
     ]
    },
    {
     "name": "stderr",
     "output_type": "stream",
     "text": [
      " 19%|███████████████                                                                 | 34/180 [00:00<00:00, 334.62it/s]"
     ]
    },
    {
     "name": "stdout",
     "output_type": "stream",
     "text": [
      "model 180, 0 fitted\n",
      "77 seconds\n"
     ]
    },
    {
     "name": "stderr",
     "output_type": "stream",
     "text": [
      "100%|███████████████████████████████████████████████████████████████████████████████| 180/180 [00:01<00:00, 132.18it/s]\n"
     ]
    },
    {
     "name": "stdout",
     "output_type": "stream",
     "text": [
      "model 180, 0 circuited\n",
      "79 seconds\n",
      "model 180, 0 tested: acc 0.7445887445887446, log-lik -29.76620889445463\n",
      "79 seconds\n"
     ]
    },
    {
     "name": "stderr",
     "output_type": "stream",
     "text": [
      " 15%|████████████                                                                    | 27/180 [00:00<00:00, 265.40it/s]"
     ]
    },
    {
     "name": "stdout",
     "output_type": "stream",
     "text": [
      "model 180, 1 fitted\n",
      "79 seconds\n"
     ]
    },
    {
     "name": "stderr",
     "output_type": "stream",
     "text": [
      "100%|███████████████████████████████████████████████████████████████████████████████| 180/180 [00:00<00:00, 284.11it/s]\n"
     ]
    },
    {
     "name": "stdout",
     "output_type": "stream",
     "text": [
      "model 180, 1 circuited\n",
      "80 seconds\n",
      "model 180, 1 tested: acc 0.7359307359307359, log-lik -29.76273005993022\n",
      "80 seconds\n"
     ]
    },
    {
     "name": "stderr",
     "output_type": "stream",
     "text": [
      " 12%|█████████▎                                                                      | 21/180 [00:00<00:00, 195.20it/s]"
     ]
    },
    {
     "name": "stdout",
     "output_type": "stream",
     "text": [
      "model 180, 2 fitted\n",
      "81 seconds\n"
     ]
    },
    {
     "name": "stderr",
     "output_type": "stream",
     "text": [
      "100%|███████████████████████████████████████████████████████████████████████████████| 180/180 [00:00<00:00, 186.43it/s]\n"
     ]
    },
    {
     "name": "stdout",
     "output_type": "stream",
     "text": [
      "model 180, 2 circuited\n",
      "82 seconds\n",
      "model 180, 2 tested: acc 0.748917748917749, log-lik -29.75515875282142\n",
      "82 seconds\n",
      "180 finished, 82 seconds\n",
      "Performance: [-29.76620889445463, -29.76273005993022, -29.75515875282142]\n"
     ]
    },
    {
     "name": "stderr",
     "output_type": "stream",
     "text": [
      " 15%|███████████▋                                                                    | 27/185 [00:00<00:00, 262.84it/s]"
     ]
    },
    {
     "name": "stdout",
     "output_type": "stream",
     "text": [
      "model 185, 0 fitted\n",
      "83 seconds\n"
     ]
    },
    {
     "name": "stderr",
     "output_type": "stream",
     "text": [
      "100%|███████████████████████████████████████████████████████████████████████████████| 185/185 [00:00<00:00, 279.62it/s]\n"
     ]
    },
    {
     "name": "stdout",
     "output_type": "stream",
     "text": [
      "model 185, 0 circuited\n",
      "83 seconds\n",
      "model 185, 0 tested: acc 0.7402597402597403, log-lik -29.773821231643485\n",
      "84 seconds\n"
     ]
    },
    {
     "name": "stderr",
     "output_type": "stream",
     "text": [
      " 13%|██████████▍                                                                     | 24/185 [00:00<00:00, 239.41it/s]"
     ]
    },
    {
     "name": "stdout",
     "output_type": "stream",
     "text": [
      "model 185, 1 fitted\n",
      "84 seconds\n"
     ]
    },
    {
     "name": "stderr",
     "output_type": "stream",
     "text": [
      "100%|███████████████████████████████████████████████████████████████████████████████| 185/185 [00:00<00:00, 267.75it/s]\n"
     ]
    },
    {
     "name": "stdout",
     "output_type": "stream",
     "text": [
      "model 185, 1 circuited\n",
      "85 seconds\n",
      "model 185, 1 tested: acc 0.7445887445887446, log-lik -29.757348566031137\n",
      "85 seconds\n"
     ]
    },
    {
     "name": "stderr",
     "output_type": "stream",
     "text": [
      " 18%|██████████████▎                                                                 | 33/185 [00:00<00:00, 329.82it/s]"
     ]
    },
    {
     "name": "stdout",
     "output_type": "stream",
     "text": [
      "model 185, 2 fitted\n",
      "85 seconds\n"
     ]
    },
    {
     "name": "stderr",
     "output_type": "stream",
     "text": [
      "100%|███████████████████████████████████████████████████████████████████████████████| 185/185 [00:00<00:00, 277.50it/s]\n"
     ]
    },
    {
     "name": "stdout",
     "output_type": "stream",
     "text": [
      "model 185, 2 circuited\n",
      "86 seconds\n",
      "model 185, 2 tested: acc 0.7445887445887446, log-lik -29.74664541816847\n",
      "86 seconds\n",
      "185 finished, 86 seconds\n",
      "Performance: [-29.773821231643485, -29.757348566031137, -29.74664541816847]\n"
     ]
    },
    {
     "name": "stderr",
     "output_type": "stream",
     "text": [
      " 19%|███████████████▏                                                                | 36/190 [00:00<00:00, 355.87it/s]"
     ]
    },
    {
     "name": "stdout",
     "output_type": "stream",
     "text": [
      "model 190, 0 fitted\n",
      "87 seconds\n"
     ]
    },
    {
     "name": "stderr",
     "output_type": "stream",
     "text": [
      "100%|███████████████████████████████████████████████████████████████████████████████| 190/190 [00:00<00:00, 201.01it/s]\n"
     ]
    },
    {
     "name": "stdout",
     "output_type": "stream",
     "text": [
      "model 190, 0 circuited\n",
      "88 seconds\n",
      "model 190, 0 tested: acc 0.7402597402597403, log-lik -29.788741137376988\n",
      "88 seconds\n"
     ]
    },
    {
     "name": "stderr",
     "output_type": "stream",
     "text": [
      " 22%|█████████████████▋                                                              | 42/190 [00:00<00:00, 416.95it/s]"
     ]
    },
    {
     "name": "stdout",
     "output_type": "stream",
     "text": [
      "model 190, 1 fitted\n",
      "89 seconds\n"
     ]
    },
    {
     "name": "stderr",
     "output_type": "stream",
     "text": [
      "100%|███████████████████████████████████████████████████████████████████████████████| 190/190 [00:00<00:00, 207.46it/s]\n"
     ]
    },
    {
     "name": "stdout",
     "output_type": "stream",
     "text": [
      "model 190, 1 circuited\n",
      "90 seconds\n",
      "model 190, 1 tested: acc 0.7445887445887446, log-lik -29.7625967681735\n",
      "91 seconds\n"
     ]
    },
    {
     "name": "stderr",
     "output_type": "stream",
     "text": [
      " 21%|████████████████▊                                                               | 40/190 [00:00<00:00, 262.76it/s]"
     ]
    },
    {
     "name": "stdout",
     "output_type": "stream",
     "text": [
      "model 190, 2 fitted\n",
      "91 seconds\n"
     ]
    },
    {
     "name": "stderr",
     "output_type": "stream",
     "text": [
      "100%|███████████████████████████████████████████████████████████████████████████████| 190/190 [00:00<00:00, 289.11it/s]\n"
     ]
    },
    {
     "name": "stdout",
     "output_type": "stream",
     "text": [
      "model 190, 2 circuited\n",
      "92 seconds\n",
      "model 190, 2 tested: acc 0.7402597402597403, log-lik -29.78031178588017\n",
      "92 seconds\n",
      "190 finished, 92 seconds\n",
      "Performance: [-29.788741137376988, -29.7625967681735, -29.78031178588017]\n"
     ]
    },
    {
     "name": "stderr",
     "output_type": "stream",
     "text": [
      " 20%|████████████████                                                                | 39/195 [00:00<00:00, 383.15it/s]"
     ]
    },
    {
     "name": "stdout",
     "output_type": "stream",
     "text": [
      "model 195, 0 fitted\n",
      "92 seconds\n"
     ]
    },
    {
     "name": "stderr",
     "output_type": "stream",
     "text": [
      "100%|███████████████████████████████████████████████████████████████████████████████| 195/195 [00:01<00:00, 154.39it/s]\n"
     ]
    },
    {
     "name": "stdout",
     "output_type": "stream",
     "text": [
      "model 195, 0 circuited\n",
      "94 seconds\n",
      "model 195, 0 tested: acc 0.7402597402597403, log-lik -29.738055667715393\n",
      "94 seconds\n"
     ]
    },
    {
     "name": "stderr",
     "output_type": "stream",
     "text": [
      "  8%|██████▏                                                                         | 15/195 [00:00<00:01, 149.42it/s]"
     ]
    },
    {
     "name": "stdout",
     "output_type": "stream",
     "text": [
      "model 195, 1 fitted\n",
      "95 seconds\n"
     ]
    },
    {
     "name": "stderr",
     "output_type": "stream",
     "text": [
      "100%|███████████████████████████████████████████████████████████████████████████████| 195/195 [00:00<00:00, 302.58it/s]\n"
     ]
    },
    {
     "name": "stdout",
     "output_type": "stream",
     "text": [
      "model 195, 1 circuited\n",
      "96 seconds\n",
      "model 195, 1 tested: acc 0.7402597402597403, log-lik -29.76178258066902\n",
      "96 seconds\n"
     ]
    },
    {
     "name": "stderr",
     "output_type": "stream",
     "text": [
      " 18%|██████████████▎                                                                 | 35/195 [00:00<00:00, 335.74it/s]"
     ]
    },
    {
     "name": "stdout",
     "output_type": "stream",
     "text": [
      "model 195, 2 fitted\n",
      "96 seconds\n"
     ]
    },
    {
     "name": "stderr",
     "output_type": "stream",
     "text": [
      "100%|███████████████████████████████████████████████████████████████████████████████| 195/195 [00:00<00:00, 311.51it/s]\n"
     ]
    },
    {
     "name": "stdout",
     "output_type": "stream",
     "text": [
      "model 195, 2 circuited\n",
      "97 seconds\n",
      "model 195, 2 tested: acc 0.7359307359307359, log-lik -29.77293479063162\n",
      "97 seconds\n",
      "195 finished, 98 seconds\n",
      "Performance: [-29.738055667715393, -29.76178258066902, -29.77293479063162]\n"
     ]
    },
    {
     "name": "stderr",
     "output_type": "stream",
     "text": [
      " 19%|███████████████▏                                                                | 38/200 [00:00<00:00, 377.25it/s]"
     ]
    },
    {
     "name": "stdout",
     "output_type": "stream",
     "text": [
      "model 200, 0 fitted\n",
      "98 seconds\n"
     ]
    },
    {
     "name": "stderr",
     "output_type": "stream",
     "text": [
      "100%|███████████████████████████████████████████████████████████████████████████████| 200/200 [00:00<00:00, 328.18it/s]\n"
     ]
    },
    {
     "name": "stdout",
     "output_type": "stream",
     "text": [
      "model 200, 0 circuited\n",
      "99 seconds\n",
      "model 200, 0 tested: acc 0.7402597402597403, log-lik -29.777541905969667\n",
      "99 seconds\n"
     ]
    },
    {
     "name": "stderr",
     "output_type": "stream",
     "text": [
      " 15%|████████████                                                                    | 30/200 [00:00<00:00, 297.25it/s]"
     ]
    },
    {
     "name": "stdout",
     "output_type": "stream",
     "text": [
      "model 200, 1 fitted\n",
      "100 seconds\n"
     ]
    },
    {
     "name": "stderr",
     "output_type": "stream",
     "text": [
      "100%|███████████████████████████████████████████████████████████████████████████████| 200/200 [00:00<00:00, 286.93it/s]\n"
     ]
    },
    {
     "name": "stdout",
     "output_type": "stream",
     "text": [
      "model 200, 1 circuited\n",
      "100 seconds\n",
      "model 200, 1 tested: acc 0.7359307359307359, log-lik -29.76409338321239\n",
      "101 seconds\n"
     ]
    },
    {
     "name": "stderr",
     "output_type": "stream",
     "text": [
      " 44%|███████████████████████████████████▌                                            | 89/200 [00:00<00:00, 452.24it/s]"
     ]
    },
    {
     "name": "stdout",
     "output_type": "stream",
     "text": [
      "model 200, 2 fitted\n",
      "101 seconds\n"
     ]
    },
    {
     "name": "stderr",
     "output_type": "stream",
     "text": [
      "100%|███████████████████████████████████████████████████████████████████████████████| 200/200 [00:00<00:00, 484.71it/s]\n"
     ]
    },
    {
     "name": "stdout",
     "output_type": "stream",
     "text": [
      "model 200, 2 circuited\n",
      "102 seconds\n",
      "model 200, 2 tested: acc 0.7359307359307359, log-lik -29.800823603467585\n",
      "102"
     ]
    },
    {
     "name": "stderr",
     "output_type": "stream",
     "text": [
      "\r",
      "  0%|                                                                                          | 0/205 [00:00<?, ?it/s]"
     ]
    },
    {
     "name": "stdout",
     "output_type": "stream",
     "text": [
      " seconds\n",
      "200 finished, 102 seconds\n",
      "Performance: [-29.777541905969667, -29.76409338321239, -29.800823603467585]\n",
      "model 205, 0 fitted\n",
      "102 seconds\n"
     ]
    },
    {
     "name": "stderr",
     "output_type": "stream",
     "text": [
      "100%|███████████████████████████████████████████████████████████████████████████████| 205/205 [00:00<00:00, 588.89it/s]\n"
     ]
    },
    {
     "name": "stdout",
     "output_type": "stream",
     "text": [
      "model 205, 0 circuited\n",
      "102 seconds\n",
      "model 205, 0 tested: acc 0.7359307359307359, log-lik -29.765011636429918\n",
      "103 seconds\n"
     ]
    },
    {
     "name": "stderr",
     "output_type": "stream",
     "text": [
      "\r",
      "  0%|                                                                                          | 0/205 [00:00<?, ?it/s]"
     ]
    },
    {
     "name": "stdout",
     "output_type": "stream",
     "text": [
      "model 205, 1 fitted\n",
      "103 seconds\n"
     ]
    },
    {
     "name": "stderr",
     "output_type": "stream",
     "text": [
      "100%|███████████████████████████████████████████████████████████████████████████████| 205/205 [00:00<00:00, 285.65it/s]\n"
     ]
    },
    {
     "name": "stdout",
     "output_type": "stream",
     "text": [
      "model 205, 1 circuited\n",
      "104 seconds\n",
      "model 205, 1 tested: acc 0.7445887445887446, log-lik -29.74850443405222\n",
      "104 seconds\n"
     ]
    },
    {
     "name": "stderr",
     "output_type": "stream",
     "text": [
      " 17%|█████████████▎                                                                  | 34/205 [00:00<00:00, 337.54it/s]"
     ]
    },
    {
     "name": "stdout",
     "output_type": "stream",
     "text": [
      "model 205, 2 fitted\n",
      "105 seconds\n"
     ]
    },
    {
     "name": "stderr",
     "output_type": "stream",
     "text": [
      "100%|███████████████████████████████████████████████████████████████████████████████| 205/205 [00:00<00:00, 250.62it/s]\n"
     ]
    },
    {
     "name": "stdout",
     "output_type": "stream",
     "text": [
      "model 205, 2 circuited\n",
      "106 seconds\n",
      "model 205, 2 tested: acc 0.7316017316017316, log-lik -29.769285543343162\n",
      "106 seconds\n",
      "205 finished, 107 seconds\n",
      "Performance: [-29.765011636429918, -29.74850443405222, -29.769285543343162]\n"
     ]
    },
    {
     "name": "stderr",
     "output_type": "stream",
     "text": [
      " 23%|██████████████████▋                                                             | 49/210 [00:00<00:00, 480.47it/s]"
     ]
    },
    {
     "name": "stdout",
     "output_type": "stream",
     "text": [
      "model 210, 0 fitted\n",
      "107 seconds\n"
     ]
    },
    {
     "name": "stderr",
     "output_type": "stream",
     "text": [
      "100%|███████████████████████████████████████████████████████████████████████████████| 210/210 [00:00<00:00, 328.20it/s]\n"
     ]
    },
    {
     "name": "stdout",
     "output_type": "stream",
     "text": [
      "model 210, 0 circuited\n",
      "107 seconds\n",
      "model 210, 0 tested: acc 0.7359307359307359, log-lik -29.770055581543158\n",
      "108 seconds\n"
     ]
    },
    {
     "name": "stderr",
     "output_type": "stream",
     "text": [
      " 22%|█████████████████▌                                                              | 46/210 [00:00<00:00, 456.67it/s]"
     ]
    },
    {
     "name": "stdout",
     "output_type": "stream",
     "text": [
      "model 210, 1 fitted\n",
      "108 seconds\n"
     ]
    },
    {
     "name": "stderr",
     "output_type": "stream",
     "text": [
      "100%|███████████████████████████████████████████████████████████████████████████████| 210/210 [00:00<00:00, 563.00it/s]\n"
     ]
    },
    {
     "name": "stdout",
     "output_type": "stream",
     "text": [
      "model 210, 1 circuited\n",
      "108 seconds\n",
      "model 210, 1 tested: acc 0.7402597402597403, log-lik -29.758861811101703\n",
      "109 seconds\n"
     ]
    },
    {
     "name": "stderr",
     "output_type": "stream",
     "text": [
      " 41%|████████████████████████████████▊                                               | 86/210 [00:00<00:00, 853.73it/s]"
     ]
    },
    {
     "name": "stdout",
     "output_type": "stream",
     "text": [
      "model 210, 2 fitted\n",
      "109 seconds\n"
     ]
    },
    {
     "name": "stderr",
     "output_type": "stream",
     "text": [
      "100%|███████████████████████████████████████████████████████████████████████████████| 210/210 [00:00<00:00, 728.59it/s]\n"
     ]
    },
    {
     "name": "stdout",
     "output_type": "stream",
     "text": [
      "model 210, 2 circuited\n",
      "109 seconds\n",
      "model 210, 2 tested: acc 0.7316017316017316, log-lik -29.756163979100542\n",
      "109 seconds\n"
     ]
    },
    {
     "name": "stderr",
     "output_type": "stream",
     "text": [
      "\r",
      "  0%|                                                                                          | 0/215 [00:00<?, ?it/s]"
     ]
    },
    {
     "name": "stdout",
     "output_type": "stream",
     "text": [
      "210 finished, 109 seconds\n",
      "Performance: [-29.770055581543158, -29.758861811101703, -29.756163979100542]\n",
      "model 215, 0 fitted\n",
      "109 seconds\n"
     ]
    },
    {
     "name": "stderr",
     "output_type": "stream",
     "text": [
      "100%|███████████████████████████████████████████████████████████████████████████████| 215/215 [00:00<00:00, 642.47it/s]\n"
     ]
    },
    {
     "name": "stdout",
     "output_type": "stream",
     "text": [
      "model 215, 0 circuited\n",
      "110 seconds\n",
      "model 215, 0 tested: acc 0.7142857142857143, log-lik -29.73015992748009\n",
      "110 seconds\n"
     ]
    },
    {
     "name": "stderr",
     "output_type": "stream",
     "text": [
      " 40%|████████████████████████████████                                                | 86/215 [00:00<00:00, 428.64it/s]"
     ]
    },
    {
     "name": "stdout",
     "output_type": "stream",
     "text": [
      "model 215, 1 fitted\n",
      "110 seconds\n"
     ]
    },
    {
     "name": "stderr",
     "output_type": "stream",
     "text": [
      "100%|███████████████████████████████████████████████████████████████████████████████| 215/215 [00:00<00:00, 441.75it/s]\n"
     ]
    },
    {
     "name": "stdout",
     "output_type": "stream",
     "text": [
      "model 215, 1 circuited\n",
      "111 seconds\n",
      "model 215, 1 tested: acc 0.7359307359307359, log-lik -29.780797560072166\n",
      "111 seconds\n"
     ]
    },
    {
     "name": "stderr",
     "output_type": "stream",
     "text": [
      " 20%|███████████████▋                                                                | 42/215 [00:00<00:00, 414.69it/s]"
     ]
    },
    {
     "name": "stdout",
     "output_type": "stream",
     "text": [
      "model 215, 2 fitted\n",
      "111 seconds\n"
     ]
    },
    {
     "name": "stderr",
     "output_type": "stream",
     "text": [
      "100%|███████████████████████████████████████████████████████████████████████████████| 215/215 [00:00<00:00, 500.59it/s]\n"
     ]
    },
    {
     "name": "stdout",
     "output_type": "stream",
     "text": [
      "model 215, 2 circuited\n",
      "112 seconds\n",
      "model 215, 2 tested: acc 0.7402597402597403, log-lik -29.61308226579425\n",
      "112 seconds\n",
      "215 finished, 112 seconds\n",
      "Performance: [-29.73015992748009, -29.780797560072166, -29.61308226579425]\n"
     ]
    },
    {
     "name": "stderr",
     "output_type": "stream",
     "text": [
      " 25%|███████████████████▋                                                            | 54/220 [00:00<00:00, 536.08it/s]"
     ]
    },
    {
     "name": "stdout",
     "output_type": "stream",
     "text": [
      "model 220, 0 fitted\n",
      "112 seconds\n"
     ]
    },
    {
     "name": "stderr",
     "output_type": "stream",
     "text": [
      "100%|███████████████████████████████████████████████████████████████████████████████| 220/220 [00:00<00:00, 473.86it/s]\n"
     ]
    },
    {
     "name": "stdout",
     "output_type": "stream",
     "text": [
      "model 220, 0 circuited\n",
      "113 seconds\n",
      "model 220, 0 tested: acc 0.7402597402597403, log-lik -29.79980981525684\n",
      "113 seconds\n"
     ]
    },
    {
     "name": "stderr",
     "output_type": "stream",
     "text": [
      " 31%|█████████████████████████                                                       | 69/220 [00:00<00:00, 684.85it/s]"
     ]
    },
    {
     "name": "stdout",
     "output_type": "stream",
     "text": [
      "model 220, 1 fitted\n",
      "113 seconds\n"
     ]
    },
    {
     "name": "stderr",
     "output_type": "stream",
     "text": [
      "100%|███████████████████████████████████████████████████████████████████████████████| 220/220 [00:00<00:00, 642.73it/s]\n"
     ]
    },
    {
     "name": "stdout",
     "output_type": "stream",
     "text": [
      "model 220, 1 circuited\n",
      "114 seconds\n",
      "model 220, 1 tested: acc 0.7359307359307359, log-lik -29.72483927690025\n",
      "114 seconds\n"
     ]
    },
    {
     "name": "stderr",
     "output_type": "stream",
     "text": [
      " 56%|████████████████████████████████████████████▏                                  | 123/220 [00:00<00:00, 608.94it/s]"
     ]
    },
    {
     "name": "stdout",
     "output_type": "stream",
     "text": [
      "model 220, 2 fitted\n",
      "114 seconds\n"
     ]
    },
    {
     "name": "stderr",
     "output_type": "stream",
     "text": [
      "100%|███████████████████████████████████████████████████████████████████████████████| 220/220 [00:00<00:00, 619.33it/s]\n"
     ]
    },
    {
     "name": "stdout",
     "output_type": "stream",
     "text": [
      "model 220, 2 circuited\n",
      "115 seconds\n",
      "model 220, 2 tested: acc 0.7402597402597403, log-lik -29.769632913068744\n",
      "115 seconds\n",
      "220 finished, 115 seconds\n",
      "Performance: [-29.79980981525684, -29.72483927690025, -29.769632913068744]\n"
     ]
    },
    {
     "name": "stderr",
     "output_type": "stream",
     "text": [
      " 32%|█████████████████████████▌                                                      | 72/225 [00:00<00:00, 707.47it/s]"
     ]
    },
    {
     "name": "stdout",
     "output_type": "stream",
     "text": [
      "model 225, 0 fitted\n",
      "115 seconds\n"
     ]
    },
    {
     "name": "stderr",
     "output_type": "stream",
     "text": [
      "100%|███████████████████████████████████████████████████████████████████████████████| 225/225 [00:00<00:00, 437.55it/s]\n"
     ]
    },
    {
     "name": "stdout",
     "output_type": "stream",
     "text": [
      "model 225, 0 circuited\n",
      "115 seconds\n",
      "model 225, 0 tested: acc 0.7402597402597403, log-lik -29.769586535147912\n",
      "116 seconds\n"
     ]
    },
    {
     "name": "stderr",
     "output_type": "stream",
     "text": [
      " 30%|███████████████████████▊                                                        | 67/225 [00:00<00:00, 667.95it/s]"
     ]
    },
    {
     "name": "stdout",
     "output_type": "stream",
     "text": [
      "model 225, 1 fitted\n",
      "116 seconds\n"
     ]
    },
    {
     "name": "stderr",
     "output_type": "stream",
     "text": [
      "100%|███████████████████████████████████████████████████████████████████████████████| 225/225 [00:00<00:00, 533.24it/s]\n"
     ]
    },
    {
     "name": "stdout",
     "output_type": "stream",
     "text": [
      "model 225, 1 circuited\n",
      "116 seconds\n",
      "model 225, 1 tested: acc 0.7445887445887446, log-lik -29.768411231447306\n",
      "117 seconds\n"
     ]
    },
    {
     "name": "stderr",
     "output_type": "stream",
     "text": [
      " 22%|█████████████████▍                                                              | 49/225 [00:00<00:00, 488.80it/s]"
     ]
    },
    {
     "name": "stdout",
     "output_type": "stream",
     "text": [
      "model 225, 2 fitted\n",
      "117 seconds\n"
     ]
    },
    {
     "name": "stderr",
     "output_type": "stream",
     "text": [
      "100%|███████████████████████████████████████████████████████████████████████████████| 225/225 [00:00<00:00, 516.92it/s]\n"
     ]
    },
    {
     "name": "stdout",
     "output_type": "stream",
     "text": [
      "model 225, 2 circuited\n",
      "117 seconds\n",
      "model 225, 2 tested: acc 0.7402597402597403, log-lik -29.755499839749604\n",
      "118 seconds\n",
      "225 finished, 118 seconds\n",
      "Performance: [-29.769586535147912, -29.768411231447306, -29.755499839749604]\n"
     ]
    },
    {
     "name": "stderr",
     "output_type": "stream",
     "text": [
      " 53%|██████████████████████████████████████████▏                                    | 123/230 [00:00<00:00, 621.57it/s]"
     ]
    },
    {
     "name": "stdout",
     "output_type": "stream",
     "text": [
      "model 230, 0 fitted\n",
      "118 seconds\n"
     ]
    },
    {
     "name": "stderr",
     "output_type": "stream",
     "text": [
      "100%|███████████████████████████████████████████████████████████████████████████████| 230/230 [00:00<00:00, 606.28it/s]\n"
     ]
    },
    {
     "name": "stdout",
     "output_type": "stream",
     "text": [
      "model 230, 0 circuited\n",
      "118 seconds\n",
      "model 230, 0 tested: acc 0.7402597402597403, log-lik -29.764304027936912\n",
      "119 seconds\n"
     ]
    },
    {
     "name": "stderr",
     "output_type": "stream",
     "text": [
      " 27%|█████████████████████▏                                                          | 61/230 [00:00<00:00, 582.18it/s]"
     ]
    },
    {
     "name": "stdout",
     "output_type": "stream",
     "text": [
      "model 230, 1 fitted\n",
      "119 seconds\n"
     ]
    },
    {
     "name": "stderr",
     "output_type": "stream",
     "text": [
      "100%|███████████████████████████████████████████████████████████████████████████████| 230/230 [00:00<00:00, 595.83it/s]\n"
     ]
    },
    {
     "name": "stdout",
     "output_type": "stream",
     "text": [
      "model 230, 1 circuited\n",
      "119 seconds\n",
      "model 230, 1 tested: acc 0.7359307359307359, log-lik -29.790249887874158\n",
      "119 seconds\n"
     ]
    },
    {
     "name": "stderr",
     "output_type": "stream",
     "text": [
      " 30%|███████████████████████▋                                                        | 68/230 [00:00<00:00, 675.07it/s]"
     ]
    },
    {
     "name": "stdout",
     "output_type": "stream",
     "text": [
      "model 230, 2 fitted\n",
      "120 seconds\n"
     ]
    },
    {
     "name": "stderr",
     "output_type": "stream",
     "text": [
      "100%|███████████████████████████████████████████████████████████████████████████████| 230/230 [00:00<00:00, 629.40it/s]\n"
     ]
    },
    {
     "name": "stdout",
     "output_type": "stream",
     "text": [
      "model 230, 2 circuited\n",
      "120 seconds\n",
      "model 230, 2 tested: acc 0.7402597402597403, log-lik -29.01385755799713\n",
      "120 seconds\n",
      "230 finished, 120 seconds\n",
      "Performance: [-29.764304027936912, -29.790249887874158, -29.01385755799713]\n"
     ]
    },
    {
     "name": "stderr",
     "output_type": "stream",
     "text": [
      " 31%|████████████████████████▌                                                       | 72/235 [00:00<00:00, 714.86it/s]"
     ]
    },
    {
     "name": "stdout",
     "output_type": "stream",
     "text": [
      "model 235, 0 fitted\n",
      "120 seconds\n"
     ]
    },
    {
     "name": "stderr",
     "output_type": "stream",
     "text": [
      "100%|███████████████████████████████████████████████████████████████████████████████| 235/235 [00:00<00:00, 619.18it/s]\n"
     ]
    },
    {
     "name": "stdout",
     "output_type": "stream",
     "text": [
      "model 235, 0 circuited\n",
      "121 seconds\n",
      "model 235, 0 tested: acc 0.7359307359307359, log-lik -29.762913114372612\n",
      "121 seconds\n"
     ]
    },
    {
     "name": "stderr",
     "output_type": "stream",
     "text": [
      " 27%|█████████████████████▍                                                          | 63/235 [00:00<00:00, 627.76it/s]"
     ]
    },
    {
     "name": "stdout",
     "output_type": "stream",
     "text": [
      "model 235, 1 fitted\n",
      "121 seconds\n"
     ]
    },
    {
     "name": "stderr",
     "output_type": "stream",
     "text": [
      "100%|███████████████████████████████████████████████████████████████████████████████| 235/235 [00:00<00:00, 654.24it/s]\n"
     ]
    },
    {
     "name": "stdout",
     "output_type": "stream",
     "text": [
      "model 235, 1 circuited\n",
      "122 seconds\n",
      "model 235, 1 tested: acc 0.7445887445887446, log-lik -29.731560189577422\n",
      "122 seconds\n"
     ]
    },
    {
     "name": "stderr",
     "output_type": "stream",
     "text": [
      " 30%|███████████████████████▊                                                        | 70/235 [00:00<00:00, 694.93it/s]"
     ]
    },
    {
     "name": "stdout",
     "output_type": "stream",
     "text": [
      "model 235, 2 fitted\n",
      "122 seconds\n"
     ]
    },
    {
     "name": "stderr",
     "output_type": "stream",
     "text": [
      "100%|███████████████████████████████████████████████████████████████████████████████| 235/235 [00:00<00:00, 648.16it/s]\n"
     ]
    },
    {
     "name": "stdout",
     "output_type": "stream",
     "text": [
      "model 235, 2 circuited\n",
      "123 seconds\n",
      "model 235, 2 tested: acc 0.7445887445887446, log-lik -29.782334972374596\n",
      "123 seconds\n"
     ]
    },
    {
     "name": "stderr",
     "output_type": "stream",
     "text": [
      "\r",
      "  0%|                                                                                          | 0/240 [00:00<?, ?it/s]"
     ]
    },
    {
     "name": "stdout",
     "output_type": "stream",
     "text": [
      "235 finished, 123 seconds\n",
      "Performance: [-29.762913114372612, -29.731560189577422, -29.782334972374596]\n",
      "model 240, 0 fitted\n",
      "123 seconds\n"
     ]
    },
    {
     "name": "stderr",
     "output_type": "stream",
     "text": [
      "100%|███████████████████████████████████████████████████████████████████████████████| 240/240 [00:00<00:00, 603.94it/s]\n"
     ]
    },
    {
     "name": "stdout",
     "output_type": "stream",
     "text": [
      "model 240, 0 circuited\n",
      "123 seconds\n",
      "model 240, 0 tested: acc 0.7359307359307359, log-lik -29.782932671440502\n",
      "124 seconds\n"
     ]
    },
    {
     "name": "stderr",
     "output_type": "stream",
     "text": [
      " 30%|████████████████████████                                                        | 72/240 [00:00<00:00, 707.69it/s]"
     ]
    },
    {
     "name": "stdout",
     "output_type": "stream",
     "text": [
      "model 240, 1 fitted\n",
      "124 seconds\n"
     ]
    },
    {
     "name": "stderr",
     "output_type": "stream",
     "text": [
      "100%|███████████████████████████████████████████████████████████████████████████████| 240/240 [00:00<00:00, 648.57it/s]\n"
     ]
    },
    {
     "name": "stdout",
     "output_type": "stream",
     "text": [
      "model 240, 1 circuited\n",
      "124 seconds\n",
      "model 240, 1 tested: acc 0.7272727272727273, log-lik -29.77657978614274\n",
      "125 seconds\n"
     ]
    },
    {
     "name": "stderr",
     "output_type": "stream",
     "text": [
      " 31%|█████████████████████████                                                       | 75/240 [00:00<00:00, 730.02it/s]"
     ]
    },
    {
     "name": "stdout",
     "output_type": "stream",
     "text": [
      "model 240, 2 fitted\n",
      "125 seconds\n"
     ]
    },
    {
     "name": "stderr",
     "output_type": "stream",
     "text": [
      "100%|███████████████████████████████████████████████████████████████████████████████| 240/240 [00:00<00:00, 685.79it/s]\n"
     ]
    },
    {
     "name": "stdout",
     "output_type": "stream",
     "text": [
      "model 240, 2 circuited\n",
      "125 seconds\n",
      "model 240, 2 tested: acc 0.7445887445887446, log-lik -29.794440830385167\n",
      "126 seconds\n",
      "240 finished, 126 seconds\n",
      "Performance: [-29.782932671440502, -29.77657978614274, -29.794440830385167]\n"
     ]
    },
    {
     "name": "stderr",
     "output_type": "stream",
     "text": [
      " 25%|███████████████████▉                                                            | 61/245 [00:00<00:00, 602.40it/s]"
     ]
    },
    {
     "name": "stdout",
     "output_type": "stream",
     "text": [
      "model 245, 0 fitted\n",
      "126 seconds\n"
     ]
    },
    {
     "name": "stderr",
     "output_type": "stream",
     "text": [
      "100%|███████████████████████████████████████████████████████████████████████████████| 245/245 [00:00<00:00, 734.32it/s]\n"
     ]
    },
    {
     "name": "stdout",
     "output_type": "stream",
     "text": [
      "model 245, 0 circuited\n",
      "126 seconds\n",
      "model 245, 0 tested: acc 0.7445887445887446, log-lik -29.570392564550744\n",
      "126 seconds\n",
      "model 245, 1 fitted\n",
      "127 seconds\n"
     ]
    },
    {
     "name": "stderr",
     "output_type": "stream",
     "text": [
      "100%|███████████████████████████████████████████████████████████████████████████████| 245/245 [00:00<00:00, 698.81it/s]\n"
     ]
    },
    {
     "name": "stdout",
     "output_type": "stream",
     "text": [
      "model 245, 1 circuited\n",
      "127 seconds\n",
      "model 245, 1 tested: acc 0.7316017316017316, log-lik -29.749599969751916\n",
      "127 seconds\n"
     ]
    },
    {
     "name": "stderr",
     "output_type": "stream",
     "text": [
      " 35%|███████████████████████████▊                                                    | 85/245 [00:00<00:00, 843.84it/s]"
     ]
    },
    {
     "name": "stdout",
     "output_type": "stream",
     "text": [
      "model 245, 2 fitted\n",
      "128 seconds\n"
     ]
    },
    {
     "name": "stderr",
     "output_type": "stream",
     "text": [
      "100%|███████████████████████████████████████████████████████████████████████████████| 245/245 [00:00<00:00, 768.77it/s]\n"
     ]
    },
    {
     "name": "stdout",
     "output_type": "stream",
     "text": [
      "model 245, 2 circuited\n",
      "128 seconds\n",
      "model 245, 2 tested: acc 0.7445887445887446, log-lik -29.693551264673413\n",
      "128 seconds\n"
     ]
    },
    {
     "name": "stderr",
     "output_type": "stream",
     "text": [
      " 32%|█████████████████████████▌                                                      | 80/250 [00:00<00:00, 794.17it/s]"
     ]
    },
    {
     "name": "stdout",
     "output_type": "stream",
     "text": [
      "245 finished, 128 seconds\n",
      "Performance: [-29.570392564550744, -29.749599969751916, -29.693551264673413]\n",
      "model 250, 0 fitted\n",
      "128 seconds\n"
     ]
    },
    {
     "name": "stderr",
     "output_type": "stream",
     "text": [
      "100%|███████████████████████████████████████████████████████████████████████████████| 250/250 [00:00<00:00, 723.30it/s]\n"
     ]
    },
    {
     "name": "stdout",
     "output_type": "stream",
     "text": [
      "model 250, 0 circuited\n",
      "129 seconds\n",
      "model 250, 0 tested: acc 0.7359307359307359, log-lik -29.788471567811914\n",
      "129 seconds\n"
     ]
    },
    {
     "name": "stderr",
     "output_type": "stream",
     "text": [
      " 31%|████████████████████████▋                                                       | 77/250 [00:00<00:00, 764.43it/s]"
     ]
    },
    {
     "name": "stdout",
     "output_type": "stream",
     "text": [
      "model 250, 1 fitted\n",
      "129 seconds\n"
     ]
    },
    {
     "name": "stderr",
     "output_type": "stream",
     "text": [
      "100%|███████████████████████████████████████████████████████████████████████████████| 250/250 [00:00<00:00, 693.36it/s]\n"
     ]
    },
    {
     "name": "stdout",
     "output_type": "stream",
     "text": [
      "model 250, 1 circuited\n",
      "129 seconds\n",
      "model 250, 1 tested: acc 0.748917748917749, log-lik -29.668938460044696\n",
      "130 seconds\n"
     ]
    },
    {
     "name": "stderr",
     "output_type": "stream",
     "text": [
      " 50%|███████████████████████████████████████▊                                       | 126/250 [00:00<00:00, 625.32it/s]"
     ]
    },
    {
     "name": "stdout",
     "output_type": "stream",
     "text": [
      "model 250, 2 fitted\n",
      "130 seconds\n"
     ]
    },
    {
     "name": "stderr",
     "output_type": "stream",
     "text": [
      "100%|███████████████████████████████████████████████████████████████████████████████| 250/250 [00:00<00:00, 630.56it/s]\n"
     ]
    },
    {
     "name": "stdout",
     "output_type": "stream",
     "text": [
      "model 250, 2 circuited\n",
      "130 seconds\n",
      "model 250, 2 tested: acc 0.7359307359307359, log-lik -29.75274487235984\n",
      "131 seconds\n",
      "250 finished, 131 seconds\n",
      "Performance: [-29.788471567811914, -29.668938460044696, -29.75274487235984]\n"
     ]
    },
    {
     "name": "stderr",
     "output_type": "stream",
     "text": [
      " 27%|█████████████████████▉                                                          | 70/255 [00:00<00:00, 668.46it/s]"
     ]
    },
    {
     "name": "stdout",
     "output_type": "stream",
     "text": [
      "model 255, 0 fitted\n",
      "131 seconds\n"
     ]
    },
    {
     "name": "stderr",
     "output_type": "stream",
     "text": [
      "100%|███████████████████████████████████████████████████████████████████████████████| 255/255 [00:00<00:00, 623.67it/s]\n"
     ]
    },
    {
     "name": "stdout",
     "output_type": "stream",
     "text": [
      "model 255, 0 circuited\n",
      "131 seconds\n",
      "model 255, 0 tested: acc 0.7402597402597403, log-lik -29.76734787890067\n",
      "131 seconds\n"
     ]
    },
    {
     "name": "stderr",
     "output_type": "stream",
     "text": [
      " 28%|██████████████████████▌                                                         | 72/255 [00:00<00:00, 714.69it/s]"
     ]
    },
    {
     "name": "stdout",
     "output_type": "stream",
     "text": [
      "model 255, 1 fitted\n",
      "132 seconds\n"
     ]
    },
    {
     "name": "stderr",
     "output_type": "stream",
     "text": [
      "100%|███████████████████████████████████████████████████████████████████████████████| 255/255 [00:00<00:00, 617.45it/s]\n"
     ]
    },
    {
     "name": "stdout",
     "output_type": "stream",
     "text": [
      "model 255, 1 circuited\n",
      "132 seconds\n",
      "model 255, 1 tested: acc 0.7272727272727273, log-lik -29.407205334479915\n",
      "132 seconds\n"
     ]
    },
    {
     "name": "stderr",
     "output_type": "stream",
     "text": [
      " 43%|█████████████████████████████████▊                                             | 109/255 [00:00<00:00, 564.03it/s]"
     ]
    },
    {
     "name": "stdout",
     "output_type": "stream",
     "text": [
      "model 255, 2 fitted\n",
      "133 seconds\n"
     ]
    },
    {
     "name": "stderr",
     "output_type": "stream",
     "text": [
      "100%|███████████████████████████████████████████████████████████████████████████████| 255/255 [00:00<00:00, 595.92it/s]\n"
     ]
    },
    {
     "name": "stdout",
     "output_type": "stream",
     "text": [
      "model 255, 2 circuited\n",
      "133 seconds\n",
      "model 255, 2 tested: acc 0.7402597402597403, log-lik -29.781136195442958\n",
      "133 seconds\n",
      "255 finished, 133 seconds\n",
      "Performance: [-29.76734787890067, -29.407205334479915, -29.781136195442958]\n"
     ]
    },
    {
     "name": "stderr",
     "output_type": "stream",
     "text": [
      " 11%|████████▌                                                                       | 28/260 [00:00<00:01, 209.52it/s]"
     ]
    },
    {
     "name": "stdout",
     "output_type": "stream",
     "text": [
      "model 260, 0 fitted\n",
      "134 seconds\n"
     ]
    },
    {
     "name": "stderr",
     "output_type": "stream",
     "text": [
      "100%|███████████████████████████████████████████████████████████████████████████████| 260/260 [00:01<00:00, 242.23it/s]\n"
     ]
    },
    {
     "name": "stdout",
     "output_type": "stream",
     "text": [
      "model 260, 0 circuited\n",
      "135 seconds\n",
      "model 260, 0 tested: acc 0.7402597402597403, log-lik -29.31434730661535\n",
      "135 seconds\n"
     ]
    },
    {
     "name": "stderr",
     "output_type": "stream",
     "text": [
      " 45%|███████████████████████████████████▏                                           | 116/260 [00:00<00:00, 570.14it/s]"
     ]
    },
    {
     "name": "stdout",
     "output_type": "stream",
     "text": [
      "model 260, 1 fitted\n",
      "135 seconds\n"
     ]
    },
    {
     "name": "stderr",
     "output_type": "stream",
     "text": [
      "100%|███████████████████████████████████████████████████████████████████████████████| 260/260 [00:00<00:00, 571.69it/s]\n"
     ]
    },
    {
     "name": "stdout",
     "output_type": "stream",
     "text": [
      "model 260, 1 circuited\n",
      "136 seconds\n",
      "model 260, 1 tested: acc 0.7402597402597403, log-lik -29.768199592422864\n",
      "136 seconds\n"
     ]
    },
    {
     "name": "stderr",
     "output_type": "stream",
     "text": [
      " 31%|████████████████████████▉                                                       | 81/260 [00:00<00:00, 804.27it/s]"
     ]
    },
    {
     "name": "stdout",
     "output_type": "stream",
     "text": [
      "model 260, 2 fitted\n",
      "136 seconds\n"
     ]
    },
    {
     "name": "stderr",
     "output_type": "stream",
     "text": [
      "100%|███████████████████████████████████████████████████████████████████████████████| 260/260 [00:00<00:00, 624.39it/s]\n"
     ]
    },
    {
     "name": "stdout",
     "output_type": "stream",
     "text": [
      "model 260, 2 circuited\n",
      "137 seconds\n",
      "model 260, 2 tested: acc 0.7402597402597403, log-lik -29.804580279535383\n",
      "137 seconds\n",
      "260 finished, 137 seconds\n",
      "Performance: [-29.31434730661535, -29.768199592422864, -29.804580279535383]\n"
     ]
    },
    {
     "name": "stderr",
     "output_type": "stream",
     "text": [
      " 46%|████████████████████████████████████                                           | 121/265 [00:00<00:00, 601.29it/s]"
     ]
    },
    {
     "name": "stdout",
     "output_type": "stream",
     "text": [
      "model 265, 0 fitted\n",
      "137 seconds\n"
     ]
    },
    {
     "name": "stderr",
     "output_type": "stream",
     "text": [
      "100%|███████████████████████████████████████████████████████████████████████████████| 265/265 [00:00<00:00, 590.28it/s]\n"
     ]
    },
    {
     "name": "stdout",
     "output_type": "stream",
     "text": [
      "model 265, 0 circuited\n",
      "138 seconds\n",
      "model 265, 0 tested: acc 0.7359307359307359, log-lik -29.757957711181373\n",
      "138 seconds\n"
     ]
    },
    {
     "name": "stderr",
     "output_type": "stream",
     "text": [
      " 23%|██████████████████▋                                                             | 62/265 [00:00<00:00, 618.32it/s]"
     ]
    },
    {
     "name": "stdout",
     "output_type": "stream",
     "text": [
      "model 265, 1 fitted\n",
      "138 seconds\n"
     ]
    },
    {
     "name": "stderr",
     "output_type": "stream",
     "text": [
      "100%|███████████████████████████████████████████████████████████████████████████████| 265/265 [00:00<00:00, 436.92it/s]\n"
     ]
    },
    {
     "name": "stdout",
     "output_type": "stream",
     "text": [
      "model 265, 1 circuited\n",
      "139 seconds\n",
      "model 265, 1 tested: acc 0.7402597402597403, log-lik -29.723842575618708\n",
      "139 seconds\n"
     ]
    },
    {
     "name": "stderr",
     "output_type": "stream",
     "text": [
      " 15%|███████████▊                                                                    | 39/265 [00:00<00:00, 358.76it/s]"
     ]
    },
    {
     "name": "stdout",
     "output_type": "stream",
     "text": [
      "model 265, 2 fitted\n",
      "140 seconds\n"
     ]
    },
    {
     "name": "stderr",
     "output_type": "stream",
     "text": [
      "100%|███████████████████████████████████████████████████████████████████████████████| 265/265 [00:00<00:00, 322.72it/s]\n"
     ]
    },
    {
     "name": "stdout",
     "output_type": "stream",
     "text": [
      "model 265, 2 circuited\n",
      "141 seconds\n",
      "model 265, 2 tested: acc 0.7445887445887446, log-lik -29.73783565905555\n",
      "141 seconds\n",
      "265 finished, 141 seconds\n",
      "Performance: [-29.757957711181373, -29.723842575618708, -29.73783565905555]\n"
     ]
    },
    {
     "name": "stderr",
     "output_type": "stream",
     "text": [
      " 21%|████████████████▌                                                               | 56/270 [00:00<00:00, 550.45it/s]"
     ]
    },
    {
     "name": "stdout",
     "output_type": "stream",
     "text": [
      "model 270, 0 fitted\n",
      "142 seconds\n"
     ]
    },
    {
     "name": "stderr",
     "output_type": "stream",
     "text": [
      "100%|███████████████████████████████████████████████████████████████████████████████| 270/270 [00:00<00:00, 508.36it/s]\n"
     ]
    },
    {
     "name": "stdout",
     "output_type": "stream",
     "text": [
      "model 270, 0 circuited\n",
      "142 seconds\n",
      "model 270, 0 tested: acc 0.7402597402597403, log-lik -28.90402028188986\n",
      "142 seconds\n"
     ]
    },
    {
     "name": "stderr",
     "output_type": "stream",
     "text": [
      " 43%|█████████████████████████████████▋                                             | 115/270 [00:00<00:00, 571.70it/s]"
     ]
    },
    {
     "name": "stdout",
     "output_type": "stream",
     "text": [
      "model 270, 1 fitted\n",
      "143 seconds\n"
     ]
    },
    {
     "name": "stderr",
     "output_type": "stream",
     "text": [
      "100%|███████████████████████████████████████████████████████████████████████████████| 270/270 [00:00<00:00, 517.64it/s]\n"
     ]
    },
    {
     "name": "stdout",
     "output_type": "stream",
     "text": [
      "model 270, 1 circuited\n",
      "143 seconds\n",
      "model 270, 1 tested: acc 0.7445887445887446, log-lik -29.073061172992556\n",
      "144 seconds\n"
     ]
    },
    {
     "name": "stderr",
     "output_type": "stream",
     "text": [
      " 22%|█████████████████▊                                                              | 60/270 [00:00<00:00, 598.49it/s]"
     ]
    },
    {
     "name": "stdout",
     "output_type": "stream",
     "text": [
      "model 270, 2 fitted\n",
      "144 seconds\n"
     ]
    },
    {
     "name": "stderr",
     "output_type": "stream",
     "text": [
      "100%|███████████████████████████████████████████████████████████████████████████████| 270/270 [00:00<00:00, 545.85it/s]\n"
     ]
    },
    {
     "name": "stdout",
     "output_type": "stream",
     "text": [
      "model 270, 2 circuited\n",
      "144 seconds\n",
      "model 270, 2 tested: acc 0.7445887445887446, log-lik -29.752990494059535\n",
      "145 seconds\n",
      "270 finished, 145 seconds\n",
      "Performance: [-28.90402028188986, -29.073061172992556, -29.752990494059535]\n"
     ]
    },
    {
     "name": "stderr",
     "output_type": "stream",
     "text": [
      " 41%|████████████████████████████████▏                                              | 112/275 [00:00<00:00, 544.09it/s]"
     ]
    },
    {
     "name": "stdout",
     "output_type": "stream",
     "text": [
      "model 275, 0 fitted\n",
      "145 seconds\n"
     ]
    },
    {
     "name": "stderr",
     "output_type": "stream",
     "text": [
      "100%|███████████████████████████████████████████████████████████████████████████████| 275/275 [00:00<00:00, 533.23it/s]\n"
     ]
    },
    {
     "name": "stdout",
     "output_type": "stream",
     "text": [
      "model 275, 0 circuited\n",
      "145 seconds\n",
      "model 275, 0 tested: acc 0.7359307359307359, log-lik -29.407433982999287\n",
      "146 seconds\n"
     ]
    },
    {
     "name": "stderr",
     "output_type": "stream",
     "text": [
      " 17%|█████████████▉                                                                  | 48/275 [00:00<00:00, 478.60it/s]"
     ]
    },
    {
     "name": "stdout",
     "output_type": "stream",
     "text": [
      "model 275, 1 fitted\n",
      "146 seconds\n"
     ]
    },
    {
     "name": "stderr",
     "output_type": "stream",
     "text": [
      "100%|███████████████████████████████████████████████████████████████████████████████| 275/275 [00:00<00:00, 567.30it/s]\n"
     ]
    },
    {
     "name": "stdout",
     "output_type": "stream",
     "text": [
      "model 275, 1 circuited\n",
      "146 seconds\n",
      "model 275, 1 tested: acc 0.7402597402597403, log-lik -29.733203582676076\n",
      "147 seconds\n"
     ]
    },
    {
     "name": "stderr",
     "output_type": "stream",
     "text": [
      " 23%|██████████████████▎                                                             | 63/275 [00:00<00:00, 622.18it/s]"
     ]
    },
    {
     "name": "stdout",
     "output_type": "stream",
     "text": [
      "model 275, 2 fitted\n",
      "147 seconds\n"
     ]
    },
    {
     "name": "stderr",
     "output_type": "stream",
     "text": [
      "100%|███████████████████████████████████████████████████████████████████████████████| 275/275 [00:00<00:00, 543.22it/s]\n"
     ]
    },
    {
     "name": "stdout",
     "output_type": "stream",
     "text": [
      "model 275, 2 circuited\n",
      "148 seconds\n",
      "model 275, 2 tested: acc 0.748917748917749, log-lik -29.77017300771542\n",
      "148 seconds\n",
      "275 finished, 148 seconds\n",
      "Performance: [-29.407433982999287, -29.733203582676076, -29.77017300771542]\n"
     ]
    },
    {
     "name": "stderr",
     "output_type": "stream",
     "text": [
      " 41%|████████████████████████████████▋                                              | 116/280 [00:00<00:00, 564.66it/s]"
     ]
    },
    {
     "name": "stdout",
     "output_type": "stream",
     "text": [
      "model 280, 0 fitted\n",
      "148 seconds\n"
     ]
    },
    {
     "name": "stderr",
     "output_type": "stream",
     "text": [
      "100%|███████████████████████████████████████████████████████████████████████████████| 280/280 [00:00<00:00, 575.25it/s]\n"
     ]
    },
    {
     "name": "stdout",
     "output_type": "stream",
     "text": [
      "model 280, 0 circuited\n",
      "149 seconds\n",
      "model 280, 0 tested: acc 0.7359307359307359, log-lik -29.77950445316488\n",
      "149 seconds\n"
     ]
    },
    {
     "name": "stderr",
     "output_type": "stream",
     "text": [
      " 22%|█████████████████▍                                                              | 61/280 [00:00<00:00, 605.59it/s]"
     ]
    },
    {
     "name": "stdout",
     "output_type": "stream",
     "text": [
      "model 280, 1 fitted\n",
      "149 seconds\n"
     ]
    },
    {
     "name": "stderr",
     "output_type": "stream",
     "text": [
      "100%|███████████████████████████████████████████████████████████████████████████████| 280/280 [00:00<00:00, 564.81it/s]\n"
     ]
    },
    {
     "name": "stdout",
     "output_type": "stream",
     "text": [
      "model 280, 1 circuited\n",
      "150 seconds\n",
      "model 280, 1 tested: acc 0.7402597402597403, log-lik -29.76303739367789\n",
      "150 seconds\n"
     ]
    },
    {
     "name": "stderr",
     "output_type": "stream",
     "text": [
      " 17%|█████████████▍                                                                  | 47/280 [00:00<00:00, 464.10it/s]"
     ]
    },
    {
     "name": "stdout",
     "output_type": "stream",
     "text": [
      "model 280, 2 fitted\n",
      "150 seconds\n"
     ]
    },
    {
     "name": "stderr",
     "output_type": "stream",
     "text": [
      "100%|███████████████████████████████████████████████████████████████████████████████| 280/280 [00:00<00:00, 509.93it/s]\n"
     ]
    },
    {
     "name": "stdout",
     "output_type": "stream",
     "text": [
      "model 280, 2 circuited\n",
      "151 seconds\n",
      "model 280, 2 tested: acc 0.748917748917749, log-lik -29.033334154185447\n",
      "151 seconds\n",
      "280 finished, 151 seconds\n",
      "Performance: [-29.77950445316488, -29.76303739367789, -29.033334154185447]\n"
     ]
    },
    {
     "name": "stderr",
     "output_type": "stream",
     "text": [
      " 23%|██████████████████▌                                                             | 66/285 [00:00<00:00, 655.21it/s]"
     ]
    },
    {
     "name": "stdout",
     "output_type": "stream",
     "text": [
      "model 285, 0 fitted\n",
      "151 seconds\n"
     ]
    },
    {
     "name": "stderr",
     "output_type": "stream",
     "text": [
      "100%|███████████████████████████████████████████████████████████████████████████████| 285/285 [00:00<00:00, 517.08it/s]\n"
     ]
    },
    {
     "name": "stdout",
     "output_type": "stream",
     "text": [
      "model 285, 0 circuited\n",
      "152 seconds\n",
      "model 285, 0 tested: acc 0.748917748917749, log-lik -29.7307405203334\n",
      "152 seconds\n"
     ]
    },
    {
     "name": "stderr",
     "output_type": "stream",
     "text": [
      " 20%|███████████████▋                                                                | 56/285 [00:00<00:00, 546.50it/s]"
     ]
    },
    {
     "name": "stdout",
     "output_type": "stream",
     "text": [
      "model 285, 1 fitted\n",
      "153 seconds\n"
     ]
    },
    {
     "name": "stderr",
     "output_type": "stream",
     "text": [
      "100%|███████████████████████████████████████████████████████████████████████████████| 285/285 [00:00<00:00, 530.37it/s]\n"
     ]
    },
    {
     "name": "stdout",
     "output_type": "stream",
     "text": [
      "model 285, 1 circuited\n",
      "153 seconds\n",
      "model 285, 1 tested: acc 0.7402597402597403, log-lik -29.649938073818195\n",
      "153 seconds\n"
     ]
    },
    {
     "name": "stderr",
     "output_type": "stream",
     "text": [
      " 21%|████████████████▊                                                               | 60/285 [00:00<00:00, 551.93it/s]"
     ]
    },
    {
     "name": "stdout",
     "output_type": "stream",
     "text": [
      "model 285, 2 fitted\n",
      "154 seconds\n"
     ]
    },
    {
     "name": "stderr",
     "output_type": "stream",
     "text": [
      "100%|███████████████████████████████████████████████████████████████████████████████| 285/285 [00:00<00:00, 489.71it/s]\n"
     ]
    },
    {
     "name": "stdout",
     "output_type": "stream",
     "text": [
      "model 285, 2 circuited\n",
      "154 seconds\n",
      "model 285, 2 tested: acc 0.7402597402597403, log-lik -29.783226400002675\n",
      "155 seconds\n",
      "285 finished, 155 seconds\n",
      "Performance: [-29.7307405203334, -29.649938073818195, -29.783226400002675]\n"
     ]
    },
    {
     "name": "stderr",
     "output_type": "stream",
     "text": [
      " 21%|████████████████▌                                                               | 60/290 [00:00<00:00, 595.60it/s]"
     ]
    },
    {
     "name": "stdout",
     "output_type": "stream",
     "text": [
      "model 290, 0 fitted\n",
      "155 seconds\n"
     ]
    },
    {
     "name": "stderr",
     "output_type": "stream",
     "text": [
      "100%|███████████████████████████████████████████████████████████████████████████████| 290/290 [00:01<00:00, 250.79it/s]\n"
     ]
    },
    {
     "name": "stdout",
     "output_type": "stream",
     "text": [
      "model 290, 0 circuited\n",
      "156 seconds\n",
      "model 290, 0 tested: acc 0.7402597402597403, log-lik -29.727872085529693\n",
      "156 seconds\n"
     ]
    },
    {
     "name": "stderr",
     "output_type": "stream",
     "text": [
      " 21%|████████████████▊                                                               | 61/290 [00:00<00:00, 605.54it/s]"
     ]
    },
    {
     "name": "stdout",
     "output_type": "stream",
     "text": [
      "model 290, 1 fitted\n",
      "157 seconds\n"
     ]
    },
    {
     "name": "stderr",
     "output_type": "stream",
     "text": [
      "100%|███████████████████████████████████████████████████████████████████████████████| 290/290 [00:00<00:00, 507.18it/s]\n"
     ]
    },
    {
     "name": "stdout",
     "output_type": "stream",
     "text": [
      "model 290, 1 circuited\n",
      "157 seconds\n",
      "model 290, 1 tested: acc 0.7402597402597403, log-lik -29.772485344232773\n",
      "157 seconds\n"
     ]
    },
    {
     "name": "stderr",
     "output_type": "stream",
     "text": [
      "\r",
      "  0%|                                                                                          | 0/290 [00:00<?, ?it/s]"
     ]
    },
    {
     "name": "stdout",
     "output_type": "stream",
     "text": [
      "model 290, 2 fitted\n",
      "158 seconds\n"
     ]
    },
    {
     "name": "stderr",
     "output_type": "stream",
     "text": [
      "100%|███████████████████████████████████████████████████████████████████████████████| 290/290 [00:01<00:00, 252.83it/s]\n"
     ]
    },
    {
     "name": "stdout",
     "output_type": "stream",
     "text": [
      "model 290, 2 circuited\n",
      "159 seconds\n",
      "model 290, 2 tested: acc 0.7445887445887446, log-lik -29.746054390293605\n",
      "159 seconds\n",
      "290 finished, 159 seconds\n",
      "Performance: [-29.727872085529693, -29.772485344232773, -29.746054390293605]\n"
     ]
    },
    {
     "name": "stderr",
     "output_type": "stream",
     "text": [
      " 20%|████████████████                                                                | 59/295 [00:00<00:00, 585.71it/s]"
     ]
    },
    {
     "name": "stdout",
     "output_type": "stream",
     "text": [
      "model 295, 0 fitted\n",
      "160 seconds\n"
     ]
    },
    {
     "name": "stderr",
     "output_type": "stream",
     "text": [
      "100%|███████████████████████████████████████████████████████████████████████████████| 295/295 [00:00<00:00, 593.80it/s]\n"
     ]
    },
    {
     "name": "stdout",
     "output_type": "stream",
     "text": [
      "model 295, 0 circuited\n",
      "160 seconds\n",
      "model 295, 0 tested: acc 0.7402597402597403, log-lik -29.780272764238095\n",
      "160 seconds\n"
     ]
    },
    {
     "name": "stderr",
     "output_type": "stream",
     "text": [
      " 22%|█████████████████▎                                                              | 64/295 [00:00<00:00, 635.34it/s]"
     ]
    },
    {
     "name": "stdout",
     "output_type": "stream",
     "text": [
      "model 295, 1 fitted\n",
      "161 seconds\n"
     ]
    },
    {
     "name": "stderr",
     "output_type": "stream",
     "text": [
      "100%|███████████████████████████████████████████████████████████████████████████████| 295/295 [00:00<00:00, 592.32it/s]\n"
     ]
    },
    {
     "name": "stdout",
     "output_type": "stream",
     "text": [
      "model 295, 1 circuited\n",
      "161 seconds\n",
      "model 295, 1 tested: acc 0.7359307359307359, log-lik -29.76973115543918\n",
      "161 seconds\n"
     ]
    },
    {
     "name": "stderr",
     "output_type": "stream",
     "text": [
      " 21%|████████████████▊                                                               | 62/295 [00:00<00:00, 592.05it/s]"
     ]
    },
    {
     "name": "stdout",
     "output_type": "stream",
     "text": [
      "model 295, 2 fitted\n",
      "162 seconds\n"
     ]
    },
    {
     "name": "stderr",
     "output_type": "stream",
     "text": [
      "100%|███████████████████████████████████████████████████████████████████████████████| 295/295 [00:00<00:00, 674.50it/s]\n"
     ]
    },
    {
     "name": "stdout",
     "output_type": "stream",
     "text": [
      "model 295, 2 circuited\n",
      "162 seconds\n",
      "model 295, 2 tested: acc 0.7402597402597403, log-lik -29.779287559170374\n",
      "162 seconds\n",
      "295 finished, 162 seconds\n",
      "Performance: [-29.780272764238095, -29.76973115543918, -29.779287559170374]\n"
     ]
    },
    {
     "name": "stderr",
     "output_type": "stream",
     "text": [
      " 31%|████████████████████████▊                                                       | 93/300 [00:00<00:00, 923.25it/s]"
     ]
    },
    {
     "name": "stdout",
     "output_type": "stream",
     "text": [
      "model 300, 0 fitted\n",
      "163 seconds\n"
     ]
    },
    {
     "name": "stderr",
     "output_type": "stream",
     "text": [
      "100%|███████████████████████████████████████████████████████████████████████████████| 300/300 [00:00<00:00, 699.48it/s]\n"
     ]
    },
    {
     "name": "stdout",
     "output_type": "stream",
     "text": [
      "model 300, 0 circuited\n",
      "163 seconds\n",
      "model 300, 0 tested: acc 0.7402597402597403, log-lik -29.755635392452746\n",
      "163 seconds\n"
     ]
    },
    {
     "name": "stderr",
     "output_type": "stream",
     "text": [
      " 11%|████████▊                                                                       | 33/300 [00:00<00:00, 300.73it/s]"
     ]
    },
    {
     "name": "stdout",
     "output_type": "stream",
     "text": [
      "model 300, 1 fitted\n",
      "164 seconds\n"
     ]
    },
    {
     "name": "stderr",
     "output_type": "stream",
     "text": [
      "100%|███████████████████████████████████████████████████████████████████████████████| 300/300 [00:00<00:00, 545.86it/s]\n"
     ]
    },
    {
     "name": "stdout",
     "output_type": "stream",
     "text": [
      "model 300, 1 circuited\n",
      "164 seconds\n",
      "model 300, 1 tested: acc 0.7619047619047619, log-lik -29.774493815223874\n",
      "164 seconds\n"
     ]
    },
    {
     "name": "stderr",
     "output_type": "stream",
     "text": [
      " 23%|██████████████████▍                                                             | 69/300 [00:00<00:00, 684.64it/s]"
     ]
    },
    {
     "name": "stdout",
     "output_type": "stream",
     "text": [
      "model 300, 2 fitted\n",
      "165 seconds\n"
     ]
    },
    {
     "name": "stderr",
     "output_type": "stream",
     "text": [
      "100%|███████████████████████████████████████████████████████████████████████████████| 300/300 [00:00<00:00, 691.42it/s]\n"
     ]
    },
    {
     "name": "stdout",
     "output_type": "stream",
     "text": [
      "model 300, 2 circuited\n",
      "165 seconds\n",
      "model 300, 2 tested: acc 0.7402597402597403, log-lik -29.792381563300108\n",
      "165 seconds\n",
      "300 finished, 166 seconds\n",
      "Performance: [-29.755635392452746, -29.774493815223874, -29.792381563300108]\n"
     ]
    },
    {
     "name": "stderr",
     "output_type": "stream",
     "text": [
      " 24%|██████████████████▉                                                             | 72/305 [00:00<00:00, 714.75it/s]"
     ]
    },
    {
     "name": "stdout",
     "output_type": "stream",
     "text": [
      "model 305, 0 fitted\n",
      "166 seconds\n"
     ]
    },
    {
     "name": "stderr",
     "output_type": "stream",
     "text": [
      "100%|███████████████████████████████████████████████████████████████████████████████| 305/305 [00:00<00:00, 634.35it/s]\n"
     ]
    },
    {
     "name": "stdout",
     "output_type": "stream",
     "text": [
      "model 305, 0 circuited\n",
      "166 seconds\n",
      "model 305, 0 tested: acc 0.7359307359307359, log-lik -29.75275239781658\n",
      "166 seconds\n"
     ]
    },
    {
     "name": "stderr",
     "output_type": "stream",
     "text": [
      " 25%|███████████████████▉                                                            | 76/305 [00:00<00:00, 754.46it/s]"
     ]
    },
    {
     "name": "stdout",
     "output_type": "stream",
     "text": [
      "model 305, 1 fitted\n",
      "167 seconds\n"
     ]
    },
    {
     "name": "stderr",
     "output_type": "stream",
     "text": [
      "100%|███████████████████████████████████████████████████████████████████████████████| 305/305 [00:00<00:00, 668.56it/s]\n"
     ]
    },
    {
     "name": "stdout",
     "output_type": "stream",
     "text": [
      "model 305, 1 circuited\n",
      "167 seconds\n",
      "model 305, 1 tested: acc 0.7402597402597403, log-lik -29.75767900413222\n",
      "167 seconds\n"
     ]
    },
    {
     "name": "stderr",
     "output_type": "stream",
     "text": [
      " 24%|██████████████████▉                                                             | 72/305 [00:00<00:00, 718.34it/s]"
     ]
    },
    {
     "name": "stdout",
     "output_type": "stream",
     "text": [
      "model 305, 2 fitted\n",
      "168 seconds\n"
     ]
    },
    {
     "name": "stderr",
     "output_type": "stream",
     "text": [
      "100%|███████████████████████████████████████████████████████████████████████████████| 305/305 [00:00<00:00, 668.43it/s]\n"
     ]
    },
    {
     "name": "stdout",
     "output_type": "stream",
     "text": [
      "model 305, 2 circuited\n",
      "168 seconds\n",
      "model 305, 2 tested: acc 0.7316017316017316, log-lik -29.37871964364181\n",
      "168 seconds\n",
      "305 finished, 169 seconds\n",
      "Performance: [-29.75275239781658, -29.75767900413222, -29.37871964364181]\n"
     ]
    },
    {
     "name": "stderr",
     "output_type": "stream",
     "text": [
      " 24%|██████████████████▊                                                             | 73/310 [00:00<00:00, 728.27it/s]"
     ]
    },
    {
     "name": "stdout",
     "output_type": "stream",
     "text": [
      "model 310, 0 fitted\n",
      "169 seconds\n"
     ]
    },
    {
     "name": "stderr",
     "output_type": "stream",
     "text": [
      "100%|███████████████████████████████████████████████████████████████████████████████| 310/310 [00:00<00:00, 650.92it/s]\n"
     ]
    },
    {
     "name": "stdout",
     "output_type": "stream",
     "text": [
      "model 310, 0 circuited\n",
      "169 seconds\n",
      "model 310, 0 tested: acc 0.7402597402597403, log-lik -29.086876265007316\n",
      "169 seconds\n"
     ]
    },
    {
     "name": "stderr",
     "output_type": "stream",
     "text": [
      " 23%|██████████████████▌                                                             | 72/310 [00:00<00:00, 711.10it/s]"
     ]
    },
    {
     "name": "stdout",
     "output_type": "stream",
     "text": [
      "model 310, 1 fitted\n",
      "170 seconds\n"
     ]
    },
    {
     "name": "stderr",
     "output_type": "stream",
     "text": [
      "100%|███████████████████████████████████████████████████████████████████████████████| 310/310 [00:00<00:00, 570.99it/s]\n"
     ]
    },
    {
     "name": "stdout",
     "output_type": "stream",
     "text": [
      "model 310, 1 circuited\n",
      "170 seconds\n",
      "model 310, 1 tested: acc 0.7402597402597403, log-lik -29.758983628436436\n",
      "171 seconds\n"
     ]
    },
    {
     "name": "stderr",
     "output_type": "stream",
     "text": [
      " 21%|████████████████▊                                                               | 65/310 [00:00<00:00, 645.31it/s]"
     ]
    },
    {
     "name": "stdout",
     "output_type": "stream",
     "text": [
      "model 310, 2 fitted\n",
      "171 seconds\n"
     ]
    },
    {
     "name": "stderr",
     "output_type": "stream",
     "text": [
      "100%|███████████████████████████████████████████████████████████████████████████████| 310/310 [00:00<00:00, 644.16it/s]\n"
     ]
    },
    {
     "name": "stdout",
     "output_type": "stream",
     "text": [
      "model 310, 2 circuited\n",
      "171 seconds\n",
      "model 310, 2 tested: acc 0.7359307359307359, log-lik -29.753116355311708\n",
      "172 seconds\n",
      "310 finished, 172 seconds\n",
      "Performance: [-29.086876265007316, -29.758983628436436, -29.753116355311708]\n"
     ]
    },
    {
     "name": "stderr",
     "output_type": "stream",
     "text": [
      " 11%|████████▋                                                                       | 34/315 [00:00<00:00, 318.60it/s]"
     ]
    },
    {
     "name": "stdout",
     "output_type": "stream",
     "text": [
      "model 315, 0 fitted\n",
      "172 seconds\n"
     ]
    },
    {
     "name": "stderr",
     "output_type": "stream",
     "text": [
      "100%|███████████████████████████████████████████████████████████████████████████████| 315/315 [00:00<00:00, 530.33it/s]\n"
     ]
    },
    {
     "name": "stdout",
     "output_type": "stream",
     "text": [
      "model 315, 0 circuited\n",
      "173 seconds\n",
      "model 315, 0 tested: acc 0.7445887445887446, log-lik -29.760412047172114\n",
      "173 seconds\n"
     ]
    },
    {
     "name": "stderr",
     "output_type": "stream",
     "text": [
      " 40%|███████████████████████████████▊                                               | 127/315 [00:00<00:00, 628.19it/s]"
     ]
    },
    {
     "name": "stdout",
     "output_type": "stream",
     "text": [
      "model 315, 1 fitted\n",
      "173 seconds\n"
     ]
    },
    {
     "name": "stderr",
     "output_type": "stream",
     "text": [
      "100%|███████████████████████████████████████████████████████████████████████████████| 315/315 [00:00<00:00, 594.81it/s]\n"
     ]
    },
    {
     "name": "stdout",
     "output_type": "stream",
     "text": [
      "model 315, 1 circuited\n",
      "174 seconds\n",
      "model 315, 1 tested: acc 0.7359307359307359, log-lik -29.776636722316326\n",
      "174 seconds\n"
     ]
    },
    {
     "name": "stderr",
     "output_type": "stream",
     "text": [
      " 20%|████████████████▎                                                               | 64/315 [00:00<00:00, 631.88it/s]"
     ]
    },
    {
     "name": "stdout",
     "output_type": "stream",
     "text": [
      "model 315, 2 fitted\n",
      "174 seconds\n"
     ]
    },
    {
     "name": "stderr",
     "output_type": "stream",
     "text": [
      "100%|███████████████████████████████████████████████████████████████████████████████| 315/315 [00:00<00:00, 408.07it/s]\n"
     ]
    },
    {
     "name": "stdout",
     "output_type": "stream",
     "text": [
      "model 315, 2 circuited\n",
      "175 seconds\n",
      "model 315, 2 tested: acc 0.7359307359307359, log-lik -29.750375599092372\n",
      "175 seconds\n",
      "315 finished, 176 seconds\n",
      "Performance: [-29.760412047172114, -29.776636722316326, -29.750375599092372]\n"
     ]
    },
    {
     "name": "stderr",
     "output_type": "stream",
     "text": [
      " 21%|█████████████████                                                               | 68/320 [00:00<00:00, 675.07it/s]"
     ]
    },
    {
     "name": "stdout",
     "output_type": "stream",
     "text": [
      "model 320, 0 fitted\n",
      "176 seconds\n"
     ]
    },
    {
     "name": "stderr",
     "output_type": "stream",
     "text": [
      "100%|███████████████████████████████████████████████████████████████████████████████| 320/320 [00:00<00:00, 584.93it/s]\n"
     ]
    },
    {
     "name": "stdout",
     "output_type": "stream",
     "text": [
      "model 320, 0 circuited\n",
      "176 seconds\n",
      "model 320, 0 tested: acc 0.748917748917749, log-lik -29.778582598894005\n",
      "177 seconds\n"
     ]
    },
    {
     "name": "stderr",
     "output_type": "stream",
     "text": [
      " 20%|███████████████▊                                                                | 63/320 [00:00<00:00, 619.24it/s]"
     ]
    },
    {
     "name": "stdout",
     "output_type": "stream",
     "text": [
      "model 320, 1 fitted\n",
      "177 seconds\n"
     ]
    },
    {
     "name": "stderr",
     "output_type": "stream",
     "text": [
      "100%|███████████████████████████████████████████████████████████████████████████████| 320/320 [00:00<00:00, 560.82it/s]\n"
     ]
    },
    {
     "name": "stdout",
     "output_type": "stream",
     "text": [
      "model 320, 1 circuited\n",
      "178 seconds\n",
      "model 320, 1 tested: acc 0.7445887445887446, log-lik -29.781522250354804\n",
      "178 seconds\n"
     ]
    },
    {
     "name": "stderr",
     "output_type": "stream",
     "text": [
      " 23%|██████████████████▊                                                             | 75/320 [00:00<00:00, 747.83it/s]"
     ]
    },
    {
     "name": "stdout",
     "output_type": "stream",
     "text": [
      "model 320, 2 fitted\n",
      "178 seconds\n"
     ]
    },
    {
     "name": "stderr",
     "output_type": "stream",
     "text": [
      "100%|███████████████████████████████████████████████████████████████████████████████| 320/320 [00:00<00:00, 581.72it/s]\n"
     ]
    },
    {
     "name": "stdout",
     "output_type": "stream",
     "text": [
      "model 320, 2 circuited\n",
      "179 seconds\n",
      "model 320, 2 tested: acc 0.7402597402597403, log-lik -29.836180981335943\n",
      "179 seconds\n",
      "320 finished, 180 seconds\n",
      "Performance: [-29.778582598894005, -29.781522250354804, -29.836180981335943]\n"
     ]
    },
    {
     "name": "stderr",
     "output_type": "stream",
     "text": [
      " 10%|████████▎                                                                       | 34/325 [00:00<00:00, 339.04it/s]"
     ]
    },
    {
     "name": "stdout",
     "output_type": "stream",
     "text": [
      "model 325, 0 fitted\n",
      "180 seconds\n"
     ]
    },
    {
     "name": "stderr",
     "output_type": "stream",
     "text": [
      "100%|███████████████████████████████████████████████████████████████████████████████| 325/325 [00:00<00:00, 555.49it/s]\n"
     ]
    },
    {
     "name": "stdout",
     "output_type": "stream",
     "text": [
      "model 325, 0 circuited\n",
      "180 seconds\n",
      "model 325, 0 tested: acc 0.7445887445887446, log-lik -29.754046441690274\n",
      "181 seconds\n"
     ]
    },
    {
     "name": "stderr",
     "output_type": "stream",
     "text": [
      " 18%|██████████████▎                                                                 | 58/325 [00:00<00:00, 570.16it/s]"
     ]
    },
    {
     "name": "stdout",
     "output_type": "stream",
     "text": [
      "model 325, 1 fitted\n",
      "181 seconds\n"
     ]
    },
    {
     "name": "stderr",
     "output_type": "stream",
     "text": [
      "100%|███████████████████████████████████████████████████████████████████████████████| 325/325 [00:00<00:00, 555.77it/s]\n"
     ]
    },
    {
     "name": "stdout",
     "output_type": "stream",
     "text": [
      "model 325, 1 circuited\n",
      "181 seconds\n",
      "model 325, 1 tested: acc 0.7402597402597403, log-lik -29.7788274435692\n",
      "182 seconds\n"
     ]
    },
    {
     "name": "stderr",
     "output_type": "stream",
     "text": [
      " 41%|████████████████████████████████▎                                              | 133/325 [00:00<00:00, 655.70it/s]"
     ]
    },
    {
     "name": "stdout",
     "output_type": "stream",
     "text": [
      "model 325, 2 fitted\n",
      "182 seconds\n"
     ]
    },
    {
     "name": "stderr",
     "output_type": "stream",
     "text": [
      "100%|███████████████████████████████████████████████████████████████████████████████| 325/325 [00:00<00:00, 621.27it/s]\n"
     ]
    },
    {
     "name": "stdout",
     "output_type": "stream",
     "text": [
      "model 325, 2 circuited\n",
      "183 seconds\n",
      "model 325, 2 tested: acc 0.7402597402597403, log-lik -29.798226232123373\n",
      "183 seconds\n",
      "325 finished, 183 seconds\n",
      "Performance: [-29.754046441690274, -29.7788274435692, -29.798226232123373]\n"
     ]
    },
    {
     "name": "stderr",
     "output_type": "stream",
     "text": [
      " 22%|█████████████████▋                                                              | 73/330 [00:00<00:00, 724.69it/s]"
     ]
    },
    {
     "name": "stdout",
     "output_type": "stream",
     "text": [
      "model 330, 0 fitted\n",
      "183 seconds\n"
     ]
    },
    {
     "name": "stderr",
     "output_type": "stream",
     "text": [
      "100%|███████████████████████████████████████████████████████████████████████████████| 330/330 [00:00<00:00, 593.92it/s]\n"
     ]
    },
    {
     "name": "stdout",
     "output_type": "stream",
     "text": [
      "model 330, 0 circuited\n",
      "184 seconds\n",
      "model 330, 0 tested: acc 0.7402597402597403, log-lik -29.76811799843595\n",
      "184 seconds\n"
     ]
    },
    {
     "name": "stderr",
     "output_type": "stream",
     "text": [
      " 22%|█████████████████▉                                                              | 74/330 [00:00<00:00, 680.60it/s]"
     ]
    },
    {
     "name": "stdout",
     "output_type": "stream",
     "text": [
      "model 330, 1 fitted\n",
      "185 seconds\n"
     ]
    },
    {
     "name": "stderr",
     "output_type": "stream",
     "text": [
      "100%|███████████████████████████████████████████████████████████████████████████████| 330/330 [00:00<00:00, 598.41it/s]\n"
     ]
    },
    {
     "name": "stdout",
     "output_type": "stream",
     "text": [
      "model 330, 1 circuited\n",
      "185 seconds\n",
      "model 330, 1 tested: acc 0.7445887445887446, log-lik -29.771814900530952\n",
      "185 seconds\n"
     ]
    },
    {
     "name": "stderr",
     "output_type": "stream",
     "text": [
      " 20%|████████████████                                                                | 66/330 [00:00<00:00, 642.51it/s]"
     ]
    },
    {
     "name": "stdout",
     "output_type": "stream",
     "text": [
      "model 330, 2 fitted\n",
      "186 seconds\n"
     ]
    },
    {
     "name": "stderr",
     "output_type": "stream",
     "text": [
      "100%|███████████████████████████████████████████████████████████████████████████████| 330/330 [00:00<00:00, 531.39it/s]\n"
     ]
    },
    {
     "name": "stdout",
     "output_type": "stream",
     "text": [
      "model 330, 2 circuited\n",
      "186 seconds\n",
      "model 330, 2 tested: acc 0.722943722943723, log-lik -29.12704936283302\n",
      "187 seconds\n",
      "330 finished, 187 seconds\n",
      "Performance: [-29.76811799843595, -29.771814900530952, -29.12704936283302]\n"
     ]
    },
    {
     "name": "stderr",
     "output_type": "stream",
     "text": [
      "  6%|████▊                                                                           | 20/335 [00:00<00:01, 165.73it/s]"
     ]
    },
    {
     "name": "stdout",
     "output_type": "stream",
     "text": [
      "model 335, 0 fitted\n",
      "187 seconds\n"
     ]
    },
    {
     "name": "stderr",
     "output_type": "stream",
     "text": [
      "100%|███████████████████████████████████████████████████████████████████████████████| 335/335 [00:01<00:00, 286.61it/s]\n"
     ]
    },
    {
     "name": "stdout",
     "output_type": "stream",
     "text": [
      "model 335, 0 circuited\n",
      "188 seconds\n",
      "model 335, 0 tested: acc 0.7359307359307359, log-lik -29.78749976503588\n",
      "189 seconds\n"
     ]
    },
    {
     "name": "stderr",
     "output_type": "stream",
     "text": [
      " 18%|██████████████▎                                                                 | 60/335 [00:00<00:00, 598.25it/s]"
     ]
    },
    {
     "name": "stdout",
     "output_type": "stream",
     "text": [
      "model 335, 1 fitted\n",
      "189 seconds\n"
     ]
    },
    {
     "name": "stderr",
     "output_type": "stream",
     "text": [
      "100%|███████████████████████████████████████████████████████████████████████████████| 335/335 [00:00<00:00, 465.15it/s]\n"
     ]
    },
    {
     "name": "stdout",
     "output_type": "stream",
     "text": [
      "model 335, 1 circuited\n",
      "190 seconds\n",
      "model 335, 1 tested: acc 0.7445887445887446, log-lik -29.811533906277184\n",
      "190 seconds\n"
     ]
    },
    {
     "name": "stderr",
     "output_type": "stream",
     "text": [
      " 31%|████████████████████████▊                                                      | 105/335 [00:00<00:00, 522.30it/s]"
     ]
    },
    {
     "name": "stdout",
     "output_type": "stream",
     "text": [
      "model 335, 2 fitted\n",
      "190 seconds\n"
     ]
    },
    {
     "name": "stderr",
     "output_type": "stream",
     "text": [
      "100%|███████████████████████████████████████████████████████████████████████████████| 335/335 [00:00<00:00, 462.71it/s]\n"
     ]
    },
    {
     "name": "stdout",
     "output_type": "stream",
     "text": [
      "model 335, 2 circuited\n",
      "191 seconds\n",
      "model 335, 2 tested: acc 0.7359307359307359, log-lik -29.774909011220547\n",
      "191 seconds\n",
      "335 finished, 192 seconds\n",
      "Performance: [-29.78749976503588, -29.811533906277184, -29.774909011220547]\n"
     ]
    },
    {
     "name": "stderr",
     "output_type": "stream",
     "text": [
      " 19%|███████████████                                                                 | 64/340 [00:00<00:00, 633.45it/s]"
     ]
    },
    {
     "name": "stdout",
     "output_type": "stream",
     "text": [
      "model 340, 0 fitted\n",
      "192 seconds\n"
     ]
    },
    {
     "name": "stderr",
     "output_type": "stream",
     "text": [
      "100%|███████████████████████████████████████████████████████████████████████████████| 340/340 [00:00<00:00, 431.75it/s]\n"
     ]
    },
    {
     "name": "stdout",
     "output_type": "stream",
     "text": [
      "model 340, 0 circuited\n",
      "193 seconds\n",
      "model 340, 0 tested: acc 0.7402597402597403, log-lik -29.74714160278486\n",
      "193 seconds\n"
     ]
    },
    {
     "name": "stderr",
     "output_type": "stream",
     "text": [
      " 23%|██████████████████                                                              | 77/340 [00:00<00:00, 762.62it/s]"
     ]
    },
    {
     "name": "stdout",
     "output_type": "stream",
     "text": [
      "model 340, 1 fitted\n",
      "193 seconds\n"
     ]
    },
    {
     "name": "stderr",
     "output_type": "stream",
     "text": [
      "100%|███████████████████████████████████████████████████████████████████████████████| 340/340 [00:00<00:00, 620.58it/s]\n"
     ]
    },
    {
     "name": "stdout",
     "output_type": "stream",
     "text": [
      "model 340, 1 circuited\n",
      "194 seconds\n",
      "model 340, 1 tested: acc 0.7402597402597403, log-lik -29.751280348506167\n",
      "194 seconds\n"
     ]
    },
    {
     "name": "stderr",
     "output_type": "stream",
     "text": [
      " 18%|██████████████▌                                                                 | 62/340 [00:00<00:00, 618.04it/s]"
     ]
    },
    {
     "name": "stdout",
     "output_type": "stream",
     "text": [
      "model 340, 2 fitted\n",
      "195 seconds\n"
     ]
    },
    {
     "name": "stderr",
     "output_type": "stream",
     "text": [
      "100%|███████████████████████████████████████████████████████████████████████████████| 340/340 [00:01<00:00, 297.12it/s]\n"
     ]
    },
    {
     "name": "stdout",
     "output_type": "stream",
     "text": [
      "model 340, 2 circuited\n",
      "196 seconds\n",
      "model 340, 2 tested: acc 0.7316017316017316, log-lik -29.75549467286456\n",
      "197 seconds\n",
      "340 finished, 198 seconds\n",
      "Performance: [-29.74714160278486, -29.751280348506167, -29.75549467286456]\n",
      "model 345, 0 fitted"
     ]
    },
    {
     "name": "stderr",
     "output_type": "stream",
     "text": [
      " 24%|███████████████████                                                             | 82/345 [00:00<00:00, 811.58it/s]"
     ]
    },
    {
     "name": "stdout",
     "output_type": "stream",
     "text": [
      "\n",
      "198 seconds\n"
     ]
    },
    {
     "name": "stderr",
     "output_type": "stream",
     "text": [
      "100%|███████████████████████████████████████████████████████████████████████████████| 345/345 [00:00<00:00, 740.96it/s]\n"
     ]
    },
    {
     "name": "stdout",
     "output_type": "stream",
     "text": [
      "model 345, 0 circuited\n",
      "198 seconds\n",
      "model 345, 0 tested: acc 0.7445887445887446, log-lik -29.099574309549464\n",
      "199 seconds\n"
     ]
    },
    {
     "name": "stderr",
     "output_type": "stream",
     "text": [
      " 44%|██████████████████████████████████▊                                            | 152/345 [00:00<00:00, 716.66it/s]"
     ]
    },
    {
     "name": "stdout",
     "output_type": "stream",
     "text": [
      "model 345, 1 fitted\n",
      "199 seconds\n"
     ]
    },
    {
     "name": "stderr",
     "output_type": "stream",
     "text": [
      "100%|███████████████████████████████████████████████████████████████████████████████| 345/345 [00:00<00:00, 688.75it/s]\n"
     ]
    },
    {
     "name": "stdout",
     "output_type": "stream",
     "text": [
      "model 345, 1 circuited\n",
      "199 seconds\n",
      "model 345, 1 tested: acc 0.7359307359307359, log-lik -29.429828412644287\n",
      "200 seconds\n"
     ]
    },
    {
     "name": "stderr",
     "output_type": "stream",
     "text": [
      " 46%|████████████████████████████████████▏                                          | 158/345 [00:00<00:00, 801.80it/s]"
     ]
    },
    {
     "name": "stdout",
     "output_type": "stream",
     "text": [
      "model 345, 2 fitted\n",
      "200 seconds\n"
     ]
    },
    {
     "name": "stderr",
     "output_type": "stream",
     "text": [
      "100%|███████████████████████████████████████████████████████████████████████████████| 345/345 [00:00<00:00, 710.67it/s]\n"
     ]
    },
    {
     "name": "stdout",
     "output_type": "stream",
     "text": [
      "model 345, 2 circuited\n",
      "200 seconds\n",
      "model 345, 2 tested: acc 0.7359307359307359, log-lik -29.72121282293375\n",
      "201 seconds\n",
      "345 finished, 201 seconds\n",
      "Performance: [-29.099574309549464, -29.429828412644287, -29.72121282293375]\n",
      "model 350, 0 fitted"
     ]
    },
    {
     "name": "stderr",
     "output_type": "stream",
     "text": [
      " 21%|████████████████▋                                                               | 73/350 [00:00<00:00, 713.98it/s]"
     ]
    },
    {
     "name": "stdout",
     "output_type": "stream",
     "text": [
      "\n",
      "201 seconds\n"
     ]
    },
    {
     "name": "stderr",
     "output_type": "stream",
     "text": [
      "100%|███████████████████████████████████████████████████████████████████████████████| 350/350 [00:00<00:00, 680.72it/s]\n"
     ]
    },
    {
     "name": "stdout",
     "output_type": "stream",
     "text": [
      "model 350, 0 circuited\n",
      "202 seconds\n",
      "model 350, 0 tested: acc 0.7402597402597403, log-lik -29.749902250759334\n",
      "202 seconds\n"
     ]
    },
    {
     "name": "stderr",
     "output_type": "stream",
     "text": [
      " 23%|██████████████████                                                              | 79/350 [00:00<00:00, 784.29it/s]"
     ]
    },
    {
     "name": "stdout",
     "output_type": "stream",
     "text": [
      "model 350, 1 fitted\n",
      "202 seconds\n"
     ]
    },
    {
     "name": "stderr",
     "output_type": "stream",
     "text": [
      "100%|███████████████████████████████████████████████████████████████████████████████| 350/350 [00:00<00:00, 678.21it/s]\n"
     ]
    },
    {
     "name": "stdout",
     "output_type": "stream",
     "text": [
      "model 350, 1 circuited\n",
      "203 seconds\n",
      "model 350, 1 tested: acc 0.7359307359307359, log-lik -29.757464131027188\n",
      "203 seconds\n"
     ]
    },
    {
     "name": "stderr",
     "output_type": "stream",
     "text": [
      " 17%|█████████████▎                                                                  | 58/350 [00:00<00:00, 572.92it/s]"
     ]
    },
    {
     "name": "stdout",
     "output_type": "stream",
     "text": [
      "model 350, 2 fitted\n",
      "203 seconds\n"
     ]
    },
    {
     "name": "stderr",
     "output_type": "stream",
     "text": [
      "100%|███████████████████████████████████████████████████████████████████████████████| 350/350 [00:00<00:00, 637.92it/s]\n"
     ]
    },
    {
     "name": "stdout",
     "output_type": "stream",
     "text": [
      "model 350, 2 circuited\n",
      "204 seconds\n",
      "model 350, 2 tested: acc 0.7445887445887446, log-lik -29.133430875026164\n",
      "204 seconds\n",
      "350 finished, 204 seconds\n",
      "Performance: [-29.749902250759334, -29.757464131027188, -29.133430875026164]\n"
     ]
    },
    {
     "name": "stderr",
     "output_type": "stream",
     "text": [
      " 38%|██████████████████████████████▎                                                | 136/355 [00:00<00:00, 676.33it/s]"
     ]
    },
    {
     "name": "stdout",
     "output_type": "stream",
     "text": [
      "model 355, 0 fitted\n",
      "205 seconds\n"
     ]
    },
    {
     "name": "stderr",
     "output_type": "stream",
     "text": [
      "100%|███████████████████████████████████████████████████████████████████████████████| 355/355 [00:00<00:00, 637.43it/s]\n"
     ]
    },
    {
     "name": "stdout",
     "output_type": "stream",
     "text": [
      "model 355, 0 circuited\n",
      "205 seconds\n",
      "model 355, 0 tested: acc 0.7402597402597403, log-lik -29.776590323243795\n",
      "206 seconds\n"
     ]
    },
    {
     "name": "stderr",
     "output_type": "stream",
     "text": [
      " 16%|█████████████                                                                   | 58/355 [00:00<00:00, 575.80it/s]"
     ]
    },
    {
     "name": "stdout",
     "output_type": "stream",
     "text": [
      "model 355, 1 fitted\n",
      "206 seconds\n"
     ]
    },
    {
     "name": "stderr",
     "output_type": "stream",
     "text": [
      "100%|███████████████████████████████████████████████████████████████████████████████| 355/355 [00:00<00:00, 641.73it/s]\n"
     ]
    },
    {
     "name": "stdout",
     "output_type": "stream",
     "text": [
      "model 355, 1 circuited\n",
      "206 seconds\n",
      "model 355, 1 tested: acc 0.7445887445887446, log-lik -29.76518260894463\n",
      "207 seconds\n"
     ]
    },
    {
     "name": "stderr",
     "output_type": "stream",
     "text": [
      " 19%|██████████████▊                                                                 | 66/355 [00:00<00:00, 654.80it/s]"
     ]
    },
    {
     "name": "stdout",
     "output_type": "stream",
     "text": [
      "model 355, 2 fitted\n",
      "207 seconds\n"
     ]
    },
    {
     "name": "stderr",
     "output_type": "stream",
     "text": [
      "100%|███████████████████████████████████████████████████████████████████████████████| 355/355 [00:00<00:00, 587.44it/s]\n"
     ]
    },
    {
     "name": "stdout",
     "output_type": "stream",
     "text": [
      "model 355, 2 circuited\n",
      "208 seconds\n",
      "model 355, 2 tested: acc 0.7402597402597403, log-lik -29.773141864019344\n",
      "208 seconds\n",
      "355 finished, 208 seconds\n",
      "Performance: [-29.776590323243795, -29.76518260894463, -29.773141864019344]\n"
     ]
    },
    {
     "name": "stderr",
     "output_type": "stream",
     "text": [
      " 20%|████████████████                                                                | 72/360 [00:00<00:00, 718.18it/s]"
     ]
    },
    {
     "name": "stdout",
     "output_type": "stream",
     "text": [
      "model 360, 0 fitted\n",
      "208 seconds\n"
     ]
    },
    {
     "name": "stderr",
     "output_type": "stream",
     "text": [
      "100%|███████████████████████████████████████████████████████████████████████████████| 360/360 [00:00<00:00, 626.61it/s]\n"
     ]
    },
    {
     "name": "stdout",
     "output_type": "stream",
     "text": [
      "model 360, 0 circuited\n",
      "209 seconds\n",
      "model 360, 0 tested: acc 0.7359307359307359, log-lik -29.73963740155307\n",
      "209 seconds\n"
     ]
    },
    {
     "name": "stderr",
     "output_type": "stream",
     "text": [
      " 18%|██████████████                                                                  | 63/360 [00:00<00:00, 628.39it/s]"
     ]
    },
    {
     "name": "stdout",
     "output_type": "stream",
     "text": [
      "model 360, 1 fitted\n",
      "210 seconds\n"
     ]
    },
    {
     "name": "stderr",
     "output_type": "stream",
     "text": [
      "100%|███████████████████████████████████████████████████████████████████████████████| 360/360 [00:00<00:00, 612.14it/s]\n"
     ]
    },
    {
     "name": "stdout",
     "output_type": "stream",
     "text": [
      "model 360, 1 circuited\n",
      "210 seconds\n",
      "model 360, 1 tested: acc 0.7359307359307359, log-lik -29.783215360540346\n",
      "211 seconds\n"
     ]
    },
    {
     "name": "stderr",
     "output_type": "stream",
     "text": [
      " 35%|███████████████████████████▍                                                   | 125/360 [00:00<00:00, 616.73it/s]"
     ]
    },
    {
     "name": "stdout",
     "output_type": "stream",
     "text": [
      "model 360, 2 fitted\n",
      "211 seconds\n"
     ]
    },
    {
     "name": "stderr",
     "output_type": "stream",
     "text": [
      "100%|███████████████████████████████████████████████████████████████████████████████| 360/360 [00:00<00:00, 593.37it/s]\n"
     ]
    },
    {
     "name": "stdout",
     "output_type": "stream",
     "text": [
      "model 360, 2 circuited\n",
      "212 seconds\n",
      "model 360, 2 tested: acc 0.7445887445887446, log-lik -29.10238181285011\n",
      "212 seconds\n",
      "360 finished, 212 seconds\n",
      "Performance: [-29.73963740155307, -29.783215360540346, -29.10238181285011]\n"
     ]
    },
    {
     "name": "stderr",
     "output_type": "stream",
     "text": [
      " 12%|█████████▏                                                                      | 42/365 [00:00<00:00, 401.04it/s]"
     ]
    },
    {
     "name": "stdout",
     "output_type": "stream",
     "text": [
      "model 365, 0 fitted\n",
      "212 seconds\n"
     ]
    },
    {
     "name": "stderr",
     "output_type": "stream",
     "text": [
      "100%|███████████████████████████████████████████████████████████████████████████████| 365/365 [00:00<00:00, 366.33it/s]\n"
     ]
    },
    {
     "name": "stdout",
     "output_type": "stream",
     "text": [
      "model 365, 0 circuited\n",
      "213 seconds\n",
      "model 365, 0 tested: acc 0.7359307359307359, log-lik -29.754292975468843\n",
      "214 seconds\n"
     ]
    },
    {
     "name": "stderr",
     "output_type": "stream",
     "text": [
      " 34%|██████████████████████████▊                                                    | 124/365 [00:00<00:00, 629.50it/s]"
     ]
    },
    {
     "name": "stdout",
     "output_type": "stream",
     "text": [
      "model 365, 1 fitted\n",
      "214 seconds\n"
     ]
    },
    {
     "name": "stderr",
     "output_type": "stream",
     "text": [
      "100%|███████████████████████████████████████████████████████████████████████████████| 365/365 [00:00<00:00, 591.63it/s]\n"
     ]
    },
    {
     "name": "stdout",
     "output_type": "stream",
     "text": [
      "model 365, 1 circuited\n",
      "215 seconds\n",
      "model 365, 1 tested: acc 0.7359307359307359, log-lik -29.801697611949837\n",
      "215 seconds\n"
     ]
    },
    {
     "name": "stderr",
     "output_type": "stream",
     "text": [
      " 17%|█████████████▎                                                                  | 61/365 [00:00<00:00, 608.93it/s]"
     ]
    },
    {
     "name": "stdout",
     "output_type": "stream",
     "text": [
      "model 365, 2 fitted\n",
      "216 seconds\n"
     ]
    },
    {
     "name": "stderr",
     "output_type": "stream",
     "text": [
      "100%|███████████████████████████████████████████████████████████████████████████████| 365/365 [00:00<00:00, 560.93it/s]\n"
     ]
    },
    {
     "name": "stdout",
     "output_type": "stream",
     "text": [
      "model 365, 2 circuited\n",
      "216 seconds\n",
      "model 365, 2 tested: acc 0.7402597402597403, log-lik -29.78759962707441\n",
      "217 seconds\n",
      "365 finished, 217 seconds\n",
      "Performance: [-29.754292975468843, -29.801697611949837, -29.78759962707441]\n"
     ]
    },
    {
     "name": "stderr",
     "output_type": "stream",
     "text": [
      " 40%|███████████████████████████████▊                                               | 149/370 [00:00<00:00, 727.74it/s]"
     ]
    },
    {
     "name": "stdout",
     "output_type": "stream",
     "text": [
      "model 370, 0 fitted\n",
      "217 seconds\n"
     ]
    },
    {
     "name": "stderr",
     "output_type": "stream",
     "text": [
      "100%|███████████████████████████████████████████████████████████████████████████████| 370/370 [00:00<00:00, 597.32it/s]\n"
     ]
    },
    {
     "name": "stdout",
     "output_type": "stream",
     "text": [
      "model 370, 0 circuited\n",
      "218 seconds\n",
      "model 370, 0 tested: acc 0.7402597402597403, log-lik -29.150528554880704\n",
      "218 seconds\n"
     ]
    },
    {
     "name": "stderr",
     "output_type": "stream",
     "text": [
      " 18%|██████████████                                                                  | 65/370 [00:00<00:00, 648.41it/s]"
     ]
    },
    {
     "name": "stdout",
     "output_type": "stream",
     "text": [
      "model 370, 1 fitted\n",
      "218 seconds\n"
     ]
    },
    {
     "name": "stderr",
     "output_type": "stream",
     "text": [
      "100%|███████████████████████████████████████████████████████████████████████████████| 370/370 [00:00<00:00, 582.43it/s]\n"
     ]
    },
    {
     "name": "stdout",
     "output_type": "stream",
     "text": [
      "model 370, 1 circuited\n",
      "219 seconds\n",
      "model 370, 1 tested: acc 0.7402597402597403, log-lik -29.778478756981034\n",
      "219 seconds\n"
     ]
    },
    {
     "name": "stderr",
     "output_type": "stream",
     "text": [
      " 18%|██████████████▍                                                                 | 67/370 [00:00<00:00, 668.30it/s]"
     ]
    },
    {
     "name": "stdout",
     "output_type": "stream",
     "text": [
      "model 370, 2 fitted\n",
      "220 seconds\n"
     ]
    },
    {
     "name": "stderr",
     "output_type": "stream",
     "text": [
      "100%|███████████████████████████████████████████████████████████████████████████████| 370/370 [00:00<00:00, 526.58it/s]\n"
     ]
    },
    {
     "name": "stdout",
     "output_type": "stream",
     "text": [
      "model 370, 2 circuited\n",
      "220 seconds\n",
      "model 370, 2 tested: acc 0.7402597402597403, log-lik -29.754816246553375\n",
      "221 seconds\n",
      "370 finished, 221 seconds\n",
      "Performance: [-29.150528554880704, -29.778478756981034, -29.754816246553375]\n"
     ]
    },
    {
     "name": "stderr",
     "output_type": "stream",
     "text": [
      " 30%|████████████████████████                                                       | 114/375 [00:00<00:00, 540.19it/s]"
     ]
    },
    {
     "name": "stdout",
     "output_type": "stream",
     "text": [
      "model 375, 0 fitted\n",
      "221 seconds\n"
     ]
    },
    {
     "name": "stderr",
     "output_type": "stream",
     "text": [
      "100%|███████████████████████████████████████████████████████████████████████████████| 375/375 [00:00<00:00, 413.11it/s]\n"
     ]
    },
    {
     "name": "stdout",
     "output_type": "stream",
     "text": [
      "model 375, 0 circuited\n",
      "222 seconds\n",
      "model 375, 0 tested: acc 0.7359307359307359, log-lik -29.756768178967082\n",
      "222 seconds\n"
     ]
    },
    {
     "name": "stderr",
     "output_type": "stream",
     "text": [
      " 15%|███████████▉                                                                    | 56/375 [00:00<00:00, 555.88it/s]"
     ]
    },
    {
     "name": "stdout",
     "output_type": "stream",
     "text": [
      "model 375, 1 fitted\n",
      "223 seconds\n"
     ]
    },
    {
     "name": "stderr",
     "output_type": "stream",
     "text": [
      "100%|███████████████████████████████████████████████████████████████████████████████| 375/375 [00:00<00:00, 440.30it/s]\n"
     ]
    },
    {
     "name": "stdout",
     "output_type": "stream",
     "text": [
      "model 375, 1 circuited\n",
      "224 seconds\n",
      "model 375, 1 tested: acc 0.7445887445887446, log-lik -29.689127513082813\n",
      "224 seconds\n"
     ]
    },
    {
     "name": "stderr",
     "output_type": "stream",
     "text": [
      " 30%|███████████████████████▌                                                       | 112/375 [00:00<00:00, 549.76it/s]"
     ]
    },
    {
     "name": "stdout",
     "output_type": "stream",
     "text": [
      "model 375, 2 fitted\n",
      "225 seconds\n"
     ]
    },
    {
     "name": "stderr",
     "output_type": "stream",
     "text": [
      "100%|███████████████████████████████████████████████████████████████████████████████| 375/375 [00:00<00:00, 526.49it/s]\n"
     ]
    },
    {
     "name": "stdout",
     "output_type": "stream",
     "text": [
      "model 375, 2 circuited\n",
      "225 seconds\n",
      "model 375, 2 tested: acc 0.748917748917749, log-lik -29.762403441393467\n",
      "226 seconds\n",
      "375 finished, 226 seconds\n",
      "Performance: [-29.756768178967082, -29.689127513082813, -29.762403441393467]\n"
     ]
    },
    {
     "name": "stderr",
     "output_type": "stream",
     "text": [
      " 19%|██████████████▉                                                                 | 71/380 [00:00<00:00, 704.82it/s]"
     ]
    },
    {
     "name": "stdout",
     "output_type": "stream",
     "text": [
      "model 380, 0 fitted\n",
      "226 seconds\n"
     ]
    },
    {
     "name": "stderr",
     "output_type": "stream",
     "text": [
      "100%|███████████████████████████████████████████████████████████████████████████████| 380/380 [00:00<00:00, 524.04it/s]\n"
     ]
    },
    {
     "name": "stdout",
     "output_type": "stream",
     "text": [
      "model 380, 0 circuited\n",
      "227 seconds\n",
      "model 380, 0 tested: acc 0.7402597402597403, log-lik -29.75761290342424\n",
      "227 seconds\n"
     ]
    },
    {
     "name": "stderr",
     "output_type": "stream",
     "text": [
      " 16%|█████████████                                                                   | 62/380 [00:00<00:00, 609.48it/s]"
     ]
    },
    {
     "name": "stdout",
     "output_type": "stream",
     "text": [
      "model 380, 1 fitted\n",
      "228 seconds\n"
     ]
    },
    {
     "name": "stderr",
     "output_type": "stream",
     "text": [
      "100%|███████████████████████████████████████████████████████████████████████████████| 380/380 [00:00<00:00, 539.68it/s]\n"
     ]
    },
    {
     "name": "stdout",
     "output_type": "stream",
     "text": [
      "model 380, 1 circuited\n",
      "228 seconds\n",
      "model 380, 1 tested: acc 0.7402597402597403, log-lik -29.727876867542022\n",
      "229 seconds\n"
     ]
    },
    {
     "name": "stderr",
     "output_type": "stream",
     "text": [
      " 32%|█████████████████████████▌                                                     | 123/380 [00:00<00:00, 616.59it/s]"
     ]
    },
    {
     "name": "stdout",
     "output_type": "stream",
     "text": [
      "model 380, 2 fitted\n",
      "229 seconds\n"
     ]
    },
    {
     "name": "stderr",
     "output_type": "stream",
     "text": [
      "100%|███████████████████████████████████████████████████████████████████████████████| 380/380 [00:00<00:00, 545.55it/s]\n"
     ]
    },
    {
     "name": "stdout",
     "output_type": "stream",
     "text": [
      "model 380, 2 circuited\n",
      "230 seconds\n",
      "model 380, 2 tested: acc 0.7359307359307359, log-lik -29.787925048557494\n",
      "230 seconds\n",
      "380 finished, 230 seconds\n",
      "Performance: [-29.75761290342424, -29.727876867542022, -29.787925048557494]\n"
     ]
    },
    {
     "name": "stderr",
     "output_type": "stream",
     "text": [
      " 15%|████████████                                                                    | 58/385 [00:00<00:00, 575.83it/s]"
     ]
    },
    {
     "name": "stdout",
     "output_type": "stream",
     "text": [
      "model 385, 0 fitted\n",
      "230 seconds\n"
     ]
    },
    {
     "name": "stderr",
     "output_type": "stream",
     "text": [
      "100%|███████████████████████████████████████████████████████████████████████████████| 385/385 [00:00<00:00, 461.09it/s]\n"
     ]
    },
    {
     "name": "stdout",
     "output_type": "stream",
     "text": [
      "model 385, 0 circuited\n",
      "231 seconds\n",
      "model 385, 0 tested: acc 0.7402597402597403, log-lik -29.759472730900274\n",
      "232 seconds\n"
     ]
    },
    {
     "name": "stderr",
     "output_type": "stream",
     "text": [
      " 11%|█████████▏                                                                      | 44/385 [00:00<00:00, 378.62it/s]"
     ]
    },
    {
     "name": "stdout",
     "output_type": "stream",
     "text": [
      "model 385, 1 fitted\n",
      "232 seconds\n"
     ]
    },
    {
     "name": "stderr",
     "output_type": "stream",
     "text": [
      "100%|███████████████████████████████████████████████████████████████████████████████| 385/385 [00:00<00:00, 511.35it/s]\n"
     ]
    },
    {
     "name": "stdout",
     "output_type": "stream",
     "text": [
      "model 385, 1 circuited\n",
      "233 seconds\n",
      "model 385, 1 tested: acc 0.7359307359307359, log-lik -29.702948930086265\n",
      "233 seconds\n"
     ]
    },
    {
     "name": "stderr",
     "output_type": "stream",
     "text": [
      " 17%|█████████████▎                                                                  | 64/385 [00:00<00:00, 638.29it/s]"
     ]
    },
    {
     "name": "stdout",
     "output_type": "stream",
     "text": [
      "model 385, 2 fitted\n",
      "233 seconds\n"
     ]
    },
    {
     "name": "stderr",
     "output_type": "stream",
     "text": [
      "100%|███████████████████████████████████████████████████████████████████████████████| 385/385 [00:00<00:00, 565.42it/s]\n"
     ]
    },
    {
     "name": "stdout",
     "output_type": "stream",
     "text": [
      "model 385, 2 circuited\n",
      "234 seconds\n",
      "model 385, 2 tested: acc 0.7402597402597403, log-lik -29.768691249685094\n",
      "234 seconds\n",
      "385 finished, 235 seconds\n",
      "Performance: [-29.759472730900274, -29.702948930086265, -29.768691249685094]\n"
     ]
    },
    {
     "name": "stderr",
     "output_type": "stream",
     "text": [
      " 32%|█████████████████████████▎                                                     | 125/390 [00:00<00:00, 626.03it/s]"
     ]
    },
    {
     "name": "stdout",
     "output_type": "stream",
     "text": [
      "model 390, 0 fitted\n",
      "235 seconds\n"
     ]
    },
    {
     "name": "stderr",
     "output_type": "stream",
     "text": [
      "100%|███████████████████████████████████████████████████████████████████████████████| 390/390 [00:00<00:00, 433.95it/s]\n"
     ]
    },
    {
     "name": "stdout",
     "output_type": "stream",
     "text": [
      "model 390, 0 circuited\n",
      "236 seconds\n",
      "model 390, 0 tested: acc 0.7316017316017316, log-lik -29.438061562798286\n",
      "236 seconds\n"
     ]
    },
    {
     "name": "stderr",
     "output_type": "stream",
     "text": [
      " 12%|█████████▏                                                                      | 45/390 [00:00<00:00, 442.36it/s]"
     ]
    },
    {
     "name": "stdout",
     "output_type": "stream",
     "text": [
      "model 390, 1 fitted\n",
      "237 seconds\n"
     ]
    },
    {
     "name": "stderr",
     "output_type": "stream",
     "text": [
      "100%|███████████████████████████████████████████████████████████████████████████████| 390/390 [00:00<00:00, 428.28it/s]\n"
     ]
    },
    {
     "name": "stdout",
     "output_type": "stream",
     "text": [
      "model 390, 1 circuited\n",
      "238 seconds\n",
      "model 390, 1 tested: acc 0.7445887445887446, log-lik -29.755941110563192\n",
      "238 seconds\n"
     ]
    },
    {
     "name": "stderr",
     "output_type": "stream",
     "text": [
      " 11%|████████▊                                                                       | 43/390 [00:00<00:00, 413.65it/s]"
     ]
    },
    {
     "name": "stdout",
     "output_type": "stream",
     "text": [
      "model 390, 2 fitted\n",
      "238 seconds\n"
     ]
    },
    {
     "name": "stderr",
     "output_type": "stream",
     "text": [
      "100%|███████████████████████████████████████████████████████████████████████████████| 390/390 [00:00<00:00, 442.89it/s]\n"
     ]
    },
    {
     "name": "stdout",
     "output_type": "stream",
     "text": [
      "model 390, 2 circuited\n",
      "239 seconds\n",
      "model 390, 2 tested: acc 0.7445887445887446, log-lik -29.144004432981404\n",
      "240 seconds\n"
     ]
    },
    {
     "name": "stderr",
     "output_type": "stream",
     "text": [
      " 13%|██████████▌                                                                     | 52/395 [00:00<00:00, 516.21it/s]"
     ]
    },
    {
     "name": "stdout",
     "output_type": "stream",
     "text": [
      "390 finished, 241 seconds\n",
      "Performance: [-29.438061562798286, -29.755941110563192, -29.144004432981404]\n",
      "model 395, 0 fitted\n",
      "241 seconds\n"
     ]
    },
    {
     "name": "stderr",
     "output_type": "stream",
     "text": [
      "100%|███████████████████████████████████████████████████████████████████████████████| 395/395 [00:00<00:00, 551.14it/s]\n"
     ]
    },
    {
     "name": "stdout",
     "output_type": "stream",
     "text": [
      "model 395, 0 circuited\n",
      "242 seconds\n",
      "model 395, 0 tested: acc 0.7402597402597403, log-lik -29.77617107214976\n",
      "242 seconds\n"
     ]
    },
    {
     "name": "stderr",
     "output_type": "stream",
     "text": [
      " 10%|████████▎                                                                       | 41/395 [00:00<00:00, 373.73it/s]"
     ]
    },
    {
     "name": "stdout",
     "output_type": "stream",
     "text": [
      "model 395, 1 fitted\n",
      "243 seconds\n"
     ]
    },
    {
     "name": "stderr",
     "output_type": "stream",
     "text": [
      "100%|███████████████████████████████████████████████████████████████████████████████| 395/395 [00:00<00:00, 486.13it/s]\n"
     ]
    },
    {
     "name": "stdout",
     "output_type": "stream",
     "text": [
      "model 395, 1 circuited\n",
      "244 seconds\n",
      "model 395, 1 tested: acc 0.7402597402597403, log-lik -29.73328569937399\n",
      "244 seconds\n"
     ]
    },
    {
     "name": "stderr",
     "output_type": "stream",
     "text": [
      " 15%|███████████▋                                                                    | 58/395 [00:00<00:00, 567.24it/s]"
     ]
    },
    {
     "name": "stdout",
     "output_type": "stream",
     "text": [
      "model 395, 2 fitted\n",
      "245 seconds\n"
     ]
    },
    {
     "name": "stderr",
     "output_type": "stream",
     "text": [
      "100%|███████████████████████████████████████████████████████████████████████████████| 395/395 [00:00<00:00, 491.43it/s]\n"
     ]
    },
    {
     "name": "stdout",
     "output_type": "stream",
     "text": [
      "model 395, 2 circuited\n",
      "246 seconds\n",
      "model 395, 2 tested: acc 0.7359307359307359, log-lik -29.127518126713692\n",
      "246 seconds\n",
      "395 finished, 246 seconds\n",
      "Performance: [-29.77617107214976, -29.73328569937399, -29.127518126713692]\n"
     ]
    },
    {
     "name": "stderr",
     "output_type": "stream",
     "text": [
      " 12%|██████████                                                                      | 50/400 [00:00<00:00, 486.73it/s]"
     ]
    },
    {
     "name": "stdout",
     "output_type": "stream",
     "text": [
      "model 400, 0 fitted\n",
      "246 seconds\n"
     ]
    },
    {
     "name": "stderr",
     "output_type": "stream",
     "text": [
      "100%|███████████████████████████████████████████████████████████████████████████████| 400/400 [00:00<00:00, 444.43it/s]\n"
     ]
    },
    {
     "name": "stdout",
     "output_type": "stream",
     "text": [
      "model 400, 0 circuited\n",
      "247 seconds\n",
      "model 400, 0 tested: acc 0.7445887445887446, log-lik -29.201239251487248\n",
      "248 seconds\n"
     ]
    },
    {
     "name": "stderr",
     "output_type": "stream",
     "text": [
      " 11%|████████▊                                                                       | 44/400 [00:00<00:00, 438.89it/s]"
     ]
    },
    {
     "name": "stdout",
     "output_type": "stream",
     "text": [
      "model 400, 1 fitted\n",
      "248 seconds\n"
     ]
    },
    {
     "name": "stderr",
     "output_type": "stream",
     "text": [
      "100%|███████████████████████████████████████████████████████████████████████████████| 400/400 [00:00<00:00, 475.39it/s]\n"
     ]
    },
    {
     "name": "stdout",
     "output_type": "stream",
     "text": [
      "model 400, 1 circuited\n",
      "249 seconds\n",
      "model 400, 1 tested: acc 0.7402597402597403, log-lik -29.74182294690126\n",
      "249 seconds\n"
     ]
    },
    {
     "name": "stderr",
     "output_type": "stream",
     "text": [
      " 14%|███████████▌                                                                    | 58/400 [00:00<00:00, 578.51it/s]"
     ]
    },
    {
     "name": "stdout",
     "output_type": "stream",
     "text": [
      "model 400, 2 fitted\n",
      "250 seconds\n"
     ]
    },
    {
     "name": "stderr",
     "output_type": "stream",
     "text": [
      "100%|███████████████████████████████████████████████████████████████████████████████| 400/400 [00:00<00:00, 446.83it/s]\n"
     ]
    },
    {
     "name": "stdout",
     "output_type": "stream",
     "text": [
      "model 400, 2 circuited\n",
      "251 seconds\n",
      "model 400, 2 tested: acc 0.7402597402597403, log-lik -29.781131614678618\n",
      "251 seconds\n"
     ]
    },
    {
     "name": "stderr",
     "output_type": "stream",
     "text": [
      " 10%|████████▎                                                                       | 42/405 [00:00<00:00, 418.94it/s]"
     ]
    },
    {
     "name": "stdout",
     "output_type": "stream",
     "text": [
      "400 finished, 252 seconds\n",
      "Performance: [-29.201239251487248, -29.74182294690126, -29.781131614678618]\n",
      "model 405, 0 fitted\n",
      "252 seconds\n"
     ]
    },
    {
     "name": "stderr",
     "output_type": "stream",
     "text": [
      "100%|███████████████████████████████████████████████████████████████████████████████| 405/405 [00:00<00:00, 417.69it/s]\n"
     ]
    },
    {
     "name": "stdout",
     "output_type": "stream",
     "text": [
      "model 405, 0 circuited\n",
      "253 seconds\n",
      "model 405, 0 tested: acc 0.7402597402597403, log-lik -29.75840808117914\n",
      "253 seconds\n"
     ]
    },
    {
     "name": "stderr",
     "output_type": "stream",
     "text": [
      "  7%|█████▌                                                                          | 28/405 [00:00<00:01, 267.38it/s]"
     ]
    },
    {
     "name": "stdout",
     "output_type": "stream",
     "text": [
      "model 405, 1 fitted\n",
      "254 seconds\n"
     ]
    },
    {
     "name": "stderr",
     "output_type": "stream",
     "text": [
      "100%|███████████████████████████████████████████████████████████████████████████████| 405/405 [00:01<00:00, 364.18it/s]\n"
     ]
    },
    {
     "name": "stdout",
     "output_type": "stream",
     "text": [
      "model 405, 1 circuited\n",
      "255 seconds\n",
      "model 405, 1 tested: acc 0.7359307359307359, log-lik -29.746394332596815\n",
      "255 seconds\n"
     ]
    },
    {
     "name": "stderr",
     "output_type": "stream",
     "text": [
      " 23%|██████████████████▌                                                             | 94/405 [00:00<00:00, 455.41it/s]"
     ]
    },
    {
     "name": "stdout",
     "output_type": "stream",
     "text": [
      "model 405, 2 fitted\n",
      "256 seconds\n"
     ]
    },
    {
     "name": "stderr",
     "output_type": "stream",
     "text": [
      "100%|███████████████████████████████████████████████████████████████████████████████| 405/405 [00:01<00:00, 389.72it/s]\n"
     ]
    },
    {
     "name": "stdout",
     "output_type": "stream",
     "text": [
      "model 405, 2 circuited\n",
      "257 seconds\n",
      "model 405, 2 tested: acc 0.7445887445887446, log-lik -29.70515686130848\n",
      "257 seconds\n",
      "405 finished, 257 seconds\n",
      "Performance: [-29.75840808117914, -29.746394332596815, -29.70515686130848]\n"
     ]
    },
    {
     "name": "stderr",
     "output_type": "stream",
     "text": [
      " 13%|██████████▎                                                                     | 53/410 [00:00<00:00, 528.67it/s]"
     ]
    },
    {
     "name": "stdout",
     "output_type": "stream",
     "text": [
      "model 410, 0 fitted\n",
      "258 seconds\n"
     ]
    },
    {
     "name": "stderr",
     "output_type": "stream",
     "text": [
      "100%|███████████████████████████████████████████████████████████████████████████████| 410/410 [00:00<00:00, 463.17it/s]\n"
     ]
    },
    {
     "name": "stdout",
     "output_type": "stream",
     "text": [
      "model 410, 0 circuited\n",
      "259 seconds\n",
      "model 410, 0 tested: acc 0.7445887445887446, log-lik -29.780215046574742\n",
      "259 seconds\n"
     ]
    },
    {
     "name": "stderr",
     "output_type": "stream",
     "text": [
      " 13%|██████████▌                                                                     | 54/410 [00:00<00:00, 536.10it/s]"
     ]
    },
    {
     "name": "stdout",
     "output_type": "stream",
     "text": [
      "model 410, 1 fitted\n",
      "259 seconds\n"
     ]
    },
    {
     "name": "stderr",
     "output_type": "stream",
     "text": [
      "100%|███████████████████████████████████████████████████████████████████████████████| 410/410 [00:00<00:00, 496.41it/s]\n"
     ]
    },
    {
     "name": "stdout",
     "output_type": "stream",
     "text": [
      "model 410, 1 circuited\n",
      "260 seconds\n",
      "model 410, 1 tested: acc 0.7402597402597403, log-lik -28.905168337193434\n",
      "261 seconds\n"
     ]
    },
    {
     "name": "stderr",
     "output_type": "stream",
     "text": [
      " 11%|█████████▏                                                                      | 47/410 [00:00<00:00, 453.13it/s]"
     ]
    },
    {
     "name": "stdout",
     "output_type": "stream",
     "text": [
      "model 410, 2 fitted\n",
      "261 seconds\n"
     ]
    },
    {
     "name": "stderr",
     "output_type": "stream",
     "text": [
      "100%|███████████████████████████████████████████████████████████████████████████████| 410/410 [00:00<00:00, 498.14it/s]\n"
     ]
    },
    {
     "name": "stdout",
     "output_type": "stream",
     "text": [
      "model 410, 2 circuited\n",
      "262 seconds\n",
      "model 410, 2 tested: acc 0.7445887445887446, log-lik -29.150784353510105\n",
      "262 seconds\n",
      "410 finished, 262 seconds\n",
      "Performance: [-29.780215046574742, -28.905168337193434, -29.150784353510105]\n"
     ]
    },
    {
     "name": "stderr",
     "output_type": "stream",
     "text": [
      " 10%|███████▉                                                                        | 41/415 [00:00<00:00, 406.96it/s]"
     ]
    },
    {
     "name": "stdout",
     "output_type": "stream",
     "text": [
      "model 415, 0 fitted\n",
      "263 seconds\n"
     ]
    },
    {
     "name": "stderr",
     "output_type": "stream",
     "text": [
      "100%|███████████████████████████████████████████████████████████████████████████████| 415/415 [00:00<00:00, 444.02it/s]\n"
     ]
    },
    {
     "name": "stdout",
     "output_type": "stream",
     "text": [
      "model 415, 0 circuited\n",
      "264 seconds\n",
      "model 415, 0 tested: acc 0.7445887445887446, log-lik -29.695151028089143\n",
      "264 seconds\n"
     ]
    },
    {
     "name": "stderr",
     "output_type": "stream",
     "text": [
      " 13%|██████████▍                                                                     | 54/415 [00:00<00:00, 536.10it/s]"
     ]
    },
    {
     "name": "stdout",
     "output_type": "stream",
     "text": [
      "model 415, 1 fitted\n",
      "265 seconds\n"
     ]
    },
    {
     "name": "stderr",
     "output_type": "stream",
     "text": [
      "100%|███████████████████████████████████████████████████████████████████████████████| 415/415 [00:00<00:00, 445.87it/s]\n"
     ]
    },
    {
     "name": "stdout",
     "output_type": "stream",
     "text": [
      "model 415, 1 circuited\n",
      "265 seconds\n",
      "model 415, 1 tested: acc 0.7402597402597403, log-lik -29.760460704514163\n",
      "266 seconds\n"
     ]
    },
    {
     "name": "stderr",
     "output_type": "stream",
     "text": [
      " 25%|███████████████████▉                                                           | 105/415 [00:00<00:00, 527.14it/s]"
     ]
    },
    {
     "name": "stdout",
     "output_type": "stream",
     "text": [
      "model 415, 2 fitted\n",
      "266 seconds\n"
     ]
    },
    {
     "name": "stderr",
     "output_type": "stream",
     "text": [
      "100%|███████████████████████████████████████████████████████████████████████████████| 415/415 [00:00<00:00, 435.50it/s]\n"
     ]
    },
    {
     "name": "stdout",
     "output_type": "stream",
     "text": [
      "model 415, 2 circuited\n",
      "267 seconds\n",
      "model 415, 2 tested: acc 0.7402597402597403, log-lik -29.745159517583364\n",
      "268 seconds\n",
      "415 finished, 268 seconds\n",
      "Performance: [-29.695151028089143, -29.760460704514163, -29.745159517583364]\n"
     ]
    },
    {
     "name": "stderr",
     "output_type": "stream",
     "text": [
      " 11%|████████▊                                                                       | 46/420 [00:00<00:00, 448.88it/s]"
     ]
    },
    {
     "name": "stdout",
     "output_type": "stream",
     "text": [
      "model 420, 0 fitted\n",
      "268 seconds\n"
     ]
    },
    {
     "name": "stderr",
     "output_type": "stream",
     "text": [
      "100%|███████████████████████████████████████████████████████████████████████████████| 420/420 [00:01<00:00, 379.61it/s]\n"
     ]
    },
    {
     "name": "stdout",
     "output_type": "stream",
     "text": [
      "model 420, 0 circuited\n",
      "269 seconds\n",
      "model 420, 0 tested: acc 0.7402597402597403, log-lik -29.765684233260593\n",
      "270 seconds\n"
     ]
    },
    {
     "name": "stderr",
     "output_type": "stream",
     "text": [
      " 13%|██████████▋                                                                     | 56/420 [00:00<00:00, 558.44it/s]"
     ]
    },
    {
     "name": "stdout",
     "output_type": "stream",
     "text": [
      "model 420, 1 fitted\n",
      "270 seconds\n"
     ]
    },
    {
     "name": "stderr",
     "output_type": "stream",
     "text": [
      "100%|███████████████████████████████████████████████████████████████████████████████| 420/420 [00:00<00:00, 498.04it/s]\n"
     ]
    },
    {
     "name": "stdout",
     "output_type": "stream",
     "text": [
      "model 420, 1 circuited\n",
      "271 seconds\n",
      "model 420, 1 tested: acc 0.748917748917749, log-lik -29.73398549694923\n",
      "271 seconds\n"
     ]
    },
    {
     "name": "stderr",
     "output_type": "stream",
     "text": [
      "  9%|███████▏                                                                        | 38/420 [00:00<00:01, 377.25it/s]"
     ]
    },
    {
     "name": "stdout",
     "output_type": "stream",
     "text": [
      "model 420, 2 fitted\n",
      "272 seconds\n"
     ]
    },
    {
     "name": "stderr",
     "output_type": "stream",
     "text": [
      "100%|███████████████████████████████████████████████████████████████████████████████| 420/420 [00:01<00:00, 387.50it/s]\n"
     ]
    },
    {
     "name": "stdout",
     "output_type": "stream",
     "text": [
      "model 420, 2 circuited\n",
      "273 seconds\n",
      "model 420, 2 tested: acc 0.748917748917749, log-lik -29.75973286924549\n",
      "273 seconds\n",
      "420 finished, 274 seconds\n",
      "Performance: [-29.765684233260593, -29.73398549694923, -29.75973286924549]\n"
     ]
    },
    {
     "name": "stderr",
     "output_type": "stream",
     "text": [
      " 18%|██████████████▋                                                                 | 78/425 [00:00<00:00, 402.83it/s]"
     ]
    },
    {
     "name": "stdout",
     "output_type": "stream",
     "text": [
      "model 425, 0 fitted\n",
      "274 seconds\n"
     ]
    },
    {
     "name": "stderr",
     "output_type": "stream",
     "text": [
      "100%|███████████████████████████████████████████████████████████████████████████████| 425/425 [00:01<00:00, 392.05it/s]\n"
     ]
    },
    {
     "name": "stdout",
     "output_type": "stream",
     "text": [
      "model 425, 0 circuited\n",
      "275 seconds\n",
      "model 425, 0 tested: acc 0.7402597402597403, log-lik -29.765482739939284\n",
      "276 seconds\n"
     ]
    },
    {
     "name": "stderr",
     "output_type": "stream",
     "text": [
      "  4%|███▌                                                                            | 19/425 [00:00<00:02, 189.51it/s]"
     ]
    },
    {
     "name": "stdout",
     "output_type": "stream",
     "text": [
      "model 425, 1 fitted\n",
      "276 seconds\n"
     ]
    },
    {
     "name": "stderr",
     "output_type": "stream",
     "text": [
      "100%|███████████████████████████████████████████████████████████████████████████████| 425/425 [00:01<00:00, 334.12it/s]\n"
     ]
    },
    {
     "name": "stdout",
     "output_type": "stream",
     "text": [
      "model 425, 1 circuited\n",
      "277 seconds\n",
      "model 425, 1 tested: acc 0.7359307359307359, log-lik -29.766479002747065\n",
      "278 seconds\n"
     ]
    },
    {
     "name": "stderr",
     "output_type": "stream",
     "text": [
      "  9%|██████▉                                                                         | 37/425 [00:00<00:01, 369.71it/s]"
     ]
    },
    {
     "name": "stdout",
     "output_type": "stream",
     "text": [
      "model 425, 2 fitted\n",
      "279 seconds\n"
     ]
    },
    {
     "name": "stderr",
     "output_type": "stream",
     "text": [
      "100%|███████████████████████████████████████████████████████████████████████████████| 425/425 [00:01<00:00, 332.08it/s]\n"
     ]
    },
    {
     "name": "stdout",
     "output_type": "stream",
     "text": [
      "model 425, 2 circuited\n",
      "280 seconds\n",
      "model 425, 2 tested: acc 0.7359307359307359, log-lik -29.75595937745467\n",
      "280 seconds\n",
      "425 finished, 281 seconds\n",
      "Performance: [-29.765482739939284, -29.766479002747065, -29.75595937745467]\n"
     ]
    },
    {
     "name": "stderr",
     "output_type": "stream",
     "text": [
      " 10%|███████▋                                                                        | 41/430 [00:00<00:00, 394.27it/s]"
     ]
    },
    {
     "name": "stdout",
     "output_type": "stream",
     "text": [
      "model 430, 0 fitted\n",
      "281 seconds\n"
     ]
    },
    {
     "name": "stderr",
     "output_type": "stream",
     "text": [
      "100%|███████████████████████████████████████████████████████████████████████████████| 430/430 [00:01<00:00, 355.61it/s]\n"
     ]
    },
    {
     "name": "stdout",
     "output_type": "stream",
     "text": [
      "model 430, 0 circuited\n",
      "282 seconds\n",
      "model 430, 0 tested: acc 0.7402597402597403, log-lik -29.76615815696768\n",
      "283 seconds\n"
     ]
    },
    {
     "name": "stderr",
     "output_type": "stream",
     "text": [
      " 13%|██████████▌                                                                     | 57/430 [00:00<00:00, 568.72it/s]"
     ]
    },
    {
     "name": "stdout",
     "output_type": "stream",
     "text": [
      "model 430, 1 fitted\n",
      "283 seconds\n"
     ]
    },
    {
     "name": "stderr",
     "output_type": "stream",
     "text": [
      "100%|███████████████████████████████████████████████████████████████████████████████| 430/430 [00:01<00:00, 313.14it/s]\n"
     ]
    },
    {
     "name": "stdout",
     "output_type": "stream",
     "text": [
      "model 430, 1 circuited\n",
      "285 seconds\n",
      "model 430, 1 tested: acc 0.7445887445887446, log-lik -29.797543985601287\n",
      "285 seconds\n"
     ]
    },
    {
     "name": "stderr",
     "output_type": "stream",
     "text": [
      "  6%|████▍                                                                           | 24/430 [00:00<00:01, 234.28it/s]"
     ]
    },
    {
     "name": "stdout",
     "output_type": "stream",
     "text": [
      "model 430, 2 fitted\n",
      "286 seconds\n"
     ]
    },
    {
     "name": "stderr",
     "output_type": "stream",
     "text": [
      "100%|███████████████████████████████████████████████████████████████████████████████| 430/430 [00:01<00:00, 421.91it/s]\n"
     ]
    },
    {
     "name": "stdout",
     "output_type": "stream",
     "text": [
      "model 430, 2 circuited\n",
      "287 seconds\n",
      "model 430, 2 tested: acc 0.7402597402597403, log-lik -29.72817723590425\n",
      "288 seconds\n",
      "430 finished, 288 seconds\n",
      "Performance: [-29.76615815696768, -29.797543985601287, -29.72817723590425]\n"
     ]
    },
    {
     "name": "stderr",
     "output_type": "stream",
     "text": [
      " 13%|██████████                                                                      | 55/435 [00:00<00:00, 548.10it/s]"
     ]
    },
    {
     "name": "stdout",
     "output_type": "stream",
     "text": [
      "model 435, 0 fitted\n",
      "288 seconds\n"
     ]
    },
    {
     "name": "stderr",
     "output_type": "stream",
     "text": [
      "100%|███████████████████████████████████████████████████████████████████████████████| 435/435 [00:01<00:00, 278.78it/s]\n"
     ]
    },
    {
     "name": "stdout",
     "output_type": "stream",
     "text": [
      "model 435, 0 circuited\n",
      "290 seconds\n",
      "model 435, 0 tested: acc 0.7445887445887446, log-lik -29.773976457277612\n",
      "290 seconds\n"
     ]
    },
    {
     "name": "stderr",
     "output_type": "stream",
     "text": [
      " 14%|██████████▊                                                                     | 59/435 [00:00<00:00, 579.97it/s]"
     ]
    },
    {
     "name": "stdout",
     "output_type": "stream",
     "text": [
      "model 435, 1 fitted\n",
      "291 seconds\n"
     ]
    },
    {
     "name": "stderr",
     "output_type": "stream",
     "text": [
      "100%|███████████████████████████████████████████████████████████████████████████████| 435/435 [00:01<00:00, 302.04it/s]\n"
     ]
    },
    {
     "name": "stdout",
     "output_type": "stream",
     "text": [
      "model 435, 1 circuited\n",
      "293 seconds\n",
      "model 435, 1 tested: acc 0.7445887445887446, log-lik -29.189507883276814\n",
      "293 seconds\n"
     ]
    },
    {
     "name": "stderr",
     "output_type": "stream",
     "text": [
      " 11%|████████▍                                                                       | 46/435 [00:00<00:00, 449.18it/s]"
     ]
    },
    {
     "name": "stdout",
     "output_type": "stream",
     "text": [
      "model 435, 2 fitted\n",
      "295 seconds\n"
     ]
    },
    {
     "name": "stderr",
     "output_type": "stream",
     "text": [
      "100%|███████████████████████████████████████████████████████████████████████████████| 435/435 [00:01<00:00, 381.11it/s]\n"
     ]
    },
    {
     "name": "stdout",
     "output_type": "stream",
     "text": [
      "model 435, 2 circuited\n",
      "296 seconds\n",
      "model 435, 2 tested: acc 0.7316017316017316, log-lik -29.78662362712308\n",
      "296 seconds\n"
     ]
    },
    {
     "name": "stderr",
     "output_type": "stream",
     "text": [
      "  6%|█████                                                                           | 28/440 [00:00<00:01, 279.29it/s]"
     ]
    },
    {
     "name": "stdout",
     "output_type": "stream",
     "text": [
      "435 finished, 297 seconds\n",
      "Performance: [-29.773976457277612, -29.189507883276814, -29.78662362712308]\n",
      "model 440, 0 fitted\n",
      "297 seconds\n"
     ]
    },
    {
     "name": "stderr",
     "output_type": "stream",
     "text": [
      "100%|███████████████████████████████████████████████████████████████████████████████| 440/440 [00:01<00:00, 275.63it/s]\n"
     ]
    },
    {
     "name": "stdout",
     "output_type": "stream",
     "text": [
      "model 440, 0 circuited\n",
      "299 seconds\n",
      "model 440, 0 tested: acc 0.7402597402597403, log-lik -29.677986717010253\n",
      "299 seconds\n"
     ]
    },
    {
     "name": "stderr",
     "output_type": "stream",
     "text": [
      "  9%|███████▍                                                                        | 41/440 [00:00<00:01, 358.30it/s]"
     ]
    },
    {
     "name": "stdout",
     "output_type": "stream",
     "text": [
      "model 440, 1 fitted\n",
      "301 seconds\n"
     ]
    },
    {
     "name": "stderr",
     "output_type": "stream",
     "text": [
      "100%|███████████████████████████████████████████████████████████████████████████████| 440/440 [00:01<00:00, 405.44it/s]\n"
     ]
    },
    {
     "name": "stdout",
     "output_type": "stream",
     "text": [
      "model 440, 1 circuited\n",
      "302 seconds\n",
      "model 440, 1 tested: acc 0.7402597402597403, log-lik -29.745239297477216\n",
      "302 seconds\n"
     ]
    },
    {
     "name": "stderr",
     "output_type": "stream",
     "text": [
      "  5%|████▎                                                                           | 24/440 [00:00<00:01, 231.39it/s]"
     ]
    },
    {
     "name": "stdout",
     "output_type": "stream",
     "text": [
      "model 440, 2 fitted\n",
      "303 seconds\n"
     ]
    },
    {
     "name": "stderr",
     "output_type": "stream",
     "text": [
      "100%|███████████████████████████████████████████████████████████████████████████████| 440/440 [00:01<00:00, 393.91it/s]\n"
     ]
    },
    {
     "name": "stdout",
     "output_type": "stream",
     "text": [
      "model 440, 2 circuited\n",
      "305 seconds\n",
      "model 440, 2 tested: acc 0.7359307359307359, log-lik -29.80812489815615\n",
      "305 seconds\n",
      "440 finished, 305 seconds\n",
      "Performance: [-29.677986717010253, -29.745239297477216, -29.80812489815615]\n"
     ]
    },
    {
     "name": "stderr",
     "output_type": "stream",
     "text": [
      "  5%|███▊                                                                            | 21/445 [00:00<00:02, 188.00it/s]"
     ]
    },
    {
     "name": "stdout",
     "output_type": "stream",
     "text": [
      "model 445, 0 fitted\n",
      "306 seconds\n"
     ]
    },
    {
     "name": "stderr",
     "output_type": "stream",
     "text": [
      "100%|███████████████████████████████████████████████████████████████████████████████| 445/445 [00:03<00:00, 143.40it/s]\n"
     ]
    },
    {
     "name": "stdout",
     "output_type": "stream",
     "text": [
      "model 445, 0 circuited\n",
      "310 seconds\n",
      "model 445, 0 tested: acc 0.748917748917749, log-lik -29.664638962814877\n",
      "310 seconds\n"
     ]
    },
    {
     "name": "stderr",
     "output_type": "stream",
     "text": [
      " 11%|████████▉                                                                       | 50/445 [00:00<00:00, 496.38it/s]"
     ]
    },
    {
     "name": "stdout",
     "output_type": "stream",
     "text": [
      "model 445, 1 fitted\n",
      "311 seconds\n"
     ]
    },
    {
     "name": "stderr",
     "output_type": "stream",
     "text": [
      "100%|███████████████████████████████████████████████████████████████████████████████| 445/445 [00:01<00:00, 321.04it/s]\n"
     ]
    },
    {
     "name": "stdout",
     "output_type": "stream",
     "text": [
      "model 445, 1 circuited\n",
      "312 seconds\n",
      "model 445, 1 tested: acc 0.7402597402597403, log-lik -29.768216588857896\n",
      "313 seconds\n"
     ]
    },
    {
     "name": "stderr",
     "output_type": "stream",
     "text": [
      " 14%|██████████▉                                                                     | 61/445 [00:00<00:00, 605.44it/s]"
     ]
    },
    {
     "name": "stdout",
     "output_type": "stream",
     "text": [
      "model 445, 2 fitted\n",
      "314 seconds\n"
     ]
    },
    {
     "name": "stderr",
     "output_type": "stream",
     "text": [
      "100%|███████████████████████████████████████████████████████████████████████████████| 445/445 [00:01<00:00, 443.18it/s]\n"
     ]
    },
    {
     "name": "stdout",
     "output_type": "stream",
     "text": [
      "model 445, 2 circuited\n",
      "315 seconds\n",
      "model 445, 2 tested: acc 0.7402597402597403, log-lik -29.779517336182458\n",
      "315 seconds\n"
     ]
    },
    {
     "name": "stderr",
     "output_type": "stream",
     "text": [
      " 15%|████████████▎                                                                   | 69/450 [00:00<00:00, 687.92it/s]"
     ]
    },
    {
     "name": "stdout",
     "output_type": "stream",
     "text": [
      "445 finished, 316 seconds\n",
      "Performance: [-29.664638962814877, -29.768216588857896, -29.779517336182458]\n",
      "model 450, 0 fitted\n",
      "316 seconds\n"
     ]
    },
    {
     "name": "stderr",
     "output_type": "stream",
     "text": [
      "100%|███████████████████████████████████████████████████████████████████████████████| 450/450 [00:00<00:00, 627.65it/s]\n"
     ]
    },
    {
     "name": "stdout",
     "output_type": "stream",
     "text": [
      "model 450, 0 circuited\n",
      "317 seconds\n",
      "model 450, 0 tested: acc 0.7575757575757576, log-lik -29.743627734329067\n",
      "317 seconds\n"
     ]
    },
    {
     "name": "stderr",
     "output_type": "stream",
     "text": [
      " 16%|████████████▊                                                                   | 72/450 [00:00<00:00, 681.01it/s]"
     ]
    },
    {
     "name": "stdout",
     "output_type": "stream",
     "text": [
      "model 450, 1 fitted\n",
      "317 seconds\n"
     ]
    },
    {
     "name": "stderr",
     "output_type": "stream",
     "text": [
      "100%|███████████████████████████████████████████████████████████████████████████████| 450/450 [00:01<00:00, 296.99it/s]\n"
     ]
    },
    {
     "name": "stdout",
     "output_type": "stream",
     "text": [
      "model 450, 1 circuited\n",
      "319 seconds\n",
      "model 450, 1 tested: acc 0.7402597402597403, log-lik -29.77088628201925\n",
      "320 seconds\n"
     ]
    },
    {
     "name": "stderr",
     "output_type": "stream",
     "text": [
      " 10%|███████▊                                                                        | 44/450 [00:00<00:00, 429.59it/s]"
     ]
    },
    {
     "name": "stdout",
     "output_type": "stream",
     "text": [
      "model 450, 2 fitted\n",
      "321 seconds\n"
     ]
    },
    {
     "name": "stderr",
     "output_type": "stream",
     "text": [
      "100%|███████████████████████████████████████████████████████████████████████████████| 450/450 [00:01<00:00, 370.09it/s]\n"
     ]
    },
    {
     "name": "stdout",
     "output_type": "stream",
     "text": [
      "model 450, 2 circuited\n",
      "322 seconds\n",
      "model 450, 2 tested: acc 0.7402597402597403, log-lik -29.798924504091325\n",
      "322 seconds\n",
      "450 finished, 322 seconds\n",
      "Performance: [-29.743627734329067, -29.77088628201925, -29.798924504091325]\n"
     ]
    },
    {
     "name": "stderr",
     "output_type": "stream",
     "text": [
      " 14%|███████████                                                                     | 63/455 [00:00<00:00, 625.44it/s]"
     ]
    },
    {
     "name": "stdout",
     "output_type": "stream",
     "text": [
      "model 455, 0 fitted\n",
      "323 seconds\n"
     ]
    },
    {
     "name": "stderr",
     "output_type": "stream",
     "text": [
      "100%|███████████████████████████████████████████████████████████████████████████████| 455/455 [00:00<00:00, 551.62it/s]\n"
     ]
    },
    {
     "name": "stdout",
     "output_type": "stream",
     "text": [
      "model 455, 0 circuited\n",
      "324 seconds\n",
      "model 455, 0 tested: acc 0.7402597402597403, log-lik -29.7719795993561\n",
      "324 seconds\n"
     ]
    },
    {
     "name": "stderr",
     "output_type": "stream",
     "text": [
      " 13%|██████████▋                                                                     | 61/455 [00:00<00:00, 579.50it/s]"
     ]
    },
    {
     "name": "stdout",
     "output_type": "stream",
     "text": [
      "model 455, 1 fitted\n",
      "324 seconds\n"
     ]
    },
    {
     "name": "stderr",
     "output_type": "stream",
     "text": [
      "100%|███████████████████████████████████████████████████████████████████████████████| 455/455 [00:00<00:00, 567.67it/s]\n"
     ]
    },
    {
     "name": "stdout",
     "output_type": "stream",
     "text": [
      "model 455, 1 circuited\n",
      "325 seconds\n",
      "model 455, 1 tested: acc 0.7402597402597403, log-lik -29.766903694330328\n",
      "326 seconds\n"
     ]
    },
    {
     "name": "stderr",
     "output_type": "stream",
     "text": [
      " 12%|█████████▍                                                                      | 54/455 [00:00<00:00, 536.16it/s]"
     ]
    },
    {
     "name": "stdout",
     "output_type": "stream",
     "text": [
      "model 455, 2 fitted\n",
      "326 seconds\n"
     ]
    },
    {
     "name": "stderr",
     "output_type": "stream",
     "text": [
      "100%|███████████████████████████████████████████████████████████████████████████████| 455/455 [00:00<00:00, 525.56it/s]\n"
     ]
    },
    {
     "name": "stdout",
     "output_type": "stream",
     "text": [
      "model 455, 2 circuited\n",
      "327 seconds\n",
      "model 455, 2 tested: acc 0.7359307359307359, log-lik -29.76717897448112\n",
      "327 seconds\n",
      "455 finished, 328 seconds\n",
      "Performance: [-29.7719795993561, -29.766903694330328, -29.76717897448112]\n"
     ]
    },
    {
     "name": "stderr",
     "output_type": "stream",
     "text": [
      " 14%|██████████▉                                                                     | 63/460 [00:00<00:00, 601.60it/s]"
     ]
    },
    {
     "name": "stdout",
     "output_type": "stream",
     "text": [
      "model 460, 0 fitted\n",
      "328 seconds\n"
     ]
    },
    {
     "name": "stderr",
     "output_type": "stream",
     "text": [
      "100%|███████████████████████████████████████████████████████████████████████████████| 460/460 [00:00<00:00, 542.51it/s]\n"
     ]
    },
    {
     "name": "stdout",
     "output_type": "stream",
     "text": [
      "model 460, 0 circuited\n",
      "329 seconds\n",
      "model 460, 0 tested: acc 0.7359307359307359, log-lik -29.47062041052966\n",
      "329 seconds\n"
     ]
    },
    {
     "name": "stderr",
     "output_type": "stream",
     "text": [
      " 19%|███████████████▎                                                                | 88/460 [00:00<00:00, 809.51it/s]"
     ]
    },
    {
     "name": "stdout",
     "output_type": "stream",
     "text": [
      "model 460, 1 fitted\n",
      "329 seconds\n"
     ]
    },
    {
     "name": "stderr",
     "output_type": "stream",
     "text": [
      "100%|███████████████████████████████████████████████████████████████████████████████| 460/460 [00:00<00:00, 611.27it/s]\n"
     ]
    },
    {
     "name": "stdout",
     "output_type": "stream",
     "text": [
      "model 460, 1 circuited\n",
      "330 seconds\n",
      "model 460, 1 tested: acc 0.7445887445887446, log-lik -29.72615026010376\n",
      "331 seconds\n"
     ]
    },
    {
     "name": "stderr",
     "output_type": "stream",
     "text": [
      " 28%|██████████████████████▎                                                        | 130/460 [00:00<00:00, 654.05it/s]"
     ]
    },
    {
     "name": "stdout",
     "output_type": "stream",
     "text": [
      "model 460, 2 fitted\n",
      "331 seconds\n"
     ]
    },
    {
     "name": "stderr",
     "output_type": "stream",
     "text": [
      "100%|███████████████████████████████████████████████████████████████████████████████| 460/460 [00:00<00:00, 562.20it/s]\n"
     ]
    },
    {
     "name": "stdout",
     "output_type": "stream",
     "text": [
      "model 460, 2 circuited\n",
      "332 seconds\n",
      "model 460, 2 tested: acc 0.7402597402597403, log-lik -29.734458846947078\n",
      "332 seconds\n",
      "460 finished, 332 seconds\n",
      "Performance: [-29.47062041052966, -29.72615026010376, -29.734458846947078]\n"
     ]
    },
    {
     "name": "stderr",
     "output_type": "stream",
     "text": [
      " 14%|███████████▏                                                                    | 65/465 [00:00<00:00, 644.82it/s]"
     ]
    },
    {
     "name": "stdout",
     "output_type": "stream",
     "text": [
      "model 465, 0 fitted\n",
      "333 seconds\n"
     ]
    },
    {
     "name": "stderr",
     "output_type": "stream",
     "text": [
      "100%|███████████████████████████████████████████████████████████████████████████████| 465/465 [00:00<00:00, 537.41it/s]\n"
     ]
    },
    {
     "name": "stdout",
     "output_type": "stream",
     "text": [
      "model 465, 0 circuited\n",
      "334 seconds\n",
      "model 465, 0 tested: acc 0.7402597402597403, log-lik -29.80627903505767\n",
      "334 seconds\n"
     ]
    },
    {
     "name": "stderr",
     "output_type": "stream",
     "text": [
      " 12%|█████████▊                                                                      | 57/465 [00:00<00:00, 560.32it/s]"
     ]
    },
    {
     "name": "stdout",
     "output_type": "stream",
     "text": [
      "model 465, 1 fitted\n",
      "335 seconds\n"
     ]
    },
    {
     "name": "stderr",
     "output_type": "stream",
     "text": [
      "100%|███████████████████████████████████████████████████████████████████████████████| 465/465 [00:00<00:00, 547.86it/s]\n"
     ]
    },
    {
     "name": "stdout",
     "output_type": "stream",
     "text": [
      "model 465, 1 circuited\n",
      "335 seconds\n",
      "model 465, 1 tested: acc 0.7532467532467533, log-lik -29.230511137652474\n",
      "336 seconds\n"
     ]
    },
    {
     "name": "stderr",
     "output_type": "stream",
     "text": [
      " 13%|██████████▏                                                                     | 59/465 [00:00<00:00, 588.58it/s]"
     ]
    },
    {
     "name": "stdout",
     "output_type": "stream",
     "text": [
      "model 465, 2 fitted\n",
      "336 seconds\n"
     ]
    },
    {
     "name": "stderr",
     "output_type": "stream",
     "text": [
      "100%|███████████████████████████████████████████████████████████████████████████████| 465/465 [00:00<00:00, 523.79it/s]\n"
     ]
    },
    {
     "name": "stdout",
     "output_type": "stream",
     "text": [
      "model 465, 2 circuited\n",
      "337 seconds\n",
      "model 465, 2 tested: acc 0.7359307359307359, log-lik -29.469932334550606\n",
      "338 seconds\n",
      "465 finished, 338 seconds\n",
      "Performance: [-29.80627903505767, -29.230511137652474, -29.469932334550606]\n"
     ]
    },
    {
     "name": "stderr",
     "output_type": "stream",
     "text": [
      " 15%|███████████▉                                                                    | 70/470 [00:00<00:00, 691.41it/s]"
     ]
    },
    {
     "name": "stdout",
     "output_type": "stream",
     "text": [
      "model 470, 0 fitted\n",
      "338 seconds\n"
     ]
    },
    {
     "name": "stderr",
     "output_type": "stream",
     "text": [
      "100%|███████████████████████████████████████████████████████████████████████████████| 470/470 [00:00<00:00, 555.94it/s]\n"
     ]
    },
    {
     "name": "stdout",
     "output_type": "stream",
     "text": [
      "model 470, 0 circuited\n",
      "339 seconds\n",
      "model 470, 0 tested: acc 0.7359307359307359, log-lik -29.443388794299683\n",
      "339 seconds\n"
     ]
    },
    {
     "name": "stderr",
     "output_type": "stream",
     "text": [
      " 14%|██████████▉                                                                     | 64/470 [00:00<00:00, 623.01it/s]"
     ]
    },
    {
     "name": "stdout",
     "output_type": "stream",
     "text": [
      "model 470, 1 fitted\n",
      "340 seconds\n"
     ]
    },
    {
     "name": "stderr",
     "output_type": "stream",
     "text": [
      "100%|███████████████████████████████████████████████████████████████████████████████| 470/470 [00:00<00:00, 493.44it/s]\n"
     ]
    },
    {
     "name": "stdout",
     "output_type": "stream",
     "text": [
      "model 470, 1 circuited\n",
      "341 seconds\n",
      "model 470, 1 tested: acc 0.7402597402597403, log-lik -29.758912423129463\n",
      "341 seconds\n"
     ]
    },
    {
     "name": "stderr",
     "output_type": "stream",
     "text": [
      " 12%|█████████▊                                                                      | 58/470 [00:00<00:00, 564.55it/s]"
     ]
    },
    {
     "name": "stdout",
     "output_type": "stream",
     "text": [
      "model 470, 2 fitted\n",
      "342 seconds\n"
     ]
    },
    {
     "name": "stderr",
     "output_type": "stream",
     "text": [
      "100%|███████████████████████████████████████████████████████████████████████████████| 470/470 [00:00<00:00, 509.03it/s]\n"
     ]
    },
    {
     "name": "stdout",
     "output_type": "stream",
     "text": [
      "model 470, 2 circuited\n",
      "343 seconds\n",
      "model 470, 2 tested: acc 0.7359307359307359, log-lik -29.765355459924912\n",
      "343 seconds\n",
      "470 finished, 343 seconds\n",
      "Performance: [-29.443388794299683, -29.758912423129463, -29.765355459924912]\n"
     ]
    },
    {
     "name": "stderr",
     "output_type": "stream",
     "text": [
      " 10%|████████                                                                        | 48/475 [00:00<00:01, 394.47it/s]"
     ]
    },
    {
     "name": "stdout",
     "output_type": "stream",
     "text": [
      "model 475, 0 fitted\n",
      "344 seconds\n"
     ]
    },
    {
     "name": "stderr",
     "output_type": "stream",
     "text": [
      "100%|███████████████████████████████████████████████████████████████████████████████| 475/475 [00:00<00:00, 501.84it/s]\n"
     ]
    },
    {
     "name": "stdout",
     "output_type": "stream",
     "text": [
      "model 475, 0 circuited\n",
      "345 seconds\n",
      "model 475, 0 tested: acc 0.7359307359307359, log-lik -29.74597364352143\n",
      "345 seconds\n"
     ]
    },
    {
     "name": "stderr",
     "output_type": "stream",
     "text": [
      " 13%|██████████▊                                                                     | 64/475 [00:00<00:00, 637.18it/s]"
     ]
    },
    {
     "name": "stdout",
     "output_type": "stream",
     "text": [
      "model 475, 1 fitted\n",
      "345 seconds\n"
     ]
    },
    {
     "name": "stderr",
     "output_type": "stream",
     "text": [
      "100%|███████████████████████████████████████████████████████████████████████████████| 475/475 [00:00<00:00, 565.17it/s]\n"
     ]
    },
    {
     "name": "stdout",
     "output_type": "stream",
     "text": [
      "model 475, 1 circuited\n",
      "346 seconds\n",
      "model 475, 1 tested: acc 0.7445887445887446, log-lik -29.75949836659469\n",
      "347 seconds\n"
     ]
    },
    {
     "name": "stderr",
     "output_type": "stream",
     "text": [
      " 14%|███████████                                                                     | 66/475 [00:00<00:00, 655.24it/s]"
     ]
    },
    {
     "name": "stdout",
     "output_type": "stream",
     "text": [
      "model 475, 2 fitted\n",
      "347 seconds\n"
     ]
    },
    {
     "name": "stderr",
     "output_type": "stream",
     "text": [
      "100%|███████████████████████████████████████████████████████████████████████████████| 475/475 [00:00<00:00, 516.31it/s]\n"
     ]
    },
    {
     "name": "stdout",
     "output_type": "stream",
     "text": [
      "model 475, 2 circuited\n",
      "348 seconds\n",
      "model 475, 2 tested: acc 0.7445887445887446, log-lik -29.666890523524383\n",
      "349 seconds\n",
      "475 finished, 349 seconds\n",
      "Performance: [-29.74597364352143, -29.75949836659469, -29.666890523524383]\n"
     ]
    },
    {
     "name": "stderr",
     "output_type": "stream",
     "text": [
      " 11%|████████▌                                                                       | 51/480 [00:00<00:00, 498.68it/s]"
     ]
    },
    {
     "name": "stdout",
     "output_type": "stream",
     "text": [
      "model 480, 0 fitted\n",
      "349 seconds\n"
     ]
    },
    {
     "name": "stderr",
     "output_type": "stream",
     "text": [
      "100%|███████████████████████████████████████████████████████████████████████████████| 480/480 [00:00<00:00, 532.42it/s]\n"
     ]
    },
    {
     "name": "stdout",
     "output_type": "stream",
     "text": [
      "model 480, 0 circuited\n",
      "350 seconds\n",
      "model 480, 0 tested: acc 0.7316017316017316, log-lik -29.250249112557597\n",
      "351 seconds\n"
     ]
    },
    {
     "name": "stderr",
     "output_type": "stream",
     "text": [
      " 25%|████████████████████                                                           | 122/480 [00:00<00:00, 629.60it/s]"
     ]
    },
    {
     "name": "stdout",
     "output_type": "stream",
     "text": [
      "model 480, 1 fitted\n",
      "351 seconds\n"
     ]
    },
    {
     "name": "stderr",
     "output_type": "stream",
     "text": [
      "100%|███████████████████████████████████████████████████████████████████████████████| 480/480 [00:00<00:00, 552.74it/s]\n"
     ]
    },
    {
     "name": "stdout",
     "output_type": "stream",
     "text": [
      "model 480, 1 circuited\n",
      "352 seconds\n",
      "model 480, 1 tested: acc 0.7402597402597403, log-lik -29.733322035669183\n",
      "352 seconds\n"
     ]
    },
    {
     "name": "stderr",
     "output_type": "stream",
     "text": [
      " 13%|██████████▏                                                                     | 61/480 [00:00<00:00, 609.13it/s]"
     ]
    },
    {
     "name": "stdout",
     "output_type": "stream",
     "text": [
      "model 480, 2 fitted\n",
      "353 seconds\n"
     ]
    },
    {
     "name": "stderr",
     "output_type": "stream",
     "text": [
      "100%|███████████████████████████████████████████████████████████████████████████████| 480/480 [00:00<00:00, 540.46it/s]\n"
     ]
    },
    {
     "name": "stdout",
     "output_type": "stream",
     "text": [
      "model 480, 2 circuited\n",
      "354 seconds\n",
      "model 480, 2 tested: acc 0.7402597402597403, log-lik -29.711234665622484\n",
      "354 seconds\n",
      "480 finished, 354 seconds\n",
      "Performance: [-29.250249112557597, -29.733322035669183, -29.711234665622484]\n"
     ]
    },
    {
     "name": "stderr",
     "output_type": "stream",
     "text": [
      " 14%|███████████▌                                                                    | 70/485 [00:00<00:00, 694.64it/s]"
     ]
    },
    {
     "name": "stdout",
     "output_type": "stream",
     "text": [
      "model 485, 0 fitted\n",
      "355 seconds\n"
     ]
    },
    {
     "name": "stderr",
     "output_type": "stream",
     "text": [
      "100%|███████████████████████████████████████████████████████████████████████████████| 485/485 [00:01<00:00, 444.50it/s]\n"
     ]
    },
    {
     "name": "stdout",
     "output_type": "stream",
     "text": [
      "model 485, 0 circuited\n",
      "356 seconds\n",
      "model 485, 0 tested: acc 0.7402597402597403, log-lik -29.235420439495655\n",
      "356 seconds\n"
     ]
    },
    {
     "name": "stderr",
     "output_type": "stream",
     "text": [
      " 20%|███████████████▊                                                                | 96/485 [00:00<00:00, 466.66it/s]"
     ]
    },
    {
     "name": "stdout",
     "output_type": "stream",
     "text": [
      "model 485, 1 fitted\n",
      "357 seconds\n"
     ]
    },
    {
     "name": "stderr",
     "output_type": "stream",
     "text": [
      "100%|███████████████████████████████████████████████████████████████████████████████| 485/485 [00:01<00:00, 439.03it/s]\n"
     ]
    },
    {
     "name": "stdout",
     "output_type": "stream",
     "text": [
      "model 485, 1 circuited\n",
      "358 seconds\n",
      "model 485, 1 tested: acc 0.748917748917749, log-lik -29.72860514498922\n",
      "358 seconds\n"
     ]
    },
    {
     "name": "stderr",
     "output_type": "stream",
     "text": [
      " 11%|████████▍                                                                       | 51/485 [00:00<00:00, 506.01it/s]"
     ]
    },
    {
     "name": "stdout",
     "output_type": "stream",
     "text": [
      "model 485, 2 fitted\n",
      "359 seconds\n"
     ]
    },
    {
     "name": "stderr",
     "output_type": "stream",
     "text": [
      "100%|███████████████████████████████████████████████████████████████████████████████| 485/485 [00:01<00:00, 444.24it/s]\n"
     ]
    },
    {
     "name": "stdout",
     "output_type": "stream",
     "text": [
      "model 485, 2 circuited\n",
      "360 seconds\n",
      "model 485, 2 tested: acc 0.7402597402597403, log-lik -29.407776916909864\n",
      "361 seconds\n",
      "485 finished, 361 seconds\n",
      "Performance: [-29.235420439495655, -29.72860514498922, -29.407776916909864]\n"
     ]
    },
    {
     "name": "stderr",
     "output_type": "stream",
     "text": [
      " 13%|██████████▊                                                                     | 66/490 [00:00<00:00, 648.79it/s]"
     ]
    },
    {
     "name": "stdout",
     "output_type": "stream",
     "text": [
      "model 490, 0 fitted\n",
      "361 seconds\n"
     ]
    },
    {
     "name": "stderr",
     "output_type": "stream",
     "text": [
      "100%|███████████████████████████████████████████████████████████████████████████████| 490/490 [00:01<00:00, 370.89it/s]\n"
     ]
    },
    {
     "name": "stdout",
     "output_type": "stream",
     "text": [
      "model 490, 0 circuited\n",
      "362 seconds\n",
      "model 490, 0 tested: acc 0.748917748917749, log-lik -29.776238864248253\n",
      "363 seconds\n"
     ]
    },
    {
     "name": "stderr",
     "output_type": "stream",
     "text": [
      " 12%|█████████▊                                                                      | 60/490 [00:00<00:00, 595.98it/s]"
     ]
    },
    {
     "name": "stdout",
     "output_type": "stream",
     "text": [
      "model 490, 1 fitted\n",
      "364 seconds\n"
     ]
    },
    {
     "name": "stderr",
     "output_type": "stream",
     "text": [
      "100%|███████████████████████████████████████████████████████████████████████████████| 490/490 [00:01<00:00, 325.33it/s]\n"
     ]
    },
    {
     "name": "stdout",
     "output_type": "stream",
     "text": [
      "model 490, 1 circuited\n",
      "365 seconds\n",
      "model 490, 1 tested: acc 0.7445887445887446, log-lik -29.22855868990594\n",
      "366 seconds\n"
     ]
    },
    {
     "name": "stderr",
     "output_type": "stream",
     "text": [
      "  5%|████▏                                                                           | 26/490 [00:00<00:01, 255.58it/s]"
     ]
    },
    {
     "name": "stdout",
     "output_type": "stream",
     "text": [
      "model 490, 2 fitted\n",
      "367 seconds\n"
     ]
    },
    {
     "name": "stderr",
     "output_type": "stream",
     "text": [
      "100%|███████████████████████████████████████████████████████████████████████████████| 490/490 [00:01<00:00, 305.54it/s]\n"
     ]
    },
    {
     "name": "stdout",
     "output_type": "stream",
     "text": [
      "model 490, 2 circuited\n",
      "369 seconds\n",
      "model 490, 2 tested: acc 0.7575757575757576, log-lik -29.706304462864658\n",
      "369 seconds\n",
      "490 finished, 370 seconds\n",
      "Performance: [-29.776238864248253, -29.22855868990594, -29.706304462864658]\n"
     ]
    },
    {
     "name": "stderr",
     "output_type": "stream",
     "text": [
      "  3%|██▍                                                                             | 15/495 [00:00<00:03, 148.15it/s]"
     ]
    },
    {
     "name": "stdout",
     "output_type": "stream",
     "text": [
      "model 495, 0 fitted\n",
      "370 seconds\n"
     ]
    },
    {
     "name": "stderr",
     "output_type": "stream",
     "text": [
      "100%|███████████████████████████████████████████████████████████████████████████████| 495/495 [00:02<00:00, 203.86it/s]\n"
     ]
    },
    {
     "name": "stdout",
     "output_type": "stream",
     "text": [
      "model 495, 0 circuited\n",
      "373 seconds\n",
      "model 495, 0 tested: acc 0.7402597402597403, log-lik -29.755400007600926\n",
      "377 seconds\n"
     ]
    },
    {
     "name": "stderr",
     "output_type": "stream",
     "text": [
      " 18%|██████████████                                                                  | 87/495 [00:00<00:00, 863.71it/s]"
     ]
    },
    {
     "name": "stdout",
     "output_type": "stream",
     "text": [
      "model 495, 1 fitted\n",
      "378 seconds\n"
     ]
    },
    {
     "name": "stderr",
     "output_type": "stream",
     "text": [
      "100%|███████████████████████████████████████████████████████████████████████████████| 495/495 [00:00<00:00, 591.04it/s]\n"
     ]
    },
    {
     "name": "stdout",
     "output_type": "stream",
     "text": [
      "model 495, 1 circuited\n",
      "379 seconds\n",
      "model 495, 1 tested: acc 0.7402597402597403, log-lik -29.77938040648899\n",
      "379 seconds\n"
     ]
    },
    {
     "name": "stderr",
     "output_type": "stream",
     "text": [
      " 11%|████████▉                                                                       | 55/495 [00:00<00:00, 540.66it/s]"
     ]
    },
    {
     "name": "stdout",
     "output_type": "stream",
     "text": [
      "model 495, 2 fitted\n",
      "380 seconds\n"
     ]
    },
    {
     "name": "stderr",
     "output_type": "stream",
     "text": [
      "100%|███████████████████████████████████████████████████████████████████████████████| 495/495 [00:01<00:00, 429.44it/s]\n"
     ]
    },
    {
     "name": "stdout",
     "output_type": "stream",
     "text": [
      "model 495, 2 circuited\n",
      "381 seconds\n",
      "model 495, 2 tested: acc 0.7402597402597403, log-lik -29.76583053459789\n",
      "382 seconds\n",
      "495 finished, 382 seconds"
     ]
    },
    {
     "name": "stderr",
     "output_type": "stream",
     "text": [
      " 13%|██████████▋                                                                     | 67/500 [00:00<00:00, 665.14it/s]"
     ]
    },
    {
     "name": "stdout",
     "output_type": "stream",
     "text": [
      "\n",
      "Performance: [-29.755400007600926, -29.77938040648899, -29.76583053459789]\n",
      "model 500, 0 fitted\n",
      "383 seconds\n"
     ]
    },
    {
     "name": "stderr",
     "output_type": "stream",
     "text": [
      "100%|███████████████████████████████████████████████████████████████████████████████| 500/500 [00:00<00:00, 582.03it/s]\n"
     ]
    },
    {
     "name": "stdout",
     "output_type": "stream",
     "text": [
      "model 500, 0 circuited\n",
      "383 seconds\n",
      "model 500, 0 tested: acc 0.748917748917749, log-lik -29.743751399067612\n",
      "384 seconds\n"
     ]
    },
    {
     "name": "stderr",
     "output_type": "stream",
     "text": [
      " 10%|████████                                                                        | 50/500 [00:00<00:00, 496.37it/s]"
     ]
    },
    {
     "name": "stdout",
     "output_type": "stream",
     "text": [
      "model 500, 1 fitted\n",
      "384 seconds\n"
     ]
    },
    {
     "name": "stderr",
     "output_type": "stream",
     "text": [
      "100%|███████████████████████████████████████████████████████████████████████████████| 500/500 [00:00<00:00, 545.70it/s]\n"
     ]
    },
    {
     "name": "stdout",
     "output_type": "stream",
     "text": [
      "model 500, 1 circuited\n",
      "385 seconds\n",
      "model 500, 1 tested: acc 0.7402597402597403, log-lik -29.7386369368618\n",
      "386 seconds\n"
     ]
    },
    {
     "name": "stderr",
     "output_type": "stream",
     "text": [
      " 12%|█████████▉                                                                      | 62/500 [00:00<00:00, 609.48it/s]"
     ]
    },
    {
     "name": "stdout",
     "output_type": "stream",
     "text": [
      "model 500, 2 fitted\n",
      "386 seconds\n"
     ]
    },
    {
     "name": "stderr",
     "output_type": "stream",
     "text": [
      "100%|███████████████████████████████████████████████████████████████████████████████| 500/500 [00:00<00:00, 503.79it/s]\n"
     ]
    },
    {
     "name": "stdout",
     "output_type": "stream",
     "text": [
      "model 500, 2 circuited\n",
      "387 seconds\n",
      "model 500, 2 tested: acc 0.7445887445887446, log-lik -29.716905336521254\n",
      "388 seconds\n",
      "500 finished, 388 seconds\n",
      "Performance: [-29.743751399067612, -29.7386369368618, -29.716905336521254]\n"
     ]
    },
    {
     "name": "stderr",
     "output_type": "stream",
     "text": [
      " 13%|██████████▌                                                                     | 67/505 [00:00<00:00, 665.15it/s]"
     ]
    },
    {
     "name": "stdout",
     "output_type": "stream",
     "text": [
      "model 505, 0 fitted\n",
      "389 seconds\n"
     ]
    },
    {
     "name": "stderr",
     "output_type": "stream",
     "text": [
      "100%|███████████████████████████████████████████████████████████████████████████████| 505/505 [00:00<00:00, 554.40it/s]\n"
     ]
    },
    {
     "name": "stdout",
     "output_type": "stream",
     "text": [
      "model 505, 0 circuited\n",
      "389 seconds\n",
      "model 505, 0 tested: acc 0.7402597402597403, log-lik -29.459236716740463\n",
      "390 seconds\n"
     ]
    },
    {
     "name": "stderr",
     "output_type": "stream",
     "text": [
      " 12%|█████████▎                                                                      | 59/505 [00:00<00:00, 588.41it/s]"
     ]
    },
    {
     "name": "stdout",
     "output_type": "stream",
     "text": [
      "model 505, 1 fitted\n",
      "390 seconds\n"
     ]
    },
    {
     "name": "stderr",
     "output_type": "stream",
     "text": [
      "100%|███████████████████████████████████████████████████████████████████████████████| 505/505 [00:00<00:00, 515.73it/s]\n"
     ]
    },
    {
     "name": "stdout",
     "output_type": "stream",
     "text": [
      "model 505, 1 circuited\n",
      "391 seconds\n",
      "model 505, 1 tested: acc 0.7316017316017316, log-lik -29.709057927102045\n",
      "392 seconds\n"
     ]
    },
    {
     "name": "stderr",
     "output_type": "stream",
     "text": [
      " 11%|█████████                                                                       | 57/505 [00:00<00:00, 560.31it/s]"
     ]
    },
    {
     "name": "stdout",
     "output_type": "stream",
     "text": [
      "model 505, 2 fitted\n",
      "392 seconds\n"
     ]
    },
    {
     "name": "stderr",
     "output_type": "stream",
     "text": [
      "100%|███████████████████████████████████████████████████████████████████████████████| 505/505 [00:01<00:00, 483.34it/s]\n"
     ]
    },
    {
     "name": "stdout",
     "output_type": "stream",
     "text": [
      "model 505, 2 circuited\n",
      "394 seconds\n",
      "model 505, 2 tested: acc 0.7402597402597403, log-lik -29.760760565172106\n",
      "394 seconds\n",
      "505 finished, 394 seconds\n",
      "Performance: [-29.459236716740463, -29.709057927102045, -29.760760565172106]\n"
     ]
    },
    {
     "name": "stderr",
     "output_type": "stream",
     "text": [
      " 25%|███████████████████▋                                                           | 127/510 [00:00<00:00, 636.22it/s]"
     ]
    },
    {
     "name": "stdout",
     "output_type": "stream",
     "text": [
      "model 510, 0 fitted\n",
      "394 seconds\n"
     ]
    },
    {
     "name": "stderr",
     "output_type": "stream",
     "text": [
      "100%|███████████████████████████████████████████████████████████████████████████████| 510/510 [00:00<00:00, 555.04it/s]\n"
     ]
    },
    {
     "name": "stdout",
     "output_type": "stream",
     "text": [
      "model 510, 0 circuited\n",
      "395 seconds\n",
      "model 510, 0 tested: acc 0.7445887445887446, log-lik -29.745696301829298\n",
      "396 seconds\n"
     ]
    },
    {
     "name": "stderr",
     "output_type": "stream",
     "text": [
      " 13%|██████████▌                                                                     | 67/510 [00:00<00:00, 666.04it/s]"
     ]
    },
    {
     "name": "stdout",
     "output_type": "stream",
     "text": [
      "model 510, 1 fitted\n",
      "396 seconds\n"
     ]
    },
    {
     "name": "stderr",
     "output_type": "stream",
     "text": [
      "100%|███████████████████████████████████████████████████████████████████████████████| 510/510 [00:01<00:00, 505.10it/s]\n"
     ]
    },
    {
     "name": "stdout",
     "output_type": "stream",
     "text": [
      "model 510, 1 circuited\n",
      "397 seconds\n",
      "model 510, 1 tested: acc 0.7402597402597403, log-lik -29.76447633898315\n",
      "398 seconds\n"
     ]
    },
    {
     "name": "stderr",
     "output_type": "stream",
     "text": [
      " 13%|██████████▋                                                                     | 68/510 [00:00<00:00, 675.11it/s]"
     ]
    },
    {
     "name": "stdout",
     "output_type": "stream",
     "text": [
      "model 510, 2 fitted\n",
      "398 seconds\n"
     ]
    },
    {
     "name": "stderr",
     "output_type": "stream",
     "text": [
      "100%|███████████████████████████████████████████████████████████████████████████████| 510/510 [00:00<00:00, 556.70it/s]\n"
     ]
    },
    {
     "name": "stdout",
     "output_type": "stream",
     "text": [
      "model 510, 2 circuited\n",
      "399 seconds\n",
      "model 510, 2 tested: acc 0.7445887445887446, log-lik -29.768595125529362\n",
      "400 seconds\n",
      "510 finished, 400 seconds\n",
      "Performance: [-29.745696301829298, -29.76447633898315, -29.768595125529362]\n"
     ]
    },
    {
     "name": "stderr",
     "output_type": "stream",
     "text": [
      " 13%|██████████▌                                                                     | 68/515 [00:00<00:00, 675.06it/s]"
     ]
    },
    {
     "name": "stdout",
     "output_type": "stream",
     "text": [
      "model 515, 0 fitted\n",
      "400 seconds\n"
     ]
    },
    {
     "name": "stderr",
     "output_type": "stream",
     "text": [
      "100%|███████████████████████████████████████████████████████████████████████████████| 515/515 [00:00<00:00, 564.87it/s]\n"
     ]
    },
    {
     "name": "stdout",
     "output_type": "stream",
     "text": [
      "model 515, 0 circuited\n",
      "401 seconds\n",
      "model 515, 0 tested: acc 0.7402597402597403, log-lik -29.77748728058601\n",
      "402 seconds\n"
     ]
    },
    {
     "name": "stderr",
     "output_type": "stream",
     "text": [
      " 12%|█████████▍                                                                      | 61/515 [00:00<00:00, 605.50it/s]"
     ]
    },
    {
     "name": "stdout",
     "output_type": "stream",
     "text": [
      "model 515, 1 fitted\n",
      "402 seconds\n"
     ]
    },
    {
     "name": "stderr",
     "output_type": "stream",
     "text": [
      "100%|███████████████████████████████████████████████████████████████████████████████| 515/515 [00:00<00:00, 520.74it/s]\n"
     ]
    },
    {
     "name": "stdout",
     "output_type": "stream",
     "text": [
      "model 515, 1 circuited\n",
      "403 seconds\n",
      "model 515, 1 tested: acc 0.748917748917749, log-lik -29.557120571897418\n",
      "404 seconds\n"
     ]
    },
    {
     "name": "stderr",
     "output_type": "stream",
     "text": [
      "  7%|█████▉                                                                          | 38/515 [00:00<00:01, 366.36it/s]"
     ]
    },
    {
     "name": "stdout",
     "output_type": "stream",
     "text": [
      "model 515, 2 fitted\n",
      "405 seconds\n"
     ]
    },
    {
     "name": "stderr",
     "output_type": "stream",
     "text": [
      "100%|███████████████████████████████████████████████████████████████████████████████| 515/515 [00:01<00:00, 331.69it/s]\n"
     ]
    },
    {
     "name": "stdout",
     "output_type": "stream",
     "text": [
      "model 515, 2 circuited\n",
      "406 seconds\n",
      "model 515, 2 tested: acc 0.7445887445887446, log-lik -29.76286407231573\n",
      "407 seconds\n",
      "515 finished, 407 seconds\n",
      "Performance: [-29.77748728058601, -29.557120571897418, -29.76286407231573]\n"
     ]
    },
    {
     "name": "stderr",
     "output_type": "stream",
     "text": [
      " 21%|████████████████▋                                                              | 110/520 [00:00<00:00, 526.17it/s]"
     ]
    },
    {
     "name": "stdout",
     "output_type": "stream",
     "text": [
      "model 520, 0 fitted\n",
      "408 seconds\n"
     ]
    },
    {
     "name": "stderr",
     "output_type": "stream",
     "text": [
      "100%|███████████████████████████████████████████████████████████████████████████████| 520/520 [00:01<00:00, 349.77it/s]\n"
     ]
    },
    {
     "name": "stdout",
     "output_type": "stream",
     "text": [
      "model 520, 0 circuited\n",
      "410 seconds\n",
      "model 520, 0 tested: acc 0.7359307359307359, log-lik -29.76156866159821\n",
      "411 seconds\n"
     ]
    },
    {
     "name": "stderr",
     "output_type": "stream",
     "text": [
      "  8%|██████▍                                                                         | 42/520 [00:00<00:01, 418.90it/s]"
     ]
    },
    {
     "name": "stdout",
     "output_type": "stream",
     "text": [
      "model 520, 1 fitted\n",
      "412 seconds\n"
     ]
    },
    {
     "name": "stderr",
     "output_type": "stream",
     "text": [
      "100%|███████████████████████████████████████████████████████████████████████████████| 520/520 [00:01<00:00, 261.02it/s]\n"
     ]
    },
    {
     "name": "stdout",
     "output_type": "stream",
     "text": [
      "model 520, 1 circuited\n",
      "414 seconds\n",
      "model 520, 1 tested: acc 0.7445887445887446, log-lik -29.766233792928205\n",
      "414 seconds\n"
     ]
    },
    {
     "name": "stderr",
     "output_type": "stream",
     "text": [
      "  6%|█████                                                                           | 33/520 [00:00<00:01, 303.57it/s]"
     ]
    },
    {
     "name": "stdout",
     "output_type": "stream",
     "text": [
      "model 520, 2 fitted\n",
      "415 seconds\n"
     ]
    },
    {
     "name": "stderr",
     "output_type": "stream",
     "text": [
      "100%|███████████████████████████████████████████████████████████████████████████████| 520/520 [00:01<00:00, 376.71it/s]\n"
     ]
    },
    {
     "name": "stdout",
     "output_type": "stream",
     "text": [
      "model 520, 2 circuited\n",
      "416 seconds\n",
      "model 520, 2 tested: acc 0.7316017316017316, log-lik -29.7697878485991\n",
      "417 seconds\n",
      "520 finished, 417 seconds\n",
      "Performance: [-29.76156866159821, -29.766233792928205, -29.7697878485991]\n"
     ]
    },
    {
     "name": "stderr",
     "output_type": "stream",
     "text": [
      " 13%|██████████▌                                                                     | 69/525 [00:00<00:00, 684.95it/s]"
     ]
    },
    {
     "name": "stdout",
     "output_type": "stream",
     "text": [
      "model 525, 0 fitted\n",
      "417 seconds\n"
     ]
    },
    {
     "name": "stderr",
     "output_type": "stream",
     "text": [
      "100%|███████████████████████████████████████████████████████████████████████████████| 525/525 [00:01<00:00, 488.31it/s]\n"
     ]
    },
    {
     "name": "stdout",
     "output_type": "stream",
     "text": [
      "model 525, 0 circuited\n",
      "419 seconds\n",
      "model 525, 0 tested: acc 0.7445887445887446, log-lik -29.75034733066473\n",
      "419 seconds\n"
     ]
    },
    {
     "name": "stderr",
     "output_type": "stream",
     "text": [
      " 11%|████████▉                                                                       | 59/525 [00:00<00:00, 574.37it/s]"
     ]
    },
    {
     "name": "stdout",
     "output_type": "stream",
     "text": [
      "model 525, 1 fitted\n",
      "419 seconds\n"
     ]
    },
    {
     "name": "stderr",
     "output_type": "stream",
     "text": [
      "100%|███████████████████████████████████████████████████████████████████████████████| 525/525 [00:01<00:00, 495.16it/s]\n"
     ]
    },
    {
     "name": "stdout",
     "output_type": "stream",
     "text": [
      "model 525, 1 circuited\n",
      "420 seconds\n",
      "model 525, 1 tested: acc 0.7402597402597403, log-lik -29.762181373466863\n",
      "421 seconds\n"
     ]
    },
    {
     "name": "stderr",
     "output_type": "stream",
     "text": [
      " 12%|█████████▎                                                                      | 61/525 [00:00<00:00, 608.44it/s]"
     ]
    },
    {
     "name": "stdout",
     "output_type": "stream",
     "text": [
      "model 525, 2 fitted\n",
      "421 seconds\n"
     ]
    },
    {
     "name": "stderr",
     "output_type": "stream",
     "text": [
      "100%|███████████████████████████████████████████████████████████████████████████████| 525/525 [00:01<00:00, 516.66it/s]\n"
     ]
    },
    {
     "name": "stdout",
     "output_type": "stream",
     "text": [
      "model 525, 2 circuited\n",
      "422 seconds\n",
      "model 525, 2 tested: acc 0.7402597402597403, log-lik -29.75296572663763\n",
      "423 seconds\n",
      "525 finished, 423 seconds\n",
      "Performance: [-29.75034733066473, -29.762181373466863, -29.75296572663763]\n"
     ]
    },
    {
     "name": "stderr",
     "output_type": "stream",
     "text": [
      " 11%|█████████                                                                       | 60/530 [00:00<00:00, 588.23it/s]"
     ]
    },
    {
     "name": "stdout",
     "output_type": "stream",
     "text": [
      "model 530, 0 fitted\n",
      "423 seconds\n"
     ]
    },
    {
     "name": "stderr",
     "output_type": "stream",
     "text": [
      "100%|███████████████████████████████████████████████████████████████████████████████| 530/530 [00:01<00:00, 476.03it/s]\n"
     ]
    },
    {
     "name": "stdout",
     "output_type": "stream",
     "text": [
      "model 530, 0 circuited\n",
      "425 seconds\n",
      "model 530, 0 tested: acc 0.7402597402597403, log-lik -29.784321540825538\n",
      "425 seconds\n"
     ]
    },
    {
     "name": "stderr",
     "output_type": "stream",
     "text": [
      "  5%|████▏                                                                           | 28/530 [00:00<00:01, 269.94it/s]"
     ]
    },
    {
     "name": "stdout",
     "output_type": "stream",
     "text": [
      "model 530, 1 fitted\n",
      "426 seconds\n"
     ]
    },
    {
     "name": "stderr",
     "output_type": "stream",
     "text": [
      "100%|███████████████████████████████████████████████████████████████████████████████| 530/530 [00:01<00:00, 266.70it/s]\n"
     ]
    },
    {
     "name": "stdout",
     "output_type": "stream",
     "text": [
      "model 530, 1 circuited\n",
      "428 seconds\n",
      "model 530, 1 tested: acc 0.7445887445887446, log-lik -29.773143004599522\n",
      "429 seconds\n"
     ]
    },
    {
     "name": "stderr",
     "output_type": "stream",
     "text": [
      " 12%|█████████▌                                                                      | 63/530 [00:00<00:00, 628.69it/s]"
     ]
    },
    {
     "name": "stdout",
     "output_type": "stream",
     "text": [
      "model 530, 2 fitted\n",
      "430 seconds\n"
     ]
    },
    {
     "name": "stderr",
     "output_type": "stream",
     "text": [
      "100%|███████████████████████████████████████████████████████████████████████████████| 530/530 [00:01<00:00, 336.90it/s]\n"
     ]
    },
    {
     "name": "stdout",
     "output_type": "stream",
     "text": [
      "model 530, 2 circuited\n",
      "431 seconds\n",
      "model 530, 2 tested: acc 0.7359307359307359, log-lik -29.69783780257819\n",
      "432 seconds\n",
      "530 finished, 432 seconds\n",
      "Performance: [-29.784321540825538, -29.773143004599522, -29.69783780257819]\n"
     ]
    },
    {
     "name": "stderr",
     "output_type": "stream",
     "text": [
      " 11%|████████▉                                                                       | 60/535 [00:00<00:00, 595.61it/s]"
     ]
    },
    {
     "name": "stdout",
     "output_type": "stream",
     "text": [
      "model 535, 0 fitted\n",
      "432 seconds\n"
     ]
    },
    {
     "name": "stderr",
     "output_type": "stream",
     "text": [
      "100%|███████████████████████████████████████████████████████████████████████████████| 535/535 [00:01<00:00, 504.93it/s]\n"
     ]
    },
    {
     "name": "stdout",
     "output_type": "stream",
     "text": [
      "model 535, 0 circuited\n",
      "433 seconds\n",
      "model 535, 0 tested: acc 0.7359307359307359, log-lik -29.77075247157296\n",
      "434 seconds\n"
     ]
    },
    {
     "name": "stderr",
     "output_type": "stream",
     "text": [
      " 12%|█████████▊                                                                      | 66/535 [00:00<00:00, 658.32it/s]"
     ]
    },
    {
     "name": "stdout",
     "output_type": "stream",
     "text": [
      "model 535, 1 fitted\n",
      "434 seconds\n"
     ]
    },
    {
     "name": "stderr",
     "output_type": "stream",
     "text": [
      "100%|███████████████████████████████████████████████████████████████████████████████| 535/535 [00:01<00:00, 379.67it/s]\n"
     ]
    },
    {
     "name": "stdout",
     "output_type": "stream",
     "text": [
      "model 535, 1 circuited\n",
      "436 seconds\n",
      "model 535, 1 tested: acc 0.7402597402597403, log-lik -29.631814903176735\n",
      "436 seconds\n"
     ]
    },
    {
     "name": "stderr",
     "output_type": "stream",
     "text": [
      " 12%|█████████▊                                                                      | 66/535 [00:00<00:00, 653.97it/s]"
     ]
    },
    {
     "name": "stdout",
     "output_type": "stream",
     "text": [
      "model 535, 2 fitted\n",
      "437 seconds\n"
     ]
    },
    {
     "name": "stderr",
     "output_type": "stream",
     "text": [
      "100%|███████████████████████████████████████████████████████████████████████████████| 535/535 [00:00<00:00, 563.87it/s]\n"
     ]
    },
    {
     "name": "stdout",
     "output_type": "stream",
     "text": [
      "model 535, 2 circuited\n",
      "438 seconds\n",
      "model 535, 2 tested: acc 0.7402597402597403, log-lik -29.77379865522049\n",
      "438 seconds\n",
      "535 finished, 438 seconds\n",
      "Performance: [-29.77075247157296, -29.631814903176735, -29.77379865522049]\n"
     ]
    },
    {
     "name": "stderr",
     "output_type": "stream",
     "text": [
      "  8%|██████▎                                                                         | 43/540 [00:00<00:01, 414.63it/s]"
     ]
    },
    {
     "name": "stdout",
     "output_type": "stream",
     "text": [
      "model 540, 0 fitted\n",
      "439 seconds\n"
     ]
    },
    {
     "name": "stderr",
     "output_type": "stream",
     "text": [
      "100%|███████████████████████████████████████████████████████████████████████████████| 540/540 [00:01<00:00, 511.44it/s]\n"
     ]
    },
    {
     "name": "stdout",
     "output_type": "stream",
     "text": [
      "model 540, 0 circuited\n",
      "440 seconds\n",
      "model 540, 0 tested: acc 0.7445887445887446, log-lik -29.267281974186247\n",
      "440 seconds\n"
     ]
    },
    {
     "name": "stderr",
     "output_type": "stream",
     "text": [
      " 13%|██████████                                                                      | 68/540 [00:00<00:00, 678.20it/s]"
     ]
    },
    {
     "name": "stdout",
     "output_type": "stream",
     "text": [
      "model 540, 1 fitted\n",
      "441 seconds\n"
     ]
    },
    {
     "name": "stderr",
     "output_type": "stream",
     "text": [
      "100%|███████████████████████████████████████████████████████████████████████████████| 540/540 [00:00<00:00, 603.52it/s]\n"
     ]
    },
    {
     "name": "stdout",
     "output_type": "stream",
     "text": [
      "model 540, 1 circuited\n",
      "442 seconds\n",
      "model 540, 1 tested: acc 0.7445887445887446, log-lik -29.22112246652595\n",
      "442 seconds\n"
     ]
    },
    {
     "name": "stderr",
     "output_type": "stream",
     "text": [
      " 12%|█████████▍                                                                      | 64/540 [00:00<00:00, 638.34it/s]"
     ]
    },
    {
     "name": "stdout",
     "output_type": "stream",
     "text": [
      "model 540, 2 fitted\n",
      "443 seconds\n"
     ]
    },
    {
     "name": "stderr",
     "output_type": "stream",
     "text": [
      "100%|███████████████████████████████████████████████████████████████████████████████| 540/540 [00:01<00:00, 446.61it/s]\n"
     ]
    },
    {
     "name": "stdout",
     "output_type": "stream",
     "text": [
      "model 540, 2 circuited\n",
      "444 seconds\n",
      "model 540, 2 tested: acc 0.7359307359307359, log-lik -29.755910195536714\n",
      "444 seconds\n",
      "540 finished, 445 seconds\n",
      "Performance: [-29.267281974186247, -29.22112246652595, -29.755910195536714]\n"
     ]
    },
    {
     "name": "stderr",
     "output_type": "stream",
     "text": [
      " 12%|█████████▏                                                                      | 63/545 [00:00<00:00, 625.43it/s]"
     ]
    },
    {
     "name": "stdout",
     "output_type": "stream",
     "text": [
      "model 545, 0 fitted\n",
      "445 seconds\n"
     ]
    },
    {
     "name": "stderr",
     "output_type": "stream",
     "text": [
      "100%|███████████████████████████████████████████████████████████████████████████████| 545/545 [00:01<00:00, 517.01it/s]\n"
     ]
    },
    {
     "name": "stdout",
     "output_type": "stream",
     "text": [
      "model 545, 0 circuited\n",
      "446 seconds\n",
      "model 545, 0 tested: acc 0.7402597402597403, log-lik -29.753209281309765\n",
      "455 seconds\n"
     ]
    },
    {
     "name": "stderr",
     "output_type": "stream",
     "text": [
      " 11%|████████▉                                                                       | 61/545 [00:00<00:00, 605.58it/s]"
     ]
    },
    {
     "name": "stdout",
     "output_type": "stream",
     "text": [
      "model 545, 1 fitted\n",
      "455 seconds\n"
     ]
    },
    {
     "name": "stderr",
     "output_type": "stream",
     "text": [
      "100%|███████████████████████████████████████████████████████████████████████████████| 545/545 [00:01<00:00, 460.01it/s]\n"
     ]
    },
    {
     "name": "stdout",
     "output_type": "stream",
     "text": [
      "model 545, 1 circuited\n",
      "457 seconds\n",
      "model 545, 1 tested: acc 0.7402597402597403, log-lik -29.753078096921577\n",
      "457 seconds\n"
     ]
    },
    {
     "name": "stderr",
     "output_type": "stream",
     "text": [
      " 13%|██████████▋                                                                     | 73/545 [00:00<00:00, 724.71it/s]"
     ]
    },
    {
     "name": "stdout",
     "output_type": "stream",
     "text": [
      "model 545, 2 fitted\n",
      "458 seconds\n"
     ]
    },
    {
     "name": "stderr",
     "output_type": "stream",
     "text": [
      "100%|███████████████████████████████████████████████████████████████████████████████| 545/545 [00:02<00:00, 223.15it/s]\n"
     ]
    },
    {
     "name": "stdout",
     "output_type": "stream",
     "text": [
      "model 545, 2 circuited\n",
      "461 seconds\n",
      "model 545, 2 tested: acc 0.7316017316017316, log-lik -29.507447824066595\n",
      "461 seconds\n",
      "545 finished, 462 seconds\n",
      "Performance: [-29.753209281309765, -29.753078096921577, -29.507447824066595]\n"
     ]
    },
    {
     "name": "stderr",
     "output_type": "stream",
     "text": [
      " 13%|██████████▎                                                                     | 71/550 [00:00<00:00, 623.46it/s]"
     ]
    },
    {
     "name": "stdout",
     "output_type": "stream",
     "text": [
      "model 550, 0 fitted\n",
      "462 seconds\n"
     ]
    },
    {
     "name": "stderr",
     "output_type": "stream",
     "text": [
      "100%|███████████████████████████████████████████████████████████████████████████████| 550/550 [00:00<00:00, 596.55it/s]\n"
     ]
    },
    {
     "name": "stdout",
     "output_type": "stream",
     "text": [
      "model 550, 0 circuited\n",
      "463 seconds\n",
      "model 550, 0 tested: acc 0.7445887445887446, log-lik -29.221988405395145\n",
      "463 seconds\n"
     ]
    },
    {
     "name": "stderr",
     "output_type": "stream",
     "text": [
      " 24%|██████████████████▋                                                            | 130/550 [00:00<00:00, 639.98it/s]"
     ]
    },
    {
     "name": "stdout",
     "output_type": "stream",
     "text": [
      "model 550, 1 fitted\n",
      "464 seconds\n"
     ]
    },
    {
     "name": "stderr",
     "output_type": "stream",
     "text": [
      "100%|███████████████████████████████████████████████████████████████████████████████| 550/550 [00:00<00:00, 555.95it/s]\n"
     ]
    },
    {
     "name": "stdout",
     "output_type": "stream",
     "text": [
      "model 550, 1 circuited\n",
      "465 seconds\n",
      "model 550, 1 tested: acc 0.7359307359307359, log-lik -29.520832056126398\n",
      "466 seconds\n"
     ]
    },
    {
     "name": "stderr",
     "output_type": "stream",
     "text": [
      " 11%|████████▍                                                                       | 58/550 [00:00<00:00, 528.66it/s]"
     ]
    },
    {
     "name": "stdout",
     "output_type": "stream",
     "text": [
      "model 550, 2 fitted\n",
      "466 seconds\n"
     ]
    },
    {
     "name": "stderr",
     "output_type": "stream",
     "text": [
      "100%|███████████████████████████████████████████████████████████████████████████████| 550/550 [00:01<00:00, 512.89it/s]\n"
     ]
    },
    {
     "name": "stdout",
     "output_type": "stream",
     "text": [
      "model 550, 2 circuited\n",
      "467 seconds\n",
      "model 550, 2 tested: acc 0.7445887445887446, log-lik -29.773001064757068\n",
      "468 seconds\n",
      "550 finished, 468 seconds\n"
     ]
    },
    {
     "name": "stderr",
     "output_type": "stream",
     "text": [
      " 10%|████████▏                                                                       | 57/555 [00:00<00:00, 565.89it/s]"
     ]
    },
    {
     "name": "stdout",
     "output_type": "stream",
     "text": [
      "Performance: [-29.221988405395145, -29.520832056126398, -29.773001064757068]\n",
      "model 555, 0 fitted\n",
      "469 seconds\n"
     ]
    },
    {
     "name": "stderr",
     "output_type": "stream",
     "text": [
      "100%|███████████████████████████████████████████████████████████████████████████████| 555/555 [00:01<00:00, 504.62it/s]\n"
     ]
    },
    {
     "name": "stdout",
     "output_type": "stream",
     "text": [
      "model 555, 0 circuited\n",
      "470 seconds\n",
      "model 555, 0 tested: acc 0.7359307359307359, log-lik -29.74886245863725\n",
      "471 seconds\n"
     ]
    },
    {
     "name": "stderr",
     "output_type": "stream",
     "text": [
      " 21%|████████████████▌                                                              | 116/555 [00:00<00:00, 589.13it/s]"
     ]
    },
    {
     "name": "stdout",
     "output_type": "stream",
     "text": [
      "model 555, 1 fitted\n",
      "471 seconds\n"
     ]
    },
    {
     "name": "stderr",
     "output_type": "stream",
     "text": [
      "100%|███████████████████████████████████████████████████████████████████████████████| 555/555 [00:01<00:00, 476.65it/s]\n"
     ]
    },
    {
     "name": "stdout",
     "output_type": "stream",
     "text": [
      "model 555, 1 circuited\n",
      "472 seconds\n",
      "model 555, 1 tested: acc 0.7359307359307359, log-lik -29.75340191561579\n",
      "473 seconds\n"
     ]
    },
    {
     "name": "stderr",
     "output_type": "stream",
     "text": [
      " 12%|█████████▉                                                                      | 69/555 [00:00<00:00, 685.01it/s]"
     ]
    },
    {
     "name": "stdout",
     "output_type": "stream",
     "text": [
      "model 555, 2 fitted\n",
      "473 seconds\n"
     ]
    },
    {
     "name": "stderr",
     "output_type": "stream",
     "text": [
      "100%|███████████████████████████████████████████████████████████████████████████████| 555/555 [00:00<00:00, 590.03it/s]\n"
     ]
    },
    {
     "name": "stdout",
     "output_type": "stream",
     "text": [
      "model 555, 2 circuited\n",
      "474 seconds\n",
      "model 555, 2 tested: acc 0.7445887445887446, log-lik -29.753122741299087\n",
      "475 seconds\n",
      "555 finished, 475 seconds\n",
      "Performance: [-29.74886245863725, -29.75340191561579, -29.753122741299087]\n"
     ]
    },
    {
     "name": "stderr",
     "output_type": "stream",
     "text": [
      " 12%|█████████▎                                                                      | 65/560 [00:00<00:00, 645.28it/s]"
     ]
    },
    {
     "name": "stdout",
     "output_type": "stream",
     "text": [
      "model 560, 0 fitted\n",
      "476 seconds\n"
     ]
    },
    {
     "name": "stderr",
     "output_type": "stream",
     "text": [
      "100%|███████████████████████████████████████████████████████████████████████████████| 560/560 [00:01<00:00, 445.52it/s]\n"
     ]
    },
    {
     "name": "stdout",
     "output_type": "stream",
     "text": [
      "model 560, 0 circuited\n",
      "477 seconds\n",
      "model 560, 0 tested: acc 0.7445887445887446, log-lik -29.750011606024643\n",
      "477 seconds\n"
     ]
    },
    {
     "name": "stderr",
     "output_type": "stream",
     "text": [
      "  8%|██████                                                                          | 42/560 [00:00<00:01, 418.76it/s]"
     ]
    },
    {
     "name": "stdout",
     "output_type": "stream",
     "text": [
      "model 560, 1 fitted\n",
      "478 seconds\n"
     ]
    },
    {
     "name": "stderr",
     "output_type": "stream",
     "text": [
      "100%|███████████████████████████████████████████████████████████████████████████████| 560/560 [00:01<00:00, 404.91it/s]\n"
     ]
    },
    {
     "name": "stdout",
     "output_type": "stream",
     "text": [
      "model 560, 1 circuited\n",
      "480 seconds\n",
      "model 560, 1 tested: acc 0.7445887445887446, log-lik -29.766179579136047\n",
      "480 seconds\n"
     ]
    },
    {
     "name": "stderr",
     "output_type": "stream",
     "text": [
      "  7%|█████▋                                                                          | 40/560 [00:00<00:01, 374.83it/s]"
     ]
    },
    {
     "name": "stdout",
     "output_type": "stream",
     "text": [
      "model 560, 2 fitted\n",
      "481 seconds\n"
     ]
    },
    {
     "name": "stderr",
     "output_type": "stream",
     "text": [
      "100%|███████████████████████████████████████████████████████████████████████████████| 560/560 [00:01<00:00, 442.54it/s]\n"
     ]
    },
    {
     "name": "stdout",
     "output_type": "stream",
     "text": [
      "model 560, 2 circuited\n",
      "482 seconds\n",
      "model 560, 2 tested: acc 0.7402597402597403, log-lik -29.774671291061956\n",
      "483 seconds\n",
      "560 finished, 483 seconds\n",
      "Performance: [-29.750011606024643, -29.766179579136047, -29.774671291061956]\n"
     ]
    },
    {
     "name": "stderr",
     "output_type": "stream",
     "text": [
      "  9%|███████▌                                                                        | 53/565 [00:00<00:00, 523.48it/s]"
     ]
    },
    {
     "name": "stdout",
     "output_type": "stream",
     "text": [
      "model 565, 0 fitted\n",
      "484 seconds\n"
     ]
    },
    {
     "name": "stderr",
     "output_type": "stream",
     "text": [
      "100%|███████████████████████████████████████████████████████████████████████████████| 565/565 [00:01<00:00, 437.87it/s]\n"
     ]
    },
    {
     "name": "stdout",
     "output_type": "stream",
     "text": [
      "model 565, 0 circuited\n",
      "485 seconds\n",
      "model 565, 0 tested: acc 0.7402597402597403, log-lik -29.73493416832517\n",
      "485 seconds\n"
     ]
    },
    {
     "name": "stderr",
     "output_type": "stream",
     "text": [
      " 17%|█████████████▋                                                                  | 97/565 [00:00<00:00, 479.89it/s]"
     ]
    },
    {
     "name": "stdout",
     "output_type": "stream",
     "text": [
      "model 565, 1 fitted\n",
      "486 seconds\n"
     ]
    },
    {
     "name": "stderr",
     "output_type": "stream",
     "text": [
      "100%|███████████████████████████████████████████████████████████████████████████████| 565/565 [00:01<00:00, 458.30it/s]\n"
     ]
    },
    {
     "name": "stdout",
     "output_type": "stream",
     "text": [
      "model 565, 1 circuited\n",
      "487 seconds\n",
      "model 565, 1 tested: acc 0.7445887445887446, log-lik -29.776356464569893\n",
      "488 seconds\n"
     ]
    },
    {
     "name": "stderr",
     "output_type": "stream",
     "text": [
      " 10%|████████▎                                                                       | 59/565 [00:00<00:00, 582.30it/s]"
     ]
    },
    {
     "name": "stdout",
     "output_type": "stream",
     "text": [
      "model 565, 2 fitted\n",
      "488 seconds\n"
     ]
    },
    {
     "name": "stderr",
     "output_type": "stream",
     "text": [
      "100%|███████████████████████████████████████████████████████████████████████████████| 565/565 [00:01<00:00, 503.80it/s]\n"
     ]
    },
    {
     "name": "stdout",
     "output_type": "stream",
     "text": [
      "model 565, 2 circuited\n",
      "490 seconds\n",
      "model 565, 2 tested: acc 0.7359307359307359, log-lik -29.71824239761954\n",
      "490 seconds\n"
     ]
    },
    {
     "name": "stderr",
     "output_type": "stream",
     "text": [
      " 20%|███████████████▉                                                               | 115/570 [00:00<00:00, 573.44it/s]"
     ]
    },
    {
     "name": "stdout",
     "output_type": "stream",
     "text": [
      "565 finished, 490 seconds\n",
      "Performance: [-29.73493416832517, -29.776356464569893, -29.71824239761954]\n",
      "model 570, 0 fitted\n",
      "491 seconds\n"
     ]
    },
    {
     "name": "stderr",
     "output_type": "stream",
     "text": [
      "100%|███████████████████████████████████████████████████████████████████████████████| 570/570 [00:01<00:00, 336.54it/s]\n"
     ]
    },
    {
     "name": "stdout",
     "output_type": "stream",
     "text": [
      "model 570, 0 circuited\n",
      "492 seconds\n",
      "model 570, 0 tested: acc 0.7445887445887446, log-lik -29.754000320417145\n",
      "493 seconds\n"
     ]
    },
    {
     "name": "stderr",
     "output_type": "stream",
     "text": [
      "  7%|█████▌                                                                          | 40/570 [00:00<00:01, 399.00it/s]"
     ]
    },
    {
     "name": "stdout",
     "output_type": "stream",
     "text": [
      "model 570, 1 fitted\n",
      "493 seconds\n"
     ]
    },
    {
     "name": "stderr",
     "output_type": "stream",
     "text": [
      "100%|███████████████████████████████████████████████████████████████████████████████| 570/570 [00:01<00:00, 337.44it/s]\n"
     ]
    },
    {
     "name": "stdout",
     "output_type": "stream",
     "text": [
      "model 570, 1 circuited\n",
      "495 seconds\n",
      "model 570, 1 tested: acc 0.7445887445887446, log-lik -29.672930482226516\n",
      "496 seconds\n"
     ]
    },
    {
     "name": "stderr",
     "output_type": "stream",
     "text": [
      "  7%|█████▌                                                                          | 40/570 [00:00<00:01, 371.29it/s]"
     ]
    },
    {
     "name": "stdout",
     "output_type": "stream",
     "text": [
      "model 570, 2 fitted\n",
      "497 seconds\n"
     ]
    },
    {
     "name": "stderr",
     "output_type": "stream",
     "text": [
      "100%|███████████████████████████████████████████████████████████████████████████████| 570/570 [00:03<00:00, 164.61it/s]\n"
     ]
    },
    {
     "name": "stdout",
     "output_type": "stream",
     "text": [
      "model 570, 2 circuited\n",
      "501 seconds\n",
      "model 570, 2 tested: acc 0.7402597402597403, log-lik -29.741165436430922\n",
      "501 seconds\n"
     ]
    },
    {
     "name": "stderr",
     "output_type": "stream",
     "text": [
      "  6%|█████                                                                           | 36/575 [00:00<00:01, 355.52it/s]"
     ]
    },
    {
     "name": "stdout",
     "output_type": "stream",
     "text": [
      "570 finished, 501 seconds\n",
      "Performance: [-29.754000320417145, -29.672930482226516, -29.741165436430922]\n",
      "model 575, 0 fitted\n",
      "502 seconds\n"
     ]
    },
    {
     "name": "stderr",
     "output_type": "stream",
     "text": [
      "100%|███████████████████████████████████████████████████████████████████████████████| 575/575 [00:01<00:00, 292.35it/s]\n"
     ]
    },
    {
     "name": "stdout",
     "output_type": "stream",
     "text": [
      "model 575, 0 circuited\n",
      "504 seconds\n",
      "model 575, 0 tested: acc 0.7359307359307359, log-lik -29.7749862633817\n",
      "505 seconds\n"
     ]
    },
    {
     "name": "stderr",
     "output_type": "stream",
     "text": [
      "  4%|███                                                                             | 22/575 [00:00<00:02, 219.40it/s]"
     ]
    },
    {
     "name": "stdout",
     "output_type": "stream",
     "text": [
      "model 575, 1 fitted\n",
      "505 seconds\n"
     ]
    },
    {
     "name": "stderr",
     "output_type": "stream",
     "text": [
      "100%|███████████████████████████████████████████████████████████████████████████████| 575/575 [00:02<00:00, 273.14it/s]\n"
     ]
    },
    {
     "name": "stdout",
     "output_type": "stream",
     "text": [
      "model 575, 1 circuited\n",
      "508 seconds\n",
      "model 575, 1 tested: acc 0.7402597402597403, log-lik -29.774500101907385\n",
      "508 seconds\n"
     ]
    },
    {
     "name": "stderr",
     "output_type": "stream",
     "text": [
      "  4%|███▎                                                                            | 24/575 [00:00<00:02, 235.90it/s]"
     ]
    },
    {
     "name": "stdout",
     "output_type": "stream",
     "text": [
      "model 575, 2 fitted\n",
      "509 seconds\n"
     ]
    },
    {
     "name": "stderr",
     "output_type": "stream",
     "text": [
      "100%|███████████████████████████████████████████████████████████████████████████████| 575/575 [00:03<00:00, 186.15it/s]\n"
     ]
    },
    {
     "name": "stdout",
     "output_type": "stream",
     "text": [
      "model 575, 2 circuited\n",
      "512 seconds\n",
      "model 575, 2 tested: acc 0.7445887445887446, log-lik -29.76658725166543\n",
      "513 seconds\n"
     ]
    },
    {
     "name": "stderr",
     "output_type": "stream",
     "text": [
      "  4%|██▉                                                                             | 21/580 [00:00<00:04, 138.42it/s]"
     ]
    },
    {
     "name": "stdout",
     "output_type": "stream",
     "text": [
      "575 finished, 513 seconds\n",
      "Performance: [-29.7749862633817, -29.774500101907385, -29.76658725166543]\n",
      "model 580, 0 fitted\n",
      "514 seconds\n"
     ]
    },
    {
     "name": "stderr",
     "output_type": "stream",
     "text": [
      "100%|███████████████████████████████████████████████████████████████████████████████| 580/580 [00:01<00:00, 392.31it/s]\n"
     ]
    },
    {
     "name": "stdout",
     "output_type": "stream",
     "text": [
      "model 580, 0 circuited\n",
      "515 seconds\n",
      "model 580, 0 tested: acc 0.7316017316017316, log-lik -29.726461299666457\n",
      "516 seconds\n"
     ]
    },
    {
     "name": "stderr",
     "output_type": "stream",
     "text": [
      " 13%|██████████                                                                      | 73/580 [00:00<00:00, 697.06it/s]"
     ]
    },
    {
     "name": "stdout",
     "output_type": "stream",
     "text": [
      "model 580, 1 fitted\n",
      "516 seconds\n"
     ]
    },
    {
     "name": "stderr",
     "output_type": "stream",
     "text": [
      "100%|███████████████████████████████████████████████████████████████████████████████| 580/580 [00:01<00:00, 518.31it/s]\n"
     ]
    },
    {
     "name": "stdout",
     "output_type": "stream",
     "text": [
      "model 580, 1 circuited\n",
      "517 seconds\n",
      "model 580, 1 tested: acc 0.7402597402597403, log-lik -29.747830655428526\n",
      "518 seconds\n"
     ]
    },
    {
     "name": "stderr",
     "output_type": "stream",
     "text": [
      " 11%|████████▌                                                                       | 62/580 [00:00<00:00, 615.39it/s]"
     ]
    },
    {
     "name": "stdout",
     "output_type": "stream",
     "text": [
      "model 580, 2 fitted\n",
      "518 seconds\n"
     ]
    },
    {
     "name": "stderr",
     "output_type": "stream",
     "text": [
      "100%|███████████████████████████████████████████████████████████████████████████████| 580/580 [00:01<00:00, 552.34it/s]\n"
     ]
    },
    {
     "name": "stdout",
     "output_type": "stream",
     "text": [
      "model 580, 2 circuited\n",
      "519 seconds\n",
      "model 580, 2 tested: acc 0.7402597402597403, log-lik -29.757062423460766\n",
      "520 seconds\n"
     ]
    },
    {
     "name": "stderr",
     "output_type": "stream",
     "text": [
      " 11%|████████▌                                                                       | 63/585 [00:00<00:00, 627.37it/s]"
     ]
    },
    {
     "name": "stdout",
     "output_type": "stream",
     "text": [
      "580 finished, 520 seconds\n",
      "Performance: [-29.726461299666457, -29.747830655428526, -29.757062423460766]\n",
      "model 585, 0 fitted\n",
      "520 seconds\n"
     ]
    },
    {
     "name": "stderr",
     "output_type": "stream",
     "text": [
      "100%|███████████████████████████████████████████████████████████████████████████████| 585/585 [00:01<00:00, 546.63it/s]\n"
     ]
    },
    {
     "name": "stdout",
     "output_type": "stream",
     "text": [
      "model 585, 0 circuited\n",
      "521 seconds\n",
      "model 585, 0 tested: acc 0.7445887445887446, log-lik -29.575439289176895\n",
      "522 seconds\n"
     ]
    },
    {
     "name": "stderr",
     "output_type": "stream",
     "text": [
      " 24%|██████████████████▋                                                            | 138/585 [00:00<00:00, 675.84it/s]"
     ]
    },
    {
     "name": "stdout",
     "output_type": "stream",
     "text": [
      "model 585, 1 fitted\n",
      "523 seconds\n"
     ]
    },
    {
     "name": "stderr",
     "output_type": "stream",
     "text": [
      "100%|███████████████████████████████████████████████████████████████████████████████| 585/585 [00:01<00:00, 545.39it/s]\n"
     ]
    },
    {
     "name": "stdout",
     "output_type": "stream",
     "text": [
      "model 585, 1 circuited\n",
      "524 seconds\n",
      "model 585, 1 tested: acc 0.7402597402597403, log-lik -29.72234663734636\n",
      "524 seconds\n"
     ]
    },
    {
     "name": "stderr",
     "output_type": "stream",
     "text": [
      " 14%|██████████▊                                                                     | 79/585 [00:00<00:00, 720.10it/s]"
     ]
    },
    {
     "name": "stdout",
     "output_type": "stream",
     "text": [
      "model 585, 2 fitted\n",
      "525 seconds\n"
     ]
    },
    {
     "name": "stderr",
     "output_type": "stream",
     "text": [
      "100%|███████████████████████████████████████████████████████████████████████████████| 585/585 [00:01<00:00, 453.63it/s]\n"
     ]
    },
    {
     "name": "stdout",
     "output_type": "stream",
     "text": [
      "model 585, 2 circuited\n",
      "526 seconds\n",
      "model 585, 2 tested: acc 0.7402597402597403, log-lik -29.23765539589066\n",
      "527 seconds\n",
      "585 finished, 527 seconds\n",
      "Performance: [-29.575439289176895, -29.72234663734636, -29.23765539589066]\n"
     ]
    },
    {
     "name": "stderr",
     "output_type": "stream",
     "text": [
      "  9%|███████▌                                                                        | 56/590 [00:00<00:00, 550.49it/s]"
     ]
    },
    {
     "name": "stdout",
     "output_type": "stream",
     "text": [
      "model 590, 0 fitted\n",
      "527 seconds\n"
     ]
    },
    {
     "name": "stderr",
     "output_type": "stream",
     "text": [
      "100%|███████████████████████████████████████████████████████████████████████████████| 590/590 [00:01<00:00, 452.07it/s]\n"
     ]
    },
    {
     "name": "stdout",
     "output_type": "stream",
     "text": [
      "model 590, 0 circuited\n",
      "528 seconds\n",
      "model 590, 0 tested: acc 0.7402597402597403, log-lik -29.773266076488728\n",
      "529 seconds\n"
     ]
    },
    {
     "name": "stderr",
     "output_type": "stream",
     "text": [
      "  3%|██▍                                                                             | 18/590 [00:00<00:03, 152.97it/s]"
     ]
    },
    {
     "name": "stdout",
     "output_type": "stream",
     "text": [
      "model 590, 1 fitted\n",
      "530 seconds\n"
     ]
    },
    {
     "name": "stderr",
     "output_type": "stream",
     "text": [
      "100%|███████████████████████████████████████████████████████████████████████████████| 590/590 [00:02<00:00, 281.03it/s]\n"
     ]
    },
    {
     "name": "stdout",
     "output_type": "stream",
     "text": [
      "model 590, 1 circuited\n",
      "532 seconds\n",
      "model 590, 1 tested: acc 0.7359307359307359, log-lik -29.716294294607263\n",
      "533 seconds\n"
     ]
    },
    {
     "name": "stderr",
     "output_type": "stream",
     "text": [
      " 11%|████████▌                                                                       | 63/590 [00:00<00:00, 618.19it/s]"
     ]
    },
    {
     "name": "stdout",
     "output_type": "stream",
     "text": [
      "model 590, 2 fitted\n",
      "533 seconds\n"
     ]
    },
    {
     "name": "stderr",
     "output_type": "stream",
     "text": [
      "100%|███████████████████████████████████████████████████████████████████████████████| 590/590 [00:01<00:00, 449.67it/s]\n"
     ]
    },
    {
     "name": "stdout",
     "output_type": "stream",
     "text": [
      "model 590, 2 circuited\n",
      "535 seconds\n",
      "model 590, 2 tested: acc 0.7402597402597403, log-lik -29.797528572424987\n",
      "535 seconds\n",
      "590 finished, 535 seconds\n",
      "Performance: [-29.773266076488728, -29.716294294607263, -29.797528572424987]\n"
     ]
    },
    {
     "name": "stderr",
     "output_type": "stream",
     "text": [
      " 10%|████████▏                                                                       | 61/595 [00:00<00:00, 593.78it/s]"
     ]
    },
    {
     "name": "stdout",
     "output_type": "stream",
     "text": [
      "model 595, 0 fitted\n",
      "536 seconds\n"
     ]
    },
    {
     "name": "stderr",
     "output_type": "stream",
     "text": [
      "100%|███████████████████████████████████████████████████████████████████████████████| 595/595 [00:01<00:00, 542.15it/s]\n"
     ]
    },
    {
     "name": "stdout",
     "output_type": "stream",
     "text": [
      "model 595, 0 circuited\n",
      "537 seconds\n",
      "model 595, 0 tested: acc 0.748917748917749, log-lik -29.715618238819673\n",
      "540 seconds\n"
     ]
    },
    {
     "name": "stderr",
     "output_type": "stream",
     "text": [
      " 24%|███████████████████                                                            | 144/595 [00:00<00:00, 719.37it/s]"
     ]
    },
    {
     "name": "stdout",
     "output_type": "stream",
     "text": [
      "model 595, 1 fitted\n",
      "540 seconds\n"
     ]
    },
    {
     "name": "stderr",
     "output_type": "stream",
     "text": [
      "100%|███████████████████████████████████████████████████████████████████████████████| 595/595 [00:00<00:00, 659.29it/s]\n"
     ]
    },
    {
     "name": "stdout",
     "output_type": "stream",
     "text": [
      "model 595, 1 circuited\n",
      "541 seconds\n",
      "model 595, 1 tested: acc 0.7402597402597403, log-lik -29.75969801814569\n",
      "542 seconds\n"
     ]
    },
    {
     "name": "stderr",
     "output_type": "stream",
     "text": [
      "  8%|██████▎                                                                         | 47/595 [00:00<00:01, 459.37it/s]"
     ]
    },
    {
     "name": "stdout",
     "output_type": "stream",
     "text": [
      "model 595, 2 fitted\n",
      "542 seconds\n"
     ]
    },
    {
     "name": "stderr",
     "output_type": "stream",
     "text": [
      "100%|███████████████████████████████████████████████████████████████████████████████| 595/595 [00:01<00:00, 460.01it/s]\n"
     ]
    },
    {
     "name": "stdout",
     "output_type": "stream",
     "text": [
      "model 595, 2 circuited\n",
      "543 seconds\n",
      "model 595, 2 tested: acc 0.7402597402597403, log-lik -29.763264951719492\n",
      "544 seconds\n",
      "595 finished, 544 seconds\n",
      "Performance: [-29.715618238819673, -29.75969801814569, -29.763264951719492]\n"
     ]
    },
    {
     "name": "stderr",
     "output_type": "stream",
     "text": [
      " 13%|██████████▏                                                                     | 76/600 [00:00<00:00, 754.50it/s]"
     ]
    },
    {
     "name": "stdout",
     "output_type": "stream",
     "text": [
      "model 600, 0 fitted\n",
      "544 seconds\n"
     ]
    },
    {
     "name": "stderr",
     "output_type": "stream",
     "text": [
      "100%|███████████████████████████████████████████████████████████████████████████████| 600/600 [00:00<00:00, 628.92it/s]\n"
     ]
    },
    {
     "name": "stdout",
     "output_type": "stream",
     "text": [
      "model 600, 0 circuited\n",
      "545 seconds\n",
      "model 600, 0 tested: acc 0.7359307359307359, log-lik -29.72081902345367\n",
      "546 seconds\n"
     ]
    },
    {
     "name": "stderr",
     "output_type": "stream",
     "text": [
      " 12%|█████████▋                                                                      | 73/600 [00:00<00:00, 708.79it/s]"
     ]
    },
    {
     "name": "stdout",
     "output_type": "stream",
     "text": [
      "model 600, 1 fitted\n",
      "547 seconds\n"
     ]
    },
    {
     "name": "stderr",
     "output_type": "stream",
     "text": [
      "100%|███████████████████████████████████████████████████████████████████████████████| 600/600 [00:01<00:00, 553.54it/s]\n"
     ]
    },
    {
     "name": "stdout",
     "output_type": "stream",
     "text": [
      "model 600, 1 circuited\n",
      "548 seconds\n",
      "model 600, 1 tested: acc 0.7402597402597403, log-lik -29.761491097437432\n",
      "548 seconds\n"
     ]
    },
    {
     "name": "stderr",
     "output_type": "stream",
     "text": [
      " 12%|█████████▏                                                                      | 69/600 [00:00<00:00, 678.27it/s]"
     ]
    },
    {
     "name": "stdout",
     "output_type": "stream",
     "text": [
      "model 600, 2 fitted\n",
      "549 seconds\n"
     ]
    },
    {
     "name": "stderr",
     "output_type": "stream",
     "text": [
      "100%|███████████████████████████████████████████████████████████████████████████████| 600/600 [00:01<00:00, 560.91it/s]\n"
     ]
    },
    {
     "name": "stdout",
     "output_type": "stream",
     "text": [
      "model 600, 2 circuited\n",
      "550 seconds\n",
      "model 600, 2 tested: acc 0.7359307359307359, log-lik -29.78171206327058\n",
      "551 seconds\n",
      "600 finished, 551 seconds\n",
      "Performance: [-29.72081902345367, -29.761491097437432, -29.78171206327058]\n"
     ]
    },
    {
     "name": "stderr",
     "output_type": "stream",
     "text": [
      " 20%|███████████████▍                                                               | 118/605 [00:00<00:00, 590.83it/s]"
     ]
    },
    {
     "name": "stdout",
     "output_type": "stream",
     "text": [
      "model 605, 0 fitted\n",
      "551 seconds\n"
     ]
    },
    {
     "name": "stderr",
     "output_type": "stream",
     "text": [
      "100%|███████████████████████████████████████████████████████████████████████████████| 605/605 [00:01<00:00, 442.56it/s]\n"
     ]
    },
    {
     "name": "stdout",
     "output_type": "stream",
     "text": [
      "model 605, 0 circuited\n",
      "553 seconds\n",
      "model 605, 0 tested: acc 0.7402597402597403, log-lik -29.752117975682086\n",
      "553 seconds\n"
     ]
    },
    {
     "name": "stderr",
     "output_type": "stream",
     "text": [
      "  9%|███████▍                                                                        | 56/605 [00:00<00:00, 555.94it/s]"
     ]
    },
    {
     "name": "stdout",
     "output_type": "stream",
     "text": [
      "model 605, 1 fitted\n",
      "554 seconds\n"
     ]
    },
    {
     "name": "stderr",
     "output_type": "stream",
     "text": [
      "100%|███████████████████████████████████████████████████████████████████████████████| 605/605 [00:01<00:00, 456.88it/s]\n"
     ]
    },
    {
     "name": "stdout",
     "output_type": "stream",
     "text": [
      "model 605, 1 circuited\n",
      "555 seconds\n",
      "model 605, 1 tested: acc 0.7359307359307359, log-lik -29.568145944108924\n",
      "556 seconds\n"
     ]
    },
    {
     "name": "stderr",
     "output_type": "stream",
     "text": [
      " 10%|████████▏                                                                       | 62/605 [00:00<00:00, 615.51it/s]"
     ]
    },
    {
     "name": "stdout",
     "output_type": "stream",
     "text": [
      "model 605, 2 fitted\n",
      "556 seconds\n"
     ]
    },
    {
     "name": "stderr",
     "output_type": "stream",
     "text": [
      "100%|███████████████████████████████████████████████████████████████████████████████| 605/605 [00:01<00:00, 511.94it/s]\n"
     ]
    },
    {
     "name": "stdout",
     "output_type": "stream",
     "text": [
      "model 605, 2 circuited\n",
      "558 seconds\n",
      "model 605, 2 tested: acc 0.7402597402597403, log-lik -29.761464890687968\n",
      "558 seconds\n",
      "605 finished, 558 seconds\n",
      "Performance: [-29.752117975682086, -29.568145944108924, -29.761464890687968]\n"
     ]
    },
    {
     "name": "stderr",
     "output_type": "stream",
     "text": [
      " 10%|███████▌                                                                        | 58/610 [00:00<00:00, 570.17it/s]"
     ]
    },
    {
     "name": "stdout",
     "output_type": "stream",
     "text": [
      "model 610, 0 fitted\n",
      "559 seconds\n"
     ]
    },
    {
     "name": "stderr",
     "output_type": "stream",
     "text": [
      "100%|███████████████████████████████████████████████████████████████████████████████| 610/610 [00:01<00:00, 517.84it/s]\n"
     ]
    },
    {
     "name": "stdout",
     "output_type": "stream",
     "text": [
      "model 610, 0 circuited\n",
      "560 seconds\n",
      "model 610, 0 tested: acc 0.7402597402597403, log-lik -29.624494960996625\n",
      "560 seconds\n"
     ]
    },
    {
     "name": "stderr",
     "output_type": "stream",
     "text": [
      "  5%|███▊                                                                            | 29/610 [00:00<00:02, 286.40it/s]"
     ]
    },
    {
     "name": "stdout",
     "output_type": "stream",
     "text": [
      "model 610, 1 fitted\n",
      "561 seconds\n"
     ]
    },
    {
     "name": "stderr",
     "output_type": "stream",
     "text": [
      "100%|███████████████████████████████████████████████████████████████████████████████| 610/610 [00:01<00:00, 331.94it/s]\n"
     ]
    },
    {
     "name": "stdout",
     "output_type": "stream",
     "text": [
      "model 610, 1 circuited\n",
      "563 seconds\n",
      "model 610, 1 tested: acc 0.7445887445887446, log-lik -29.772305501625443\n",
      "563 seconds\n"
     ]
    },
    {
     "name": "stderr",
     "output_type": "stream",
     "text": [
      " 19%|███████████████▎                                                               | 118/610 [00:00<00:00, 594.21it/s]"
     ]
    },
    {
     "name": "stdout",
     "output_type": "stream",
     "text": [
      "model 610, 2 fitted\n",
      "564 seconds\n"
     ]
    },
    {
     "name": "stderr",
     "output_type": "stream",
     "text": [
      "100%|███████████████████████████████████████████████████████████████████████████████| 610/610 [00:01<00:00, 559.76it/s]\n"
     ]
    },
    {
     "name": "stdout",
     "output_type": "stream",
     "text": [
      "model 610, 2 circuited\n",
      "565 seconds\n",
      "model 610, 2 tested: acc 0.7402597402597403, log-lik -29.76506405745701\n",
      "566 seconds\n",
      "610 finished, 566 seconds\n",
      "Performance: [-29.624494960996625, -29.772305501625443, -29.76506405745701]"
     ]
    },
    {
     "name": "stderr",
     "output_type": "stream",
     "text": [
      "  9%|███████▎                                                                        | 56/615 [00:00<00:01, 555.93it/s]"
     ]
    },
    {
     "name": "stdout",
     "output_type": "stream",
     "text": [
      "\n",
      "model 615, 0 fitted\n",
      "566 seconds\n"
     ]
    },
    {
     "name": "stderr",
     "output_type": "stream",
     "text": [
      "100%|███████████████████████████████████████████████████████████████████████████████| 615/615 [00:01<00:00, 455.58it/s]\n"
     ]
    },
    {
     "name": "stdout",
     "output_type": "stream",
     "text": [
      "model 615, 0 circuited\n",
      "568 seconds\n",
      "model 615, 0 tested: acc 0.7402597402597403, log-lik -29.63531471170977\n",
      "568 seconds\n"
     ]
    },
    {
     "name": "stderr",
     "output_type": "stream",
     "text": [
      "  7%|█████▌                                                                          | 43/615 [00:00<00:01, 426.88it/s]"
     ]
    },
    {
     "name": "stdout",
     "output_type": "stream",
     "text": [
      "model 615, 1 fitted\n",
      "569 seconds\n"
     ]
    },
    {
     "name": "stderr",
     "output_type": "stream",
     "text": [
      "100%|███████████████████████████████████████████████████████████████████████████████| 615/615 [00:01<00:00, 487.14it/s]\n"
     ]
    },
    {
     "name": "stdout",
     "output_type": "stream",
     "text": [
      "model 615, 1 circuited\n",
      "570 seconds\n",
      "model 615, 1 tested: acc 0.7402597402597403, log-lik -29.76332387597796\n",
      "571 seconds\n"
     ]
    },
    {
     "name": "stderr",
     "output_type": "stream",
     "text": [
      " 11%|████████▍                                                                       | 65/615 [00:00<00:00, 648.38it/s]"
     ]
    },
    {
     "name": "stdout",
     "output_type": "stream",
     "text": [
      "model 615, 2 fitted\n",
      "571 seconds\n"
     ]
    },
    {
     "name": "stderr",
     "output_type": "stream",
     "text": [
      "100%|███████████████████████████████████████████████████████████████████████████████| 615/615 [00:01<00:00, 470.73it/s]\n"
     ]
    },
    {
     "name": "stdout",
     "output_type": "stream",
     "text": [
      "model 615, 2 circuited\n",
      "573 seconds\n",
      "model 615, 2 tested: acc 0.7402597402597403, log-lik -29.764581632199818\n",
      "573 seconds\n",
      "615 finished, 573 seconds\n",
      "Performance: [-29.63531471170977, -29.76332387597796, -29.764581632199818]\n"
     ]
    },
    {
     "name": "stderr",
     "output_type": "stream",
     "text": [
      " 10%|███████▋                                                                        | 60/620 [00:00<00:00, 595.65it/s]"
     ]
    },
    {
     "name": "stdout",
     "output_type": "stream",
     "text": [
      "model 620, 0 fitted\n",
      "574 seconds\n"
     ]
    },
    {
     "name": "stderr",
     "output_type": "stream",
     "text": [
      "100%|███████████████████████████████████████████████████████████████████████████████| 620/620 [00:01<00:00, 501.39it/s]\n"
     ]
    },
    {
     "name": "stdout",
     "output_type": "stream",
     "text": [
      "model 620, 0 circuited\n",
      "575 seconds\n",
      "model 620, 0 tested: acc 0.7402597402597403, log-lik -29.767429099141854\n",
      "575 seconds\n"
     ]
    },
    {
     "name": "stderr",
     "output_type": "stream",
     "text": [
      "  9%|███████▎                                                                        | 57/620 [00:00<00:00, 565.87it/s]"
     ]
    },
    {
     "name": "stdout",
     "output_type": "stream",
     "text": [
      "model 620, 1 fitted\n",
      "576 seconds\n"
     ]
    },
    {
     "name": "stderr",
     "output_type": "stream",
     "text": [
      "100%|███████████████████████████████████████████████████████████████████████████████| 620/620 [00:01<00:00, 457.80it/s]\n"
     ]
    },
    {
     "name": "stdout",
     "output_type": "stream",
     "text": [
      "model 620, 1 circuited\n",
      "577 seconds\n",
      "model 620, 1 tested: acc 0.7532467532467533, log-lik -29.778176406810328\n",
      "578 seconds\n"
     ]
    },
    {
     "name": "stderr",
     "output_type": "stream",
     "text": [
      " 19%|███████████████                                                                | 118/620 [00:00<00:00, 570.47it/s]"
     ]
    },
    {
     "name": "stdout",
     "output_type": "stream",
     "text": [
      "model 620, 2 fitted\n",
      "579 seconds\n"
     ]
    },
    {
     "name": "stderr",
     "output_type": "stream",
     "text": [
      "100%|███████████████████████████████████████████████████████████████████████████████| 620/620 [00:01<00:00, 491.64it/s]\n"
     ]
    },
    {
     "name": "stdout",
     "output_type": "stream",
     "text": [
      "model 620, 2 circuited\n",
      "580 seconds\n",
      "model 620, 2 tested: acc 0.7359307359307359, log-lik -29.761863761546454\n",
      "580 seconds\n"
     ]
    },
    {
     "name": "stderr",
     "output_type": "stream",
     "text": [
      "  9%|██████▉                                                                         | 54/625 [00:00<00:01, 522.77it/s]"
     ]
    },
    {
     "name": "stdout",
     "output_type": "stream",
     "text": [
      "620 finished, 581 seconds\n",
      "Performance: [-29.767429099141854, -29.778176406810328, -29.761863761546454]\n",
      "model 625, 0 fitted\n",
      "581 seconds\n"
     ]
    },
    {
     "name": "stderr",
     "output_type": "stream",
     "text": [
      "100%|███████████████████████████████████████████████████████████████████████████████| 625/625 [00:01<00:00, 463.97it/s]\n"
     ]
    },
    {
     "name": "stdout",
     "output_type": "stream",
     "text": [
      "model 625, 0 circuited\n",
      "583 seconds\n",
      "model 625, 0 tested: acc 0.7359307359307359, log-lik -29.773366687335336\n",
      "583 seconds\n"
     ]
    },
    {
     "name": "stderr",
     "output_type": "stream",
     "text": [
      "  9%|███████▏                                                                        | 56/625 [00:00<00:01, 550.48it/s]"
     ]
    },
    {
     "name": "stdout",
     "output_type": "stream",
     "text": [
      "model 625, 1 fitted\n",
      "584 seconds\n"
     ]
    },
    {
     "name": "stderr",
     "output_type": "stream",
     "text": [
      "100%|███████████████████████████████████████████████████████████████████████████████| 625/625 [00:01<00:00, 479.07it/s]\n"
     ]
    },
    {
     "name": "stdout",
     "output_type": "stream",
     "text": [
      "model 625, 1 circuited\n",
      "585 seconds\n",
      "model 625, 1 tested: acc 0.7402597402597403, log-lik -29.713686928216003\n",
      "586 seconds\n"
     ]
    },
    {
     "name": "stderr",
     "output_type": "stream",
     "text": [
      "  9%|███████▏                                                                        | 56/625 [00:00<00:01, 555.74it/s]"
     ]
    },
    {
     "name": "stdout",
     "output_type": "stream",
     "text": [
      "model 625, 2 fitted\n",
      "587 seconds\n"
     ]
    },
    {
     "name": "stderr",
     "output_type": "stream",
     "text": [
      "100%|███████████████████████████████████████████████████████████████████████████████| 625/625 [00:01<00:00, 452.37it/s]\n"
     ]
    },
    {
     "name": "stdout",
     "output_type": "stream",
     "text": [
      "model 625, 2 circuited\n",
      "588 seconds\n",
      "model 625, 2 tested: acc 0.7316017316017316, log-lik -29.498084223463753\n",
      "588 seconds\n",
      "625 finished, 589 seconds\n",
      "Performance: [-29.773366687335336, -29.713686928216003, -29.498084223463753]\n"
     ]
    },
    {
     "name": "stderr",
     "output_type": "stream",
     "text": [
      " 18%|██████████████                                                                 | 112/630 [00:00<00:00, 557.74it/s]"
     ]
    },
    {
     "name": "stdout",
     "output_type": "stream",
     "text": [
      "model 630, 0 fitted\n",
      "589 seconds\n"
     ]
    },
    {
     "name": "stderr",
     "output_type": "stream",
     "text": [
      "100%|███████████████████████████████████████████████████████████████████████████████| 630/630 [00:01<00:00, 480.03it/s]\n"
     ]
    },
    {
     "name": "stdout",
     "output_type": "stream",
     "text": [
      "model 630, 0 circuited\n",
      "590 seconds\n",
      "model 630, 0 tested: acc 0.7445887445887446, log-lik -29.729736100037478\n",
      "591 seconds\n"
     ]
    },
    {
     "name": "stderr",
     "output_type": "stream",
     "text": [
      " 10%|███████▌                                                                        | 60/630 [00:00<00:00, 598.43it/s]"
     ]
    },
    {
     "name": "stdout",
     "output_type": "stream",
     "text": [
      "model 630, 1 fitted\n",
      "592 seconds\n"
     ]
    },
    {
     "name": "stderr",
     "output_type": "stream",
     "text": [
      "100%|███████████████████████████████████████████████████████████████████████████████| 630/630 [00:01<00:00, 486.50it/s]\n"
     ]
    },
    {
     "name": "stdout",
     "output_type": "stream",
     "text": [
      "model 630, 1 circuited\n",
      "593 seconds\n",
      "model 630, 1 tested: acc 0.7359307359307359, log-lik -29.448037183822464\n",
      "594 seconds\n"
     ]
    },
    {
     "name": "stderr",
     "output_type": "stream",
     "text": [
      "  7%|█████▏                                                                          | 41/630 [00:00<00:01, 380.62it/s]"
     ]
    },
    {
     "name": "stdout",
     "output_type": "stream",
     "text": [
      "model 630, 2 fitted\n",
      "595 seconds\n"
     ]
    },
    {
     "name": "stderr",
     "output_type": "stream",
     "text": [
      "100%|███████████████████████████████████████████████████████████████████████████████| 630/630 [00:01<00:00, 315.12it/s]\n"
     ]
    },
    {
     "name": "stdout",
     "output_type": "stream",
     "text": [
      "model 630, 2 circuited\n",
      "597 seconds\n",
      "model 630, 2 tested: acc 0.7402597402597403, log-lik -29.768507872675595\n",
      "597 seconds\n",
      "630 finished, 597 seconds\n",
      "Performance: [-29.729736100037478, -29.448037183822464, -29.768507872675595]\n"
     ]
    },
    {
     "name": "stderr",
     "output_type": "stream",
     "text": [
      "  9%|███████▌                                                                        | 60/635 [00:00<00:01, 559.09it/s]"
     ]
    },
    {
     "name": "stdout",
     "output_type": "stream",
     "text": [
      "model 635, 0 fitted\n",
      "598 seconds\n"
     ]
    },
    {
     "name": "stderr",
     "output_type": "stream",
     "text": [
      "100%|███████████████████████████████████████████████████████████████████████████████| 635/635 [00:01<00:00, 406.21it/s]\n"
     ]
    },
    {
     "name": "stdout",
     "output_type": "stream",
     "text": [
      "model 635, 0 circuited\n",
      "599 seconds\n",
      "model 635, 0 tested: acc 0.748917748917749, log-lik -29.767573439280856\n",
      "600 seconds\n"
     ]
    },
    {
     "name": "stderr",
     "output_type": "stream",
     "text": [
      "  7%|█████▋                                                                          | 45/635 [00:00<00:01, 442.35it/s]"
     ]
    },
    {
     "name": "stdout",
     "output_type": "stream",
     "text": [
      "model 635, 1 fitted\n",
      "601 seconds\n"
     ]
    },
    {
     "name": "stderr",
     "output_type": "stream",
     "text": [
      "100%|███████████████████████████████████████████████████████████████████████████████| 635/635 [00:01<00:00, 507.90it/s]\n"
     ]
    },
    {
     "name": "stdout",
     "output_type": "stream",
     "text": [
      "model 635, 1 circuited\n",
      "602 seconds\n",
      "model 635, 1 tested: acc 0.7445887445887446, log-lik -29.44582132352101\n",
      "603 seconds\n"
     ]
    },
    {
     "name": "stderr",
     "output_type": "stream",
     "text": [
      " 10%|███████▉                                                                        | 63/635 [00:00<00:00, 628.22it/s]"
     ]
    },
    {
     "name": "stdout",
     "output_type": "stream",
     "text": [
      "model 635, 2 fitted\n",
      "604 seconds\n"
     ]
    },
    {
     "name": "stderr",
     "output_type": "stream",
     "text": [
      "100%|███████████████████████████████████████████████████████████████████████████████| 635/635 [00:01<00:00, 529.12it/s]\n"
     ]
    },
    {
     "name": "stdout",
     "output_type": "stream",
     "text": [
      "model 635, 2 circuited\n",
      "605 seconds\n",
      "model 635, 2 tested: acc 0.748917748917749, log-lik -29.77742947210226\n",
      "606 seconds\n",
      "635 finished, 606 seconds\n",
      "Performance: [-29.767573439280856, -29.44582132352101, -29.77742947210226]\n"
     ]
    },
    {
     "name": "stderr",
     "output_type": "stream",
     "text": [
      " 10%|████████                                                                        | 64/640 [00:00<00:00, 622.91it/s]"
     ]
    },
    {
     "name": "stdout",
     "output_type": "stream",
     "text": [
      "model 640, 0 fitted\n",
      "606 seconds\n"
     ]
    },
    {
     "name": "stderr",
     "output_type": "stream",
     "text": [
      "100%|███████████████████████████████████████████████████████████████████████████████| 640/640 [00:01<00:00, 538.11it/s]\n"
     ]
    },
    {
     "name": "stdout",
     "output_type": "stream",
     "text": [
      "model 640, 0 circuited\n",
      "607 seconds\n",
      "model 640, 0 tested: acc 0.7575757575757576, log-lik -29.736276688056776\n",
      "608 seconds\n"
     ]
    },
    {
     "name": "stderr",
     "output_type": "stream",
     "text": [
      " 18%|██████████████▌                                                                | 118/640 [00:00<00:00, 577.09it/s]"
     ]
    },
    {
     "name": "stdout",
     "output_type": "stream",
     "text": [
      "model 640, 1 fitted\n",
      "609 seconds\n"
     ]
    },
    {
     "name": "stderr",
     "output_type": "stream",
     "text": [
      "100%|███████████████████████████████████████████████████████████████████████████████| 640/640 [00:01<00:00, 546.59it/s]\n"
     ]
    },
    {
     "name": "stdout",
     "output_type": "stream",
     "text": [
      "model 640, 1 circuited\n",
      "610 seconds\n",
      "model 640, 1 tested: acc 0.7402597402597403, log-lik -29.684732988577156\n",
      "610 seconds\n"
     ]
    },
    {
     "name": "stderr",
     "output_type": "stream",
     "text": [
      " 10%|████████                                                                        | 64/640 [00:00<00:00, 623.04it/s]"
     ]
    },
    {
     "name": "stdout",
     "output_type": "stream",
     "text": [
      "model 640, 2 fitted\n",
      "611 seconds\n"
     ]
    },
    {
     "name": "stderr",
     "output_type": "stream",
     "text": [
      "100%|███████████████████████████████████████████████████████████████████████████████| 640/640 [00:01<00:00, 420.84it/s]\n"
     ]
    },
    {
     "name": "stdout",
     "output_type": "stream",
     "text": [
      "model 640, 2 circuited\n",
      "612 seconds\n",
      "model 640, 2 tested: acc 0.7445887445887446, log-lik -29.753334996895408\n",
      "613 seconds\n",
      "640 finished, 613 seconds\n"
     ]
    },
    {
     "name": "stderr",
     "output_type": "stream",
     "text": [
      "  9%|███████▍                                                                        | 60/645 [00:00<00:00, 598.50it/s]"
     ]
    },
    {
     "name": "stdout",
     "output_type": "stream",
     "text": [
      "Performance: [-29.736276688056776, -29.684732988577156, -29.753334996895408]\n",
      "model 645, 0 fitted\n",
      "614 seconds\n"
     ]
    },
    {
     "name": "stderr",
     "output_type": "stream",
     "text": [
      "100%|███████████████████████████████████████████████████████████████████████████████| 645/645 [00:01<00:00, 461.35it/s]\n"
     ]
    },
    {
     "name": "stdout",
     "output_type": "stream",
     "text": [
      "model 645, 0 circuited\n",
      "617 seconds\n",
      "model 645, 0 tested: acc 0.7359307359307359, log-lik -29.75322891544646\n",
      "617 seconds\n"
     ]
    },
    {
     "name": "stderr",
     "output_type": "stream",
     "text": [
      " 12%|█████████▎                                                                      | 75/645 [00:00<00:00, 744.56it/s]"
     ]
    },
    {
     "name": "stdout",
     "output_type": "stream",
     "text": [
      "model 645, 1 fitted\n",
      "618 seconds\n"
     ]
    },
    {
     "name": "stderr",
     "output_type": "stream",
     "text": [
      "100%|███████████████████████████████████████████████████████████████████████████████| 645/645 [00:00<00:00, 666.15it/s]\n"
     ]
    },
    {
     "name": "stdout",
     "output_type": "stream",
     "text": [
      "model 645, 1 circuited\n",
      "619 seconds\n",
      "model 645, 1 tested: acc 0.7402597402597403, log-lik -29.761885173324654\n",
      "620 seconds\n"
     ]
    },
    {
     "name": "stderr",
     "output_type": "stream",
     "text": [
      " 10%|███████▋                                                                        | 62/645 [00:00<00:00, 615.51it/s]"
     ]
    },
    {
     "name": "stdout",
     "output_type": "stream",
     "text": [
      "model 645, 2 fitted\n",
      "620 seconds\n"
     ]
    },
    {
     "name": "stderr",
     "output_type": "stream",
     "text": [
      "100%|███████████████████████████████████████████████████████████████████████████████| 645/645 [00:01<00:00, 631.71it/s]\n"
     ]
    },
    {
     "name": "stdout",
     "output_type": "stream",
     "text": [
      "model 645, 2 circuited\n",
      "621 seconds\n",
      "model 645, 2 tested: acc 0.7445887445887446, log-lik -29.291419042840992\n",
      "622 seconds\n",
      "645 finished, 622 seconds\n",
      "Performance: [-29.75322891544646, -29.761885173324654, -29.291419042840992]\n"
     ]
    },
    {
     "name": "stderr",
     "output_type": "stream",
     "text": [
      " 11%|████████▊                                                                       | 72/650 [00:00<00:00, 707.77it/s]"
     ]
    },
    {
     "name": "stdout",
     "output_type": "stream",
     "text": [
      "model 650, 0 fitted\n",
      "622 seconds\n"
     ]
    },
    {
     "name": "stderr",
     "output_type": "stream",
     "text": [
      "100%|███████████████████████████████████████████████████████████████████████████████| 650/650 [00:00<00:00, 657.89it/s]\n"
     ]
    },
    {
     "name": "stdout",
     "output_type": "stream",
     "text": [
      "model 650, 0 circuited\n",
      "623 seconds\n",
      "model 650, 0 tested: acc 0.7402597402597403, log-lik -29.737049737203083\n",
      "624 seconds\n"
     ]
    },
    {
     "name": "stderr",
     "output_type": "stream",
     "text": [
      " 13%|██████████                                                                      | 82/650 [00:00<00:00, 809.85it/s]"
     ]
    },
    {
     "name": "stdout",
     "output_type": "stream",
     "text": [
      "model 650, 1 fitted\n",
      "624 seconds\n"
     ]
    },
    {
     "name": "stderr",
     "output_type": "stream",
     "text": [
      "100%|███████████████████████████████████████████████████████████████████████████████| 650/650 [00:01<00:00, 587.38it/s]\n"
     ]
    },
    {
     "name": "stdout",
     "output_type": "stream",
     "text": [
      "model 650, 1 circuited\n",
      "625 seconds\n",
      "model 650, 1 tested: acc 0.7402597402597403, log-lik -29.719352553615945\n",
      "626 seconds\n"
     ]
    },
    {
     "name": "stderr",
     "output_type": "stream",
     "text": [
      " 10%|████████                                                                        | 65/650 [00:00<00:00, 625.16it/s]"
     ]
    },
    {
     "name": "stdout",
     "output_type": "stream",
     "text": [
      "model 650, 2 fitted\n",
      "627 seconds\n"
     ]
    },
    {
     "name": "stderr",
     "output_type": "stream",
     "text": [
      "100%|███████████████████████████████████████████████████████████████████████████████| 650/650 [00:01<00:00, 538.66it/s]\n"
     ]
    },
    {
     "name": "stdout",
     "output_type": "stream",
     "text": [
      "model 650, 2 circuited\n",
      "628 seconds\n",
      "model 650, 2 tested: acc 0.7402597402597403, log-lik -29.274855730946356\n",
      "628 seconds\n",
      "650 finished, 629 seconds\n",
      "Performance: [-29.737049737203083, -29.719352553615945, -29.274855730946356]\n"
     ]
    },
    {
     "name": "stderr",
     "output_type": "stream",
     "text": [
      " 17%|█████████████▋                                                                 | 113/655 [00:00<00:00, 550.79it/s]"
     ]
    },
    {
     "name": "stdout",
     "output_type": "stream",
     "text": [
      "model 655, 0 fitted\n",
      "629 seconds\n"
     ]
    },
    {
     "name": "stderr",
     "output_type": "stream",
     "text": [
      "100%|███████████████████████████████████████████████████████████████████████████████| 655/655 [00:01<00:00, 484.61it/s]\n"
     ]
    },
    {
     "name": "stdout",
     "output_type": "stream",
     "text": [
      "model 655, 0 circuited\n",
      "630 seconds\n",
      "model 655, 0 tested: acc 0.7402597402597403, log-lik -29.65441432533364\n",
      "631 seconds\n"
     ]
    },
    {
     "name": "stderr",
     "output_type": "stream",
     "text": [
      "  8%|██████▎                                                                         | 52/655 [00:00<00:01, 515.41it/s]"
     ]
    },
    {
     "name": "stdout",
     "output_type": "stream",
     "text": [
      "model 655, 1 fitted\n",
      "632 seconds\n"
     ]
    },
    {
     "name": "stderr",
     "output_type": "stream",
     "text": [
      "100%|███████████████████████████████████████████████████████████████████████████████| 655/655 [00:01<00:00, 493.21it/s]\n"
     ]
    },
    {
     "name": "stdout",
     "output_type": "stream",
     "text": [
      "model 655, 1 circuited\n",
      "633 seconds\n",
      "model 655, 1 tested: acc 0.7445887445887446, log-lik -29.230752476491737\n",
      "634 seconds\n"
     ]
    },
    {
     "name": "stderr",
     "output_type": "stream",
     "text": [
      " 10%|███████▉                                                                        | 65/655 [00:00<00:00, 644.91it/s]"
     ]
    },
    {
     "name": "stdout",
     "output_type": "stream",
     "text": [
      "model 655, 2 fitted\n",
      "634 seconds\n"
     ]
    },
    {
     "name": "stderr",
     "output_type": "stream",
     "text": [
      "100%|███████████████████████████████████████████████████████████████████████████████| 655/655 [00:01<00:00, 513.61it/s]\n"
     ]
    },
    {
     "name": "stdout",
     "output_type": "stream",
     "text": [
      "model 655, 2 circuited\n",
      "636 seconds\n",
      "model 655, 2 tested: acc 0.7402597402597403, log-lik -29.776112725711833\n",
      "636 seconds\n"
     ]
    },
    {
     "name": "stderr",
     "output_type": "stream",
     "text": [
      " 10%|████████                                                                        | 66/660 [00:00<00:00, 645.31it/s]"
     ]
    },
    {
     "name": "stdout",
     "output_type": "stream",
     "text": [
      "655 finished, 636 seconds\n",
      "Performance: [-29.65441432533364, -29.230752476491737, -29.776112725711833]\n",
      "model 660, 0 fitted\n",
      "637 seconds\n"
     ]
    },
    {
     "name": "stderr",
     "output_type": "stream",
     "text": [
      "100%|███████████████████████████████████████████████████████████████████████████████| 660/660 [00:01<00:00, 506.64it/s]\n"
     ]
    },
    {
     "name": "stdout",
     "output_type": "stream",
     "text": [
      "model 660, 0 circuited\n",
      "638 seconds\n",
      "model 660, 0 tested: acc 0.7445887445887446, log-lik -29.75976980228381\n",
      "639 seconds\n"
     ]
    },
    {
     "name": "stderr",
     "output_type": "stream",
     "text": [
      " 11%|████████▊                                                                       | 73/660 [00:00<00:00, 717.59it/s]"
     ]
    },
    {
     "name": "stdout",
     "output_type": "stream",
     "text": [
      "model 660, 1 fitted\n",
      "639 seconds\n"
     ]
    },
    {
     "name": "stderr",
     "output_type": "stream",
     "text": [
      "100%|███████████████████████████████████████████████████████████████████████████████| 660/660 [00:01<00:00, 381.32it/s]\n"
     ]
    },
    {
     "name": "stdout",
     "output_type": "stream",
     "text": [
      "model 660, 1 circuited\n",
      "641 seconds\n",
      "model 660, 1 tested: acc 0.7402597402597403, log-lik -29.76826800547231\n",
      "642 seconds\n"
     ]
    },
    {
     "name": "stderr",
     "output_type": "stream",
     "text": [
      " 11%|████████▌                                                                       | 71/660 [00:00<00:00, 704.84it/s]"
     ]
    },
    {
     "name": "stdout",
     "output_type": "stream",
     "text": [
      "model 660, 2 fitted\n",
      "642 seconds\n"
     ]
    },
    {
     "name": "stderr",
     "output_type": "stream",
     "text": [
      "100%|███████████████████████████████████████████████████████████████████████████████| 660/660 [00:01<00:00, 522.19it/s]\n"
     ]
    },
    {
     "name": "stdout",
     "output_type": "stream",
     "text": [
      "model 660, 2 circuited\n",
      "644 seconds\n",
      "model 660, 2 tested: acc 0.7402597402597403, log-lik -29.77398962580327\n",
      "644 seconds\n",
      "660 finished, 645 seconds\n",
      "Performance: [-29.75976980228381, -29.76826800547231, -29.77398962580327]\n"
     ]
    },
    {
     "name": "stderr",
     "output_type": "stream",
     "text": [
      "  7%|█████▋                                                                          | 47/665 [00:00<00:01, 466.42it/s]"
     ]
    },
    {
     "name": "stdout",
     "output_type": "stream",
     "text": [
      "model 665, 0 fitted\n",
      "645 seconds\n"
     ]
    },
    {
     "name": "stderr",
     "output_type": "stream",
     "text": [
      "100%|███████████████████████████████████████████████████████████████████████████████| 665/665 [00:01<00:00, 446.40it/s]\n"
     ]
    },
    {
     "name": "stdout",
     "output_type": "stream",
     "text": [
      "model 665, 0 circuited\n",
      "647 seconds\n",
      "model 665, 0 tested: acc 0.7402597402597403, log-lik -29.479992592133136\n",
      "647 seconds\n"
     ]
    },
    {
     "name": "stderr",
     "output_type": "stream",
     "text": [
      "  9%|███████▎                                                                        | 61/665 [00:00<00:00, 605.57it/s]"
     ]
    },
    {
     "name": "stdout",
     "output_type": "stream",
     "text": [
      "model 665, 1 fitted\n",
      "648 seconds\n"
     ]
    },
    {
     "name": "stderr",
     "output_type": "stream",
     "text": [
      "100%|███████████████████████████████████████████████████████████████████████████████| 665/665 [00:01<00:00, 481.52it/s]\n"
     ]
    },
    {
     "name": "stdout",
     "output_type": "stream",
     "text": [
      "model 665, 1 circuited\n",
      "649 seconds\n",
      "model 665, 1 tested: acc 0.7402597402597403, log-lik -29.098084578671624\n",
      "650 seconds\n"
     ]
    },
    {
     "name": "stderr",
     "output_type": "stream",
     "text": [
      "  9%|██████▉                                                                         | 58/665 [00:00<00:01, 575.80it/s]"
     ]
    },
    {
     "name": "stdout",
     "output_type": "stream",
     "text": [
      "model 665, 2 fitted\n",
      "651 seconds\n"
     ]
    },
    {
     "name": "stderr",
     "output_type": "stream",
     "text": [
      "100%|███████████████████████████████████████████████████████████████████████████████| 665/665 [00:01<00:00, 390.58it/s]\n"
     ]
    },
    {
     "name": "stdout",
     "output_type": "stream",
     "text": [
      "model 665, 2 circuited\n",
      "652 seconds\n",
      "model 665, 2 tested: acc 0.7445887445887446, log-lik -29.24434666490066\n",
      "653 seconds\n",
      "665 finished, 653 seconds\n",
      "Performance: [-29.479992592133136, -29.098084578671624, -29.24434666490066]\n"
     ]
    },
    {
     "name": "stderr",
     "output_type": "stream",
     "text": [
      " 10%|████████▎                                                                       | 70/670 [00:00<00:00, 662.15it/s]"
     ]
    },
    {
     "name": "stdout",
     "output_type": "stream",
     "text": [
      "model 670, 0 fitted\n",
      "654 seconds\n"
     ]
    },
    {
     "name": "stderr",
     "output_type": "stream",
     "text": [
      "100%|███████████████████████████████████████████████████████████████████████████████| 670/670 [00:01<00:00, 497.05it/s]\n"
     ]
    },
    {
     "name": "stdout",
     "output_type": "stream",
     "text": [
      "model 670, 0 circuited\n",
      "655 seconds\n",
      "model 670, 0 tested: acc 0.7402597402597403, log-lik -29.76387957913799\n",
      "656 seconds\n"
     ]
    },
    {
     "name": "stderr",
     "output_type": "stream",
     "text": [
      "  9%|███████▏                                                                        | 60/670 [00:00<00:01, 598.55it/s]"
     ]
    },
    {
     "name": "stdout",
     "output_type": "stream",
     "text": [
      "model 670, 1 fitted\n",
      "656 seconds\n"
     ]
    },
    {
     "name": "stderr",
     "output_type": "stream",
     "text": [
      "100%|███████████████████████████████████████████████████████████████████████████████| 670/670 [00:01<00:00, 512.63it/s]\n"
     ]
    },
    {
     "name": "stdout",
     "output_type": "stream",
     "text": [
      "model 670, 1 circuited\n",
      "658 seconds\n",
      "model 670, 1 tested: acc 0.7402597402597403, log-lik -29.685180158426288\n",
      "658 seconds\n"
     ]
    },
    {
     "name": "stderr",
     "output_type": "stream",
     "text": [
      " 10%|███████▋                                                                        | 64/670 [00:00<00:00, 638.33it/s]"
     ]
    },
    {
     "name": "stdout",
     "output_type": "stream",
     "text": [
      "model 670, 2 fitted\n",
      "659 seconds\n"
     ]
    },
    {
     "name": "stderr",
     "output_type": "stream",
     "text": [
      "100%|███████████████████████████████████████████████████████████████████████████████| 670/670 [00:01<00:00, 549.01it/s]\n"
     ]
    },
    {
     "name": "stdout",
     "output_type": "stream",
     "text": [
      "model 670, 2 circuited\n",
      "660 seconds\n",
      "model 670, 2 tested: acc 0.7402597402597403, log-lik -29.71094141802762\n",
      "661 seconds\n"
     ]
    },
    {
     "name": "stderr",
     "output_type": "stream",
     "text": [
      "  9%|███████▏                                                                        | 61/675 [00:00<00:01, 605.52it/s]"
     ]
    },
    {
     "name": "stdout",
     "output_type": "stream",
     "text": [
      "670 finished, 661 seconds\n",
      "Performance: [-29.76387957913799, -29.685180158426288, -29.71094141802762]\n",
      "model 675, 0 fitted\n",
      "661 seconds\n"
     ]
    },
    {
     "name": "stderr",
     "output_type": "stream",
     "text": [
      "100%|███████████████████████████████████████████████████████████████████████████████| 675/675 [00:01<00:00, 510.20it/s]\n"
     ]
    },
    {
     "name": "stdout",
     "output_type": "stream",
     "text": [
      "model 675, 0 circuited\n",
      "663 seconds\n",
      "model 675, 0 tested: acc 0.7402597402597403, log-lik -29.12261612332567\n",
      "663 seconds\n"
     ]
    },
    {
     "name": "stderr",
     "output_type": "stream",
     "text": [
      "  9%|███████▍                                                                        | 63/675 [00:00<00:00, 625.33it/s]"
     ]
    },
    {
     "name": "stdout",
     "output_type": "stream",
     "text": [
      "model 675, 1 fitted\n",
      "664 seconds\n"
     ]
    },
    {
     "name": "stderr",
     "output_type": "stream",
     "text": [
      "100%|███████████████████████████████████████████████████████████████████████████████| 675/675 [00:01<00:00, 538.79it/s]\n"
     ]
    },
    {
     "name": "stdout",
     "output_type": "stream",
     "text": [
      "model 675, 1 circuited\n",
      "665 seconds\n",
      "model 675, 1 tested: acc 0.7402597402597403, log-lik -29.744749121880282\n",
      "666 seconds\n"
     ]
    },
    {
     "name": "stderr",
     "output_type": "stream",
     "text": [
      "  9%|███████▍                                                                        | 63/675 [00:00<00:00, 628.38it/s]"
     ]
    },
    {
     "name": "stdout",
     "output_type": "stream",
     "text": [
      "model 675, 2 fitted\n",
      "666 seconds\n"
     ]
    },
    {
     "name": "stderr",
     "output_type": "stream",
     "text": [
      "100%|███████████████████████████████████████████████████████████████████████████████| 675/675 [00:01<00:00, 506.07it/s]\n"
     ]
    },
    {
     "name": "stdout",
     "output_type": "stream",
     "text": [
      "model 675, 2 circuited\n",
      "668 seconds\n",
      "model 675, 2 tested: acc 0.7359307359307359, log-lik -29.66289693238243\n",
      "668 seconds\n",
      "675 finished, 668 seconds\n",
      "Performance: [-29.12261612332567, -29.744749121880282, -29.66289693238243]\n"
     ]
    },
    {
     "name": "stderr",
     "output_type": "stream",
     "text": [
      " 19%|██████████████▊                                                                | 127/680 [00:00<00:00, 630.59it/s]"
     ]
    },
    {
     "name": "stdout",
     "output_type": "stream",
     "text": [
      "model 680, 0 fitted\n",
      "669 seconds\n"
     ]
    },
    {
     "name": "stderr",
     "output_type": "stream",
     "text": [
      "100%|███████████████████████████████████████████████████████████████████████████████| 680/680 [00:01<00:00, 511.13it/s]\n"
     ]
    },
    {
     "name": "stdout",
     "output_type": "stream",
     "text": [
      "model 680, 0 circuited\n",
      "670 seconds\n",
      "model 680, 0 tested: acc 0.7359307359307359, log-lik -29.767815157624412\n",
      "671 seconds\n"
     ]
    },
    {
     "name": "stderr",
     "output_type": "stream",
     "text": [
      " 17%|█████████████▎                                                                 | 115/680 [00:00<00:01, 551.51it/s]"
     ]
    },
    {
     "name": "stdout",
     "output_type": "stream",
     "text": [
      "model 680, 1 fitted\n",
      "672 seconds\n"
     ]
    },
    {
     "name": "stderr",
     "output_type": "stream",
     "text": [
      "100%|███████████████████████████████████████████████████████████████████████████████| 680/680 [00:01<00:00, 501.27it/s]\n"
     ]
    },
    {
     "name": "stdout",
     "output_type": "stream",
     "text": [
      "model 680, 1 circuited\n",
      "673 seconds\n",
      "model 680, 1 tested: acc 0.7662337662337663, log-lik -29.71973775105456\n",
      "673 seconds\n"
     ]
    },
    {
     "name": "stderr",
     "output_type": "stream",
     "text": [
      "  9%|██████▉                                                                         | 59/680 [00:00<00:01, 585.72it/s]"
     ]
    },
    {
     "name": "stdout",
     "output_type": "stream",
     "text": [
      "model 680, 2 fitted\n",
      "674 seconds\n"
     ]
    },
    {
     "name": "stderr",
     "output_type": "stream",
     "text": [
      "100%|███████████████████████████████████████████████████████████████████████████████| 680/680 [00:01<00:00, 458.01it/s]\n"
     ]
    },
    {
     "name": "stdout",
     "output_type": "stream",
     "text": [
      "model 680, 2 circuited\n",
      "676 seconds\n",
      "model 680, 2 tested: acc 0.7575757575757576, log-lik -29.72322795203178\n",
      "676 seconds\n"
     ]
    },
    {
     "name": "stderr",
     "output_type": "stream",
     "text": [
      "  8%|██████▏                                                                         | 53/685 [00:00<00:01, 520.92it/s]"
     ]
    },
    {
     "name": "stdout",
     "output_type": "stream",
     "text": [
      "680 finished, 677 seconds\n",
      "Performance: [-29.767815157624412, -29.71973775105456, -29.72322795203178]\n",
      "model 685, 0 fitted\n",
      "677 seconds\n"
     ]
    },
    {
     "name": "stderr",
     "output_type": "stream",
     "text": [
      "100%|███████████████████████████████████████████████████████████████████████████████| 685/685 [00:01<00:00, 467.79it/s]\n"
     ]
    },
    {
     "name": "stdout",
     "output_type": "stream",
     "text": [
      "model 685, 0 circuited\n",
      "679 seconds\n",
      "model 685, 0 tested: acc 0.7402597402597403, log-lik -29.75276236707533\n",
      "679 seconds\n"
     ]
    },
    {
     "name": "stderr",
     "output_type": "stream",
     "text": [
      " 17%|█████████████▏                                                                 | 114/685 [00:00<00:01, 551.78it/s]"
     ]
    },
    {
     "name": "stdout",
     "output_type": "stream",
     "text": [
      "model 685, 1 fitted\n",
      "680 seconds\n"
     ]
    },
    {
     "name": "stderr",
     "output_type": "stream",
     "text": [
      "100%|███████████████████████████████████████████████████████████████████████████████| 685/685 [00:01<00:00, 492.93it/s]\n"
     ]
    },
    {
     "name": "stdout",
     "output_type": "stream",
     "text": [
      "model 685, 1 circuited\n",
      "682 seconds\n",
      "model 685, 1 tested: acc 0.7445887445887446, log-lik -29.3080690992397\n",
      "682 seconds\n"
     ]
    },
    {
     "name": "stderr",
     "output_type": "stream",
     "text": [
      " 17%|█████████████▎                                                                 | 115/685 [00:00<00:00, 578.36it/s]"
     ]
    },
    {
     "name": "stdout",
     "output_type": "stream",
     "text": [
      "model 685, 2 fitted\n",
      "683 seconds\n"
     ]
    },
    {
     "name": "stderr",
     "output_type": "stream",
     "text": [
      "100%|███████████████████████████████████████████████████████████████████████████████| 685/685 [00:01<00:00, 490.93it/s]\n"
     ]
    },
    {
     "name": "stdout",
     "output_type": "stream",
     "text": [
      "model 685, 2 circuited\n",
      "684 seconds\n",
      "model 685, 2 tested: acc 0.7445887445887446, log-lik -29.76236830348211\n",
      "685 seconds\n",
      "685 finished, 685 seconds\n",
      "Performance: [-29.75276236707533, -29.3080690992397, -29.76236830348211]\n"
     ]
    },
    {
     "name": "stderr",
     "output_type": "stream",
     "text": [
      " 18%|██████████████▍                                                                | 126/690 [00:00<00:00, 611.20it/s]"
     ]
    },
    {
     "name": "stdout",
     "output_type": "stream",
     "text": [
      "model 690, 0 fitted\n",
      "685 seconds\n"
     ]
    },
    {
     "name": "stderr",
     "output_type": "stream",
     "text": [
      "100%|███████████████████████████████████████████████████████████████████████████████| 690/690 [00:01<00:00, 524.63it/s]\n"
     ]
    },
    {
     "name": "stdout",
     "output_type": "stream",
     "text": [
      "model 690, 0 circuited\n",
      "687 seconds\n",
      "model 690, 0 tested: acc 0.748917748917749, log-lik -29.73883146402732\n",
      "687 seconds\n"
     ]
    },
    {
     "name": "stderr",
     "output_type": "stream",
     "text": [
      " 18%|██████████████▍                                                                | 126/690 [00:00<00:00, 625.93it/s]"
     ]
    },
    {
     "name": "stdout",
     "output_type": "stream",
     "text": [
      "model 690, 1 fitted\n",
      "688 seconds\n"
     ]
    },
    {
     "name": "stderr",
     "output_type": "stream",
     "text": [
      "100%|███████████████████████████████████████████████████████████████████████████████| 690/690 [00:01<00:00, 522.94it/s]\n"
     ]
    },
    {
     "name": "stdout",
     "output_type": "stream",
     "text": [
      "model 690, 1 circuited\n",
      "689 seconds\n",
      "model 690, 1 tested: acc 0.7402597402597403, log-lik -29.77161877653673\n",
      "690 seconds\n"
     ]
    },
    {
     "name": "stderr",
     "output_type": "stream",
     "text": [
      "  9%|███████                                                                         | 61/690 [00:00<00:01, 608.30it/s]"
     ]
    },
    {
     "name": "stdout",
     "output_type": "stream",
     "text": [
      "model 690, 2 fitted\n",
      "690 seconds\n"
     ]
    },
    {
     "name": "stderr",
     "output_type": "stream",
     "text": [
      "100%|███████████████████████████████████████████████████████████████████████████████| 690/690 [00:01<00:00, 503.65it/s]\n"
     ]
    },
    {
     "name": "stdout",
     "output_type": "stream",
     "text": [
      "model 690, 2 circuited\n",
      "692 seconds\n",
      "model 690, 2 tested: acc 0.7402597402597403, log-lik -29.7249508581554\n",
      "692 seconds\n",
      "690 finished, 693 seconds\n",
      "Performance: [-29.73883146402732, -29.77161877653673, -29.7249508581554]\n"
     ]
    },
    {
     "name": "stderr",
     "output_type": "stream",
     "text": [
      " 11%|████████▌                                                                       | 74/695 [00:00<00:00, 738.13it/s]"
     ]
    },
    {
     "name": "stdout",
     "output_type": "stream",
     "text": [
      "model 695, 0 fitted\n",
      "693 seconds\n"
     ]
    },
    {
     "name": "stderr",
     "output_type": "stream",
     "text": [
      "100%|███████████████████████████████████████████████████████████████████████████████| 695/695 [00:01<00:00, 673.89it/s]\n"
     ]
    },
    {
     "name": "stdout",
     "output_type": "stream",
     "text": [
      "model 695, 0 circuited\n",
      "696 seconds\n",
      "model 695, 0 tested: acc 0.7359307359307359, log-lik -29.102259527837408\n",
      "697 seconds\n"
     ]
    },
    {
     "name": "stderr",
     "output_type": "stream",
     "text": [
      " 12%|█████████▌                                                                      | 83/695 [00:00<00:00, 823.98it/s]"
     ]
    },
    {
     "name": "stdout",
     "output_type": "stream",
     "text": [
      "model 695, 1 fitted\n",
      "697 seconds\n"
     ]
    },
    {
     "name": "stderr",
     "output_type": "stream",
     "text": [
      "100%|███████████████████████████████████████████████████████████████████████████████| 695/695 [00:01<00:00, 632.84it/s]\n"
     ]
    },
    {
     "name": "stdout",
     "output_type": "stream",
     "text": [
      "model 695, 1 circuited\n",
      "699 seconds\n",
      "model 695, 1 tested: acc 0.7445887445887446, log-lik -29.73698713663693\n",
      "699 seconds\n"
     ]
    },
    {
     "name": "stderr",
     "output_type": "stream",
     "text": [
      "  9%|███████▍                                                                        | 65/695 [00:00<00:01, 626.45it/s]"
     ]
    },
    {
     "name": "stdout",
     "output_type": "stream",
     "text": [
      "model 695, 2 fitted\n",
      "700 seconds\n"
     ]
    },
    {
     "name": "stderr",
     "output_type": "stream",
     "text": [
      "100%|███████████████████████████████████████████████████████████████████████████████| 695/695 [00:01<00:00, 588.02it/s]\n"
     ]
    },
    {
     "name": "stdout",
     "output_type": "stream",
     "text": [
      "model 695, 2 circuited\n",
      "701 seconds\n",
      "model 695, 2 tested: acc 0.7445887445887446, log-lik -29.72845789200537\n",
      "702 seconds\n"
     ]
    },
    {
     "name": "stderr",
     "output_type": "stream",
     "text": [
      " 10%|████████▏                                                                       | 72/700 [00:00<00:00, 718.16it/s]"
     ]
    },
    {
     "name": "stdout",
     "output_type": "stream",
     "text": [
      "695 finished, 702 seconds\n",
      "Performance: [-29.102259527837408, -29.73698713663693, -29.72845789200537]\n",
      "model 700, 0 fitted\n",
      "702 seconds\n"
     ]
    },
    {
     "name": "stderr",
     "output_type": "stream",
     "text": [
      "100%|███████████████████████████████████████████████████████████████████████████████| 700/700 [00:01<00:00, 584.84it/s]\n"
     ]
    },
    {
     "name": "stdout",
     "output_type": "stream",
     "text": [
      "model 700, 0 circuited\n",
      "704 seconds\n",
      "model 700, 0 tested: acc 0.7359307359307359, log-lik -29.75337615163951\n",
      "704 seconds\n"
     ]
    },
    {
     "name": "stderr",
     "output_type": "stream",
     "text": [
      "  9%|███████▏                                                                        | 63/700 [00:00<00:01, 619.44it/s]"
     ]
    },
    {
     "name": "stdout",
     "output_type": "stream",
     "text": [
      "model 700, 1 fitted\n",
      "705 seconds\n"
     ]
    },
    {
     "name": "stderr",
     "output_type": "stream",
     "text": [
      "100%|███████████████████████████████████████████████████████████████████████████████| 700/700 [00:01<00:00, 557.88it/s]\n"
     ]
    },
    {
     "name": "stdout",
     "output_type": "stream",
     "text": [
      "model 700, 1 circuited\n",
      "706 seconds\n",
      "model 700, 1 tested: acc 0.7402597402597403, log-lik -29.752528326128765\n",
      "707 seconds\n"
     ]
    },
    {
     "name": "stderr",
     "output_type": "stream",
     "text": [
      "  9%|███████▎                                                                        | 64/700 [00:00<00:00, 638.23it/s]"
     ]
    },
    {
     "name": "stdout",
     "output_type": "stream",
     "text": [
      "model 700, 2 fitted\n",
      "708 seconds\n"
     ]
    },
    {
     "name": "stderr",
     "output_type": "stream",
     "text": [
      "100%|███████████████████████████████████████████████████████████████████████████████| 700/700 [00:01<00:00, 389.99it/s]\n"
     ]
    },
    {
     "name": "stdout",
     "output_type": "stream",
     "text": [
      "model 700, 2 circuited\n",
      "710 seconds\n",
      "model 700, 2 tested: acc 0.7359307359307359, log-lik -29.47844039056961\n",
      "710 seconds\n",
      "700 finished, 711 seconds\n",
      "Performance: [-29.75337615163951, -29.752528326128765, -29.47844039056961]\n"
     ]
    }
   ],
   "source": [
    "performance, accuracy = hyperparameter_range_test(data, ncat, values, depth)"
   ]
  },
  {
   "cell_type": "code",
   "execution_count": 41,
   "id": "flush-brooklyn",
   "metadata": {},
   "outputs": [],
   "source": [
    "# performance_df = pd.DataFrame([values, performance]).transpose()\n",
    "# performance_df.columns = [\"parameter value\", \"performance (log-likelihood)\"]\n",
    "# performance_df.set_index(\"parameter value\", inplace = True)\n",
    "# performance_df.plot()\n",
    "# #very fuzzy results. Idea: run test multiple times with different random divisions."
   ]
  },
  {
   "cell_type": "code",
   "execution_count": 5,
   "id": "nutritional-words",
   "metadata": {},
   "outputs": [
    {
     "ename": "NameError",
     "evalue": "name 'performance' is not defined",
     "output_type": "error",
     "traceback": [
      "\u001b[1;31m---------------------------------------------------------------------------\u001b[0m",
      "\u001b[1;31mNameError\u001b[0m                                 Traceback (most recent call last)",
      "\u001b[1;32m<ipython-input-5-b3b53daa6f46>\u001b[0m in \u001b[0;36m<module>\u001b[1;34m\u001b[0m\n\u001b[1;32m----> 1\u001b[1;33m \u001b[0mperformance_df\u001b[0m \u001b[1;33m=\u001b[0m \u001b[0mpd\u001b[0m\u001b[1;33m.\u001b[0m\u001b[0mDataFrame\u001b[0m\u001b[1;33m(\u001b[0m\u001b[0mperformance\u001b[0m\u001b[1;33m,\u001b[0m \u001b[0mindex\u001b[0m \u001b[1;33m=\u001b[0m \u001b[0mvalues\u001b[0m\u001b[1;33m,\u001b[0m \u001b[0mcolumns\u001b[0m \u001b[1;33m=\u001b[0m \u001b[1;33m[\u001b[0m\u001b[1;34m\"ll1\"\u001b[0m\u001b[1;33m,\u001b[0m \u001b[1;34m\"ll2\"\u001b[0m\u001b[1;33m,\u001b[0m \u001b[1;34m\"ll3\"\u001b[0m\u001b[1;33m]\u001b[0m\u001b[1;33m)\u001b[0m\u001b[1;33m\u001b[0m\u001b[1;33m\u001b[0m\u001b[0m\n\u001b[0m\u001b[0;32m      2\u001b[0m \u001b[0mperformance_df\u001b[0m\u001b[1;33m[\u001b[0m\u001b[1;34m'llmean'\u001b[0m\u001b[1;33m]\u001b[0m \u001b[1;33m=\u001b[0m \u001b[1;33m[\u001b[0m\u001b[0msum\u001b[0m\u001b[1;33m(\u001b[0m\u001b[0mi\u001b[0m\u001b[1;33m)\u001b[0m\u001b[1;33m/\u001b[0m\u001b[0mlen\u001b[0m\u001b[1;33m(\u001b[0m\u001b[0mi\u001b[0m\u001b[1;33m)\u001b[0m \u001b[1;32mfor\u001b[0m \u001b[0mi\u001b[0m \u001b[1;32min\u001b[0m \u001b[0mperformance\u001b[0m\u001b[1;33m]\u001b[0m\u001b[1;33m\u001b[0m\u001b[1;33m\u001b[0m\u001b[0m\n\u001b[0;32m      3\u001b[0m \u001b[0mperformance_df\u001b[0m\u001b[1;33m[\u001b[0m\u001b[1;34m'values'\u001b[0m\u001b[1;33m]\u001b[0m \u001b[1;33m=\u001b[0m \u001b[0mvalues\u001b[0m\u001b[1;33m\u001b[0m\u001b[1;33m\u001b[0m\u001b[0m\n\u001b[0;32m      4\u001b[0m \u001b[1;33m\u001b[0m\u001b[0m\n\u001b[0;32m      5\u001b[0m \u001b[1;33m\u001b[0m\u001b[0m\n",
      "\u001b[1;31mNameError\u001b[0m: name 'performance' is not defined"
     ]
    }
   ],
   "source": [
    "performance_df = pd.DataFrame(performance, index = values, columns = [\"ll1\", \"ll2\", \"ll3\"])\n",
    "performance_df['llmean'] = [sum(i)/len(i) for i in performance]\n",
    "performance_df['values'] = values\n",
    "\n",
    "\n",
    "acc_df = pd.DataFrame(accuracy, index = values, columns = [\"ac1\", \"ac2\", \"ac3\"])\n",
    "acc_df['acmean'] = [sum(i)/len(i) for i in accuracy]\n",
    "acc_df['values'] = values\n",
    "\n",
    "\n",
    "tested = \"number of trees\"\n",
    "fig, ax = plt.subplots(ncols = 2, figsize = (15, 7))\n",
    "performance_df.plot(kind = 'scatter', x = \"values\", y = 0, ax = ax[0])\n",
    "performance_df.plot(kind = 'scatter', x = \"values\", y = 1, ax = ax[0])\n",
    "performance_df.plot(kind = 'scatter', x = \"values\", y = 2, ax = ax[0])\n",
    "performance_df.plot(kind = 'scatter', x = \"values\", y = \"llmean\", color = \"orange\", title = f\"{name}, one train set, depth {depth}\", xlabel = tested, ax = ax[0])\n",
    "ax[0].legend([\"0\", \"1\", \"2\", \"mean\"])\n",
    "acc_df.plot(kind = 'scatter', x = \"values\", y = 0, ax = ax[1])\n",
    "acc_df.plot(kind = 'scatter', x = \"values\", y = 1, ax = ax[1])\n",
    "acc_df.plot(kind = 'scatter', x = \"values\", y = 2, ax = ax[1])\n",
    "acc_df.plot(kind = 'scatter', x = \"values\", y = \"acmean\", color = \"orange\", title = f\"{name}, one train set, depth {depth}\", xlabel = tested, ax = ax[1])\n",
    "ax[1].legend([\"0\", \"1\", \"2\", \"mean\"])\n",
    "#ax.set_xlim(0,200)\n",
    "#ax.set_ylim(-60.5, -62.5)\n",
    "cur_moment = str(datetime.datetime.today())[0:19].replace(\":\", \"_\")\n",
    "name = f\"{cur_moment}_depth_{depth}_{file_name[0:-4]}\"\n",
    "plt.savefig(f\"../graphs/{name}.png\")\n"
   ]
  },
  {
   "cell_type": "code",
   "execution_count": 43,
   "id": "dramatic-gasoline",
   "metadata": {},
   "outputs": [],
   "source": [
    "new_df = acc_df.join(performance_df[performance_df.columns[:-1]])"
   ]
  },
  {
   "cell_type": "code",
   "execution_count": 44,
   "id": "ignored-underwear",
   "metadata": {},
   "outputs": [],
   "source": [
    "new_df.to_csv(f\"{name}.csv\")"
   ]
  },
  {
   "cell_type": "code",
   "execution_count": null,
   "id": "adjustable-spider",
   "metadata": {},
   "outputs": [],
   "source": [
    "#next thing:\n",
    "#also make accuracy\n",
    "#compare accuracy vs. log-likelyhood to see differences\n",
    "#save into csv for later analysis\n",
    "\n",
    "#grid search over nr. trees and max depth\n",
    "#visualize with mean and variance heat maps"
   ]
  },
  {
   "cell_type": "code",
   "execution_count": 11,
   "id": "solved-depth",
   "metadata": {},
   "outputs": [],
   "source": [
    "def full_test(file_name):\n",
    "    \"\"\"\n",
    "    Does a full test as per the code above for depths 1 to 10\n",
    "    for file named 'name'\n",
    "    \"\"\"\n",
    "    data, ncat = get_data(file_name, \"data/\")\n",
    "    #possible hyperparameter nr trees values\n",
    "    values = [5*i for i in range(1,11)] #41 default\n",
    "    start = time.time()\n",
    "    \n",
    "    for depth in range(6,11):\n",
    "        print(depth, \"start\")\n",
    "        performance, accuracy = hyperparameter_range_test(data, ncat, values, depth)\n",
    "        performance_df = pd.DataFrame(performance, index = values, columns = [\"ll1\", \"ll2\", \"ll3\"])\n",
    "        performance_df['llmean'] = [sum(i)/len(i) for i in performance]\n",
    "        performance_df['values'] = values\n",
    "\n",
    "\n",
    "        acc_df = pd.DataFrame(accuracy, index = values, columns = [\"ac1\", \"ac2\", \"ac3\"])\n",
    "        acc_df['acmean'] = [sum(i)/len(i) for i in accuracy]\n",
    "        acc_df['values'] = values\n",
    "\n",
    "\n",
    "        tested = \"number of trees\"\n",
    "        fig, ax = plt.subplots(ncols = 2, figsize = (15, 7))\n",
    "        performance_df.plot(kind = 'scatter', x = \"values\", y = 0, ax = ax[0])\n",
    "        performance_df.plot(kind = 'scatter', x = \"values\", y = 1, ax = ax[0])\n",
    "        performance_df.plot(kind = 'scatter', x = \"values\", y = 2, ax = ax[0])\n",
    "        performance_df.plot(kind = 'scatter', x = \"values\", y = \"llmean\", color = \"orange\", title = f\"{file_name}, one train set, depth {depth}\", xlabel = tested, ax = ax[0])\n",
    "        ax[0].legend([\"0\", \"1\", \"2\", \"mean\"])\n",
    "        acc_df.plot(kind = 'scatter', x = \"values\", y = 0, ax = ax[1])\n",
    "        acc_df.plot(kind = 'scatter', x = \"values\", y = 1, ax = ax[1])\n",
    "        acc_df.plot(kind = 'scatter', x = \"values\", y = 2, ax = ax[1])\n",
    "        acc_df.plot(kind = 'scatter', x = \"values\", y = \"acmean\", color = \"orange\", title = f\"{file_name}, one train set, depth {depth}\", xlabel = tested, ax = ax[1])\n",
    "        ax[1].legend([\"0\", \"1\", \"2\", \"mean\"])\n",
    "        #ax.set_xlim(0,200)\n",
    "        #ax.set_ylim(-60.5, -62.5)\n",
    "        cur_moment = str(datetime.datetime.today())[0:19].replace(\":\", \"_\")\n",
    "        name = f\"{cur_moment}_depth_{depth}_{file_name[0:-4]}\"\n",
    "        plt.savefig(f\"../graphs/{name}.png\")\n",
    "        plt.close()\n",
    "        \n",
    "        new_df = acc_df.join(performance_df[performance_df.columns[:-1]])\n",
    "        new_df.to_csv(f\"{name}.csv\")\n",
    "        \n",
    "        end_string = f\"/n/ndepth {depth} end: {int(time.time()-start)} seconds /n/n/n\"\n",
    "        print(end_string)"
   ]
  },
  {
   "cell_type": "code",
   "execution_count": 12,
   "id": "seventh-lyric",
   "metadata": {},
   "outputs": [
    {
     "name": "stdout",
     "output_type": "stream",
     "text": [
      "6 start\n",
      "data split\n"
     ]
    },
    {
     "name": "stderr",
     "output_type": "stream",
     "text": [
      "\r",
      "  0%|                                                                                            | 0/5 [00:00<?, ?it/s]"
     ]
    },
    {
     "name": "stdout",
     "output_type": "stream",
     "text": [
      "model 5, 0 fitted\n",
      "1 seconds\n"
     ]
    },
    {
     "name": "stderr",
     "output_type": "stream",
     "text": [
      "100%|████████████████████████████████████████████████████████████████████████████████████| 5/5 [00:06<00:00,  1.22s/it]\n"
     ]
    },
    {
     "name": "stdout",
     "output_type": "stream",
     "text": [
      "model 5, 0 circuited\n",
      "7 seconds\n",
      "model 5, 0 tested: acc 0.8640167364016736, log-lik -98.33882351456441\n",
      "15 seconds\n"
     ]
    },
    {
     "name": "stderr",
     "output_type": "stream",
     "text": [
      "\r",
      "  0%|                                                                                            | 0/5 [00:00<?, ?it/s]"
     ]
    },
    {
     "name": "stdout",
     "output_type": "stream",
     "text": [
      "model 5, 1 fitted\n",
      "16 seconds\n"
     ]
    },
    {
     "name": "stderr",
     "output_type": "stream",
     "text": [
      "100%|████████████████████████████████████████████████████████████████████████████████████| 5/5 [00:08<00:00,  1.70s/it]\n"
     ]
    },
    {
     "name": "stdout",
     "output_type": "stream",
     "text": [
      "model 5, 1 circuited\n",
      "25 seconds\n",
      "model 5, 1 tested: acc 0.8797071129707112, log-lik -98.48277062130977\n",
      "40 seconds\n"
     ]
    },
    {
     "name": "stderr",
     "output_type": "stream",
     "text": [
      "\r",
      "  0%|                                                                                            | 0/5 [00:00<?, ?it/s]"
     ]
    },
    {
     "name": "stdout",
     "output_type": "stream",
     "text": [
      "model 5, 2 fitted\n",
      "40 seconds\n"
     ]
    },
    {
     "name": "stderr",
     "output_type": "stream",
     "text": [
      "100%|████████████████████████████████████████████████████████████████████████████████████| 5/5 [00:04<00:00,  1.01it/s]\n"
     ]
    },
    {
     "name": "stdout",
     "output_type": "stream",
     "text": [
      "model 5, 2 circuited\n",
      "45 seconds\n",
      "model 5, 2 tested: acc 0.8891213389121339, log-lik -98.5466250457124\n",
      "52 seconds\n",
      "5 finished, 52 seconds\n",
      "Performance: [-98.33882351456441, -98.48277062130977, -98.5466250457124]\n"
     ]
    },
    {
     "name": "stderr",
     "output_type": "stream",
     "text": [
      "\r",
      "  0%|                                                                                           | 0/10 [00:00<?, ?it/s]"
     ]
    },
    {
     "name": "stdout",
     "output_type": "stream",
     "text": [
      "model 10, 0 fitted\n",
      "54 seconds\n"
     ]
    },
    {
     "name": "stderr",
     "output_type": "stream",
     "text": [
      "100%|██████████████████████████████████████████████████████████████████████████████████| 10/10 [00:12<00:00,  1.23s/it]\n"
     ]
    },
    {
     "name": "stdout",
     "output_type": "stream",
     "text": [
      "model 10, 0 circuited\n",
      "66 seconds\n",
      "model 10, 0 tested: acc 0.8838912133891214, log-lik -97.89234855716079\n",
      "86 seconds\n"
     ]
    },
    {
     "name": "stderr",
     "output_type": "stream",
     "text": [
      "\r",
      "  0%|                                                                                           | 0/10 [00:00<?, ?it/s]"
     ]
    },
    {
     "name": "stdout",
     "output_type": "stream",
     "text": [
      "model 10, 1 fitted\n",
      "92 seconds\n"
     ]
    },
    {
     "name": "stderr",
     "output_type": "stream",
     "text": [
      "100%|██████████████████████████████████████████████████████████████████████████████████| 10/10 [00:17<00:00,  1.74s/it]\n"
     ]
    },
    {
     "name": "stdout",
     "output_type": "stream",
     "text": [
      "model 10, 1 circuited\n",
      "109 seconds\n",
      "model 10, 1 tested: acc 0.8702928870292888, log-lik -97.85499371293776\n",
      "123 seconds\n"
     ]
    },
    {
     "name": "stderr",
     "output_type": "stream",
     "text": [
      "\r",
      "  0%|                                                                                           | 0/10 [00:00<?, ?it/s]"
     ]
    },
    {
     "name": "stdout",
     "output_type": "stream",
     "text": [
      "model 10, 2 fitted\n",
      "125 seconds\n"
     ]
    },
    {
     "name": "stderr",
     "output_type": "stream",
     "text": [
      "100%|██████████████████████████████████████████████████████████████████████████████████| 10/10 [00:09<00:00,  1.07it/s]\n"
     ]
    },
    {
     "name": "stdout",
     "output_type": "stream",
     "text": [
      "model 10, 2 circuited\n",
      "134 seconds\n",
      "model 10, 2 tested: acc 0.8650627615062761, log-lik -98.05541741530453\n",
      "148 seconds\n",
      "10 finished, 149 seconds\n",
      "Performance: [-97.89234855716079, -97.85499371293776, -98.05541741530453]\n"
     ]
    },
    {
     "name": "stderr",
     "output_type": "stream",
     "text": [
      "\r",
      "  0%|                                                                                           | 0/15 [00:00<?, ?it/s]"
     ]
    },
    {
     "name": "stdout",
     "output_type": "stream",
     "text": [
      "model 15, 0 fitted\n",
      "151 seconds\n"
     ]
    },
    {
     "name": "stderr",
     "output_type": "stream",
     "text": [
      "100%|██████████████████████████████████████████████████████████████████████████████████| 15/15 [00:17<00:00,  1.14s/it]\n"
     ]
    },
    {
     "name": "stdout",
     "output_type": "stream",
     "text": [
      "model 15, 0 circuited\n",
      "168 seconds\n",
      "model 15, 0 tested: acc 0.9006276150627615, log-lik -97.6578616425855\n",
      "191 seconds\n"
     ]
    },
    {
     "name": "stderr",
     "output_type": "stream",
     "text": [
      "\r",
      "  0%|                                                                                           | 0/15 [00:00<?, ?it/s]"
     ]
    },
    {
     "name": "stdout",
     "output_type": "stream",
     "text": [
      "model 15, 1 fitted\n",
      "194 seconds\n"
     ]
    },
    {
     "name": "stderr",
     "output_type": "stream",
     "text": [
      "100%|██████████████████████████████████████████████████████████████████████████████████| 15/15 [00:12<00:00,  1.21it/s]\n"
     ]
    },
    {
     "name": "stdout",
     "output_type": "stream",
     "text": [
      "model 15, 1 circuited\n",
      "207 seconds\n",
      "model 15, 1 tested: acc 0.8849372384937239, log-lik -97.31495596771907\n",
      "230 seconds\n"
     ]
    },
    {
     "name": "stderr",
     "output_type": "stream",
     "text": [
      "\r",
      "  0%|                                                                                           | 0/15 [00:00<?, ?it/s]"
     ]
    },
    {
     "name": "stdout",
     "output_type": "stream",
     "text": [
      "model 15, 2 fitted\n",
      "233 seconds\n"
     ]
    },
    {
     "name": "stderr",
     "output_type": "stream",
     "text": [
      "100%|██████████████████████████████████████████████████████████████████████████████████| 15/15 [00:14<00:00,  1.02it/s]\n"
     ]
    },
    {
     "name": "stdout",
     "output_type": "stream",
     "text": [
      "model 15, 2 circuited\n",
      "247 seconds\n",
      "model 15, 2 tested: acc 0.8786610878661087, log-lik -97.58070166255746\n",
      "271 seconds\n",
      "15 finished, 272 seconds\n",
      "Performance: [-97.6578616425855, -97.31495596771907, -97.58070166255746]\n"
     ]
    },
    {
     "name": "stderr",
     "output_type": "stream",
     "text": [
      "\r",
      "  0%|                                                                                           | 0/20 [00:00<?, ?it/s]"
     ]
    },
    {
     "name": "stdout",
     "output_type": "stream",
     "text": [
      "model 20, 0 fitted\n",
      "274 seconds\n"
     ]
    },
    {
     "name": "stderr",
     "output_type": "stream",
     "text": [
      "100%|██████████████████████████████████████████████████████████████████████████████████| 20/20 [00:20<00:00,  1.01s/it]\n"
     ]
    },
    {
     "name": "stdout",
     "output_type": "stream",
     "text": [
      "model 20, 0 circuited\n",
      "294 seconds\n",
      "model 20, 0 tested: acc 0.9058577405857741, log-lik -97.06962818072947\n",
      "327 seconds\n"
     ]
    },
    {
     "name": "stderr",
     "output_type": "stream",
     "text": [
      "\r",
      "  0%|                                                                                           | 0/20 [00:00<?, ?it/s]"
     ]
    },
    {
     "name": "stdout",
     "output_type": "stream",
     "text": [
      "model 20, 1 fitted\n",
      "330 seconds\n"
     ]
    },
    {
     "name": "stderr",
     "output_type": "stream",
     "text": [
      "100%|██████████████████████████████████████████████████████████████████████████████████| 20/20 [00:18<00:00,  1.10it/s]\n"
     ]
    },
    {
     "name": "stdout",
     "output_type": "stream",
     "text": [
      "model 20, 1 circuited\n",
      "348 seconds\n",
      "model 20, 1 tested: acc 0.8828451882845189, log-lik -97.10421654188346\n",
      "373 seconds\n"
     ]
    },
    {
     "name": "stderr",
     "output_type": "stream",
     "text": [
      "\r",
      "  0%|                                                                                           | 0/20 [00:00<?, ?it/s]"
     ]
    },
    {
     "name": "stdout",
     "output_type": "stream",
     "text": [
      "model 20, 2 fitted\n",
      "376 seconds\n"
     ]
    },
    {
     "name": "stderr",
     "output_type": "stream",
     "text": [
      "100%|██████████████████████████████████████████████████████████████████████████████████| 20/20 [00:15<00:00,  1.32it/s]\n"
     ]
    },
    {
     "name": "stdout",
     "output_type": "stream",
     "text": [
      "model 20, 2 circuited\n",
      "391 seconds\n",
      "model 20, 2 tested: acc 0.8880753138075314, log-lik -97.36675938872236\n",
      "418 seconds\n",
      "20 finished, 419 seconds\n",
      "Performance: [-97.06962818072947, -97.10421654188346, -97.36675938872236]\n"
     ]
    },
    {
     "name": "stderr",
     "output_type": "stream",
     "text": [
      "\r",
      "  0%|                                                                                           | 0/25 [00:00<?, ?it/s]"
     ]
    },
    {
     "name": "stdout",
     "output_type": "stream",
     "text": [
      "model 25, 0 fitted\n",
      "421 seconds\n"
     ]
    },
    {
     "name": "stderr",
     "output_type": "stream",
     "text": [
      "100%|██████████████████████████████████████████████████████████████████████████████████| 25/25 [00:18<00:00,  1.33it/s]\n"
     ]
    },
    {
     "name": "stdout",
     "output_type": "stream",
     "text": [
      "model 25, 0 circuited\n",
      "440 seconds\n",
      "model 25, 0 tested: acc 0.8859832635983264, log-lik -96.92590312267268\n",
      "470 seconds\n"
     ]
    },
    {
     "name": "stderr",
     "output_type": "stream",
     "text": [
      "\r",
      "  0%|                                                                                           | 0/25 [00:00<?, ?it/s]"
     ]
    },
    {
     "name": "stdout",
     "output_type": "stream",
     "text": [
      "model 25, 1 fitted\n",
      "473 seconds\n"
     ]
    },
    {
     "name": "stderr",
     "output_type": "stream",
     "text": [
      "100%|██████████████████████████████████████████████████████████████████████████████████| 25/25 [00:17<00:00,  1.45it/s]\n"
     ]
    },
    {
     "name": "stdout",
     "output_type": "stream",
     "text": [
      "model 25, 1 circuited\n",
      "490 seconds\n",
      "model 25, 1 tested: acc 0.8901673640167365, log-lik -97.06064143468097\n",
      "521 seconds\n"
     ]
    },
    {
     "name": "stderr",
     "output_type": "stream",
     "text": [
      "\r",
      "  0%|                                                                                           | 0/25 [00:00<?, ?it/s]"
     ]
    },
    {
     "name": "stdout",
     "output_type": "stream",
     "text": [
      "model 25, 2 fitted\n",
      "524 seconds\n"
     ]
    },
    {
     "name": "stderr",
     "output_type": "stream",
     "text": [
      "100%|██████████████████████████████████████████████████████████████████████████████████| 25/25 [00:16<00:00,  1.54it/s]\n"
     ]
    },
    {
     "name": "stdout",
     "output_type": "stream",
     "text": [
      "model 25, 2 circuited\n",
      "540 seconds\n",
      "model 25, 2 tested: acc 0.8964435146443515, log-lik -96.97978269183251\n",
      "568 seconds\n",
      "25 finished, 569 seconds\n",
      "Performance: [-96.92590312267268, -97.06064143468097, -96.97978269183251]\n"
     ]
    },
    {
     "name": "stderr",
     "output_type": "stream",
     "text": [
      "\r",
      "  0%|                                                                                           | 0/30 [00:00<?, ?it/s]"
     ]
    },
    {
     "name": "stdout",
     "output_type": "stream",
     "text": [
      "model 30, 0 fitted\n",
      "571 seconds\n"
     ]
    },
    {
     "name": "stderr",
     "output_type": "stream",
     "text": [
      "100%|██████████████████████████████████████████████████████████████████████████████████| 30/30 [00:19<00:00,  1.56it/s]\n"
     ]
    },
    {
     "name": "stdout",
     "output_type": "stream",
     "text": [
      "model 30, 0 circuited\n",
      "590 seconds\n",
      "model 30, 0 tested: acc 0.8943514644351465, log-lik -96.48698912996946\n",
      "624 seconds\n"
     ]
    },
    {
     "name": "stderr",
     "output_type": "stream",
     "text": [
      "\r",
      "  0%|                                                                                           | 0/30 [00:00<?, ?it/s]"
     ]
    },
    {
     "name": "stdout",
     "output_type": "stream",
     "text": [
      "model 30, 1 fitted\n",
      "628 seconds\n"
     ]
    },
    {
     "name": "stderr",
     "output_type": "stream",
     "text": [
      "100%|██████████████████████████████████████████████████████████████████████████████████| 30/30 [00:17<00:00,  1.73it/s]\n"
     ]
    },
    {
     "name": "stdout",
     "output_type": "stream",
     "text": [
      "model 30, 1 circuited\n",
      "645 seconds\n",
      "model 30, 1 tested: acc 0.9037656903765691, log-lik -96.5766684505326\n",
      "675 seconds\n"
     ]
    },
    {
     "name": "stderr",
     "output_type": "stream",
     "text": [
      "\r",
      "  0%|                                                                                           | 0/30 [00:00<?, ?it/s]"
     ]
    },
    {
     "name": "stdout",
     "output_type": "stream",
     "text": [
      "model 30, 2 fitted\n",
      "678 seconds\n"
     ]
    },
    {
     "name": "stderr",
     "output_type": "stream",
     "text": [
      "100%|██████████████████████████████████████████████████████████████████████████████████| 30/30 [00:15<00:00,  1.89it/s]\n"
     ]
    },
    {
     "name": "stdout",
     "output_type": "stream",
     "text": [
      "model 30, 2 circuited\n",
      "694 seconds\n",
      "model 30, 2 tested: acc 0.8880753138075314, log-lik -97.00182622729253\n",
      "721 seconds\n",
      "30 finished, 722 seconds\n",
      "Performance: [-96.48698912996946, -96.5766684505326, -97.00182622729253]\n"
     ]
    },
    {
     "name": "stderr",
     "output_type": "stream",
     "text": [
      "\r",
      "  0%|                                                                                           | 0/35 [00:00<?, ?it/s]"
     ]
    },
    {
     "name": "stdout",
     "output_type": "stream",
     "text": [
      "model 35, 0 fitted\n",
      "724 seconds\n"
     ]
    },
    {
     "name": "stderr",
     "output_type": "stream",
     "text": [
      "100%|██████████████████████████████████████████████████████████████████████████████████| 35/35 [00:17<00:00,  1.98it/s]\n"
     ]
    },
    {
     "name": "stdout",
     "output_type": "stream",
     "text": [
      "model 35, 0 circuited\n",
      "742 seconds\n",
      "model 35, 0 tested: acc 0.899581589958159, log-lik -96.51748942087188\n",
      "771 seconds\n"
     ]
    },
    {
     "name": "stderr",
     "output_type": "stream",
     "text": [
      "\r",
      "  0%|                                                                                           | 0/35 [00:00<?, ?it/s]"
     ]
    },
    {
     "name": "stdout",
     "output_type": "stream",
     "text": [
      "model 35, 1 fitted\n",
      "775 seconds\n"
     ]
    },
    {
     "name": "stderr",
     "output_type": "stream",
     "text": [
      "100%|██████████████████████████████████████████████████████████████████████████████████| 35/35 [00:16<00:00,  2.19it/s]\n"
     ]
    },
    {
     "name": "stdout",
     "output_type": "stream",
     "text": [
      "model 35, 1 circuited\n",
      "791 seconds\n",
      "model 35, 1 tested: acc 0.8943514644351465, log-lik -96.57170975166676\n",
      "819 seconds\n"
     ]
    },
    {
     "name": "stderr",
     "output_type": "stream",
     "text": [
      "\r",
      "  0%|                                                                                           | 0/35 [00:00<?, ?it/s]"
     ]
    },
    {
     "name": "stdout",
     "output_type": "stream",
     "text": [
      "model 35, 2 fitted\n",
      "823 seconds\n"
     ]
    },
    {
     "name": "stderr",
     "output_type": "stream",
     "text": [
      "100%|██████████████████████████████████████████████████████████████████████████████████| 35/35 [00:15<00:00,  2.32it/s]\n"
     ]
    },
    {
     "name": "stdout",
     "output_type": "stream",
     "text": [
      "model 35, 2 circuited\n",
      "838 seconds\n",
      "model 35, 2 tested: acc 0.9058577405857741, log-lik -96.6588883605178\n",
      "864 seconds\n",
      "35 finished, 866 seconds\n",
      "Performance: [-96.51748942087188, -96.57170975166676, -96.6588883605178]\n"
     ]
    },
    {
     "name": "stderr",
     "output_type": "stream",
     "text": [
      "\r",
      "  0%|                                                                                           | 0/40 [00:00<?, ?it/s]"
     ]
    },
    {
     "name": "stdout",
     "output_type": "stream",
     "text": [
      "model 40, 0 fitted\n",
      "869 seconds\n"
     ]
    },
    {
     "name": "stderr",
     "output_type": "stream",
     "text": [
      "100%|██████████████████████████████████████████████████████████████████████████████████| 40/40 [00:16<00:00,  2.47it/s]\n"
     ]
    },
    {
     "name": "stdout",
     "output_type": "stream",
     "text": [
      "model 40, 0 circuited\n",
      "885 seconds\n",
      "model 40, 0 tested: acc 0.9058577405857741, log-lik -96.49322083068729\n",
      "912 seconds\n"
     ]
    },
    {
     "name": "stderr",
     "output_type": "stream",
     "text": [
      "\r",
      "  0%|                                                                                           | 0/40 [00:00<?, ?it/s]"
     ]
    },
    {
     "name": "stdout",
     "output_type": "stream",
     "text": [
      "model 40, 1 fitted\n",
      "916 seconds\n"
     ]
    },
    {
     "name": "stderr",
     "output_type": "stream",
     "text": [
      "100%|██████████████████████████████████████████████████████████████████████████████████| 40/40 [00:15<00:00,  2.64it/s]\n"
     ]
    },
    {
     "name": "stdout",
     "output_type": "stream",
     "text": [
      "model 40, 1 circuited\n",
      "931 seconds\n",
      "model 40, 1 tested: acc 0.895397489539749, log-lik -96.67364406992657\n",
      "957 seconds\n"
     ]
    },
    {
     "name": "stderr",
     "output_type": "stream",
     "text": [
      "  2%|██                                                                                 | 1/40 [00:00<00:07,  5.20it/s]"
     ]
    },
    {
     "name": "stdout",
     "output_type": "stream",
     "text": [
      "model 40, 2 fitted\n",
      "962 seconds\n"
     ]
    },
    {
     "name": "stderr",
     "output_type": "stream",
     "text": [
      "100%|██████████████████████████████████████████████████████████████████████████████████| 40/40 [00:14<00:00,  2.82it/s]\n"
     ]
    },
    {
     "name": "stdout",
     "output_type": "stream",
     "text": [
      "model 40, 2 circuited\n",
      "976 seconds\n",
      "model 40, 2 tested: acc 0.897489539748954, log-lik -96.51841009655328\n",
      "1001 seconds\n",
      "40 finished, 1002 seconds\n",
      "Performance: [-96.49322083068729, -96.67364406992657, -96.51841009655328]\n"
     ]
    },
    {
     "name": "stderr",
     "output_type": "stream",
     "text": [
      "\r",
      "  0%|                                                                                           | 0/45 [00:00<?, ?it/s]"
     ]
    },
    {
     "name": "stdout",
     "output_type": "stream",
     "text": [
      "model 45, 0 fitted\n",
      "1005 seconds\n"
     ]
    },
    {
     "name": "stderr",
     "output_type": "stream",
     "text": [
      "100%|██████████████████████████████████████████████████████████████████████████████████| 45/45 [00:16<00:00,  2.70it/s]\n"
     ]
    },
    {
     "name": "stdout",
     "output_type": "stream",
     "text": [
      "model 45, 0 circuited\n",
      "1022 seconds\n",
      "model 45, 0 tested: acc 0.8964435146443515, log-lik -96.44863701042138\n",
      "1053 seconds\n"
     ]
    },
    {
     "name": "stderr",
     "output_type": "stream",
     "text": [
      "  2%|█▊                                                                                 | 1/45 [00:00<00:06,  6.55it/s]"
     ]
    },
    {
     "name": "stdout",
     "output_type": "stream",
     "text": [
      "model 45, 1 fitted\n",
      "1058 seconds\n"
     ]
    },
    {
     "name": "stderr",
     "output_type": "stream",
     "text": [
      "100%|██████████████████████████████████████████████████████████████████████████████████| 45/45 [00:15<00:00,  2.86it/s]\n"
     ]
    },
    {
     "name": "stdout",
     "output_type": "stream",
     "text": [
      "model 45, 1 circuited\n",
      "1073 seconds\n",
      "model 45, 1 tested: acc 0.9006276150627615, log-lik -96.34323254127966\n",
      "1105 seconds\n"
     ]
    },
    {
     "name": "stderr",
     "output_type": "stream",
     "text": [
      "  2%|█▊                                                                                 | 1/45 [00:00<00:07,  6.19it/s]"
     ]
    },
    {
     "name": "stdout",
     "output_type": "stream",
     "text": [
      "model 45, 2 fitted\n",
      "1110 seconds\n"
     ]
    },
    {
     "name": "stderr",
     "output_type": "stream",
     "text": [
      "100%|██████████████████████████████████████████████████████████████████████████████████| 45/45 [00:14<00:00,  3.15it/s]\n"
     ]
    },
    {
     "name": "stdout",
     "output_type": "stream",
     "text": [
      "model 45, 2 circuited\n",
      "1124 seconds\n",
      "model 45, 2 tested: acc 0.9037656903765691, log-lik -96.57376994359726\n",
      "1152 seconds\n",
      "45 finished, 1154 seconds\n",
      "Performance: [-96.44863701042138, -96.34323254127966, -96.57376994359726]\n",
      "model 50, 0 fitted\n",
      "1157 seconds\n"
     ]
    },
    {
     "name": "stderr",
     "output_type": "stream",
     "text": [
      "100%|██████████████████████████████████████████████████████████████████████████████████| 50/50 [00:17<00:00,  2.82it/s]\n"
     ]
    },
    {
     "name": "stdout",
     "output_type": "stream",
     "text": [
      "model 50, 0 circuited\n",
      "1175 seconds\n",
      "model 50, 0 tested: acc 0.8901673640167365, log-lik -96.4132555687851\n",
      "1210 seconds\n"
     ]
    },
    {
     "name": "stderr",
     "output_type": "stream",
     "text": [
      "  2%|█▋                                                                                 | 1/50 [00:00<00:09,  5.11it/s]"
     ]
    },
    {
     "name": "stdout",
     "output_type": "stream",
     "text": [
      "model 50, 1 fitted\n",
      "1215 seconds\n"
     ]
    },
    {
     "name": "stderr",
     "output_type": "stream",
     "text": [
      "100%|██████████████████████████████████████████████████████████████████████████████████| 50/50 [00:16<00:00,  3.11it/s]\n"
     ]
    },
    {
     "name": "stdout",
     "output_type": "stream",
     "text": [
      "model 50, 1 circuited\n",
      "1231 seconds\n",
      "model 50, 1 tested: acc 0.8943514644351465, log-lik -96.51449250698343\n",
      "1265 seconds\n"
     ]
    },
    {
     "name": "stderr",
     "output_type": "stream",
     "text": [
      "\r",
      "  0%|                                                                                           | 0/50 [00:00<?, ?it/s]"
     ]
    },
    {
     "name": "stdout",
     "output_type": "stream",
     "text": [
      "model 50, 2 fitted\n",
      "1271 seconds\n"
     ]
    },
    {
     "name": "stderr",
     "output_type": "stream",
     "text": [
      "100%|██████████████████████████████████████████████████████████████████████████████████| 50/50 [00:16<00:00,  2.95it/s]\n"
     ]
    },
    {
     "name": "stdout",
     "output_type": "stream",
     "text": [
      "model 50, 2 circuited\n",
      "1288 seconds\n",
      "model 50, 2 tested: acc 0.9100418410041841, log-lik -95.76835853639058\n",
      "1323 seconds\n",
      "50 finished, 1325 seconds\n",
      "Performance: [-96.4132555687851, -96.51449250698343, -95.76835853639058]\n",
      "/n/ndepth 6 end: 1329 seconds /n/n/n\n",
      "7 start\n",
      "data split\n"
     ]
    },
    {
     "name": "stderr",
     "output_type": "stream",
     "text": [
      "\r",
      "  0%|                                                                                            | 0/5 [00:00<?, ?it/s]"
     ]
    },
    {
     "name": "stdout",
     "output_type": "stream",
     "text": [
      "model 5, 0 fitted\n",
      "0 seconds\n"
     ]
    },
    {
     "name": "stderr",
     "output_type": "stream",
     "text": [
      "100%|████████████████████████████████████████████████████████████████████████████████████| 5/5 [00:04<00:00,  1.03it/s]\n"
     ]
    },
    {
     "name": "stdout",
     "output_type": "stream",
     "text": [
      "model 5, 0 circuited\n",
      "5 seconds\n",
      "model 5, 0 tested: acc 0.8619246861924686, log-lik -98.5154173544125\n",
      "10 seconds\n"
     ]
    },
    {
     "name": "stderr",
     "output_type": "stream",
     "text": [
      "\r",
      "  0%|                                                                                            | 0/5 [00:00<?, ?it/s]"
     ]
    },
    {
     "name": "stdout",
     "output_type": "stream",
     "text": [
      "model 5, 1 fitted\n",
      "11 seconds\n"
     ]
    },
    {
     "name": "stderr",
     "output_type": "stream",
     "text": [
      "100%|████████████████████████████████████████████████████████████████████████████████████| 5/5 [00:03<00:00,  1.41it/s]\n"
     ]
    },
    {
     "name": "stdout",
     "output_type": "stream",
     "text": [
      "model 5, 1 circuited\n",
      "15 seconds\n",
      "model 5, 1 tested: acc 0.8765690376569037, log-lik -97.83305210744552\n",
      "20 seconds\n"
     ]
    },
    {
     "name": "stderr",
     "output_type": "stream",
     "text": [
      "\r",
      "  0%|                                                                                            | 0/5 [00:00<?, ?it/s]"
     ]
    },
    {
     "name": "stdout",
     "output_type": "stream",
     "text": [
      "model 5, 2 fitted\n",
      "20 seconds\n"
     ]
    },
    {
     "name": "stderr",
     "output_type": "stream",
     "text": [
      "100%|████████████████████████████████████████████████████████████████████████████████████| 5/5 [00:03<00:00,  1.47it/s]\n"
     ]
    },
    {
     "name": "stdout",
     "output_type": "stream",
     "text": [
      "model 5, 2 circuited\n",
      "24 seconds\n",
      "model 5, 2 tested: acc 0.895397489539749, log-lik -98.39645003032025\n",
      "29 seconds\n",
      "5 finished, 29 seconds\n",
      "Performance: [-98.5154173544125, -97.83305210744552, -98.39645003032025]\n"
     ]
    },
    {
     "name": "stderr",
     "output_type": "stream",
     "text": [
      "\r",
      "  0%|                                                                                           | 0/10 [00:00<?, ?it/s]"
     ]
    },
    {
     "name": "stdout",
     "output_type": "stream",
     "text": [
      "model 10, 0 fitted\n",
      "30 seconds\n"
     ]
    },
    {
     "name": "stderr",
     "output_type": "stream",
     "text": [
      "100%|██████████████████████████████████████████████████████████████████████████████████| 10/10 [00:07<00:00,  1.34it/s]\n"
     ]
    },
    {
     "name": "stdout",
     "output_type": "stream",
     "text": [
      "model 10, 0 circuited\n",
      "38 seconds\n",
      "model 10, 0 tested: acc 0.8786610878661087, log-lik -97.1278726910673\n",
      "49 seconds\n"
     ]
    },
    {
     "name": "stderr",
     "output_type": "stream",
     "text": [
      "\r",
      "  0%|                                                                                           | 0/10 [00:00<?, ?it/s]"
     ]
    },
    {
     "name": "stdout",
     "output_type": "stream",
     "text": [
      "model 10, 1 fitted\n",
      "51 seconds\n"
     ]
    },
    {
     "name": "stderr",
     "output_type": "stream",
     "text": [
      "100%|██████████████████████████████████████████████████████████████████████████████████| 10/10 [00:07<00:00,  1.37it/s]\n"
     ]
    },
    {
     "name": "stdout",
     "output_type": "stream",
     "text": [
      "model 10, 1 circuited\n",
      "58 seconds\n",
      "model 10, 1 tested: acc 0.8870292887029289, log-lik -97.00559922078924\n",
      "70 seconds\n"
     ]
    },
    {
     "name": "stderr",
     "output_type": "stream",
     "text": [
      "\r",
      "  0%|                                                                                           | 0/10 [00:00<?, ?it/s]"
     ]
    },
    {
     "name": "stdout",
     "output_type": "stream",
     "text": [
      "model 10, 2 fitted\n",
      "71 seconds\n"
     ]
    },
    {
     "name": "stderr",
     "output_type": "stream",
     "text": [
      "100%|██████████████████████████████████████████████████████████████████████████████████| 10/10 [00:07<00:00,  1.30it/s]\n"
     ]
    },
    {
     "name": "stdout",
     "output_type": "stream",
     "text": [
      "model 10, 2 circuited\n",
      "79 seconds\n",
      "model 10, 2 tested: acc 0.8797071129707112, log-lik -97.18346421804696\n",
      "90 seconds\n",
      "10 finished, 91 seconds\n",
      "Performance: [-97.1278726910673, -97.00559922078924, -97.18346421804696]\n"
     ]
    },
    {
     "name": "stderr",
     "output_type": "stream",
     "text": [
      "\r",
      "  0%|                                                                                           | 0/15 [00:00<?, ?it/s]"
     ]
    },
    {
     "name": "stdout",
     "output_type": "stream",
     "text": [
      "model 15, 0 fitted\n",
      "92 seconds\n"
     ]
    },
    {
     "name": "stderr",
     "output_type": "stream",
     "text": [
      "100%|██████████████████████████████████████████████████████████████████████████████████| 15/15 [00:12<00:00,  1.24it/s]\n"
     ]
    },
    {
     "name": "stdout",
     "output_type": "stream",
     "text": [
      "model 15, 0 circuited\n",
      "104 seconds\n",
      "model 15, 0 tested: acc 0.8838912133891214, log-lik -96.60903690182862\n",
      "123 seconds\n"
     ]
    },
    {
     "name": "stderr",
     "output_type": "stream",
     "text": [
      "\r",
      "  0%|                                                                                           | 0/15 [00:00<?, ?it/s]"
     ]
    },
    {
     "name": "stdout",
     "output_type": "stream",
     "text": [
      "model 15, 1 fitted\n",
      "125 seconds\n"
     ]
    },
    {
     "name": "stderr",
     "output_type": "stream",
     "text": [
      "100%|██████████████████████████████████████████████████████████████████████████████████| 15/15 [00:11<00:00,  1.31it/s]\n"
     ]
    },
    {
     "name": "stdout",
     "output_type": "stream",
     "text": [
      "model 15, 1 circuited\n",
      "137 seconds\n",
      "model 15, 1 tested: acc 0.8828451882845189, log-lik -96.44783592630402\n",
      "155 seconds\n"
     ]
    },
    {
     "name": "stderr",
     "output_type": "stream",
     "text": [
      "\r",
      "  0%|                                                                                           | 0/15 [00:00<?, ?it/s]"
     ]
    },
    {
     "name": "stdout",
     "output_type": "stream",
     "text": [
      "model 15, 2 fitted\n",
      "157 seconds\n"
     ]
    },
    {
     "name": "stderr",
     "output_type": "stream",
     "text": [
      "100%|██████████████████████████████████████████████████████████████████████████████████| 15/15 [00:10<00:00,  1.37it/s]\n"
     ]
    },
    {
     "name": "stdout",
     "output_type": "stream",
     "text": [
      "model 15, 2 circuited\n",
      "168 seconds\n",
      "model 15, 2 tested: acc 0.8901673640167365, log-lik -96.25372136584858\n",
      "185 seconds\n",
      "15 finished, 186 seconds\n",
      "Performance: [-96.60903690182862, -96.44783592630402, -96.25372136584858]\n"
     ]
    },
    {
     "name": "stderr",
     "output_type": "stream",
     "text": [
      "\r",
      "  0%|                                                                                           | 0/20 [00:00<?, ?it/s]"
     ]
    },
    {
     "name": "stdout",
     "output_type": "stream",
     "text": [
      "model 20, 0 fitted\n",
      "188 seconds\n"
     ]
    },
    {
     "name": "stderr",
     "output_type": "stream",
     "text": [
      "100%|██████████████████████████████████████████████████████████████████████████████████| 20/20 [00:14<00:00,  1.34it/s]\n"
     ]
    },
    {
     "name": "stdout",
     "output_type": "stream",
     "text": [
      "model 20, 0 circuited\n",
      "203 seconds\n",
      "model 20, 0 tested: acc 0.891213389121339, log-lik -95.8491390147441\n",
      "226 seconds\n"
     ]
    },
    {
     "name": "stderr",
     "output_type": "stream",
     "text": [
      "\r",
      "  0%|                                                                                           | 0/20 [00:00<?, ?it/s]"
     ]
    },
    {
     "name": "stdout",
     "output_type": "stream",
     "text": [
      "model 20, 1 fitted\n",
      "229 seconds\n"
     ]
    },
    {
     "name": "stderr",
     "output_type": "stream",
     "text": [
      "100%|██████████████████████████████████████████████████████████████████████████████████| 20/20 [00:13<00:00,  1.47it/s]\n"
     ]
    },
    {
     "name": "stdout",
     "output_type": "stream",
     "text": [
      "model 20, 1 circuited\n",
      "243 seconds\n",
      "model 20, 1 tested: acc 0.8797071129707112, log-lik -96.01785362152852\n",
      "265 seconds\n"
     ]
    },
    {
     "name": "stderr",
     "output_type": "stream",
     "text": [
      "\r",
      "  0%|                                                                                           | 0/20 [00:00<?, ?it/s]"
     ]
    },
    {
     "name": "stdout",
     "output_type": "stream",
     "text": [
      "model 20, 2 fitted\n",
      "268 seconds\n"
     ]
    },
    {
     "name": "stderr",
     "output_type": "stream",
     "text": [
      "100%|██████████████████████████████████████████████████████████████████████████████████| 20/20 [00:13<00:00,  1.51it/s]\n"
     ]
    },
    {
     "name": "stdout",
     "output_type": "stream",
     "text": [
      "model 20, 2 circuited\n",
      "281 seconds\n",
      "model 20, 2 tested: acc 0.8964435146443515, log-lik -96.08591294523092\n",
      "303 seconds\n",
      "20 finished, 304 seconds\n",
      "Performance: [-95.8491390147441, -96.01785362152852, -96.08591294523092]\n"
     ]
    },
    {
     "name": "stderr",
     "output_type": "stream",
     "text": [
      "\r",
      "  0%|                                                                                           | 0/25 [00:00<?, ?it/s]"
     ]
    },
    {
     "name": "stdout",
     "output_type": "stream",
     "text": [
      "model 25, 0 fitted\n",
      "306 seconds\n"
     ]
    },
    {
     "name": "stderr",
     "output_type": "stream",
     "text": [
      "100%|██████████████████████████████████████████████████████████████████████████████████| 25/25 [00:16<00:00,  1.52it/s]\n"
     ]
    },
    {
     "name": "stdout",
     "output_type": "stream",
     "text": [
      "model 25, 0 circuited\n",
      "323 seconds\n",
      "model 25, 0 tested: acc 0.8943514644351465, log-lik -95.93701217163866\n",
      "348 seconds\n"
     ]
    },
    {
     "name": "stderr",
     "output_type": "stream",
     "text": [
      "\r",
      "  0%|                                                                                           | 0/25 [00:00<?, ?it/s]"
     ]
    },
    {
     "name": "stdout",
     "output_type": "stream",
     "text": [
      "model 25, 1 fitted\n",
      "352 seconds\n"
     ]
    },
    {
     "name": "stderr",
     "output_type": "stream",
     "text": [
      "100%|██████████████████████████████████████████████████████████████████████████████████| 25/25 [00:16<00:00,  1.56it/s]\n"
     ]
    },
    {
     "name": "stdout",
     "output_type": "stream",
     "text": [
      "model 25, 1 circuited\n",
      "368 seconds\n",
      "model 25, 1 tested: acc 0.8817991631799164, log-lik -95.80149989707841\n",
      "392 seconds\n"
     ]
    },
    {
     "name": "stderr",
     "output_type": "stream",
     "text": [
      "\r",
      "  0%|                                                                                           | 0/25 [00:00<?, ?it/s]"
     ]
    },
    {
     "name": "stdout",
     "output_type": "stream",
     "text": [
      "model 25, 2 fitted\n",
      "396 seconds\n"
     ]
    },
    {
     "name": "stderr",
     "output_type": "stream",
     "text": [
      "100%|██████████████████████████████████████████████████████████████████████████████████| 25/25 [00:15<00:00,  1.57it/s]\n"
     ]
    },
    {
     "name": "stdout",
     "output_type": "stream",
     "text": [
      "model 25, 2 circuited\n",
      "412 seconds\n",
      "model 25, 2 tested: acc 0.893305439330544, log-lik -95.89449128994887\n",
      "445 seconds\n",
      "25 finished, 449 seconds\n",
      "Performance: [-95.93701217163866, -95.80149989707841, -95.89449128994887]\n"
     ]
    },
    {
     "name": "stderr",
     "output_type": "stream",
     "text": [
      "\r",
      "  0%|                                                                                           | 0/30 [00:00<?, ?it/s]"
     ]
    },
    {
     "name": "stdout",
     "output_type": "stream",
     "text": [
      "model 30, 0 fitted\n",
      "454 seconds\n"
     ]
    },
    {
     "name": "stderr",
     "output_type": "stream",
     "text": [
      "100%|██████████████████████████████████████████████████████████████████████████████████| 30/30 [00:21<00:00,  1.38it/s]\n"
     ]
    },
    {
     "name": "stdout",
     "output_type": "stream",
     "text": [
      "model 30, 0 circuited\n",
      "476 seconds\n",
      "model 30, 0 tested: acc 0.8807531380753137, log-lik -96.17699176547973\n",
      "504 seconds\n"
     ]
    },
    {
     "name": "stderr",
     "output_type": "stream",
     "text": [
      "\r",
      "  0%|                                                                                           | 0/30 [00:00<?, ?it/s]"
     ]
    },
    {
     "name": "stdout",
     "output_type": "stream",
     "text": [
      "model 30, 1 fitted\n",
      "508 seconds\n"
     ]
    },
    {
     "name": "stderr",
     "output_type": "stream",
     "text": [
      "100%|██████████████████████████████████████████████████████████████████████████████████| 30/30 [00:16<00:00,  1.80it/s]\n"
     ]
    },
    {
     "name": "stdout",
     "output_type": "stream",
     "text": [
      "model 30, 1 circuited\n",
      "525 seconds\n",
      "model 30, 1 tested: acc 0.8964435146443515, log-lik -95.3815994802034\n",
      "554 seconds\n"
     ]
    },
    {
     "name": "stderr",
     "output_type": "stream",
     "text": [
      "\r",
      "  0%|                                                                                           | 0/30 [00:00<?, ?it/s]"
     ]
    },
    {
     "name": "stdout",
     "output_type": "stream",
     "text": [
      "model 30, 2 fitted\n",
      "559 seconds\n"
     ]
    },
    {
     "name": "stderr",
     "output_type": "stream",
     "text": [
      "100%|██████████████████████████████████████████████████████████████████████████████████| 30/30 [00:14<00:00,  2.04it/s]\n"
     ]
    },
    {
     "name": "stdout",
     "output_type": "stream",
     "text": [
      "model 30, 2 circuited\n",
      "573 seconds\n",
      "model 30, 2 tested: acc 0.9027196652719666, log-lik -95.48045212099866\n",
      "602 seconds\n",
      "30 finished, 604 seconds\n",
      "Performance: [-96.17699176547973, -95.3815994802034, -95.48045212099866]\n"
     ]
    },
    {
     "name": "stderr",
     "output_type": "stream",
     "text": [
      "\r",
      "  0%|                                                                                           | 0/35 [00:00<?, ?it/s]"
     ]
    },
    {
     "name": "stdout",
     "output_type": "stream",
     "text": [
      "model 35, 0 fitted\n",
      "607 seconds\n"
     ]
    },
    {
     "name": "stderr",
     "output_type": "stream",
     "text": [
      "100%|██████████████████████████████████████████████████████████████████████████████████| 35/35 [00:17<00:00,  1.99it/s]\n"
     ]
    },
    {
     "name": "stdout",
     "output_type": "stream",
     "text": [
      "model 35, 0 circuited\n",
      "624 seconds\n",
      "model 35, 0 tested: acc 0.8985355648535565, log-lik -95.53322816620656\n",
      "655 seconds\n"
     ]
    },
    {
     "name": "stderr",
     "output_type": "stream",
     "text": [
      "\r",
      "  0%|                                                                                           | 0/35 [00:00<?, ?it/s]"
     ]
    },
    {
     "name": "stdout",
     "output_type": "stream",
     "text": [
      "model 35, 1 fitted\n",
      "660 seconds\n"
     ]
    },
    {
     "name": "stderr",
     "output_type": "stream",
     "text": [
      "100%|██████████████████████████████████████████████████████████████████████████████████| 35/35 [00:15<00:00,  2.22it/s]\n"
     ]
    },
    {
     "name": "stdout",
     "output_type": "stream",
     "text": [
      "model 35, 1 circuited\n",
      "676 seconds\n",
      "model 35, 1 tested: acc 0.8943514644351465, log-lik -95.02597303398117\n",
      "706 seconds\n"
     ]
    },
    {
     "name": "stderr",
     "output_type": "stream",
     "text": [
      "  3%|██▎                                                                                | 1/35 [00:00<00:05,  5.80it/s]"
     ]
    },
    {
     "name": "stdout",
     "output_type": "stream",
     "text": [
      "model 35, 2 fitted\n",
      "711 seconds\n"
     ]
    },
    {
     "name": "stderr",
     "output_type": "stream",
     "text": [
      "100%|██████████████████████████████████████████████████████████████████████████████████| 35/35 [00:14<00:00,  2.50it/s]\n"
     ]
    },
    {
     "name": "stdout",
     "output_type": "stream",
     "text": [
      "model 35, 2 circuited\n",
      "725 seconds\n",
      "model 35, 2 tested: acc 0.8817991631799164, log-lik -95.48388584754967\n",
      "753 seconds\n",
      "35 finished, 755 seconds\n",
      "Performance: [-95.53322816620656, -95.02597303398117, -95.48388584754967]\n"
     ]
    },
    {
     "name": "stderr",
     "output_type": "stream",
     "text": [
      "  2%|██                                                                                 | 1/40 [00:00<00:08,  4.82it/s]"
     ]
    },
    {
     "name": "stdout",
     "output_type": "stream",
     "text": [
      "model 40, 0 fitted\n",
      "759 seconds\n"
     ]
    },
    {
     "name": "stderr",
     "output_type": "stream",
     "text": [
      "100%|██████████████████████████████████████████████████████████████████████████████████| 40/40 [00:21<00:00,  1.85it/s]\n"
     ]
    },
    {
     "name": "stdout",
     "output_type": "stream",
     "text": [
      "model 40, 0 circuited\n",
      "780 seconds\n",
      "model 40, 0 tested: acc 0.9110878661087867, log-lik -95.3249684784785\n",
      "812 seconds\n"
     ]
    },
    {
     "name": "stderr",
     "output_type": "stream",
     "text": [
      "\r",
      "  0%|                                                                                           | 0/40 [00:00<?, ?it/s]"
     ]
    },
    {
     "name": "stdout",
     "output_type": "stream",
     "text": [
      "model 40, 1 fitted\n",
      "818 seconds\n"
     ]
    },
    {
     "name": "stderr",
     "output_type": "stream",
     "text": [
      "100%|██████████████████████████████████████████████████████████████████████████████████| 40/40 [00:16<00:00,  2.38it/s]\n"
     ]
    },
    {
     "name": "stdout",
     "output_type": "stream",
     "text": [
      "model 40, 1 circuited\n",
      "835 seconds\n",
      "model 40, 1 tested: acc 0.8985355648535565, log-lik -95.15752060097198\n",
      "875 seconds\n"
     ]
    },
    {
     "name": "stderr",
     "output_type": "stream",
     "text": [
      "\r",
      "  0%|                                                                                           | 0/40 [00:00<?, ?it/s]"
     ]
    },
    {
     "name": "stdout",
     "output_type": "stream",
     "text": [
      "model 40, 2 fitted\n",
      "885 seconds\n"
     ]
    },
    {
     "name": "stderr",
     "output_type": "stream",
     "text": [
      "100%|██████████████████████████████████████████████████████████████████████████████████| 40/40 [00:18<00:00,  2.17it/s]\n"
     ]
    },
    {
     "name": "stdout",
     "output_type": "stream",
     "text": [
      "model 40, 2 circuited\n",
      "903 seconds\n",
      "model 40, 2 tested: acc 0.899581589958159, log-lik -95.05780917296958\n",
      "942 seconds\n",
      "40 finished, 955 seconds\n",
      "Performance: [-95.3249684784785, -95.15752060097198, -95.05780917296958]\n"
     ]
    },
    {
     "name": "stderr",
     "output_type": "stream",
     "text": [
      "\r",
      "  0%|                                                                                           | 0/45 [00:00<?, ?it/s]"
     ]
    },
    {
     "name": "stdout",
     "output_type": "stream",
     "text": [
      "model 45, 0 fitted\n",
      "961 seconds\n"
     ]
    },
    {
     "name": "stderr",
     "output_type": "stream",
     "text": [
      "100%|██████████████████████████████████████████████████████████████████████████████████| 45/45 [00:28<00:00,  1.60it/s]\n"
     ]
    },
    {
     "name": "stdout",
     "output_type": "stream",
     "text": [
      "model 45, 0 circuited\n",
      "989 seconds\n",
      "model 45, 0 tested: acc 0.891213389121339, log-lik -95.03089617563253\n",
      "1040 seconds\n"
     ]
    },
    {
     "name": "stderr",
     "output_type": "stream",
     "text": [
      "\r",
      "  0%|                                                                                           | 0/45 [00:00<?, ?it/s]"
     ]
    },
    {
     "name": "stdout",
     "output_type": "stream",
     "text": [
      "model 45, 1 fitted\n",
      "1050 seconds\n"
     ]
    },
    {
     "name": "stderr",
     "output_type": "stream",
     "text": [
      "100%|██████████████████████████████████████████████████████████████████████████████████| 45/45 [00:26<00:00,  1.69it/s]\n"
     ]
    },
    {
     "name": "stdout",
     "output_type": "stream",
     "text": [
      "model 45, 1 circuited\n",
      "1078 seconds\n",
      "model 45, 1 tested: acc 0.8964435146443515, log-lik -94.96796317923211\n",
      "1193 seconds\n"
     ]
    },
    {
     "name": "stderr",
     "output_type": "stream",
     "text": [
      "\r",
      "  0%|                                                                                           | 0/45 [00:00<?, ?it/s]"
     ]
    },
    {
     "name": "stdout",
     "output_type": "stream",
     "text": [
      "model 45, 2 fitted\n",
      "1204 seconds\n"
     ]
    },
    {
     "name": "stderr",
     "output_type": "stream",
     "text": [
      "100%|██████████████████████████████████████████████████████████████████████████████████| 45/45 [01:09<00:00,  1.54s/it]\n"
     ]
    },
    {
     "name": "stdout",
     "output_type": "stream",
     "text": [
      "model 45, 2 circuited\n",
      "1273 seconds\n",
      "model 45, 2 tested: acc 0.9006276150627615, log-lik -94.80984831073387\n",
      "1375 seconds\n",
      "45 finished, 1381 seconds\n",
      "Performance: [-95.03089617563253, -94.96796317923211, -94.80984831073387]\n"
     ]
    },
    {
     "name": "stderr",
     "output_type": "stream",
     "text": [
      "\r",
      "  0%|                                                                                           | 0/50 [00:00<?, ?it/s]"
     ]
    },
    {
     "name": "stdout",
     "output_type": "stream",
     "text": [
      "model 50, 0 fitted\n",
      "1387 seconds\n"
     ]
    },
    {
     "name": "stderr",
     "output_type": "stream",
     "text": [
      "100%|██████████████████████████████████████████████████████████████████████████████████| 50/50 [01:12<00:00,  1.45s/it]\n"
     ]
    },
    {
     "name": "stdout",
     "output_type": "stream",
     "text": [
      "model 50, 0 circuited\n",
      "1459 seconds\n",
      "model 50, 0 tested: acc 0.8880753138075314, log-lik -94.82259149660386\n",
      "1565 seconds\n"
     ]
    },
    {
     "name": "stderr",
     "output_type": "stream",
     "text": [
      "\r",
      "  0%|                                                                                           | 0/50 [00:00<?, ?it/s]"
     ]
    },
    {
     "name": "stdout",
     "output_type": "stream",
     "text": [
      "model 50, 1 fitted\n",
      "1576 seconds\n"
     ]
    },
    {
     "name": "stderr",
     "output_type": "stream",
     "text": [
      "100%|██████████████████████████████████████████████████████████████████████████████████| 50/50 [01:04<00:00,  1.28s/it]\n"
     ]
    },
    {
     "name": "stdout",
     "output_type": "stream",
     "text": [
      "model 50, 1 circuited\n",
      "1640 seconds\n",
      "model 50, 1 tested: acc 0.895397489539749, log-lik -94.78208932808516\n",
      "1737 seconds\n"
     ]
    },
    {
     "name": "stderr",
     "output_type": "stream",
     "text": [
      "\r",
      "  0%|                                                                                           | 0/50 [00:00<?, ?it/s]"
     ]
    },
    {
     "name": "stdout",
     "output_type": "stream",
     "text": [
      "model 50, 2 fitted\n",
      "1748 seconds\n"
     ]
    },
    {
     "name": "stderr",
     "output_type": "stream",
     "text": [
      "100%|██████████████████████████████████████████████████████████████████████████████████| 50/50 [00:58<00:00,  1.18s/it]\n"
     ]
    },
    {
     "name": "stdout",
     "output_type": "stream",
     "text": [
      "model 50, 2 circuited\n",
      "1807 seconds\n",
      "model 50, 2 tested: acc 0.8891213389121339, log-lik -94.98473062331917\n",
      "1902 seconds\n",
      "50 finished, 1907 seconds\n",
      "Performance: [-94.82259149660386, -94.78208932808516, -94.98473062331917]\n",
      "/n/ndepth 7 end: 3239 seconds /n/n/n\n",
      "8 start\n",
      "data split\n"
     ]
    },
    {
     "name": "stderr",
     "output_type": "stream",
     "text": [
      "\r",
      "  0%|                                                                                            | 0/5 [00:00<?, ?it/s]"
     ]
    },
    {
     "name": "stdout",
     "output_type": "stream",
     "text": [
      "model 5, 0 fitted\n",
      "0 seconds\n"
     ]
    },
    {
     "name": "stderr",
     "output_type": "stream",
     "text": [
      "100%|████████████████████████████████████████████████████████████████████████████████████| 5/5 [00:14<00:00,  2.83s/it]\n"
     ]
    },
    {
     "name": "stdout",
     "output_type": "stream",
     "text": [
      "model 5, 0 circuited\n",
      "15 seconds\n",
      "model 5, 0 tested: acc 0.8723849372384938, log-lik -98.03971717189708\n",
      "23 seconds\n"
     ]
    },
    {
     "name": "stderr",
     "output_type": "stream",
     "text": [
      "\r",
      "  0%|                                                                                            | 0/5 [00:00<?, ?it/s]"
     ]
    },
    {
     "name": "stdout",
     "output_type": "stream",
     "text": [
      "model 5, 1 fitted\n",
      "24 seconds\n"
     ]
    },
    {
     "name": "stderr",
     "output_type": "stream",
     "text": [
      "100%|████████████████████████████████████████████████████████████████████████████████████| 5/5 [00:05<00:00,  1.11s/it]\n"
     ]
    },
    {
     "name": "stdout",
     "output_type": "stream",
     "text": [
      "model 5, 1 circuited\n",
      "30 seconds\n",
      "model 5, 1 tested: acc 0.8734309623430963, log-lik -98.4059460148241\n",
      "38 seconds\n"
     ]
    },
    {
     "name": "stderr",
     "output_type": "stream",
     "text": [
      "\r",
      "  0%|                                                                                            | 0/5 [00:00<?, ?it/s]"
     ]
    },
    {
     "name": "stdout",
     "output_type": "stream",
     "text": [
      "model 5, 2 fitted\n",
      "39 seconds\n"
     ]
    },
    {
     "name": "stderr",
     "output_type": "stream",
     "text": [
      "100%|████████████████████████████████████████████████████████████████████████████████████| 5/5 [00:05<00:00,  1.03s/it]\n"
     ]
    },
    {
     "name": "stdout",
     "output_type": "stream",
     "text": [
      "model 5, 2 circuited\n",
      "45 seconds\n",
      "model 5, 2 tested: acc 0.895397489539749, log-lik -98.03881810783768\n",
      "53 seconds\n",
      "5 finished, 54 seconds\n",
      "Performance: [-98.03971717189708, -98.4059460148241, -98.03881810783768]\n"
     ]
    },
    {
     "name": "stderr",
     "output_type": "stream",
     "text": [
      "\r",
      "  0%|                                                                                           | 0/10 [00:00<?, ?it/s]"
     ]
    },
    {
     "name": "stdout",
     "output_type": "stream",
     "text": [
      "model 10, 0 fitted\n",
      "55 seconds\n"
     ]
    },
    {
     "name": "stderr",
     "output_type": "stream",
     "text": [
      "100%|██████████████████████████████████████████████████████████████████████████████████| 10/10 [00:12<00:00,  1.27s/it]\n"
     ]
    },
    {
     "name": "stdout",
     "output_type": "stream",
     "text": [
      "model 10, 0 circuited\n",
      "68 seconds\n",
      "model 10, 0 tested: acc 0.895397489539749, log-lik -96.07836427906255\n",
      "86 seconds\n"
     ]
    },
    {
     "name": "stderr",
     "output_type": "stream",
     "text": [
      "\r",
      "  0%|                                                                                           | 0/10 [00:00<?, ?it/s]"
     ]
    },
    {
     "name": "stdout",
     "output_type": "stream",
     "text": [
      "model 10, 1 fitted\n",
      "89 seconds\n"
     ]
    },
    {
     "name": "stderr",
     "output_type": "stream",
     "text": [
      "100%|██████████████████████████████████████████████████████████████████████████████████| 10/10 [00:11<00:00,  1.15s/it]\n"
     ]
    },
    {
     "name": "stdout",
     "output_type": "stream",
     "text": [
      "model 10, 1 circuited\n",
      "100 seconds\n",
      "model 10, 1 tested: acc 0.899581589958159, log-lik -96.71195323812827\n",
      "118 seconds\n"
     ]
    },
    {
     "name": "stderr",
     "output_type": "stream",
     "text": [
      "\r",
      "  0%|                                                                                           | 0/10 [00:00<?, ?it/s]"
     ]
    },
    {
     "name": "stdout",
     "output_type": "stream",
     "text": [
      "model 10, 2 fitted\n",
      "120 seconds\n"
     ]
    },
    {
     "name": "stderr",
     "output_type": "stream",
     "text": [
      "100%|██████████████████████████████████████████████████████████████████████████████████| 10/10 [00:11<00:00,  1.13s/it]\n"
     ]
    },
    {
     "name": "stdout",
     "output_type": "stream",
     "text": [
      "model 10, 2 circuited\n",
      "132 seconds\n",
      "model 10, 2 tested: acc 0.897489539748954, log-lik -96.88299219433861\n",
      "148 seconds\n",
      "10 finished, 149 seconds\n",
      "Performance: [-96.07836427906255, -96.71195323812827, -96.88299219433861]\n"
     ]
    },
    {
     "name": "stderr",
     "output_type": "stream",
     "text": [
      "\r",
      "  0%|                                                                                           | 0/15 [00:00<?, ?it/s]"
     ]
    },
    {
     "name": "stdout",
     "output_type": "stream",
     "text": [
      "model 15, 0 fitted\n",
      "151 seconds\n"
     ]
    },
    {
     "name": "stderr",
     "output_type": "stream",
     "text": [
      "100%|██████████████████████████████████████████████████████████████████████████████████| 15/15 [00:18<00:00,  1.26s/it]\n"
     ]
    },
    {
     "name": "stdout",
     "output_type": "stream",
     "text": [
      "model 15, 0 circuited\n",
      "170 seconds\n",
      "model 15, 0 tested: acc 0.8985355648535565, log-lik -95.8554772584021\n",
      "198 seconds\n"
     ]
    },
    {
     "name": "stderr",
     "output_type": "stream",
     "text": [
      "\r",
      "  0%|                                                                                           | 0/15 [00:00<?, ?it/s]"
     ]
    },
    {
     "name": "stdout",
     "output_type": "stream",
     "text": [
      "model 15, 1 fitted\n",
      "202 seconds\n"
     ]
    },
    {
     "name": "stderr",
     "output_type": "stream",
     "text": [
      "100%|██████████████████████████████████████████████████████████████████████████████████| 15/15 [00:19<00:00,  1.33s/it]\n"
     ]
    },
    {
     "name": "stdout",
     "output_type": "stream",
     "text": [
      "model 15, 1 circuited\n",
      "222 seconds\n",
      "model 15, 1 tested: acc 0.9006276150627615, log-lik -95.35547642049663\n",
      "247 seconds\n"
     ]
    },
    {
     "name": "stderr",
     "output_type": "stream",
     "text": [
      "\r",
      "  0%|                                                                                           | 0/15 [00:00<?, ?it/s]"
     ]
    },
    {
     "name": "stdout",
     "output_type": "stream",
     "text": [
      "model 15, 2 fitted\n",
      "251 seconds\n"
     ]
    },
    {
     "name": "stderr",
     "output_type": "stream",
     "text": [
      "100%|██████████████████████████████████████████████████████████████████████████████████| 15/15 [00:18<00:00,  1.24s/it]\n"
     ]
    },
    {
     "name": "stdout",
     "output_type": "stream",
     "text": [
      "model 15, 2 circuited\n",
      "270 seconds\n",
      "model 15, 2 tested: acc 0.8943514644351465, log-lik -95.67064521050972\n",
      "301 seconds\n",
      "15 finished, 302 seconds\n",
      "Performance: [-95.8554772584021, -95.35547642049663, -95.67064521050972]\n"
     ]
    },
    {
     "name": "stderr",
     "output_type": "stream",
     "text": [
      "\r",
      "  0%|                                                                                           | 0/20 [00:00<?, ?it/s]"
     ]
    },
    {
     "name": "stdout",
     "output_type": "stream",
     "text": [
      "model 20, 0 fitted\n",
      "305 seconds\n"
     ]
    },
    {
     "name": "stderr",
     "output_type": "stream",
     "text": [
      "100%|██████████████████████████████████████████████████████████████████████████████████| 20/20 [00:23<00:00,  1.16s/it]\n"
     ]
    },
    {
     "name": "stdout",
     "output_type": "stream",
     "text": [
      "model 20, 0 circuited\n",
      "328 seconds\n",
      "model 20, 0 tested: acc 0.893305439330544, log-lik -95.42022983983328\n",
      "365 seconds\n"
     ]
    },
    {
     "name": "stderr",
     "output_type": "stream",
     "text": [
      "\r",
      "  0%|                                                                                           | 0/20 [00:00<?, ?it/s]"
     ]
    },
    {
     "name": "stdout",
     "output_type": "stream",
     "text": [
      "model 20, 1 fitted\n",
      "371 seconds\n"
     ]
    },
    {
     "name": "stderr",
     "output_type": "stream",
     "text": [
      "100%|██████████████████████████████████████████████████████████████████████████████████| 20/20 [00:21<00:00,  1.09s/it]\n"
     ]
    },
    {
     "name": "stdout",
     "output_type": "stream",
     "text": [
      "model 20, 1 circuited\n",
      "393 seconds\n",
      "model 20, 1 tested: acc 0.8985355648535565, log-lik -95.41207015755488\n",
      "429 seconds\n"
     ]
    },
    {
     "name": "stderr",
     "output_type": "stream",
     "text": [
      "\r",
      "  0%|                                                                                           | 0/20 [00:00<?, ?it/s]"
     ]
    },
    {
     "name": "stdout",
     "output_type": "stream",
     "text": [
      "model 20, 2 fitted\n",
      "434 seconds\n"
     ]
    },
    {
     "name": "stderr",
     "output_type": "stream",
     "text": [
      "100%|██████████████████████████████████████████████████████████████████████████████████| 20/20 [00:20<00:00,  1.03s/it]\n"
     ]
    },
    {
     "name": "stdout",
     "output_type": "stream",
     "text": [
      "model 20, 2 circuited\n",
      "455 seconds\n",
      "model 20, 2 tested: acc 0.8870292887029289, log-lik -96.19546233342584\n",
      "487 seconds\n",
      "20 finished, 489 seconds\n",
      "Performance: [-95.42022983983328, -95.41207015755488, -96.19546233342584]\n"
     ]
    },
    {
     "name": "stderr",
     "output_type": "stream",
     "text": [
      "\r",
      "  0%|                                                                                           | 0/25 [00:00<?, ?it/s]"
     ]
    },
    {
     "name": "stdout",
     "output_type": "stream",
     "text": [
      "model 25, 0 fitted\n",
      "492 seconds\n"
     ]
    },
    {
     "name": "stderr",
     "output_type": "stream",
     "text": [
      "100%|██████████████████████████████████████████████████████████████████████████████████| 25/25 [00:26<00:00,  1.07s/it]\n"
     ]
    },
    {
     "name": "stdout",
     "output_type": "stream",
     "text": [
      "model 25, 0 circuited\n",
      "519 seconds\n",
      "model 25, 0 tested: acc 0.9048117154811716, log-lik -95.37719587871877\n",
      "558 seconds\n"
     ]
    },
    {
     "name": "stderr",
     "output_type": "stream",
     "text": [
      "\r",
      "  0%|                                                                                           | 0/25 [00:00<?, ?it/s]"
     ]
    },
    {
     "name": "stdout",
     "output_type": "stream",
     "text": [
      "model 25, 1 fitted\n",
      "565 seconds\n"
     ]
    },
    {
     "name": "stderr",
     "output_type": "stream",
     "text": [
      "100%|██████████████████████████████████████████████████████████████████████████████████| 25/25 [00:25<00:00,  1.04s/it]\n"
     ]
    },
    {
     "name": "stdout",
     "output_type": "stream",
     "text": [
      "model 25, 1 circuited\n",
      "590 seconds\n",
      "model 25, 1 tested: acc 0.897489539748954, log-lik -95.3673305637462\n",
      "631 seconds\n"
     ]
    },
    {
     "name": "stderr",
     "output_type": "stream",
     "text": [
      "\r",
      "  0%|                                                                                           | 0/25 [00:00<?, ?it/s]"
     ]
    },
    {
     "name": "stdout",
     "output_type": "stream",
     "text": [
      "model 25, 2 fitted\n",
      "637 seconds\n"
     ]
    },
    {
     "name": "stderr",
     "output_type": "stream",
     "text": [
      "100%|██████████████████████████████████████████████████████████████████████████████████| 25/25 [00:22<00:00,  1.09it/s]\n"
     ]
    },
    {
     "name": "stdout",
     "output_type": "stream",
     "text": [
      "model 25, 2 circuited\n",
      "660 seconds\n",
      "model 25, 2 tested: acc 0.9048117154811716, log-lik -95.39251346221731\n",
      "698 seconds\n",
      "25 finished, 701 seconds\n",
      "Performance: [-95.37719587871877, -95.3673305637462, -95.39251346221731]\n"
     ]
    },
    {
     "name": "stderr",
     "output_type": "stream",
     "text": [
      "\r",
      "  0%|                                                                                           | 0/30 [00:00<?, ?it/s]"
     ]
    },
    {
     "name": "stdout",
     "output_type": "stream",
     "text": [
      "model 30, 0 fitted\n",
      "704 seconds\n"
     ]
    },
    {
     "name": "stderr",
     "output_type": "stream",
     "text": [
      "100%|██████████████████████████████████████████████████████████████████████████████████| 30/30 [00:28<00:00,  1.07it/s]\n"
     ]
    },
    {
     "name": "stdout",
     "output_type": "stream",
     "text": [
      "model 30, 0 circuited\n",
      "733 seconds\n",
      "model 30, 0 tested: acc 0.893305439330544, log-lik -95.03232849875768\n",
      "779 seconds\n"
     ]
    },
    {
     "name": "stderr",
     "output_type": "stream",
     "text": [
      "\r",
      "  0%|                                                                                           | 0/30 [00:00<?, ?it/s]"
     ]
    },
    {
     "name": "stdout",
     "output_type": "stream",
     "text": [
      "model 30, 1 fitted\n",
      "787 seconds\n"
     ]
    },
    {
     "name": "stderr",
     "output_type": "stream",
     "text": [
      "100%|██████████████████████████████████████████████████████████████████████████████████| 30/30 [00:25<00:00,  1.17it/s]\n"
     ]
    },
    {
     "name": "stdout",
     "output_type": "stream",
     "text": [
      "model 30, 1 circuited\n",
      "812 seconds\n",
      "model 30, 1 tested: acc 0.9142259414225942, log-lik -94.92182662615267\n",
      "855 seconds\n"
     ]
    },
    {
     "name": "stderr",
     "output_type": "stream",
     "text": [
      "\r",
      "  0%|                                                                                           | 0/30 [00:00<?, ?it/s]"
     ]
    },
    {
     "name": "stdout",
     "output_type": "stream",
     "text": [
      "model 30, 2 fitted\n",
      "863 seconds\n"
     ]
    },
    {
     "name": "stderr",
     "output_type": "stream",
     "text": [
      "100%|██████████████████████████████████████████████████████████████████████████████████| 30/30 [00:24<00:00,  1.25it/s]\n"
     ]
    },
    {
     "name": "stdout",
     "output_type": "stream",
     "text": [
      "model 30, 2 circuited\n",
      "887 seconds\n",
      "model 30, 2 tested: acc 0.9069037656903766, log-lik -94.88593165689312\n",
      "927 seconds\n",
      "30 finished, 931 seconds\n",
      "Performance: [-95.03232849875768, -94.92182662615267, -94.88593165689312]\n"
     ]
    },
    {
     "name": "stderr",
     "output_type": "stream",
     "text": [
      "\r",
      "  0%|                                                                                           | 0/35 [00:00<?, ?it/s]"
     ]
    },
    {
     "name": "stdout",
     "output_type": "stream",
     "text": [
      "model 35, 0 fitted\n",
      "935 seconds\n"
     ]
    },
    {
     "name": "stderr",
     "output_type": "stream",
     "text": [
      "100%|██████████████████████████████████████████████████████████████████████████████████| 35/35 [00:34<00:00,  1.02it/s]\n"
     ]
    },
    {
     "name": "stdout",
     "output_type": "stream",
     "text": [
      "model 35, 0 circuited\n",
      "969 seconds\n",
      "model 35, 0 tested: acc 0.895397489539749, log-lik -94.71855517654873\n",
      "1019 seconds\n"
     ]
    },
    {
     "name": "stderr",
     "output_type": "stream",
     "text": [
      "\r",
      "  0%|                                                                                           | 0/35 [00:00<?, ?it/s]"
     ]
    },
    {
     "name": "stdout",
     "output_type": "stream",
     "text": [
      "model 35, 1 fitted\n",
      "1027 seconds\n"
     ]
    },
    {
     "name": "stderr",
     "output_type": "stream",
     "text": [
      "100%|██████████████████████████████████████████████████████████████████████████████████| 35/35 [00:23<00:00,  1.51it/s]\n"
     ]
    },
    {
     "name": "stdout",
     "output_type": "stream",
     "text": [
      "model 35, 1 circuited\n",
      "1050 seconds\n",
      "model 35, 1 tested: acc 0.8943514644351465, log-lik -94.48551636702558\n",
      "1086 seconds\n"
     ]
    },
    {
     "name": "stderr",
     "output_type": "stream",
     "text": [
      "\r",
      "  0%|                                                                                           | 0/35 [00:00<?, ?it/s]"
     ]
    },
    {
     "name": "stdout",
     "output_type": "stream",
     "text": [
      "model 35, 2 fitted\n",
      "1094 seconds\n"
     ]
    },
    {
     "name": "stderr",
     "output_type": "stream",
     "text": [
      "100%|██████████████████████████████████████████████████████████████████████████████████| 35/35 [00:30<00:00,  1.14it/s]\n"
     ]
    },
    {
     "name": "stdout",
     "output_type": "stream",
     "text": [
      "model 35, 2 circuited\n",
      "1124 seconds\n",
      "model 35, 2 tested: acc 0.9006276150627615, log-lik -94.96432452529362\n",
      "1164 seconds\n",
      "35 finished, 1168 seconds\n",
      "Performance: [-94.71855517654873, -94.48551636702558, -94.96432452529362]\n"
     ]
    },
    {
     "name": "stderr",
     "output_type": "stream",
     "text": [
      "\r",
      "  0%|                                                                                           | 0/40 [00:00<?, ?it/s]"
     ]
    },
    {
     "name": "stdout",
     "output_type": "stream",
     "text": [
      "model 40, 0 fitted\n",
      "1172 seconds\n"
     ]
    },
    {
     "name": "stderr",
     "output_type": "stream",
     "text": [
      "100%|██████████████████████████████████████████████████████████████████████████████████| 40/40 [00:23<00:00,  1.69it/s]\n"
     ]
    },
    {
     "name": "stdout",
     "output_type": "stream",
     "text": [
      "model 40, 0 circuited\n",
      "1196 seconds\n",
      "model 40, 0 tested: acc 0.8964435146443515, log-lik -94.07938484168297\n",
      "1246 seconds\n"
     ]
    },
    {
     "name": "stderr",
     "output_type": "stream",
     "text": [
      "  2%|██                                                                                 | 1/40 [00:00<00:07,  4.91it/s]"
     ]
    },
    {
     "name": "stdout",
     "output_type": "stream",
     "text": [
      "model 40, 1 fitted\n",
      "1254 seconds\n"
     ]
    },
    {
     "name": "stderr",
     "output_type": "stream",
     "text": [
      "100%|██████████████████████████████████████████████████████████████████████████████████| 40/40 [00:32<00:00,  1.25it/s]\n"
     ]
    },
    {
     "name": "stdout",
     "output_type": "stream",
     "text": [
      "model 40, 1 circuited\n",
      "1286 seconds\n",
      "model 40, 1 tested: acc 0.9027196652719666, log-lik -94.15014323569893\n",
      "1335 seconds\n"
     ]
    },
    {
     "name": "stderr",
     "output_type": "stream",
     "text": [
      "\r",
      "  0%|                                                                                           | 0/40 [00:00<?, ?it/s]"
     ]
    },
    {
     "name": "stdout",
     "output_type": "stream",
     "text": [
      "model 40, 2 fitted\n",
      "1345 seconds\n"
     ]
    },
    {
     "name": "stderr",
     "output_type": "stream",
     "text": [
      "100%|██████████████████████████████████████████████████████████████████████████████████| 40/40 [00:25<00:00,  1.54it/s]\n"
     ]
    },
    {
     "name": "stdout",
     "output_type": "stream",
     "text": [
      "model 40, 2 circuited\n",
      "1371 seconds\n",
      "model 40, 2 tested: acc 0.9069037656903766, log-lik -94.34627329223132\n",
      "1420 seconds\n",
      "40 finished, 1426 seconds\n",
      "Performance: [-94.07938484168297, -94.15014323569893, -94.34627329223132]\n"
     ]
    },
    {
     "name": "stderr",
     "output_type": "stream",
     "text": [
      "\r",
      "  0%|                                                                                           | 0/45 [00:00<?, ?it/s]"
     ]
    },
    {
     "name": "stdout",
     "output_type": "stream",
     "text": [
      "model 45, 0 fitted\n",
      "1431 seconds\n"
     ]
    },
    {
     "name": "stderr",
     "output_type": "stream",
     "text": [
      "100%|██████████████████████████████████████████████████████████████████████████████████| 45/45 [00:31<00:00,  1.45it/s]\n"
     ]
    },
    {
     "name": "stdout",
     "output_type": "stream",
     "text": [
      "model 45, 0 circuited\n",
      "1462 seconds\n",
      "model 45, 0 tested: acc 0.9058577405857741, log-lik -94.06078612604588\n",
      "1519 seconds\n"
     ]
    },
    {
     "name": "stderr",
     "output_type": "stream",
     "text": [
      "\r",
      "  0%|                                                                                           | 0/45 [00:00<?, ?it/s]"
     ]
    },
    {
     "name": "stdout",
     "output_type": "stream",
     "text": [
      "model 45, 1 fitted\n",
      "1530 seconds\n"
     ]
    },
    {
     "name": "stderr",
     "output_type": "stream",
     "text": [
      "100%|██████████████████████████████████████████████████████████████████████████████████| 45/45 [00:29<00:00,  1.51it/s]\n"
     ]
    },
    {
     "name": "stdout",
     "output_type": "stream",
     "text": [
      "model 45, 1 circuited\n",
      "1560 seconds\n",
      "model 45, 1 tested: acc 0.899581589958159, log-lik -94.03597915292626\n",
      "1611 seconds\n"
     ]
    },
    {
     "name": "stderr",
     "output_type": "stream",
     "text": [
      "\r",
      "  0%|                                                                                           | 0/45 [00:00<?, ?it/s]"
     ]
    },
    {
     "name": "stdout",
     "output_type": "stream",
     "text": [
      "model 45, 2 fitted\n",
      "1621 seconds\n"
     ]
    },
    {
     "name": "stderr",
     "output_type": "stream",
     "text": [
      "100%|██████████████████████████████████████████████████████████████████████████████████| 45/45 [00:29<00:00,  1.53it/s]\n"
     ]
    },
    {
     "name": "stdout",
     "output_type": "stream",
     "text": [
      "model 45, 2 circuited\n",
      "1651 seconds\n",
      "model 45, 2 tested: acc 0.8985355648535565, log-lik -94.4830807384618\n",
      "1756 seconds\n",
      "45 finished, 1761 seconds\n",
      "Performance: [-94.06078612604588, -94.03597915292626, -94.4830807384618]\n"
     ]
    },
    {
     "name": "stderr",
     "output_type": "stream",
     "text": [
      "\r",
      "  0%|                                                                                           | 0/50 [00:00<?, ?it/s]"
     ]
    },
    {
     "name": "stdout",
     "output_type": "stream",
     "text": [
      "model 50, 0 fitted\n",
      "1767 seconds\n"
     ]
    },
    {
     "name": "stderr",
     "output_type": "stream",
     "text": [
      "100%|██████████████████████████████████████████████████████████████████████████████████| 50/50 [01:19<00:00,  1.59s/it]\n"
     ]
    },
    {
     "name": "stdout",
     "output_type": "stream",
     "text": [
      "model 50, 0 circuited\n",
      "1847 seconds\n",
      "model 50, 0 tested: acc 0.9142259414225942, log-lik -94.53199838469308\n",
      "1986 seconds\n"
     ]
    },
    {
     "name": "stderr",
     "output_type": "stream",
     "text": [
      "\r",
      "  0%|                                                                                           | 0/50 [00:00<?, ?it/s]"
     ]
    },
    {
     "name": "stdout",
     "output_type": "stream",
     "text": [
      "model 50, 1 fitted\n",
      "2001 seconds\n"
     ]
    },
    {
     "name": "stderr",
     "output_type": "stream",
     "text": [
      "100%|██████████████████████████████████████████████████████████████████████████████████| 50/50 [01:12<00:00,  1.45s/it]\n"
     ]
    },
    {
     "name": "stdout",
     "output_type": "stream",
     "text": [
      "model 50, 1 circuited\n",
      "2074 seconds\n",
      "model 50, 1 tested: acc 0.9100418410041841, log-lik -94.54594506279034\n",
      "2179 seconds\n"
     ]
    },
    {
     "name": "stderr",
     "output_type": "stream",
     "text": [
      "\r",
      "  0%|                                                                                           | 0/50 [00:00<?, ?it/s]"
     ]
    },
    {
     "name": "stdout",
     "output_type": "stream",
     "text": [
      "model 50, 2 fitted\n",
      "2192 seconds\n"
     ]
    },
    {
     "name": "stderr",
     "output_type": "stream",
     "text": [
      "100%|██████████████████████████████████████████████████████████████████████████████████| 50/50 [01:06<00:00,  1.33s/it]\n"
     ]
    },
    {
     "name": "stdout",
     "output_type": "stream",
     "text": [
      "model 50, 2 circuited\n",
      "2259 seconds\n",
      "model 50, 2 tested: acc 0.8964435146443515, log-lik -94.01707499542772\n",
      "2355 seconds\n",
      "50 finished, 2362 seconds\n",
      "Performance: [-94.53199838469308, -94.54594506279034, -94.01707499542772]\n",
      "/n/ndepth 8 end: 5603 seconds /n/n/n\n",
      "9 start\n",
      "data split\n"
     ]
    },
    {
     "name": "stderr",
     "output_type": "stream",
     "text": [
      "\r",
      "  0%|                                                                                            | 0/5 [00:00<?, ?it/s]"
     ]
    },
    {
     "name": "stdout",
     "output_type": "stream",
     "text": [
      "model 5, 0 fitted\n",
      "0 seconds\n"
     ]
    },
    {
     "name": "stderr",
     "output_type": "stream",
     "text": [
      "100%|████████████████████████████████████████████████████████████████████████████████████| 5/5 [00:05<00:00,  1.12s/it]\n"
     ]
    },
    {
     "name": "stdout",
     "output_type": "stream",
     "text": [
      "model 5, 0 circuited\n",
      "6 seconds\n",
      "model 5, 0 tested: acc 0.8849372384937239, log-lik -98.56462680981\n",
      "13 seconds\n"
     ]
    },
    {
     "name": "stderr",
     "output_type": "stream",
     "text": [
      "\r",
      "  0%|                                                                                            | 0/5 [00:00<?, ?it/s]"
     ]
    },
    {
     "name": "stdout",
     "output_type": "stream",
     "text": [
      "model 5, 1 fitted\n",
      "15 seconds\n"
     ]
    },
    {
     "name": "stderr",
     "output_type": "stream",
     "text": [
      "100%|████████████████████████████████████████████████████████████████████████████████████| 5/5 [00:04<00:00,  1.01it/s]\n"
     ]
    },
    {
     "name": "stdout",
     "output_type": "stream",
     "text": [
      "model 5, 1 circuited\n",
      "20 seconds\n",
      "model 5, 1 tested: acc 0.8859832635983264, log-lik -98.24828111419907\n",
      "28 seconds\n"
     ]
    },
    {
     "name": "stderr",
     "output_type": "stream",
     "text": [
      "\r",
      "  0%|                                                                                            | 0/5 [00:00<?, ?it/s]"
     ]
    },
    {
     "name": "stdout",
     "output_type": "stream",
     "text": [
      "model 5, 2 fitted\n",
      "29 seconds\n"
     ]
    },
    {
     "name": "stderr",
     "output_type": "stream",
     "text": [
      "100%|████████████████████████████████████████████████████████████████████████████████████| 5/5 [00:04<00:00,  1.10it/s]\n"
     ]
    },
    {
     "name": "stdout",
     "output_type": "stream",
     "text": [
      "model 5, 2 circuited\n",
      "34 seconds\n",
      "model 5, 2 tested: acc 0.9058577405857741, log-lik -98.24560380038649\n",
      "40 seconds\n",
      "5 finished, 41 seconds\n",
      "Performance: [-98.56462680981, -98.24828111419907, -98.24560380038649]\n"
     ]
    },
    {
     "name": "stderr",
     "output_type": "stream",
     "text": [
      "\r",
      "  0%|                                                                                           | 0/10 [00:00<?, ?it/s]"
     ]
    },
    {
     "name": "stdout",
     "output_type": "stream",
     "text": [
      "model 10, 0 fitted\n",
      "42 seconds\n"
     ]
    },
    {
     "name": "stderr",
     "output_type": "stream",
     "text": [
      "100%|██████████████████████████████████████████████████████████████████████████████████| 10/10 [00:11<00:00,  1.15s/it]\n"
     ]
    },
    {
     "name": "stdout",
     "output_type": "stream",
     "text": [
      "model 10, 0 circuited\n",
      "54 seconds\n",
      "model 10, 0 tested: acc 0.9048117154811716, log-lik -96.77517662872475\n",
      "70 seconds\n"
     ]
    },
    {
     "name": "stderr",
     "output_type": "stream",
     "text": [
      "\r",
      "  0%|                                                                                           | 0/10 [00:00<?, ?it/s]"
     ]
    },
    {
     "name": "stdout",
     "output_type": "stream",
     "text": [
      "model 10, 1 fitted\n",
      "73 seconds\n"
     ]
    },
    {
     "name": "stderr",
     "output_type": "stream",
     "text": [
      "100%|██████████████████████████████████████████████████████████████████████████████████| 10/10 [00:11<00:00,  1.13s/it]\n"
     ]
    },
    {
     "name": "stdout",
     "output_type": "stream",
     "text": [
      "model 10, 1 circuited\n",
      "84 seconds\n",
      "model 10, 1 tested: acc 0.8870292887029289, log-lik -96.55429933774427\n",
      "109 seconds\n"
     ]
    },
    {
     "name": "stderr",
     "output_type": "stream",
     "text": [
      "\r",
      "  0%|                                                                                           | 0/10 [00:00<?, ?it/s]"
     ]
    },
    {
     "name": "stdout",
     "output_type": "stream",
     "text": [
      "model 10, 2 fitted\n",
      "111 seconds\n"
     ]
    },
    {
     "name": "stderr",
     "output_type": "stream",
     "text": [
      "100%|██████████████████████████████████████████████████████████████████████████████████| 10/10 [00:11<00:00,  1.13s/it]\n"
     ]
    },
    {
     "name": "stdout",
     "output_type": "stream",
     "text": [
      "model 10, 2 circuited\n",
      "123 seconds\n",
      "model 10, 2 tested: acc 0.9184100418410042, log-lik -96.80127987265982\n",
      "144 seconds\n",
      "10 finished, 145 seconds\n",
      "Performance: [-96.77517662872475, -96.55429933774427, -96.80127987265982]\n"
     ]
    },
    {
     "name": "stderr",
     "output_type": "stream",
     "text": [
      "\r",
      "  0%|                                                                                           | 0/15 [00:00<?, ?it/s]"
     ]
    },
    {
     "name": "stdout",
     "output_type": "stream",
     "text": [
      "model 15, 0 fitted\n",
      "148 seconds\n"
     ]
    },
    {
     "name": "stderr",
     "output_type": "stream",
     "text": [
      "100%|██████████████████████████████████████████████████████████████████████████████████| 15/15 [00:20<00:00,  1.37s/it]\n"
     ]
    },
    {
     "name": "stdout",
     "output_type": "stream",
     "text": [
      "model 15, 0 circuited\n",
      "168 seconds\n",
      "model 15, 0 tested: acc 0.9121338912133892, log-lik -95.67370974932054\n",
      "196 seconds\n"
     ]
    },
    {
     "name": "stderr",
     "output_type": "stream",
     "text": [
      "\r",
      "  0%|                                                                                           | 0/15 [00:00<?, ?it/s]"
     ]
    },
    {
     "name": "stdout",
     "output_type": "stream",
     "text": [
      "model 15, 1 fitted\n",
      "200 seconds\n"
     ]
    },
    {
     "name": "stderr",
     "output_type": "stream",
     "text": [
      "100%|██████████████████████████████████████████████████████████████████████████████████| 15/15 [00:19<00:00,  1.28s/it]\n"
     ]
    },
    {
     "name": "stdout",
     "output_type": "stream",
     "text": [
      "model 15, 1 circuited\n",
      "220 seconds\n",
      "model 15, 1 tested: acc 0.9173640167364017, log-lik -95.9189333997679\n",
      "246 seconds\n"
     ]
    },
    {
     "name": "stderr",
     "output_type": "stream",
     "text": [
      "\r",
      "  0%|                                                                                           | 0/15 [00:00<?, ?it/s]"
     ]
    },
    {
     "name": "stdout",
     "output_type": "stream",
     "text": [
      "model 15, 2 fitted\n",
      "251 seconds\n"
     ]
    },
    {
     "name": "stderr",
     "output_type": "stream",
     "text": [
      "100%|██████████████████████████████████████████████████████████████████████████████████| 15/15 [00:17<00:00,  1.20s/it]\n"
     ]
    },
    {
     "name": "stdout",
     "output_type": "stream",
     "text": [
      "model 15, 2 circuited\n",
      "269 seconds\n",
      "model 15, 2 tested: acc 0.9163179916317992, log-lik -96.04386897391785\n",
      "296 seconds\n",
      "15 finished, 298 seconds\n",
      "Performance: [-95.67370974932054, -95.9189333997679, -96.04386897391785]\n"
     ]
    },
    {
     "name": "stderr",
     "output_type": "stream",
     "text": [
      "\r",
      "  0%|                                                                                           | 0/20 [00:00<?, ?it/s]"
     ]
    },
    {
     "name": "stdout",
     "output_type": "stream",
     "text": [
      "model 20, 0 fitted\n",
      "301 seconds\n"
     ]
    },
    {
     "name": "stderr",
     "output_type": "stream",
     "text": [
      "100%|██████████████████████████████████████████████████████████████████████████████████| 20/20 [00:25<00:00,  1.28s/it]\n"
     ]
    },
    {
     "name": "stdout",
     "output_type": "stream",
     "text": [
      "model 20, 0 circuited\n",
      "327 seconds\n",
      "model 20, 0 tested: acc 0.9173640167364017, log-lik -95.40640053689127\n",
      "362 seconds\n"
     ]
    },
    {
     "name": "stderr",
     "output_type": "stream",
     "text": [
      "\r",
      "  0%|                                                                                           | 0/20 [00:00<?, ?it/s]"
     ]
    },
    {
     "name": "stdout",
     "output_type": "stream",
     "text": [
      "model 20, 1 fitted\n",
      "368 seconds\n"
     ]
    },
    {
     "name": "stderr",
     "output_type": "stream",
     "text": [
      "100%|██████████████████████████████████████████████████████████████████████████████████| 20/20 [00:24<00:00,  1.24s/it]\n"
     ]
    },
    {
     "name": "stdout",
     "output_type": "stream",
     "text": [
      "model 20, 1 circuited\n",
      "392 seconds\n",
      "model 20, 1 tested: acc 0.9079497907949791, log-lik -95.2321519527046\n",
      "425 seconds\n"
     ]
    },
    {
     "name": "stderr",
     "output_type": "stream",
     "text": [
      "\r",
      "  0%|                                                                                           | 0/20 [00:00<?, ?it/s]"
     ]
    },
    {
     "name": "stdout",
     "output_type": "stream",
     "text": [
      "model 20, 2 fitted\n",
      "431 seconds\n"
     ]
    },
    {
     "name": "stderr",
     "output_type": "stream",
     "text": [
      "100%|██████████████████████████████████████████████████████████████████████████████████| 20/20 [00:23<00:00,  1.15s/it]\n"
     ]
    },
    {
     "name": "stdout",
     "output_type": "stream",
     "text": [
      "model 20, 2 circuited\n",
      "454 seconds\n",
      "model 20, 2 tested: acc 0.9142259414225942, log-lik -95.54675849259229\n",
      "486 seconds\n",
      "20 finished, 489 seconds\n",
      "Performance: [-95.40640053689127, -95.2321519527046, -95.54675849259229]\n"
     ]
    },
    {
     "name": "stderr",
     "output_type": "stream",
     "text": [
      "\r",
      "  0%|                                                                                           | 0/25 [00:00<?, ?it/s]"
     ]
    },
    {
     "name": "stdout",
     "output_type": "stream",
     "text": [
      "model 25, 0 fitted\n",
      "493 seconds\n"
     ]
    },
    {
     "name": "stderr",
     "output_type": "stream",
     "text": [
      "100%|██████████████████████████████████████████████████████████████████████████████████| 25/25 [00:29<00:00,  1.18s/it]\n"
     ]
    },
    {
     "name": "stdout",
     "output_type": "stream",
     "text": [
      "model 25, 0 circuited\n",
      "522 seconds\n",
      "model 25, 0 tested: acc 0.9184100418410042, log-lik -95.20030973614341\n",
      "566 seconds\n"
     ]
    },
    {
     "name": "stderr",
     "output_type": "stream",
     "text": [
      "\r",
      "  0%|                                                                                           | 0/25 [00:00<?, ?it/s]"
     ]
    },
    {
     "name": "stdout",
     "output_type": "stream",
     "text": [
      "model 25, 1 fitted\n",
      "574 seconds\n"
     ]
    },
    {
     "name": "stderr",
     "output_type": "stream",
     "text": [
      "100%|██████████████████████████████████████████████████████████████████████████████████| 25/25 [00:27<00:00,  1.10s/it]\n"
     ]
    },
    {
     "name": "stdout",
     "output_type": "stream",
     "text": [
      "model 25, 1 circuited\n",
      "602 seconds\n",
      "model 25, 1 tested: acc 0.9006276150627615, log-lik -94.76215362583747\n",
      "642 seconds\n"
     ]
    },
    {
     "name": "stderr",
     "output_type": "stream",
     "text": [
      "\r",
      "  0%|                                                                                           | 0/25 [00:00<?, ?it/s]"
     ]
    },
    {
     "name": "stdout",
     "output_type": "stream",
     "text": [
      "model 25, 2 fitted\n",
      "649 seconds\n"
     ]
    },
    {
     "name": "stderr",
     "output_type": "stream",
     "text": [
      "100%|██████████████████████████████████████████████████████████████████████████████████| 25/25 [00:26<00:00,  1.04s/it]\n"
     ]
    },
    {
     "name": "stdout",
     "output_type": "stream",
     "text": [
      "model 25, 2 circuited\n",
      "675 seconds\n",
      "model 25, 2 tested: acc 0.9246861924686193, log-lik -94.54851313263416\n",
      "714 seconds\n",
      "25 finished, 719 seconds\n",
      "Performance: [-95.20030973614341, -94.76215362583747, -94.54851313263416]\n"
     ]
    },
    {
     "name": "stderr",
     "output_type": "stream",
     "text": [
      "\r",
      "  0%|                                                                                           | 0/30 [00:00<?, ?it/s]"
     ]
    },
    {
     "name": "stdout",
     "output_type": "stream",
     "text": [
      "model 30, 0 fitted\n",
      "723 seconds\n"
     ]
    },
    {
     "name": "stderr",
     "output_type": "stream",
     "text": [
      "100%|██████████████████████████████████████████████████████████████████████████████████| 30/30 [00:31<00:00,  1.04s/it]\n"
     ]
    },
    {
     "name": "stdout",
     "output_type": "stream",
     "text": [
      "model 30, 0 circuited\n",
      "754 seconds\n",
      "model 30, 0 tested: acc 0.9173640167364017, log-lik -95.26681958451198\n",
      "802 seconds\n"
     ]
    },
    {
     "name": "stderr",
     "output_type": "stream",
     "text": [
      "\r",
      "  0%|                                                                                           | 0/30 [00:00<?, ?it/s]"
     ]
    },
    {
     "name": "stdout",
     "output_type": "stream",
     "text": [
      "model 30, 1 fitted\n",
      "811 seconds\n"
     ]
    },
    {
     "name": "stderr",
     "output_type": "stream",
     "text": [
      "100%|██████████████████████████████████████████████████████████████████████████████████| 30/30 [00:34<00:00,  1.15s/it]\n"
     ]
    },
    {
     "name": "stdout",
     "output_type": "stream",
     "text": [
      "model 30, 1 circuited\n",
      "845 seconds\n",
      "model 30, 1 tested: acc 0.9121338912133892, log-lik -94.97143262134922\n",
      "897 seconds\n"
     ]
    },
    {
     "name": "stderr",
     "output_type": "stream",
     "text": [
      "\r",
      "  0%|                                                                                           | 0/30 [00:00<?, ?it/s]"
     ]
    },
    {
     "name": "stdout",
     "output_type": "stream",
     "text": [
      "model 30, 2 fitted\n",
      "906 seconds\n"
     ]
    },
    {
     "name": "stderr",
     "output_type": "stream",
     "text": [
      "100%|██████████████████████████████████████████████████████████████████████████████████| 30/30 [00:26<00:00,  1.12it/s]\n"
     ]
    },
    {
     "name": "stdout",
     "output_type": "stream",
     "text": [
      "model 30, 2 circuited\n",
      "933 seconds\n",
      "model 30, 2 tested: acc 0.9131799163179917, log-lik -94.61388678865721\n",
      "991 seconds\n",
      "30 finished, 999 seconds\n",
      "Performance: [-95.26681958451198, -94.97143262134922, -94.61388678865721]\n"
     ]
    },
    {
     "name": "stderr",
     "output_type": "stream",
     "text": [
      "\r",
      "  0%|                                                                                           | 0/35 [00:00<?, ?it/s]"
     ]
    },
    {
     "name": "stdout",
     "output_type": "stream",
     "text": [
      "model 35, 0 fitted\n",
      "1004 seconds\n"
     ]
    },
    {
     "name": "stderr",
     "output_type": "stream",
     "text": [
      "100%|██████████████████████████████████████████████████████████████████████████████████| 35/35 [00:33<00:00,  1.04it/s]\n"
     ]
    },
    {
     "name": "stdout",
     "output_type": "stream",
     "text": [
      "model 35, 0 circuited\n",
      "1038 seconds\n",
      "model 35, 0 tested: acc 0.9079497907949791, log-lik -94.62662866629155\n",
      "1093 seconds\n"
     ]
    },
    {
     "name": "stderr",
     "output_type": "stream",
     "text": [
      "\r",
      "  0%|                                                                                           | 0/35 [00:00<?, ?it/s]"
     ]
    },
    {
     "name": "stdout",
     "output_type": "stream",
     "text": [
      "model 35, 1 fitted\n",
      "1106 seconds\n"
     ]
    },
    {
     "name": "stderr",
     "output_type": "stream",
     "text": [
      "100%|██████████████████████████████████████████████████████████████████████████████████| 35/35 [00:32<00:00,  1.09it/s]\n"
     ]
    },
    {
     "name": "stdout",
     "output_type": "stream",
     "text": [
      "model 35, 1 circuited\n",
      "1138 seconds\n",
      "model 35, 1 tested: acc 0.9184100418410042, log-lik -94.68065038435769\n",
      "1188 seconds\n"
     ]
    },
    {
     "name": "stderr",
     "output_type": "stream",
     "text": [
      "\r",
      "  0%|                                                                                           | 0/35 [00:00<?, ?it/s]"
     ]
    },
    {
     "name": "stdout",
     "output_type": "stream",
     "text": [
      "model 35, 2 fitted\n",
      "1199 seconds\n"
     ]
    },
    {
     "name": "stderr",
     "output_type": "stream",
     "text": [
      "100%|██████████████████████████████████████████████████████████████████████████████████| 35/35 [00:31<00:00,  1.12it/s]\n"
     ]
    },
    {
     "name": "stdout",
     "output_type": "stream",
     "text": [
      "model 35, 2 circuited\n",
      "1230 seconds\n",
      "model 35, 2 tested: acc 0.901673640167364, log-lik -94.50294850844031\n",
      "1279 seconds\n",
      "35 finished, 1284 seconds\n",
      "Performance: [-94.62662866629155, -94.68065038435769, -94.50294850844031]\n"
     ]
    },
    {
     "name": "stderr",
     "output_type": "stream",
     "text": [
      "\r",
      "  0%|                                                                                           | 0/40 [00:00<?, ?it/s]"
     ]
    },
    {
     "name": "stdout",
     "output_type": "stream",
     "text": [
      "model 40, 0 fitted\n",
      "1290 seconds\n"
     ]
    },
    {
     "name": "stderr",
     "output_type": "stream",
     "text": [
      "100%|██████████████████████████████████████████████████████████████████████████████████| 40/40 [00:38<00:00,  1.04it/s]\n"
     ]
    },
    {
     "name": "stdout",
     "output_type": "stream",
     "text": [
      "model 40, 0 circuited\n",
      "1328 seconds\n",
      "model 40, 0 tested: acc 0.9225941422594143, log-lik -94.07388797459713\n",
      "1386 seconds\n"
     ]
    },
    {
     "name": "stderr",
     "output_type": "stream",
     "text": [
      "\r",
      "  0%|                                                                                           | 0/40 [00:00<?, ?it/s]"
     ]
    },
    {
     "name": "stdout",
     "output_type": "stream",
     "text": [
      "model 40, 1 fitted\n",
      "1399 seconds\n"
     ]
    },
    {
     "name": "stderr",
     "output_type": "stream",
     "text": [
      "100%|██████████████████████████████████████████████████████████████████████████████████| 40/40 [00:36<00:00,  1.08it/s]\n"
     ]
    },
    {
     "name": "stdout",
     "output_type": "stream",
     "text": [
      "model 40, 1 circuited\n",
      "1435 seconds\n",
      "model 40, 1 tested: acc 0.9121338912133892, log-lik -93.86776782319832\n",
      "1494 seconds\n"
     ]
    },
    {
     "name": "stderr",
     "output_type": "stream",
     "text": [
      "\r",
      "  0%|                                                                                           | 0/40 [00:00<?, ?it/s]"
     ]
    },
    {
     "name": "stdout",
     "output_type": "stream",
     "text": [
      "model 40, 2 fitted\n",
      "1507 seconds\n"
     ]
    },
    {
     "name": "stderr",
     "output_type": "stream",
     "text": [
      "100%|██████████████████████████████████████████████████████████████████████████████████| 40/40 [00:39<00:00,  1.01it/s]\n"
     ]
    },
    {
     "name": "stdout",
     "output_type": "stream",
     "text": [
      "model 40, 2 circuited\n",
      "1546 seconds\n",
      "model 40, 2 tested: acc 0.9142259414225942, log-lik -94.4248235196171\n",
      "1602 seconds\n",
      "40 finished, 1613 seconds\n",
      "Performance: [-94.07388797459713, -93.86776782319832, -94.4248235196171]\n"
     ]
    },
    {
     "name": "stderr",
     "output_type": "stream",
     "text": [
      "\r",
      "  0%|                                                                                           | 0/45 [00:00<?, ?it/s]"
     ]
    },
    {
     "name": "stdout",
     "output_type": "stream",
     "text": [
      "model 45, 0 fitted\n",
      "1620 seconds\n"
     ]
    },
    {
     "name": "stderr",
     "output_type": "stream",
     "text": [
      "100%|██████████████████████████████████████████████████████████████████████████████████| 45/45 [01:28<00:00,  1.97s/it]\n"
     ]
    },
    {
     "name": "stdout",
     "output_type": "stream",
     "text": [
      "model 45, 0 circuited\n",
      "1709 seconds\n",
      "model 45, 0 tested: acc 0.9215481171548117, log-lik -94.29216969949097\n",
      "1824 seconds\n"
     ]
    },
    {
     "name": "stderr",
     "output_type": "stream",
     "text": [
      "\r",
      "  0%|                                                                                           | 0/45 [00:00<?, ?it/s]"
     ]
    },
    {
     "name": "stdout",
     "output_type": "stream",
     "text": [
      "model 45, 1 fitted\n",
      "1839 seconds\n"
     ]
    },
    {
     "name": "stderr",
     "output_type": "stream",
     "text": [
      "100%|██████████████████████████████████████████████████████████████████████████████████| 45/45 [01:15<00:00,  1.68s/it]\n"
     ]
    },
    {
     "name": "stdout",
     "output_type": "stream",
     "text": [
      "model 45, 1 circuited\n",
      "1915 seconds\n",
      "model 45, 1 tested: acc 0.9110878661087867, log-lik -93.73205959500771\n",
      "2019 seconds\n"
     ]
    },
    {
     "name": "stderr",
     "output_type": "stream",
     "text": [
      "\r",
      "  0%|                                                                                           | 0/45 [00:00<?, ?it/s]"
     ]
    },
    {
     "name": "stdout",
     "output_type": "stream",
     "text": [
      "model 45, 2 fitted\n",
      "2033 seconds\n"
     ]
    },
    {
     "name": "stderr",
     "output_type": "stream",
     "text": [
      "100%|██████████████████████████████████████████████████████████████████████████████████| 45/45 [01:10<00:00,  1.57s/it]\n"
     ]
    },
    {
     "name": "stdout",
     "output_type": "stream",
     "text": [
      "model 45, 2 circuited\n",
      "2104 seconds\n",
      "model 45, 2 tested: acc 0.9131799163179917, log-lik -94.17670326949467\n",
      "2202 seconds\n",
      "45 finished, 2210 seconds\n",
      "Performance: [-94.29216969949097, -93.73205959500771, -94.17670326949467]\n"
     ]
    },
    {
     "name": "stderr",
     "output_type": "stream",
     "text": [
      "\r",
      "  0%|                                                                                           | 0/50 [00:00<?, ?it/s]"
     ]
    },
    {
     "name": "stdout",
     "output_type": "stream",
     "text": [
      "model 50, 0 fitted\n",
      "2216 seconds\n"
     ]
    },
    {
     "name": "stderr",
     "output_type": "stream",
     "text": [
      "100%|██████████████████████████████████████████████████████████████████████████████████| 50/50 [01:19<00:00,  1.59s/it]\n"
     ]
    },
    {
     "name": "stdout",
     "output_type": "stream",
     "text": [
      "model 50, 0 circuited\n",
      "2296 seconds\n",
      "model 50, 0 tested: acc 0.9163179916317992, log-lik -93.64939547323361\n",
      "2410 seconds\n"
     ]
    },
    {
     "name": "stderr",
     "output_type": "stream",
     "text": [
      "\r",
      "  0%|                                                                                           | 0/50 [00:00<?, ?it/s]"
     ]
    },
    {
     "name": "stdout",
     "output_type": "stream",
     "text": [
      "model 50, 1 fitted\n",
      "2429 seconds\n"
     ]
    },
    {
     "name": "stderr",
     "output_type": "stream",
     "text": [
      "100%|██████████████████████████████████████████████████████████████████████████████████| 50/50 [01:12<00:00,  1.45s/it]\n"
     ]
    },
    {
     "name": "stdout",
     "output_type": "stream",
     "text": [
      "model 50, 1 circuited\n",
      "2502 seconds\n",
      "model 50, 1 tested: acc 0.9079497907949791, log-lik -93.67824680156555\n",
      "2729 seconds\n"
     ]
    },
    {
     "name": "stderr",
     "output_type": "stream",
     "text": [
      "\r",
      "  0%|                                                                                           | 0/50 [00:00<?, ?it/s]"
     ]
    },
    {
     "name": "stdout",
     "output_type": "stream",
     "text": [
      "model 50, 2 fitted\n",
      "2816 seconds\n"
     ]
    },
    {
     "name": "stderr",
     "output_type": "stream",
     "text": [
      "100%|██████████████████████████████████████████████████████████████████████████████████| 50/50 [05:03<00:00,  6.07s/it]\n"
     ]
    },
    {
     "name": "stdout",
     "output_type": "stream",
     "text": [
      "model 50, 2 circuited\n",
      "3120 seconds\n",
      "model 50, 2 tested: acc 0.9184100418410042, log-lik -93.72233831628938\n",
      "3389 seconds\n",
      "50 finished, 3419 seconds\n",
      "Performance: [-93.64939547323361, -93.67824680156555, -93.72233831628938]\n",
      "/n/ndepth 9 end: 9029 seconds /n/n/n\n",
      "10 start\n",
      "data split\n"
     ]
    },
    {
     "name": "stderr",
     "output_type": "stream",
     "text": [
      "\r",
      "  0%|                                                                                            | 0/5 [00:00<?, ?it/s]"
     ]
    },
    {
     "name": "stdout",
     "output_type": "stream",
     "text": [
      "model 5, 0 fitted\n",
      "2 seconds\n"
     ]
    },
    {
     "name": "stderr",
     "output_type": "stream",
     "text": [
      "100%|████████████████████████████████████████████████████████████████████████████████████| 5/5 [00:19<00:00,  3.82s/it]\n"
     ]
    },
    {
     "name": "stdout",
     "output_type": "stream",
     "text": [
      "model 5, 0 circuited\n",
      "22 seconds\n",
      "model 5, 0 tested: acc 0.9215481171548117, log-lik -99.13489123692825\n",
      "45 seconds\n"
     ]
    },
    {
     "name": "stderr",
     "output_type": "stream",
     "text": [
      "\r",
      "  0%|                                                                                            | 0/5 [00:00<?, ?it/s]"
     ]
    },
    {
     "name": "stdout",
     "output_type": "stream",
     "text": [
      "model 5, 1 fitted\n",
      "50 seconds\n"
     ]
    },
    {
     "name": "stderr",
     "output_type": "stream",
     "text": [
      "100%|████████████████████████████████████████████████████████████████████████████████████| 5/5 [00:34<00:00,  6.82s/it]\n"
     ]
    },
    {
     "name": "stdout",
     "output_type": "stream",
     "text": [
      "model 5, 1 circuited\n",
      "84 seconds\n",
      "model 5, 1 tested: acc 0.9152719665271967, log-lik -98.60002857716027\n",
      "117 seconds\n"
     ]
    },
    {
     "name": "stderr",
     "output_type": "stream",
     "text": [
      "\r",
      "  0%|                                                                                            | 0/5 [00:00<?, ?it/s]"
     ]
    },
    {
     "name": "stdout",
     "output_type": "stream",
     "text": [
      "model 5, 2 fitted\n",
      "127 seconds\n"
     ]
    },
    {
     "name": "stderr",
     "output_type": "stream",
     "text": [
      "100%|████████████████████████████████████████████████████████████████████████████████████| 5/5 [00:15<00:00,  3.19s/it]\n"
     ]
    },
    {
     "name": "stdout",
     "output_type": "stream",
     "text": [
      "model 5, 2 circuited\n",
      "142 seconds\n",
      "model 5, 2 tested: acc 0.8985355648535565, log-lik -100.11900162857087\n",
      "170 seconds\n",
      "5 finished, 175 seconds\n",
      "Performance: [-99.13489123692825, -98.60002857716027, -100.11900162857087]\n"
     ]
    },
    {
     "name": "stderr",
     "output_type": "stream",
     "text": [
      "\r",
      "  0%|                                                                                           | 0/10 [00:00<?, ?it/s]"
     ]
    },
    {
     "name": "stdout",
     "output_type": "stream",
     "text": [
      "model 10, 0 fitted\n",
      "183 seconds\n"
     ]
    },
    {
     "name": "stderr",
     "output_type": "stream",
     "text": [
      "100%|██████████████████████████████████████████████████████████████████████████████████| 10/10 [00:40<00:00,  4.08s/it]\n"
     ]
    },
    {
     "name": "stdout",
     "output_type": "stream",
     "text": [
      "model 10, 0 circuited\n",
      "224 seconds\n",
      "model 10, 0 tested: acc 0.9100418410041841, log-lik -96.1904162863565\n",
      "286 seconds\n"
     ]
    },
    {
     "name": "stderr",
     "output_type": "stream",
     "text": [
      "\r",
      "  0%|                                                                                           | 0/10 [00:00<?, ?it/s]"
     ]
    },
    {
     "name": "stdout",
     "output_type": "stream",
     "text": [
      "model 10, 1 fitted\n",
      "295 seconds\n"
     ]
    },
    {
     "name": "stderr",
     "output_type": "stream",
     "text": [
      "100%|██████████████████████████████████████████████████████████████████████████████████| 10/10 [00:57<00:00,  5.75s/it]\n"
     ]
    },
    {
     "name": "stdout",
     "output_type": "stream",
     "text": [
      "model 10, 1 circuited\n",
      "352 seconds\n",
      "model 10, 1 tested: acc 0.9236401673640168, log-lik -96.52184096538213\n",
      "394 seconds\n"
     ]
    },
    {
     "name": "stderr",
     "output_type": "stream",
     "text": [
      "\r",
      "  0%|                                                                                           | 0/10 [00:00<?, ?it/s]"
     ]
    },
    {
     "name": "stdout",
     "output_type": "stream",
     "text": [
      "model 10, 2 fitted\n",
      "403 seconds\n"
     ]
    },
    {
     "name": "stderr",
     "output_type": "stream",
     "text": [
      "100%|██████████████████████████████████████████████████████████████████████████████████| 10/10 [00:35<00:00,  3.59s/it]\n"
     ]
    },
    {
     "name": "stdout",
     "output_type": "stream",
     "text": [
      "model 10, 2 circuited\n",
      "439 seconds\n",
      "model 10, 2 tested: acc 0.9142259414225942, log-lik -96.34521757271155\n",
      "499 seconds\n",
      "10 finished, 509 seconds\n",
      "Performance: [-96.1904162863565, -96.52184096538213, -96.34521757271155]\n"
     ]
    },
    {
     "name": "stderr",
     "output_type": "stream",
     "text": [
      "\r",
      "  0%|                                                                                           | 0/15 [00:00<?, ?it/s]"
     ]
    },
    {
     "name": "stdout",
     "output_type": "stream",
     "text": [
      "model 15, 0 fitted\n",
      "519 seconds\n"
     ]
    },
    {
     "name": "stderr",
     "output_type": "stream",
     "text": [
      "100%|██████████████████████████████████████████████████████████████████████████████████| 15/15 [01:25<00:00,  5.68s/it]\n"
     ]
    },
    {
     "name": "stdout",
     "output_type": "stream",
     "text": [
      "model 15, 0 circuited\n",
      "604 seconds\n",
      "model 15, 0 tested: acc 0.9142259414225942, log-lik -95.49318976703054\n",
      "698 seconds\n"
     ]
    },
    {
     "name": "stderr",
     "output_type": "stream",
     "text": [
      "\r",
      "  0%|                                                                                           | 0/15 [00:00<?, ?it/s]"
     ]
    },
    {
     "name": "stdout",
     "output_type": "stream",
     "text": [
      "model 15, 1 fitted\n",
      "719 seconds\n"
     ]
    },
    {
     "name": "stderr",
     "output_type": "stream",
     "text": [
      "100%|██████████████████████████████████████████████████████████████████████████████████| 15/15 [01:09<00:00,  4.64s/it]\n"
     ]
    },
    {
     "name": "stdout",
     "output_type": "stream",
     "text": [
      "model 15, 1 circuited\n",
      "788 seconds\n",
      "model 15, 1 tested: acc 0.9121338912133892, log-lik -95.37047432493873\n",
      "866 seconds\n"
     ]
    },
    {
     "name": "stderr",
     "output_type": "stream",
     "text": [
      "\r",
      "  0%|                                                                                           | 0/15 [00:00<?, ?it/s]"
     ]
    },
    {
     "name": "stdout",
     "output_type": "stream",
     "text": [
      "model 15, 2 fitted\n",
      "880 seconds\n"
     ]
    },
    {
     "name": "stderr",
     "output_type": "stream",
     "text": [
      "100%|██████████████████████████████████████████████████████████████████████████████████| 15/15 [01:03<00:00,  4.25s/it]\n"
     ]
    },
    {
     "name": "stdout",
     "output_type": "stream",
     "text": [
      "model 15, 2 circuited\n",
      "944 seconds\n",
      "model 15, 2 tested: acc 0.9246861924686193, log-lik -95.20309481174351\n",
      "1032 seconds\n",
      "15 finished, 1044 seconds\n",
      "Performance: [-95.49318976703054, -95.37047432493873, -95.20309481174351]\n"
     ]
    },
    {
     "name": "stderr",
     "output_type": "stream",
     "text": [
      "\r",
      "  0%|                                                                                           | 0/20 [00:00<?, ?it/s]"
     ]
    },
    {
     "name": "stdout",
     "output_type": "stream",
     "text": [
      "model 20, 0 fitted\n",
      "1057 seconds\n"
     ]
    },
    {
     "name": "stderr",
     "output_type": "stream",
     "text": [
      "100%|██████████████████████████████████████████████████████████████████████████████████| 20/20 [01:33<00:00,  4.68s/it]\n"
     ]
    },
    {
     "name": "stdout",
     "output_type": "stream",
     "text": [
      "model 20, 0 circuited\n",
      "1151 seconds\n",
      "model 20, 0 tested: acc 0.9236401673640168, log-lik -94.41375460274338\n",
      "1279 seconds\n"
     ]
    },
    {
     "name": "stderr",
     "output_type": "stream",
     "text": [
      "\r",
      "  0%|                                                                                           | 0/20 [00:00<?, ?it/s]"
     ]
    },
    {
     "name": "stdout",
     "output_type": "stream",
     "text": [
      "model 20, 1 fitted\n",
      "1302 seconds\n"
     ]
    },
    {
     "name": "stderr",
     "output_type": "stream",
     "text": [
      "100%|██████████████████████████████████████████████████████████████████████████████████| 20/20 [01:34<00:00,  4.73s/it]\n"
     ]
    },
    {
     "name": "stdout",
     "output_type": "stream",
     "text": [
      "model 20, 1 circuited\n",
      "1397 seconds\n",
      "model 20, 1 tested: acc 0.9079497907949791, log-lik -94.62531671058981\n",
      "1502 seconds\n"
     ]
    },
    {
     "name": "stderr",
     "output_type": "stream",
     "text": [
      "\r",
      "  0%|                                                                                           | 0/20 [00:00<?, ?it/s]"
     ]
    },
    {
     "name": "stdout",
     "output_type": "stream",
     "text": [
      "model 20, 2 fitted\n",
      "1522 seconds\n"
     ]
    },
    {
     "name": "stderr",
     "output_type": "stream",
     "text": [
      "100%|██████████████████████████████████████████████████████████████████████████████████| 20/20 [01:48<00:00,  5.43s/it]\n"
     ]
    },
    {
     "name": "stdout",
     "output_type": "stream",
     "text": [
      "model 20, 2 circuited\n",
      "1631 seconds\n",
      "model 20, 2 tested: acc 0.9163179916317992, log-lik -94.59037404451654\n",
      "1720 seconds\n",
      "20 finished, 1732 seconds\n",
      "Performance: [-94.41375460274338, -94.62531671058981, -94.59037404451654]\n"
     ]
    },
    {
     "name": "stderr",
     "output_type": "stream",
     "text": [
      "\r",
      "  0%|                                                                                           | 0/25 [00:00<?, ?it/s]"
     ]
    },
    {
     "name": "stdout",
     "output_type": "stream",
     "text": [
      "model 25, 0 fitted\n",
      "1745 seconds\n"
     ]
    },
    {
     "name": "stderr",
     "output_type": "stream",
     "text": [
      "100%|██████████████████████████████████████████████████████████████████████████████████| 25/25 [01:45<00:00,  4.20s/it]\n"
     ]
    },
    {
     "name": "stdout",
     "output_type": "stream",
     "text": [
      "model 25, 0 circuited\n",
      "1850 seconds\n",
      "model 25, 0 tested: acc 0.9163179916317992, log-lik -93.49102546674725\n",
      "1987 seconds\n"
     ]
    },
    {
     "name": "stderr",
     "output_type": "stream",
     "text": [
      "\r",
      "  0%|                                                                                           | 0/25 [00:00<?, ?it/s]"
     ]
    },
    {
     "name": "stdout",
     "output_type": "stream",
     "text": [
      "model 25, 1 fitted\n",
      "2012 seconds\n"
     ]
    },
    {
     "name": "stderr",
     "output_type": "stream",
     "text": [
      "100%|██████████████████████████████████████████████████████████████████████████████████| 25/25 [01:46<00:00,  4.24s/it]\n"
     ]
    },
    {
     "name": "stdout",
     "output_type": "stream",
     "text": [
      "model 25, 1 circuited\n",
      "2118 seconds\n",
      "model 25, 1 tested: acc 0.9320083682008369, log-lik -94.31982005888925\n",
      "2231 seconds\n"
     ]
    },
    {
     "name": "stderr",
     "output_type": "stream",
     "text": [
      "\r",
      "  0%|                                                                                           | 0/25 [00:00<?, ?it/s]"
     ]
    },
    {
     "name": "stdout",
     "output_type": "stream",
     "text": [
      "model 25, 2 fitted\n",
      "2254 seconds\n"
     ]
    },
    {
     "name": "stderr",
     "output_type": "stream",
     "text": [
      "100%|██████████████████████████████████████████████████████████████████████████████████| 25/25 [01:32<00:00,  3.70s/it]\n"
     ]
    },
    {
     "name": "stdout",
     "output_type": "stream",
     "text": [
      "model 25, 2 circuited\n",
      "2346 seconds\n",
      "model 25, 2 tested: acc 0.9236401673640168, log-lik -94.12171197154483\n",
      "2462 seconds\n",
      "25 finished, 2474 seconds\n",
      "Performance: [-93.49102546674725, -94.31982005888925, -94.12171197154483]\n"
     ]
    },
    {
     "name": "stderr",
     "output_type": "stream",
     "text": [
      "\r",
      "  0%|                                                                                           | 0/30 [00:00<?, ?it/s]"
     ]
    },
    {
     "name": "stdout",
     "output_type": "stream",
     "text": [
      "model 30, 0 fitted\n",
      "2481 seconds\n"
     ]
    },
    {
     "name": "stderr",
     "output_type": "stream",
     "text": [
      "100%|██████████████████████████████████████████████████████████████████████████████████| 30/30 [00:30<00:00,  1.00s/it]\n"
     ]
    },
    {
     "name": "stdout",
     "output_type": "stream",
     "text": [
      "model 30, 0 circuited\n",
      "2512 seconds\n",
      "model 30, 0 tested: acc 0.9246861924686193, log-lik -93.07072161178263\n",
      "2553 seconds\n"
     ]
    },
    {
     "name": "stderr",
     "output_type": "stream",
     "text": [
      "\r",
      "  0%|                                                                                           | 0/30 [00:00<?, ?it/s]"
     ]
    },
    {
     "name": "stdout",
     "output_type": "stream",
     "text": [
      "model 30, 1 fitted\n",
      "2562 seconds\n"
     ]
    },
    {
     "name": "stderr",
     "output_type": "stream",
     "text": [
      "100%|██████████████████████████████████████████████████████████████████████████████████| 30/30 [00:27<00:00,  1.10it/s]\n"
     ]
    },
    {
     "name": "stdout",
     "output_type": "stream",
     "text": [
      "model 30, 1 circuited\n",
      "2589 seconds\n",
      "model 30, 1 tested: acc 0.9215481171548117, log-lik -93.65678591159768\n",
      "2628 seconds\n"
     ]
    },
    {
     "name": "stderr",
     "output_type": "stream",
     "text": [
      "\r",
      "  0%|                                                                                           | 0/30 [00:00<?, ?it/s]"
     ]
    },
    {
     "name": "stdout",
     "output_type": "stream",
     "text": [
      "model 30, 2 fitted\n",
      "2636 seconds\n"
     ]
    },
    {
     "name": "stderr",
     "output_type": "stream",
     "text": [
      "100%|██████████████████████████████████████████████████████████████████████████████████| 30/30 [00:25<00:00,  1.18it/s]\n"
     ]
    },
    {
     "name": "stdout",
     "output_type": "stream",
     "text": [
      "model 30, 2 circuited\n",
      "2661 seconds\n",
      "model 30, 2 tested: acc 0.9131799163179917, log-lik -94.08922460966207\n",
      "2698 seconds\n",
      "30 finished, 2702 seconds\n",
      "Performance: [-93.07072161178263, -93.65678591159768, -94.08922460966207]\n"
     ]
    },
    {
     "name": "stderr",
     "output_type": "stream",
     "text": [
      "\r",
      "  0%|                                                                                           | 0/35 [00:00<?, ?it/s]"
     ]
    },
    {
     "name": "stdout",
     "output_type": "stream",
     "text": [
      "model 35, 0 fitted\n",
      "2706 seconds\n"
     ]
    },
    {
     "name": "stderr",
     "output_type": "stream",
     "text": [
      "100%|██████████████████████████████████████████████████████████████████████████████████| 35/35 [00:29<00:00,  1.17it/s]\n"
     ]
    },
    {
     "name": "stdout",
     "output_type": "stream",
     "text": [
      "model 35, 0 circuited\n",
      "2736 seconds\n",
      "model 35, 0 tested: acc 0.9163179916317992, log-lik -93.62218696327909\n",
      "2781 seconds\n"
     ]
    },
    {
     "name": "stderr",
     "output_type": "stream",
     "text": [
      "\r",
      "  0%|                                                                                           | 0/35 [00:00<?, ?it/s]"
     ]
    },
    {
     "name": "stdout",
     "output_type": "stream",
     "text": [
      "model 35, 1 fitted\n",
      "2791 seconds\n"
     ]
    },
    {
     "name": "stderr",
     "output_type": "stream",
     "text": [
      "100%|██████████████████████████████████████████████████████████████████████████████████| 35/35 [00:29<00:00,  1.20it/s]\n"
     ]
    },
    {
     "name": "stdout",
     "output_type": "stream",
     "text": [
      "model 35, 1 circuited\n",
      "2820 seconds\n",
      "model 35, 1 tested: acc 0.9184100418410042, log-lik -93.74905238486139\n",
      "2868 seconds\n"
     ]
    },
    {
     "name": "stderr",
     "output_type": "stream",
     "text": [
      "\r",
      "  0%|                                                                                           | 0/35 [00:00<?, ?it/s]"
     ]
    },
    {
     "name": "stdout",
     "output_type": "stream",
     "text": [
      "model 35, 2 fitted\n",
      "2878 seconds\n"
     ]
    },
    {
     "name": "stderr",
     "output_type": "stream",
     "text": [
      "100%|██████████████████████████████████████████████████████████████████████████████████| 35/35 [00:27<00:00,  1.27it/s]\n"
     ]
    },
    {
     "name": "stdout",
     "output_type": "stream",
     "text": [
      "model 35, 2 circuited\n",
      "2905 seconds\n",
      "model 35, 2 tested: acc 0.9288702928870293, log-lik -93.52703111009282\n",
      "2950 seconds\n",
      "35 finished, 2955 seconds\n",
      "Performance: [-93.62218696327909, -93.74905238486139, -93.52703111009282]\n"
     ]
    },
    {
     "name": "stderr",
     "output_type": "stream",
     "text": [
      "\r",
      "  0%|                                                                                           | 0/40 [00:00<?, ?it/s]"
     ]
    },
    {
     "name": "stdout",
     "output_type": "stream",
     "text": [
      "model 40, 0 fitted\n",
      "2960 seconds\n"
     ]
    },
    {
     "name": "stderr",
     "output_type": "stream",
     "text": [
      "100%|██████████████████████████████████████████████████████████████████████████████████| 40/40 [00:31<00:00,  1.29it/s]\n"
     ]
    },
    {
     "name": "stdout",
     "output_type": "stream",
     "text": [
      "model 40, 0 circuited\n",
      "2991 seconds\n",
      "model 40, 0 tested: acc 0.9246861924686193, log-lik -93.19006414211873\n",
      "3060 seconds\n"
     ]
    },
    {
     "name": "stderr",
     "output_type": "stream",
     "text": [
      "\r",
      "  0%|                                                                                           | 0/40 [00:00<?, ?it/s]"
     ]
    },
    {
     "name": "stdout",
     "output_type": "stream",
     "text": [
      "model 40, 1 fitted\n",
      "3077 seconds\n"
     ]
    },
    {
     "name": "stderr",
     "output_type": "stream",
     "text": [
      "100%|██████████████████████████████████████████████████████████████████████████████████| 40/40 [00:49<00:00,  1.23s/it]\n"
     ]
    },
    {
     "name": "stdout",
     "output_type": "stream",
     "text": [
      "model 40, 1 circuited\n",
      "3127 seconds\n",
      "model 40, 1 tested: acc 0.9330543933054394, log-lik -93.50199851375073\n",
      "3189 seconds\n"
     ]
    },
    {
     "name": "stderr",
     "output_type": "stream",
     "text": [
      "\r",
      "  0%|                                                                                           | 0/40 [00:00<?, ?it/s]"
     ]
    },
    {
     "name": "stdout",
     "output_type": "stream",
     "text": [
      "model 40, 2 fitted\n",
      "3204 seconds\n"
     ]
    },
    {
     "name": "stderr",
     "output_type": "stream",
     "text": [
      "100%|██████████████████████████████████████████████████████████████████████████████████| 40/40 [00:41<00:00,  1.05s/it]\n"
     ]
    },
    {
     "name": "stdout",
     "output_type": "stream",
     "text": [
      "model 40, 2 circuited\n",
      "3246 seconds\n",
      "model 40, 2 tested: acc 0.9257322175732218, log-lik -93.23545534931132\n",
      "3370 seconds\n",
      "40 finished, 3383 seconds\n",
      "Performance: [-93.19006414211873, -93.50199851375073, -93.23545534931132]\n"
     ]
    },
    {
     "name": "stderr",
     "output_type": "stream",
     "text": [
      "\r",
      "  0%|                                                                                           | 0/45 [00:00<?, ?it/s]"
     ]
    },
    {
     "name": "stdout",
     "output_type": "stream",
     "text": [
      "model 45, 0 fitted\n",
      "3391 seconds\n"
     ]
    },
    {
     "name": "stderr",
     "output_type": "stream",
     "text": [
      "100%|██████████████████████████████████████████████████████████████████████████████████| 45/45 [01:33<00:00,  2.08s/it]\n"
     ]
    },
    {
     "name": "stdout",
     "output_type": "stream",
     "text": [
      "model 45, 0 circuited\n",
      "3484 seconds\n",
      "model 45, 0 tested: acc 0.9288702928870293, log-lik -93.0022771367921\n",
      "3609 seconds\n"
     ]
    },
    {
     "name": "stderr",
     "output_type": "stream",
     "text": [
      "\r",
      "  0%|                                                                                           | 0/45 [00:00<?, ?it/s]"
     ]
    },
    {
     "name": "stdout",
     "output_type": "stream",
     "text": [
      "model 45, 1 fitted\n",
      "3628 seconds\n"
     ]
    },
    {
     "name": "stderr",
     "output_type": "stream",
     "text": [
      "100%|██████████████████████████████████████████████████████████████████████████████████| 45/45 [01:29<00:00,  1.99s/it]\n"
     ]
    },
    {
     "name": "stdout",
     "output_type": "stream",
     "text": [
      "model 45, 1 circuited\n",
      "3717 seconds\n",
      "model 45, 1 tested: acc 0.9194560669456067, log-lik -93.02588307345292\n",
      "3837 seconds\n"
     ]
    },
    {
     "name": "stderr",
     "output_type": "stream",
     "text": [
      "\r",
      "  0%|                                                                                           | 0/45 [00:00<?, ?it/s]"
     ]
    },
    {
     "name": "stdout",
     "output_type": "stream",
     "text": [
      "model 45, 2 fitted\n",
      "3856 seconds\n"
     ]
    },
    {
     "name": "stderr",
     "output_type": "stream",
     "text": [
      "100%|██████████████████████████████████████████████████████████████████████████████████| 45/45 [01:22<00:00,  1.84s/it]\n"
     ]
    },
    {
     "name": "stdout",
     "output_type": "stream",
     "text": [
      "model 45, 2 circuited\n",
      "3939 seconds\n",
      "model 45, 2 tested: acc 0.9267782426778243, log-lik -92.88893123179895\n",
      "4112 seconds\n",
      "45 finished, 4140 seconds\n",
      "Performance: [-93.0022771367921, -93.02588307345292, -92.88893123179895]\n"
     ]
    },
    {
     "name": "stderr",
     "output_type": "stream",
     "text": [
      "\r",
      "  0%|                                                                                           | 0/50 [00:00<?, ?it/s]"
     ]
    },
    {
     "name": "stdout",
     "output_type": "stream",
     "text": [
      "model 50, 0 fitted\n",
      "4155 seconds\n"
     ]
    },
    {
     "name": "stderr",
     "output_type": "stream",
     "text": [
      "100%|██████████████████████████████████████████████████████████████████████████████████| 50/50 [03:06<00:00,  3.73s/it]\n"
     ]
    },
    {
     "name": "stdout",
     "output_type": "stream",
     "text": [
      "model 50, 0 circuited\n",
      "4342 seconds\n",
      "model 50, 0 tested: acc 0.9257322175732218, log-lik -92.3820042329454\n",
      "4555 seconds\n"
     ]
    },
    {
     "name": "stderr",
     "output_type": "stream",
     "text": [
      "\r",
      "  0%|                                                                                           | 0/50 [00:00<?, ?it/s]"
     ]
    },
    {
     "name": "stdout",
     "output_type": "stream",
     "text": [
      "model 50, 1 fitted\n",
      "4603 seconds\n"
     ]
    },
    {
     "name": "stderr",
     "output_type": "stream",
     "text": [
      "100%|██████████████████████████████████████████████████████████████████████████████████| 50/50 [02:58<00:00,  3.58s/it]\n"
     ]
    },
    {
     "name": "stdout",
     "output_type": "stream",
     "text": [
      "model 50, 1 circuited\n",
      "4782 seconds\n",
      "model 50, 1 tested: acc 0.9278242677824268, log-lik -92.49046973661598\n",
      "4992 seconds\n"
     ]
    },
    {
     "name": "stderr",
     "output_type": "stream",
     "text": [
      "\r",
      "  0%|                                                                                           | 0/50 [00:00<?, ?it/s]"
     ]
    },
    {
     "name": "stdout",
     "output_type": "stream",
     "text": [
      "model 50, 2 fitted\n",
      "5033 seconds\n"
     ]
    },
    {
     "name": "stderr",
     "output_type": "stream",
     "text": [
      "100%|██████████████████████████████████████████████████████████████████████████████████| 50/50 [02:38<00:00,  3.17s/it]\n"
     ]
    },
    {
     "name": "stdout",
     "output_type": "stream",
     "text": [
      "model 50, 2 circuited\n",
      "5192 seconds\n",
      "model 50, 2 tested: acc 0.9320083682008369, log-lik -92.94304526548214\n",
      "5358 seconds\n",
      "50 finished, 5376 seconds\n",
      "Performance: [-92.3820042329454, -92.49046973661598, -92.94304526548214]\n",
      "/n/ndepth 10 end: 14409 seconds /n/n/n\n"
     ]
    }
   ],
   "source": [
    "name = \"dna.csv\"\n",
    "full_test(name)"
   ]
  },
  {
   "cell_type": "code",
   "execution_count": null,
   "id": "attended-culture",
   "metadata": {},
   "outputs": [],
   "source": []
  }
 ],
 "metadata": {
  "kernelspec": {
   "display_name": "Python 3",
   "language": "python",
   "name": "python3"
  },
  "language_info": {
   "codemirror_mode": {
    "name": "ipython",
    "version": 3
   },
   "file_extension": ".py",
   "mimetype": "text/x-python",
   "name": "python",
   "nbconvert_exporter": "python",
   "pygments_lexer": "ipython3",
   "version": "3.7.4"
  }
 },
 "nbformat": 4,
 "nbformat_minor": 5
}
