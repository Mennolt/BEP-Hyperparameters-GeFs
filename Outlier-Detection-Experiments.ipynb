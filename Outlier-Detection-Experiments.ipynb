{
 "cells": [
  {
   "cell_type": "markdown",
   "metadata": {},
   "source": [
    "# Outlier Detection\n",
    "This notebook reproduces the outlier detection experiments found in the papers \"Joints in Random Forests\" and \"Towards Robust Classification with Deep Generative Forests\"."
   ]
  },
  {
   "cell_type": "code",
   "execution_count": 1,
   "metadata": {},
   "outputs": [
    {
     "name": "stderr",
     "output_type": "stream",
     "text": [
      "C:\\Users\\Mennolt van alten\\Documents\\Data Science - Universiteit\\Year 3\\BEP\\GeFs_Repo\\gefs\\cluster.py:91: NumbaDeprecationWarning: \u001b[1mThe 'numba.jitclass' decorator has moved to 'numba.experimental.jitclass' to better reflect the experimental nature of the functionality. Please update your imports to accommodate this change and see https://numba.pydata.org/numba-doc/latest/reference/deprecation.html#change-of-jitclass-location for the time frame.\u001b[0m\n",
      "  ('thr', optional(float64)),\n",
      "C:\\Users\\Mennolt van alten\\Documents\\Data Science - Universiteit\\Year 3\\BEP\\GeFs_Repo\\gefs\\signed.py:11: NumbaDeprecationWarning: \u001b[1mThe 'numba.jitclass' decorator has moved to 'numba.experimental.jitclass' to better reflect the experimental nature of the functionality. Please update your imports to accommodate this change and see https://numba.pydata.org/numba-doc/latest/reference/deprecation.html#change-of-jitclass-location for the time frame.\u001b[0m\n",
      "  ('size', int64)\n",
      "C:\\Users\\Mennolt van alten\\Documents\\Data Science - Universiteit\\Year 3\\BEP\\GeFs_Repo\\gefs\\nodes.py:42: NumbaDeprecationWarning: \u001b[1mThe 'numba.jitclass' decorator has moved to 'numba.experimental.jitclass' to better reflect the experimental nature of the functionality. Please update your imports to accommodate this change and see https://numba.pydata.org/numba-doc/latest/reference/deprecation.html#change-of-jitclass-location for the time frame.\u001b[0m\n",
      "  @jitclass(spec)\n",
      "C:\\Users\\Mennolt van alten\\Documents\\Data Science - Universiteit\\Year 3\\BEP\\GeFs_Repo\\gefs\\learning.py:15: NumbaDeprecationWarning: \u001b[1mThe 'numba.jitclass' decorator has moved to 'numba.experimental.jitclass' to better reflect the experimental nature of the functionality. Please update your imports to accommodate this change and see https://numba.pydata.org/numba-doc/latest/reference/deprecation.html#change-of-jitclass-location for the time frame.\u001b[0m\n",
      "  ('classcol', optional(int64)),\n",
      "C:\\Users\\Mennolt van alten\\Documents\\Data Science - Universiteit\\Year 3\\BEP\\GeFs_Repo\\gefs\\split.py:117: NumbaDeprecationWarning: \u001b[1mThe 'numba.jitclass' decorator has moved to 'numba.experimental.jitclass' to better reflect the experimental nature of the functionality. Please update your imports to accommodate this change and see https://numba.pydata.org/numba-doc/latest/reference/deprecation.html#change-of-jitclass-location for the time frame.\u001b[0m\n",
      "  ('type', types.string)\n",
      "C:\\Users\\Mennolt van alten\\Documents\\Data Science - Universiteit\\Year 3\\BEP\\GeFs_Repo\\gefs\\trees.py:374: NumbaDeprecationWarning: \u001b[1mThe 'numba.jitclass' decorator has moved to 'numba.experimental.jitclass' to better reflect the experimental nature of the functionality. Please update your imports to accommodate this change and see https://numba.pydata.org/numba-doc/latest/reference/deprecation.html#change-of-jitclass-location for the time frame.\u001b[0m\n",
      "  ('depth', int16),\n",
      "C:\\Users\\Mennolt van alten\\Documents\\Data Science - Universiteit\\Year 3\\BEP\\GeFs_Repo\\gefs\\trees.py:411: NumbaDeprecationWarning: \u001b[1mThe 'numba.jitclass' decorator has moved to 'numba.experimental.jitclass' to better reflect the experimental nature of the functionality. Please update your imports to accommodate this change and see https://numba.pydata.org/numba-doc/latest/reference/deprecation.html#change-of-jitclass-location for the time frame.\u001b[0m\n",
      "  ('surrogate', boolean),  # Whether to learn surrogate splits at each decision node.\n"
     ]
    }
   ],
   "source": [
    "import matplotlib.pyplot as plt\n",
    "import numpy as np\n",
    "import pandas as pd\n",
    "import seaborn as sns\n",
    "from sklearn.metrics import accuracy_score, roc_auc_score\n",
    "from scipy.stats import gaussian_kde\n",
    "\n",
    "from experiments.prep import get_stats, normalize_data, standardize_data, learncats\n",
    "from gefs.trees import RandomForest"
   ]
  },
  {
   "cell_type": "code",
   "execution_count": 6,
   "metadata": {},
   "outputs": [],
   "source": [
    "from scipy.special.cython_special import erfinv\n",
    "#from scipy.special import erfinv\n",
    "\n"
   ]
  },
  {
   "cell_type": "code",
   "execution_count": 7,
   "metadata": {},
   "outputs": [],
   "source": [
    "def train_test(data, ncat, train_ratio=0.7, prep='std'):\n",
    "    assert train_ratio >= 0\n",
    "    assert train_ratio <= 1\n",
    "    shuffle = np.random.choice(range(data.shape[0]), data.shape[0], replace=False)\n",
    "    data_train = data[shuffle[:int(train_ratio*data.shape[0])], :]\n",
    "    data_test = data[shuffle[int(train_ratio*data.shape[0]):], :]\n",
    "    if prep=='norm':\n",
    "        data_train, maxv, minv, _, _, = get_stats(data_train, ncat)\n",
    "        X_train, y_train = data_train[:, :-1], data_train[:, -1]\n",
    "        return X_train, y_train, data_train, data_test, maxv, minv\n",
    "    elif prep=='std':\n",
    "        _, maxv, minv, mean, std = get_stats(data_train, ncat)\n",
    "        data_train = standardize_data(data_train, mean, std)\n",
    "        X_train, y_train = data_train[:, :-1], data_train[:, -1]\n",
    "        return X_train, y_train, data_train, data_test, mean, std"
   ]
  },
  {
   "cell_type": "markdown",
   "metadata": {},
   "source": [
    "## Generative Forests\n",
    "### White wine model"
   ]
  },
  {
   "cell_type": "code",
   "execution_count": 2,
   "metadata": {
    "scrolled": false
   },
   "outputs": [
    {
     "ename": "NameError",
     "evalue": "name 'train_test' is not defined",
     "output_type": "error",
     "traceback": [
      "\u001b[1;31m---------------------------------------------------------------------------\u001b[0m",
      "\u001b[1;31mNameError\u001b[0m                                 Traceback (most recent call last)",
      "\u001b[1;32m<ipython-input-2-1bcd90dcbe60>\u001b[0m in \u001b[0;36m<module>\u001b[1;34m\u001b[0m\n\u001b[0;32m      3\u001b[0m \u001b[0mncat_white\u001b[0m\u001b[1;33m[\u001b[0m\u001b[1;33m-\u001b[0m\u001b[1;36m1\u001b[0m\u001b[1;33m]\u001b[0m \u001b[1;33m=\u001b[0m \u001b[1;36m2\u001b[0m\u001b[1;33m\u001b[0m\u001b[1;33m\u001b[0m\u001b[0m\n\u001b[0;32m      4\u001b[0m \u001b[1;33m\u001b[0m\u001b[0m\n\u001b[1;32m----> 5\u001b[1;33m \u001b[0mX_train_white\u001b[0m\u001b[1;33m,\u001b[0m \u001b[0my_train_white\u001b[0m\u001b[1;33m,\u001b[0m \u001b[0mdata_train_white\u001b[0m\u001b[1;33m,\u001b[0m \u001b[0mdata_test_white\u001b[0m\u001b[1;33m,\u001b[0m \u001b[0mmean_white\u001b[0m\u001b[1;33m,\u001b[0m \u001b[0mstd_white\u001b[0m \u001b[1;33m=\u001b[0m \u001b[0mtrain_test\u001b[0m\u001b[1;33m(\u001b[0m\u001b[0mwhite\u001b[0m\u001b[1;33m,\u001b[0m \u001b[0mncat_white\u001b[0m\u001b[1;33m,\u001b[0m \u001b[1;36m0.7\u001b[0m\u001b[1;33m)\u001b[0m\u001b[1;33m\u001b[0m\u001b[1;33m\u001b[0m\u001b[0m\n\u001b[0m\u001b[0;32m      6\u001b[0m \u001b[0my_train_white\u001b[0m \u001b[1;33m=\u001b[0m \u001b[0mnp\u001b[0m\u001b[1;33m.\u001b[0m\u001b[0mwhere\u001b[0m\u001b[1;33m(\u001b[0m\u001b[0my_train_white\u001b[0m \u001b[1;33m<=\u001b[0m \u001b[1;36m6\u001b[0m\u001b[1;33m,\u001b[0m \u001b[1;36m0\u001b[0m\u001b[1;33m,\u001b[0m \u001b[1;36m1\u001b[0m\u001b[1;33m)\u001b[0m\u001b[1;33m\u001b[0m\u001b[1;33m\u001b[0m\u001b[0m\n\u001b[0;32m      7\u001b[0m \u001b[1;33m\u001b[0m\u001b[0m\n",
      "\u001b[1;31mNameError\u001b[0m: name 'train_test' is not defined"
     ]
    }
   ],
   "source": [
    "white = pd.read_csv('data/winequality_white.csv').values\n",
    "ncat_white = learncats(white, classcol=-1)\n",
    "ncat_white[-1] = 2\n",
    "\n",
    "X_train_white, y_train_white, data_train_white, data_test_white, mean_white, std_white = train_test(white, ncat_white, 0.7)\n",
    "y_train_white = np.where(y_train_white <= 6, 0, 1)\n",
    "\n",
    "rf_white = RandomForest(n_estimators=100, ncat=ncat_white)\n",
    "rf_white.fit(X_train_white, y_train_white)\n",
    "gef_white = rf_white.topc(learnspn=np.Inf)"
   ]
  },
  {
   "cell_type": "markdown",
   "metadata": {},
   "source": [
    "### Red wine model"
   ]
  },
  {
   "cell_type": "code",
   "execution_count": 9,
   "metadata": {},
   "outputs": [
    {
     "name": "stderr",
     "output_type": "stream",
     "text": [
      "100%|████████████████████████████████████████████████████████████████████████████████| 100/100 [00:01<00:00, 84.53it/s]\n"
     ]
    }
   ],
   "source": [
    "red = pd.read_csv('data/winequality_red.csv').values\n",
    "ncat_red = learncats(red, classcol=-1)\n",
    "ncat_red[-1] = 2\n",
    "\n",
    "X_train_red, y_train_red, data_train_red, data_test_red, mean_red, std_red = train_test(red, ncat_red, 0.7)\n",
    "y_train_red = np.where(y_train_red <= 6, 0, 1)\n",
    "\n",
    "rf_red = RandomForest(n_estimators=100, ncat=ncat_red)\n",
    "rf_red.fit(X_train_red, y_train_red)\n",
    "gef_red = rf_red.topc(learnspn=np.Inf)"
   ]
  },
  {
   "cell_type": "code",
   "execution_count": 10,
   "metadata": {},
   "outputs": [],
   "source": [
    "# The class variable should not be used.\n",
    "# We set it to NaN so that the PC effectively marginalises it.\n",
    "data_test_white[:, -1] = np.nan\n",
    "data_test_red[:, -1] = np.nan\n",
    "\n",
    "white_by_red = gef_red.log_likelihood(standardize_data(data_test_white, mean_red, std_red))\n",
    "white_by_white = gef_white.log_likelihood(standardize_data(data_test_white, mean_white, std_white))\n",
    "red_by_red = gef_red.log_likelihood(standardize_data(data_test_red, mean_red, std_red))\n",
    "red_by_white = gef_white.log_likelihood(standardize_data(data_test_red, mean_white, std_white))"
   ]
  },
  {
   "cell_type": "code",
   "execution_count": 11,
   "metadata": {},
   "outputs": [],
   "source": [
    "white_by_red_avg = gef_red.log_likelihood(standardize_data(data_test_white, mean_red, std_red), avg=True)\n",
    "white_by_white_avg = gef_white.log_likelihood(standardize_data(data_test_white, mean_white, std_white), avg=True)\n",
    "red_by_red_avg = gef_red.log_likelihood(standardize_data(data_test_red, mean_red, std_red), avg=True)\n",
    "red_by_white_avg = gef_white.log_likelihood(standardize_data(data_test_red, mean_white, std_white), avg=True)"
   ]
  },
  {
   "cell_type": "markdown",
   "metadata": {},
   "source": [
    "## Kernel Density Estimator"
   ]
  },
  {
   "cell_type": "code",
   "execution_count": 12,
   "metadata": {},
   "outputs": [],
   "source": [
    "from sklearn.neighbors import KernelDensity\n",
    "\n",
    "# We fit one KDE for each dataset and each target variable.\n",
    "# This is to best match the discriminative behavior of GeFs.\n",
    "# We then combine the different models using a prior over Y.\n",
    "# Using a single KDE including the class variable yields very similar results though.\n",
    "\n",
    "# Red Model Y = 0\n",
    "kde_red0 = KernelDensity(bandwidth=1., kernel='gaussian')\n",
    "kde_red0.fit(data_train_red[y_train_red == 0, :-1])\n",
    "\n",
    "# Red Model Y = 1\n",
    "kde_red1 = KernelDensity(bandwidth=1., kernel='gaussian')\n",
    "kde_red1.fit(data_train_red[y_train_red == 1, :-1])\n",
    "\n",
    "# Compute the priors\n",
    "p_red0 = len(y_train_red[y_train_red == 0])/len(y_train_red)\n",
    "p_red1 = len(y_train_red[y_train_red == 1])/len(y_train_red)\n",
    "\n",
    "\n",
    "# White Model Y = 0\n",
    "kde_white0 = KernelDensity(bandwidth=1., kernel='gaussian')\n",
    "kde_white0.fit(data_train_white[y_train_white == 0, :-1])\n",
    "\n",
    "# Red Model Y = 1\n",
    "kde_white1 = KernelDensity(bandwidth=1., kernel='gaussian')\n",
    "kde_white1.fit(data_train_white[y_train_white == 1, :-1])\n",
    "\n",
    "# Compute the priors\n",
    "p_white0 = len(y_train_white[y_train_white == 0])/len(y_train_white)\n",
    "p_white1 = len(y_train_white[y_train_white == 1])/len(y_train_white)\n",
    "\n",
    "# score_samples returns the log of the probability density\n",
    "logprob_red_by_red = kde_red0.score_samples(standardize_data(data_test_red, mean_red, std_red)[:, :-1])*p_red0 +\\\n",
    "                     kde_red1.score_samples(standardize_data(data_test_red, mean_red, std_red)[:, :-1])*p_red1\n",
    "\n",
    "logprob_white_by_red = kde_red0.score_samples(standardize_data(data_test_white, mean_red, std_red)[:, :-1])*p_red0 +\\\n",
    "                       kde_red1.score_samples(standardize_data(data_test_white, mean_red, std_red)[:, :-1])*p_red1\n",
    "\n",
    "logprob_red_by_white = kde_white0.score_samples(standardize_data(data_test_red, mean_white, std_white)[:, :-1])*p_white0 +\\\n",
    "                       kde_white1.score_samples(standardize_data(data_test_red, mean_white, std_white)[:, :-1])*p_white1\n",
    "\n",
    "logprob_white_by_white = kde_white0.score_samples(standardize_data(data_test_white, mean_white, std_white)[:, :-1])*p_white0 +\\\n",
    "                         kde_white1.score_samples(standardize_data(data_test_white, mean_white, std_white)[:, :-1])*p_white1\n"
   ]
  },
  {
   "cell_type": "markdown",
   "metadata": {},
   "source": [
    "## Maximum Conditional Probability"
   ]
  },
  {
   "cell_type": "code",
   "execution_count": 13,
   "metadata": {},
   "outputs": [],
   "source": [
    "classcol = data_test_red.shape[1]-1\n",
    "_, gef_white_by_red_probs = gef_red.classify_avg(standardize_data(data_test_white[:, :-1], mean_red, std_red), classcol=classcol, return_prob=True)\n",
    "_, gef_white_by_white_probs = gef_white.classify_avg(standardize_data(data_test_white[:, :-1], mean_white, std_white), classcol=classcol, return_prob=True)\n",
    "_, gef_red_by_red_probs = gef_red.classify_avg(standardize_data(data_test_red[:, :-1], mean_red, std_red), classcol=classcol, return_prob=True)\n",
    "_, gef_red_by_white_probs = gef_white.classify_avg(standardize_data(data_test_red[:, :-1], mean_white, std_white), classcol=classcol, return_prob=True)\n",
    "\n",
    "mp_white_by_red = np.max(gef_white_by_red_probs, axis=1)\n",
    "mp_white_by_white = np.max(gef_white_by_white_probs, axis=1)\n",
    "mp_red_by_red = np.max(gef_red_by_red_probs, axis=1)\n",
    "mp_red_by_white = np.max(gef_white_by_red_probs, axis=1)"
   ]
  },
  {
   "cell_type": "markdown",
   "metadata": {},
   "source": [
    "## ROC AUC Scores"
   ]
  },
  {
   "cell_type": "code",
   "execution_count": 14,
   "metadata": {},
   "outputs": [],
   "source": [
    "# Combine the two datasets. \n",
    "red_white_train = np.concatenate((data_train_red, data_train_white)).copy()\n",
    "X_train, y_train = red_white_train[:, :-1], red_white_train[:, -1]\n",
    "y_train = np.where(y_train <= 6, 0, 1)\n",
    "\n",
    "red_white_test = np.concatenate((data_test_red, data_test_white)).copy()\n",
    "X_test, y_test = red_white_test[:, :-1], red_white_test[:, -1]\n",
    "y_train = np.where(y_test <= 6, 0, 1)\n",
    "\n",
    "red_white = red_white_test.copy()\n",
    "red_white[:, -1] = np.nan  # We ignore (marginalise over) the target variable\n",
    "true_red = np.zeros(red_white.shape[0])  # red 1, white 0\n",
    "true_red[:data_test_red.shape[0]] = 1\n",
    "true_white = np.ones(red_white.shape[0])  # red 0, white 1\n",
    "true_white[:data_test_red.shape[0]] = 0\n",
    "\n",
    "# Predict outliers using GeFs\n",
    "gef_red_pred = gef_red.log_likelihood(standardize_data(red_white, mean_red, std_red))\n",
    "gef_white_pred = gef_white.log_likelihood(standardize_data(red_white, mean_white, std_white))\n",
    "\n",
    "# Predict outliers using KDE\n",
    "kde_red_pred = kde_red0.score_samples(standardize_data(red_white, mean_red, std_red)[:, :-1])*p_red0 +\\\n",
    "               kde_red1.score_samples(standardize_data(red_white, mean_red, std_red)[:, :-1])*p_red1\n",
    "kde_white_pred = kde_white0.score_samples(standardize_data(red_white, mean_white, std_white)[:, :-1])*p_white0 +\\\n",
    "                 kde_white1.score_samples(standardize_data(red_white, mean_white, std_white)[:, :-1])*p_white1\n",
    "\n",
    "# Predict outliers using the maximum conditional probability\n",
    "_, mp_red_pred = gef_red.classify_avg(standardize_data(red_white, mean_red, std_red), classcol=classcol, return_prob=True)\n",
    "mp_red_pred = np.max(mp_red_pred, axis=1)\n",
    "_, mp_white_pred = gef_white.classify_avg(standardize_data(red_white, mean_white, std_white), classcol=classcol, return_prob=True)\n",
    "mp_white_pred = np.max(mp_white_pred, axis=1)\n"
   ]
  },
  {
   "cell_type": "code",
   "execution_count": 15,
   "metadata": {},
   "outputs": [
    {
     "data": {
      "text/plain": [
       "0.7924121315192744"
      ]
     },
     "execution_count": 15,
     "metadata": {},
     "output_type": "execute_result"
    }
   ],
   "source": [
    "# Max Conditional Probability Red Model\n",
    "roc_auc_score(true_red, mp_red_pred)"
   ]
  },
  {
   "cell_type": "code",
   "execution_count": 16,
   "metadata": {},
   "outputs": [
    {
     "data": {
      "text/plain": [
       "0.4900070861678005"
      ]
     },
     "execution_count": 16,
     "metadata": {},
     "output_type": "execute_result"
    }
   ],
   "source": [
    "# Max Conditional Probability White Model\n",
    "roc_auc_score(true_white, mp_white_pred)"
   ]
  },
  {
   "cell_type": "code",
   "execution_count": 17,
   "metadata": {},
   "outputs": [
    {
     "data": {
      "text/plain": [
       "0.9783149092970521"
      ]
     },
     "execution_count": 17,
     "metadata": {},
     "output_type": "execute_result"
    }
   ],
   "source": [
    "# GeF Red Model\n",
    "roc_auc_score(true_red, gef_red_pred)"
   ]
  },
  {
   "cell_type": "code",
   "execution_count": 18,
   "metadata": {},
   "outputs": [
    {
     "data": {
      "text/plain": [
       "0.9860530045351472"
      ]
     },
     "execution_count": 18,
     "metadata": {},
     "output_type": "execute_result"
    }
   ],
   "source": [
    "# GeF White Model\n",
    "roc_auc_score(true_white, gef_white_pred)"
   ]
  },
  {
   "cell_type": "code",
   "execution_count": 19,
   "metadata": {},
   "outputs": [
    {
     "data": {
      "text/plain": [
       "0.9814257369614512"
      ]
     },
     "execution_count": 19,
     "metadata": {},
     "output_type": "execute_result"
    }
   ],
   "source": [
    "# KDE Red Model\n",
    "roc_auc_score(true_red, kde_red_pred)"
   ]
  },
  {
   "cell_type": "code",
   "execution_count": 20,
   "metadata": {},
   "outputs": [
    {
     "data": {
      "text/plain": [
       "0.984734977324263"
      ]
     },
     "execution_count": 20,
     "metadata": {},
     "output_type": "execute_result"
    }
   ],
   "source": [
    "# KDE White Model\n",
    "roc_auc_score(true_white, kde_white_pred)"
   ]
  },
  {
   "cell_type": "markdown",
   "metadata": {},
   "source": [
    "## Plot"
   ]
  },
  {
   "cell_type": "code",
   "execution_count": 21,
   "metadata": {},
   "outputs": [
    {
     "name": "stderr",
     "output_type": "stream",
     "text": [
      "C:\\Users\\Mennolt van alten\\Anaconda3\\lib\\site-packages\\seaborn\\distributions.py:2557: FutureWarning: `distplot` is a deprecated function and will be removed in a future version. Please adapt your code to use either `displot` (a figure-level function with similar flexibility) or `histplot` (an axes-level function for histograms).\n",
      "  warnings.warn(msg, FutureWarning)\n",
      "C:\\Users\\Mennolt van alten\\Anaconda3\\lib\\site-packages\\seaborn\\distributions.py:2557: FutureWarning: `distplot` is a deprecated function and will be removed in a future version. Please adapt your code to use either `displot` (a figure-level function with similar flexibility) or `histplot` (an axes-level function for histograms).\n",
      "  warnings.warn(msg, FutureWarning)\n",
      "C:\\Users\\Mennolt van alten\\Anaconda3\\lib\\site-packages\\seaborn\\distributions.py:2557: FutureWarning: `distplot` is a deprecated function and will be removed in a future version. Please adapt your code to use either `displot` (a figure-level function with similar flexibility) or `histplot` (an axes-level function for histograms).\n",
      "  warnings.warn(msg, FutureWarning)\n",
      "C:\\Users\\Mennolt van alten\\Anaconda3\\lib\\site-packages\\seaborn\\distributions.py:2557: FutureWarning: `distplot` is a deprecated function and will be removed in a future version. Please adapt your code to use either `displot` (a figure-level function with similar flexibility) or `histplot` (an axes-level function for histograms).\n",
      "  warnings.warn(msg, FutureWarning)\n",
      "C:\\Users\\Mennolt van alten\\Anaconda3\\lib\\site-packages\\seaborn\\distributions.py:2557: FutureWarning: `distplot` is a deprecated function and will be removed in a future version. Please adapt your code to use either `displot` (a figure-level function with similar flexibility) or `histplot` (an axes-level function for histograms).\n",
      "  warnings.warn(msg, FutureWarning)\n",
      "C:\\Users\\Mennolt van alten\\Anaconda3\\lib\\site-packages\\seaborn\\distributions.py:2557: FutureWarning: `distplot` is a deprecated function and will be removed in a future version. Please adapt your code to use either `displot` (a figure-level function with similar flexibility) or `histplot` (an axes-level function for histograms).\n",
      "  warnings.warn(msg, FutureWarning)\n",
      "C:\\Users\\Mennolt van alten\\Anaconda3\\lib\\site-packages\\seaborn\\distributions.py:2557: FutureWarning: `distplot` is a deprecated function and will be removed in a future version. Please adapt your code to use either `displot` (a figure-level function with similar flexibility) or `histplot` (an axes-level function for histograms).\n",
      "  warnings.warn(msg, FutureWarning)\n",
      "C:\\Users\\Mennolt van alten\\Anaconda3\\lib\\site-packages\\seaborn\\distributions.py:2557: FutureWarning: `distplot` is a deprecated function and will be removed in a future version. Please adapt your code to use either `displot` (a figure-level function with similar flexibility) or `histplot` (an axes-level function for histograms).\n",
      "  warnings.warn(msg, FutureWarning)\n",
      "C:\\Users\\Mennolt van alten\\Anaconda3\\lib\\site-packages\\seaborn\\distributions.py:2557: FutureWarning: `distplot` is a deprecated function and will be removed in a future version. Please adapt your code to use either `displot` (a figure-level function with similar flexibility) or `histplot` (an axes-level function for histograms).\n",
      "  warnings.warn(msg, FutureWarning)\n",
      "C:\\Users\\Mennolt van alten\\Anaconda3\\lib\\site-packages\\seaborn\\distributions.py:2557: FutureWarning: `distplot` is a deprecated function and will be removed in a future version. Please adapt your code to use either `displot` (a figure-level function with similar flexibility) or `histplot` (an axes-level function for histograms).\n",
      "  warnings.warn(msg, FutureWarning)\n",
      "C:\\Users\\Mennolt van alten\\Anaconda3\\lib\\site-packages\\seaborn\\distributions.py:2557: FutureWarning: `distplot` is a deprecated function and will be removed in a future version. Please adapt your code to use either `displot` (a figure-level function with similar flexibility) or `histplot` (an axes-level function for histograms).\n",
      "  warnings.warn(msg, FutureWarning)\n",
      "C:\\Users\\Mennolt van alten\\Anaconda3\\lib\\site-packages\\seaborn\\distributions.py:2557: FutureWarning: `distplot` is a deprecated function and will be removed in a future version. Please adapt your code to use either `displot` (a figure-level function with similar flexibility) or `histplot` (an axes-level function for histograms).\n",
      "  warnings.warn(msg, FutureWarning)\n"
     ]
    },
    {
     "data": {
      "image/png": "[encoded data removed]",
      "text/plain": [
       "<Figure size 576x216 with 6 Axes>"
      ]
     },
     "metadata": {
      "needs_background": "light"
     },
     "output_type": "display_data"
    }
   ],
   "source": [
    "fig, axs = plt.subplots(2, 3, sharey=False, sharex=False)\n",
    "fig.set_size_inches(w=8., h=3)\n",
    "labelpad=1\n",
    "titlepad=1.5\n",
    "\n",
    "sns.distplot(mp_white_by_white, label='white wine test data', ax=axs[0, 0])\n",
    "sns.distplot(mp_red_by_white, label='red wine test data', ax=axs[0, 0])\n",
    "axs[0, 0].set_xticks([.5, .75, 1 ])\n",
    "axs[0, 0].set_yticks([0, 3, 6, 9])\n",
    "\n",
    "sns.distplot(logprob_white_by_white, label='white wine test data', ax=axs[0, 1])\n",
    "sns.distplot(logprob_red_by_white, label='red wine test data', ax=axs[0, 1])\n",
    "axs[0, 1].set_xticks([-40, -30, -20, -10])\n",
    "axs[0, 1].set_yticks([0., 0.1, 0.2, 0.3, 0.4, 0.5])\n",
    "axs[0, 1].set_xlim(-40, -5)\n",
    "axs[0, 1].set_ylim(0, 0.5)\n",
    "\n",
    "sns.distplot(white_by_white, label='white wine test data', ax=axs[0, 2])\n",
    "sns.distplot(red_by_white, label='red wine test data', ax=axs[0, 2])\n",
    "axs[0, 2].set_xticks([-40, -30, -20, -10])\n",
    "axs[0, 2].set_yticks([0.3, 0.2, 0.1, 0.0])\n",
    "axs[0, 2].set_xlim(-40, -5)\n",
    "axs[0, 2].set_ylim(0, 0.3)\n",
    "\n",
    "sns.distplot(mp_white_by_red, label='white wine test data', ax=axs[1, 0])\n",
    "sns.distplot(mp_red_by_red, label='red wine test data', ax=axs[1, 0])\n",
    "axs[1, 0].set_xticks([.5, .75, 1 ])\n",
    "axs[1, 0].set_yticks([0, 5, 10, 15])\n",
    "\n",
    "sns.distplot(logprob_white_by_red, label='white wine test data', ax=axs[1, 1])\n",
    "sns.distplot(logprob_red_by_red, label='red wine test data', ax=axs[1, 1])\n",
    "axs[1, 1].set_yticks([0., .1, .2, .3, .4, .5])\n",
    "axs[1, 1].set_xticks([-40, -30, -20, -10])\n",
    "axs[1, 1].set_xlim(-40, -5)\n",
    "axs[1, 1].set_ylim(0, 0.5)\n",
    "\n",
    "sns.distplot(white_by_red, label='white wine test data', ax=axs[1, 2])\n",
    "sns.distplot(red_by_red, label='red wine test data', ax=axs[1, 2])\n",
    "axs[1, 2].set_xticks([-40, -30, -20, -10])\n",
    "axs[1, 2].set_yticks([0.3, 0.2, 0.1, 0.0])\n",
    "axs[1, 2].set_xlim(-40, -5)\n",
    "axs[1, 2].set_ylim(0, 0.3)\n",
    "\n",
    "plt.legend(bbox_to_anchor=(1.05, -.45), ncol=2, frameon=False, fontsize=12)\n",
    "\n",
    "axs[0, 0].set_title('Random Forest \\n ROC AUC=' + str(np.round(roc_auc_score(true_white, mp_white_pred), 3)), fontsize=12, pad=titlepad)\n",
    "axs[0, 0].set_ylabel('White wine \\n training data', fontsize=12)\n",
    "axs[0, 0].tick_params(axis='both', which='major', pad=.0)\n",
    "axs[0, 0].xaxis.set_tick_params(labelsize=12)\n",
    "axs[0, 0].yaxis.set_tick_params(labelsize=12)\n",
    "\n",
    "axs[0, 1].set_title('Gaussian KDE \\n ROC AUC=' + str(np.round(roc_auc_score(true_white, kde_white_pred), 3)), fontsize=12, pad=titlepad)\n",
    "axs[0, 1].tick_params(axis='both', which='major', pad=.0)\n",
    "axs[0, 1].xaxis.set_tick_params(labelsize=12)\n",
    "axs[0, 1].yaxis.set_tick_params(labelsize=12)\n",
    "\n",
    "axs[0, 2].set_title('GeF$^+$ \\n ROC AUC=' + str(np.round(roc_auc_score(true_white, gef_white_pred), 3)), fontsize=12, pad=titlepad)\n",
    "axs[0, 2].tick_params(axis='both', which='major', pad=.0)\n",
    "axs[0, 2].xaxis.set_tick_params(labelsize=12)\n",
    "axs[0, 2].yaxis.set_tick_params(labelsize=12)\n",
    "\n",
    "axs[1, 0].set_title('ROC AUC=' + str(np.round(roc_auc_score(true_red, mp_red_pred), 3)), fontsize=12, pad=titlepad)\n",
    "axs[1, 0].set_xlabel('max$_yp(y|x)$', fontsize=12, labelpad=labelpad)\n",
    "axs[1, 0].set_ylabel('Red wine\\n training data', fontsize=12)\n",
    "axs[1, 0].tick_params(axis='both', which='major', pad=.0)\n",
    "axs[1, 0].xaxis.set_tick_params(labelsize=12)\n",
    "axs[1, 0].yaxis.set_tick_params(labelsize=12)\n",
    "\n",
    "axs[1, 1].set_title('ROC AUC=' + str(np.round(roc_auc_score(true_red, kde_red_pred), 3)), fontsize=12, pad=titlepad)\n",
    "axs[1, 1].set_xlabel('log$p(x)$', fontsize=12, labelpad=labelpad)\n",
    "axs[1, 1].tick_params(axis='both', which='major', pad=.0)\n",
    "axs[1, 1].xaxis.set_tick_params(labelsize=12)\n",
    "axs[1, 1].yaxis.set_tick_params(labelsize=12)\n",
    "\n",
    "axs[1, 2].set_title('ROC AUC='  + str(np.round(roc_auc_score(true_red, gef_red_pred), 3)), fontsize=12, pad=titlepad)\n",
    "axs[1, 2].set_xlabel('log$p(x)$', fontsize=12, labelpad=labelpad)\n",
    "axs[1, 2].tick_params(axis='both', which='major', pad=0)\n",
    "axs[1, 2].xaxis.set_tick_params(labelsize=12)\n",
    "axs[1, 2].yaxis.set_tick_params(labelsize=12)\n",
    "\n",
    "plt.subplots_adjust(top=0.95, bottom=0.05, left=0.05, right=0.95, hspace=.575, wspace=.2)\n",
    "sns.set_style(\"whitegrid\")"
   ]
  },
  {
   "cell_type": "code",
   "execution_count": null,
   "metadata": {},
   "outputs": [],
   "source": []
  }
 ],
 "metadata": {
  "kernelspec": {
   "display_name": "Python 3",
   "language": "python",
   "name": "python3"
  },
  "language_info": {
   "codemirror_mode": {
    "name": "ipython",
    "version": 3
   },
   "file_extension": ".py",
   "mimetype": "text/x-python",
   "name": "python",
   "nbconvert_exporter": "python",
   "pygments_lexer": "ipython3",
   "version": "3.7.4"
  }
 },
 "nbformat": 4,
 "nbformat_minor": 2
}
