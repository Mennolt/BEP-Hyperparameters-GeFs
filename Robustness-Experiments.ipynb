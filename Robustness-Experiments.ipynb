{
 "cells": [
  {
   "cell_type": "markdown",
   "metadata": {},
   "source": [
    "# Robustness Experiments\n",
    "This notebook reproduces the epsilon-robustness experiments found in the paper \"Towards Robust Classification with Deep Generative Forests\"."
   ]
  },
  {
   "cell_type": "code",
   "execution_count": 1,
   "metadata": {},
   "outputs": [
    {
     "name": "stderr",
     "output_type": "stream",
     "text": [
      "C:\\Users\\Mennolt van alten\\Documents\\Data Science - Universiteit\\Year 3\\BEP\\GeFs_Repo\\gefs\\cluster.py:91: NumbaDeprecationWarning: \u001b[1mThe 'numba.jitclass' decorator has moved to 'numba.experimental.jitclass' to better reflect the experimental nature of the functionality. Please update your imports to accommodate this change and see https://numba.pydata.org/numba-doc/latest/reference/deprecation.html#change-of-jitclass-location for the time frame.\u001b[0m\n",
      "  ('thr', optional(float64)),\n",
      "C:\\Users\\Mennolt van alten\\Documents\\Data Science - Universiteit\\Year 3\\BEP\\GeFs_Repo\\gefs\\signed.py:11: NumbaDeprecationWarning: \u001b[1mThe 'numba.jitclass' decorator has moved to 'numba.experimental.jitclass' to better reflect the experimental nature of the functionality. Please update your imports to accommodate this change and see https://numba.pydata.org/numba-doc/latest/reference/deprecation.html#change-of-jitclass-location for the time frame.\u001b[0m\n",
      "  ('size', int64)\n",
      "C:\\Users\\Mennolt van alten\\Documents\\Data Science - Universiteit\\Year 3\\BEP\\GeFs_Repo\\gefs\\nodes.py:42: NumbaDeprecationWarning: \u001b[1mThe 'numba.jitclass' decorator has moved to 'numba.experimental.jitclass' to better reflect the experimental nature of the functionality. Please update your imports to accommodate this change and see https://numba.pydata.org/numba-doc/latest/reference/deprecation.html#change-of-jitclass-location for the time frame.\u001b[0m\n",
      "  @jitclass(spec)\n",
      "C:\\Users\\Mennolt van alten\\Documents\\Data Science - Universiteit\\Year 3\\BEP\\GeFs_Repo\\gefs\\learning.py:15: NumbaDeprecationWarning: \u001b[1mThe 'numba.jitclass' decorator has moved to 'numba.experimental.jitclass' to better reflect the experimental nature of the functionality. Please update your imports to accommodate this change and see https://numba.pydata.org/numba-doc/latest/reference/deprecation.html#change-of-jitclass-location for the time frame.\u001b[0m\n",
      "  ('classcol', optional(int64)),\n",
      "C:\\Users\\Mennolt van alten\\Documents\\Data Science - Universiteit\\Year 3\\BEP\\GeFs_Repo\\gefs\\split.py:117: NumbaDeprecationWarning: \u001b[1mThe 'numba.jitclass' decorator has moved to 'numba.experimental.jitclass' to better reflect the experimental nature of the functionality. Please update your imports to accommodate this change and see https://numba.pydata.org/numba-doc/latest/reference/deprecation.html#change-of-jitclass-location for the time frame.\u001b[0m\n",
      "  ('type', types.string)\n",
      "C:\\Users\\Mennolt van alten\\Documents\\Data Science - Universiteit\\Year 3\\BEP\\GeFs_Repo\\gefs\\trees.py:374: NumbaDeprecationWarning: \u001b[1mThe 'numba.jitclass' decorator has moved to 'numba.experimental.jitclass' to better reflect the experimental nature of the functionality. Please update your imports to accommodate this change and see https://numba.pydata.org/numba-doc/latest/reference/deprecation.html#change-of-jitclass-location for the time frame.\u001b[0m\n",
      "  ('depth', int16),\n",
      "C:\\Users\\Mennolt van alten\\Documents\\Data Science - Universiteit\\Year 3\\BEP\\GeFs_Repo\\gefs\\trees.py:411: NumbaDeprecationWarning: \u001b[1mThe 'numba.jitclass' decorator has moved to 'numba.experimental.jitclass' to better reflect the experimental nature of the functionality. Please update your imports to accommodate this change and see https://numba.pydata.org/numba-doc/latest/reference/deprecation.html#change-of-jitclass-location for the time frame.\u001b[0m\n",
      "  ('surrogate', boolean),  # Whether to learn surrogate splits at each decision node.\n"
     ]
    }
   ],
   "source": [
    "import matplotlib.pyplot as plt\n",
    "import numpy as np\n",
    "import pandas as pd\n",
    "import seaborn as sns\n",
    "from sklearn.metrics import accuracy_score, roc_auc_score, confusion_matrix, balanced_accuracy_score, f1_score\n",
    "\n",
    "from gefs.trees import PC, RandomForest\n",
    "from gefs.nodes import compute_rob_class\n",
    "from experiments.prep import get_dummies, get_data, get_stats, train_test_split, standardize_data, normalize_data"
   ]
  },
  {
   "cell_type": "markdown",
   "metadata": {},
   "source": [
    "## Relationship Between Accuracy and Robustness"
   ]
  },
  {
   "cell_type": "code",
   "execution_count": null,
   "metadata": {},
   "outputs": [
    {
     "name": "stdout",
     "output_type": "stream",
     "text": [
      "diabetes\n"
     ]
    },
    {
     "name": "stderr",
     "output_type": "stream",
     "text": [
      "100%|██████████████████████████████████████████████████████████████████████████████████| 30/30 [04:34<00:00,  9.14s/it]\n"
     ]
    },
    {
     "name": "stdout",
     "output_type": "stream",
     "text": [
      "cmc\n"
     ]
    },
    {
     "name": "stderr",
     "output_type": "stream",
     "text": [
      "100%|██████████████████████████████████████████████████████████████████████████████████| 30/30 [00:03<00:00,  8.58it/s]\n"
     ]
    },
    {
     "name": "stdout",
     "output_type": "stream",
     "text": [
      "texture\n"
     ]
    },
    {
     "name": "stderr",
     "output_type": "stream",
     "text": [
      "100%|██████████████████████████████████████████████████████████████████████████████████| 30/30 [00:02<00:00, 13.48it/s]\n"
     ]
    },
    {
     "name": "stdout",
     "output_type": "stream",
     "text": [
      "german\n"
     ]
    },
    {
     "name": "stderr",
     "output_type": "stream",
     "text": [
      "100%|██████████████████████████████████████████████████████████████████████████████████| 30/30 [00:02<00:00, 10.91it/s]\n"
     ]
    },
    {
     "name": "stdout",
     "output_type": "stream",
     "text": [
      "electricity\n"
     ]
    },
    {
     "name": "stderr",
     "output_type": "stream",
     "text": [
      "100%|██████████████████████████████████████████████████████████████████████████████████| 30/30 [00:48<00:00,  1.63s/it]\n"
     ]
    },
    {
     "name": "stdout",
     "output_type": "stream",
     "text": [
      "dna\n"
     ]
    },
    {
     "name": "stderr",
     "output_type": "stream",
     "text": [
      "100%|██████████████████████████████████████████████████████████████████████████████████| 30/30 [00:22<00:00,  1.35it/s]\n"
     ]
    },
    {
     "name": "stdout",
     "output_type": "stream",
     "text": [
      "bank\n"
     ]
    },
    {
     "name": "stderr",
     "output_type": "stream",
     "text": [
      "100%|██████████████████████████████████████████████████████████████████████████████████| 30/30 [00:41<00:00,  1.37s/it]\n"
     ]
    },
    {
     "name": "stdout",
     "output_type": "stream",
     "text": [
      "gesture\n"
     ]
    },
    {
     "name": "stderr",
     "output_type": "stream",
     "text": [
      " 90%|█████████████████████████████████████████████████████████████████████████▊        | 27/30 [00:29<00:02,  1.15it/s]"
     ]
    }
   ],
   "source": [
    "d_rob, d_pred, d_true = {}, {}, {}\n",
    "datasets = ['diabetes', 'cmc', 'texture', 'german', 'electricity', 'dna', \n",
    "            'bank', 'gesture', 'jungle', 'vowel', 'mice', 'phishing']\n",
    "\n",
    "# For each dataset\n",
    "for name in datasets:\n",
    "    print(name)\n",
    "    data, ncat = get_data(name, 'data/')  # Preprocess the data\n",
    "    X_train, X_test, y_train, y_test, data_train, data_test = train_test_split(data, ncat)\n",
    "    rf = RandomForest(n_estimators=30, ncat=ncat)  # Train a Random Forest\n",
    "    rf.fit(X_train, y_train)\n",
    "    gef = rf.topc()  # Convert to a GeF\n",
    "    # Predict and compute the robustness of each test sample and save to a dictionary\n",
    "    pred, rob = compute_rob_class(gef.root, X_test, data.shape[1]-1, int(ncat[-1]))\n",
    "    d_rob[name] = rob\n",
    "    d_pred[name] = pred\n",
    "    d_true[name] = y_test"
   ]
  },
  {
   "cell_type": "code",
   "execution_count": null,
   "metadata": {},
   "outputs": [],
   "source": [
    "fig, axs = plt.subplots(1, 2, sharey=True, sharex=False)\n",
    "fig.set_size_inches(w=5.5, h=2.5)\n",
    "plt.set_cmap('tab20')\n",
    "\n",
    "for name in datasets:\n",
    "    rob = d_rob[name]\n",
    "    pred = d_pred[name]\n",
    "    y_test = d_true[name]\n",
    "    # Arange the edges from 0 to 0.5\n",
    "    # 0.5 is the maximum robustness value for this particular type of GeF, as a perturbation larger than 0.5  \n",
    "    # necessarily changes the most likely class in the multinomial distribution of the final leaf.\n",
    "    edges = np.arange(0, 0.5, 0.005)\n",
    "\n",
    "    acc = []\n",
    "    es = []\n",
    "    for e in edges:\n",
    "        preds = pred[rob <= e]\n",
    "        trues = y_test[rob <= e]\n",
    "        if preds.shape[0] >= 30:  # Consider only statistics for more than 30 points\n",
    "            acc.append(accuracy_score(trues, preds))\n",
    "            es.append(e)\n",
    "    axs[0].plot(es, acc, '-', label=name)\n",
    "    axs[0].set_xlim(0, 0.2)\n",
    "    axs[0].set_xlabel('$\\epsilon$-robustness \\n (a)', fontsize=15)\n",
    "    axs[0].set_ylabel('Accuracy', fontsize=15)\n",
    "    axs[0].set_xticks([0., 0.1, 0.2, 0.3, 0.4, 0.5])\n",
    "\n",
    "    acc = []\n",
    "    es = []\n",
    "    for e in edges:\n",
    "        preds = pred[rob >= e]\n",
    "        trues = y_test[rob >= e]\n",
    "        if preds.shape[0] >= 30:  # Consider only statistics for more than 30 points\n",
    "            acc.append(accuracy_score(trues, preds))\n",
    "            es.append(e)\n",
    "    axs[1].plot(es, acc, '-', label=name)\n",
    "    axs[1].set_xlim(0, 0.2)\n",
    "    axs[1].set_xlabel('$\\epsilon$-robustness \\n (b)', fontsize=15)\n",
    "    axs[1].set_xticks([0., 0.1, 0.2, 0.3, 0.4, 0.5])\n",
    "\n",
    "plt.legend(bbox_to_anchor=(0.9, -.45), ncol=3, frameon=False, fontsize=12)\n",
    "plt.subplots_adjust(top=0.95, bottom=0.05, left=0.05, right=0.95, hspace=.35, wspace=.15)\n",
    "sns.set_style(\"whitegrid\")"
   ]
  },
  {
   "cell_type": "markdown",
   "metadata": {},
   "source": [
    "## Mnist Experiments"
   ]
  },
  {
   "cell_type": "code",
   "execution_count": null,
   "metadata": {},
   "outputs": [],
   "source": [
    "# Preprocess the data\n",
    "data, ncat = get_data('mnist')  # 'fashion' for Fashion-Mnist data\n",
    "X_train, X_test, y_train, y_test, data_train, data_test = train_test_split(data, ncat, prep=None)\n",
    "# Train a Random Forest\n",
    "rf = RandomForest(n_estimators=30, ncat=ncat, min_samples_leaf=1)\n",
    "rf.fit(X_train, y_train)\n",
    "gef = rf.topc()  # Convert to GeF"
   ]
  },
  {
   "cell_type": "code",
   "execution_count": null,
   "metadata": {},
   "outputs": [],
   "source": [
    "# Compute the robustness of each instance\n",
    "pred, rob = np.array([]), np.array([])\n",
    "# Computing the robustness of each and every image takes some time.\n",
    "# We run it in batches so we can monitor the progress and stop at any time.\n",
    "for i in range(210):\n",
    "    print(i, end = ' ')\n",
    "    pred_i, rob_i = compute_rob_class(gef.root, X_test[i*100:(i+1)*100, :], data.shape[1]-1, int(ncat[-1]))\n",
    "    pred = np.concatenate((pred, pred_i))\n",
    "    rob = np.concatenate((rob, rob_i))"
   ]
  },
  {
   "cell_type": "markdown",
   "metadata": {},
   "source": [
    "### Order the images according to their robustness value."
   ]
  },
  {
   "cell_type": "code",
   "execution_count": null,
   "metadata": {},
   "outputs": [],
   "source": [
    "maxis = np.argsort(rob*(-1))\n",
    "minis = np.argsort(rob)"
   ]
  },
  {
   "cell_type": "code",
   "execution_count": null,
   "metadata": {},
   "outputs": [],
   "source": [
    "# LEAST ROBUST\n",
    "# settings\n",
    "h, w = 10, 10        # for raster image\n",
    "nrows, ncols = 8, 8  # array of sub-plots\n",
    "figsize = [3, 3]     # figure size, inches\n",
    "\n",
    "# create figure (fig), and array of axes (ax)\n",
    "fig, ax = plt.subplots(nrows=nrows, ncols=ncols, figsize=figsize)\n",
    "\n",
    "cmaps = ['Purples', 'Blues', 'Greens', 'Oranges', 'Reds', \n",
    "         'GnBu', 'RdPu', 'Greys', 'BuGn', 'coolwarm']\n",
    "\n",
    "cmaps = ['Purples', 'Blues', 'Greens', 'Oranges', 'Reds', \n",
    "        'spring', 'summer', 'autumn', 'winter', 'cool']\n",
    "\n",
    "for i, axi in enumerate(ax.flat):\n",
    "    # i runs from 0 to (nrows*ncols-1)\n",
    "    # axi is equivalent with ax[rowid][colid]\n",
    "    idx = minis[i]\n",
    "    img = X_test[idx, :].reshape(28, 28).copy()/255\n",
    "    alpha = 0.75\n",
    "    if y_test[idx] != pred[idx]:\n",
    "        cmap = 'Reds'\n",
    "    else:\n",
    "        cmap = 'Greens'\n",
    "    axi.imshow(img, alpha=alpha, cmap=cmap, vmin=0, vmax=1)\n",
    "    axi.axis('off')\n",
    "\n",
    "plt.tight_layout(True)\n",
    "plt.subplots_adjust(top=0.95, bottom=0.05, left=0.05, right=0.95, hspace=.0, wspace=.0)\n",
    "plt.show()"
   ]
  },
  {
   "cell_type": "code",
   "execution_count": null,
   "metadata": {},
   "outputs": [],
   "source": [
    "# MOST ROBUST\n",
    "# settings\n",
    "h, w = 10, 10        # for raster image\n",
    "nrows, ncols = 8, 8  # array of sub-plots\n",
    "figsize = [3, 3]     # figure size, inches\n",
    "\n",
    "# create figure (fig), and array of axes (ax)\n",
    "fig, ax = plt.subplots(nrows=nrows, ncols=ncols, figsize=figsize)\n",
    "\n",
    "cmaps = ['Purples', 'Blues', 'Greens', 'Oranges', 'Reds', \n",
    "         'GnBu', 'RdPu', 'Greys', 'BuGn', 'coolwarm']\n",
    "\n",
    "cmaps = ['Purples', 'Blues', 'Greens', 'Oranges', 'Reds', \n",
    "        'spring', 'summer', 'autumn', 'winter', 'cool']\n",
    "\n",
    "for i, axi in enumerate(ax.flat):\n",
    "    # i runs from 0 to (nrows*ncols-1)\n",
    "    # axi is equivalent with ax[rowid][colid]\n",
    "    idx = maxis[i]\n",
    "    img = X_test[idx, :].reshape(28, 28).copy()/255\n",
    "    alpha = 0.75\n",
    "    if y_test[idx] != pred[idx]:\n",
    "        cmap = 'Reds'\n",
    "    else:\n",
    "        cmap = 'Greens'\n",
    "    axi.imshow(img, alpha=alpha, cmap=cmap, vmin=0, vmax=1)\n",
    "    axi.axis('off')\n",
    "\n",
    "plt.tight_layout(True)\n",
    "plt.subplots_adjust(top=0.95, bottom=0.05, left=0.05, right=0.95, hspace=.0, wspace=.0)\n",
    "plt.show()"
   ]
  },
  {
   "cell_type": "markdown",
   "metadata": {},
   "source": [
    "### Order the image according to their likelihood"
   ]
  },
  {
   "cell_type": "code",
   "execution_count": null,
   "metadata": {},
   "outputs": [],
   "source": [
    "data_logs = data_test[:, :].copy()\n",
    "data_logs[:, -1] = np.nan\n",
    "logs = gef.log_likelihood(data_logs)\n",
    "log_max = np.argsort(logs*(-1))\n",
    "log_min = np.argsort(logs)"
   ]
  },
  {
   "cell_type": "code",
   "execution_count": null,
   "metadata": {},
   "outputs": [],
   "source": [
    "# MOST LIKELY\n",
    "# settings\n",
    "h, w = 10, 10        # for raster image\n",
    "nrows, ncols = 8, 8  # array of sub-plots\n",
    "figsize = [3, 3]     # figure size, inches\n",
    "\n",
    "# create figure (fig), and array of axes (ax)\n",
    "fig, ax = plt.subplots(nrows=nrows, ncols=ncols, figsize=figsize)\n",
    "\n",
    "cmaps = ['Purples', 'Blues', 'Greens', 'Oranges', 'Reds', \n",
    "         'GnBu', 'RdPu', 'Greys', 'BuGn', 'coolwarm']\n",
    "\n",
    "cmaps = ['Purples', 'Blues', 'Greens', 'Oranges', 'Reds', \n",
    "        'spring', 'summer', 'autumn', 'winter', 'cool']\n",
    "\n",
    "# plot simple raster image on each sub-plot\n",
    "for i, axi in enumerate(ax.flat):\n",
    "    # i runs from 0 to (nrows*ncols-1)\n",
    "    # axi is equivalent with ax[rowid][colid]\n",
    "    idx = log_min[i]\n",
    "    img = X_test[idx, :].reshape(28, 28).copy()/255\n",
    "    alpha = 0.75\n",
    "    if y_test[idx] != pred[idx]:\n",
    "        cmap = 'Reds'\n",
    "    else:\n",
    "        cmap = 'Greens'\n",
    "    img = np.where(img < 0.1, rob[idx], img)\n",
    "    axi.imshow(img, alpha=alpha, cmap=cmap, vmin=0, vmax=1)\n",
    "    axi.axis('off')\n",
    "\n",
    "plt.tight_layout(True)\n",
    "plt.subplots_adjust(top=0.95, bottom=0.05, left=0.05, right=0.95, hspace=.0, wspace=.0)\n",
    "plt.show()"
   ]
  },
  {
   "cell_type": "code",
   "execution_count": null,
   "metadata": {},
   "outputs": [],
   "source": [
    "# LEAST LIKELY\n",
    "# settings\n",
    "h, w = 10, 10        # for raster image\n",
    "nrows, ncols = 8, 8  # array of sub-plots\n",
    "figsize = [3, 3]     # figure size, inches\n",
    "\n",
    "# create figure (fig), and array of axes (ax)\n",
    "fig, ax = plt.subplots(nrows=nrows, ncols=ncols, figsize=figsize)\n",
    "\n",
    "cmaps = ['Purples', 'Blues', 'Greens', 'Oranges', 'Reds', \n",
    "         'GnBu', 'RdPu', 'Greys', 'BuGn', 'coolwarm']\n",
    "\n",
    "cmaps = ['Purples', 'Blues', 'Greens', 'Oranges', 'Reds', \n",
    "        'spring', 'summer', 'autumn', 'winter', 'cool']\n",
    "\n",
    "# plot simple raster image on each sub-plot\n",
    "for i, axi in enumerate(ax.flat):\n",
    "    # i runs from 0 to (nrows*ncols-1)\n",
    "    # axi is equivalent with ax[rowid][colid]\n",
    "    idx = log_max[i]\n",
    "    img = X_test[idx, :].reshape(28, 28).copy()/255\n",
    "    alpha = 0.75\n",
    "    if y_test[idx] != pred[idx]:\n",
    "        cmap = 'Reds'\n",
    "    else:\n",
    "        cmap = 'Greens'\n",
    "    img = np.where(img < 0.1, rob[idx], img)\n",
    "    axi.imshow(img, alpha=alpha, cmap=cmap, vmin=0, vmax=1)\n",
    "    axi.axis('off')\n",
    "\n",
    "plt.tight_layout(True)\n",
    "plt.subplots_adjust(top=0.95, bottom=0.05, left=0.05, right=0.95, hspace=.0, wspace=.0)\n",
    "plt.show()"
   ]
  }
 ],
 "metadata": {
  "kernelspec": {
   "display_name": "Python 3",
   "language": "python",
   "name": "python3"
  },
  "language_info": {
   "codemirror_mode": {
    "name": "ipython",
    "version": 3
   },
   "file_extension": ".py",
   "mimetype": "text/x-python",
   "name": "python",
   "nbconvert_exporter": "python",
   "pygments_lexer": "ipython3",
   "version": "3.7.4"
  }
 },
 "nbformat": 4,
 "nbformat_minor": 2
}
